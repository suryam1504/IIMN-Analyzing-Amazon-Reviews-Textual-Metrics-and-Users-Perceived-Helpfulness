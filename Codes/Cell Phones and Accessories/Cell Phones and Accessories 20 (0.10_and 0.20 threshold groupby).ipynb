{
  "nbformat": 4,
  "nbformat_minor": 0,
  "metadata": {
    "colab": {
      "provenance": []
    },
    "kernelspec": {
      "name": "python3",
      "display_name": "Python 3"
    },
    "language_info": {
      "name": "python"
    }
  },
  "cells": [
    {
      "cell_type": "code",
      "execution_count": null,
      "metadata": {
        "colab": {
          "base_uri": "https://localhost:8080/"
        },
        "id": "QmXvN-tK-jZt",
        "outputId": "ca33f252-41e1-4602-c2d5-22f1671c3242"
      },
      "outputs": [
        {
          "output_type": "stream",
          "name": "stdout",
          "text": [
            "Mounted at /content/drive\n"
          ]
        }
      ],
      "source": [
        "from google.colab import drive\n",
        "drive.mount('/content/drive')"
      ]
    },
    {
      "cell_type": "code",
      "source": [
        "import pandas as pd\n",
        "import numpy as np"
      ],
      "metadata": {
        "id": "rf8_T6Wk-9Oi"
      },
      "execution_count": null,
      "outputs": []
    },
    {
      "cell_type": "code",
      "source": [
        "import pickle\n",
        "pickle_in = open('/content/drive/MyDrive/IIM Nagpur NLP Files/CellPhoneAllData.pickle', 'rb')\n",
        "df = pickle.load(pickle_in)\n",
        "df"
      ],
      "metadata": {
        "colab": {
          "base_uri": "https://localhost:8080/",
          "height": 1000
        },
        "id": "aFmEhDId-9RK",
        "outputId": "fa6489f1-07ba-4ec1-830a-26b366891332"
      },
      "execution_count": null,
      "outputs": [
        {
          "output_type": "execute_result",
          "data": {
            "text/plain": [
              "      overall verified   reviewTime      reviewerID        asin style  \\\n",
              "0           1    False  09 21, 2004   A5JLAU2ARJ0BO  B0000E3GWH   NaN   \n",
              "1           4    False  07 24, 2004  A1ACM1CBGORBN1  B0000E3GWH   NaN   \n",
              "2           3    False   07 6, 2004  A2V48Q03FZUOSD  B0000E3GWH   NaN   \n",
              "3           5     True  04 12, 2004  A1V3TRGWOMA8LC  B0000E3GWH   NaN   \n",
              "4           3    False  02 19, 2004  A3NOBH42C7UI5M  B0000E3GWH   NaN   \n",
              "...       ...      ...          ...             ...         ...   ...   \n",
              "53625       1     True  01 15, 2018  A13L832YDDGU9G  B00PDML6U8   NaN   \n",
              "53626       5     True  08 15, 2016  A2UFV43VAUFKSH  B00PDML6U8   NaN   \n",
              "53627       1     True  08 10, 2016  A2LQOV3RNG1Y2T  B00PDML6U8   NaN   \n",
              "53628       5     True  07 14, 2015   ADY00ZJCY53F1  B00PDML6U8   NaN   \n",
              "53629       4    False  04 23, 2015  A2IK776FY6MEMG  B00PDML6U8   NaN   \n",
              "\n",
              "                    reviewerName  \\\n",
              "0                   Old-and-Wise   \n",
              "1                   Sherry Berry   \n",
              "2                 Benjamin David   \n",
              "3                  James Beswick   \n",
              "4                         Kepela   \n",
              "...                          ...   \n",
              "53625                    Terri W   \n",
              "53626  Nstor Jose Mattey Fuentes   \n",
              "53627                        Tim   \n",
              "53628             SILVANA HUERES   \n",
              "53629                    Obi Wan   \n",
              "\n",
              "                                              reviewText  \\\n",
              "0      This phone is ugly and heavy and has a terribl...   \n",
              "1      I had the Samsung V205 and then I decided to t...   \n",
              "2      This is the first Samsung phone I have had and...   \n",
              "3      ..and I'm from Europe, where the phones and ne...   \n",
              "4      This phone is amazingly small and light for a ...   \n",
              "...                                                  ...   \n",
              "53625  The phone was stolen could not activate at all...   \n",
              "53626                                               good   \n",
              "53627  I purchased two of them and had so many proble...   \n",
              "53628                                          excelente   \n",
              "53629  This is a great Smartphone for someone who's n...   \n",
              "\n",
              "                                               summary unixReviewTime  ...  \\\n",
              "0                                        Bad reception     1095724800  ...   \n",
              "1      Pretty good phone.. an improvement from my v205     1090627200  ...   \n",
              "2           Not as user friendly as the Motorola V300-     1089072000  ...   \n",
              "3                       The best phone I've ever owned     1081728000  ...   \n",
              "4       I love the phone but it has some real problems     1077148800  ...   \n",
              "...                                                ...            ...  ...   \n",
              "53625                          Stolen metro PC's phone     1515974400  ...   \n",
              "53626                                       Five Stars     1471219200  ...   \n",
              "53627                 usually they are great products.     1470787200  ...   \n",
              "53628                                       Five Stars     1436832000  ...   \n",
              "53629                          Great budget smartphone     1429747200  ...   \n",
              "\n",
              "      Topic4 Topic5 Topic6 dominant_topic total_imp_topics  \\\n",
              "0       0.01   0.01   0.81              6                2   \n",
              "1       0.12   0.10   0.66              6                5   \n",
              "2       0.00   0.00   0.58              6                2   \n",
              "3       0.01   0.16   0.27              0                5   \n",
              "4       0.14   0.00   0.50              6                4   \n",
              "...      ...    ...    ...            ...              ...   \n",
              "53625   0.03   0.03   0.03              1                1   \n",
              "53626   0.07   0.07   0.07              2                7   \n",
              "53627   0.02   0.02   0.02              1                2   \n",
              "53628   0.07   0.07   0.07              3                7   \n",
              "53629   0.00   0.08   0.77              6                3   \n",
              "\n",
              "                       custom_topic_name votes total_imp_topics_0.05  \\\n",
              "0                                Quality     2                     2   \n",
              "1                                Quality    15                     5   \n",
              "2                                Quality    11                     2   \n",
              "3      Phone related generalized words 1     4                     5   \n",
              "4                                Quality    12                     4   \n",
              "...                                  ...   ...                   ...   \n",
              "53625                           Features     0                     1   \n",
              "53626  Phone related generalized words 2     0                     7   \n",
              "53627                           Features     0                     2   \n",
              "53628           Service (Sim, Data Pack)     2                     7   \n",
              "53629                            Quality     9                     3   \n",
              "\n",
              "       total_imp_topics_0.10  total_imp_topics_0.20  \n",
              "0                          2                      1  \n",
              "1                          3                      1  \n",
              "2                          2                      2  \n",
              "3                          4                      2  \n",
              "4                          3                      2  \n",
              "...                      ...                    ...  \n",
              "53625                      1                      1  \n",
              "53626                      1                      1  \n",
              "53627                      2                      1  \n",
              "53628                      1                      1  \n",
              "53629                      2                      1  \n",
              "\n",
              "[53630 rows x 58 columns]"
            ],
            "text/html": [
              "\n",
              "  <div id=\"df-c496b9a8-a680-44a8-9d29-c946712e0705\">\n",
              "    <div class=\"colab-df-container\">\n",
              "      <div>\n",
              "<style scoped>\n",
              "    .dataframe tbody tr th:only-of-type {\n",
              "        vertical-align: middle;\n",
              "    }\n",
              "\n",
              "    .dataframe tbody tr th {\n",
              "        vertical-align: top;\n",
              "    }\n",
              "\n",
              "    .dataframe thead th {\n",
              "        text-align: right;\n",
              "    }\n",
              "</style>\n",
              "<table border=\"1\" class=\"dataframe\">\n",
              "  <thead>\n",
              "    <tr style=\"text-align: right;\">\n",
              "      <th></th>\n",
              "      <th>overall</th>\n",
              "      <th>verified</th>\n",
              "      <th>reviewTime</th>\n",
              "      <th>reviewerID</th>\n",
              "      <th>asin</th>\n",
              "      <th>style</th>\n",
              "      <th>reviewerName</th>\n",
              "      <th>reviewText</th>\n",
              "      <th>summary</th>\n",
              "      <th>unixReviewTime</th>\n",
              "      <th>...</th>\n",
              "      <th>Topic4</th>\n",
              "      <th>Topic5</th>\n",
              "      <th>Topic6</th>\n",
              "      <th>dominant_topic</th>\n",
              "      <th>total_imp_topics</th>\n",
              "      <th>custom_topic_name</th>\n",
              "      <th>votes</th>\n",
              "      <th>total_imp_topics_0.05</th>\n",
              "      <th>total_imp_topics_0.10</th>\n",
              "      <th>total_imp_topics_0.20</th>\n",
              "    </tr>\n",
              "  </thead>\n",
              "  <tbody>\n",
              "    <tr>\n",
              "      <th>0</th>\n",
              "      <td>1</td>\n",
              "      <td>False</td>\n",
              "      <td>09 21, 2004</td>\n",
              "      <td>A5JLAU2ARJ0BO</td>\n",
              "      <td>B0000E3GWH</td>\n",
              "      <td>NaN</td>\n",
              "      <td>Old-and-Wise</td>\n",
              "      <td>This phone is ugly and heavy and has a terribl...</td>\n",
              "      <td>Bad reception</td>\n",
              "      <td>1095724800</td>\n",
              "      <td>...</td>\n",
              "      <td>0.01</td>\n",
              "      <td>0.01</td>\n",
              "      <td>0.81</td>\n",
              "      <td>6</td>\n",
              "      <td>2</td>\n",
              "      <td>Quality</td>\n",
              "      <td>2</td>\n",
              "      <td>2</td>\n",
              "      <td>2</td>\n",
              "      <td>1</td>\n",
              "    </tr>\n",
              "    <tr>\n",
              "      <th>1</th>\n",
              "      <td>4</td>\n",
              "      <td>False</td>\n",
              "      <td>07 24, 2004</td>\n",
              "      <td>A1ACM1CBGORBN1</td>\n",
              "      <td>B0000E3GWH</td>\n",
              "      <td>NaN</td>\n",
              "      <td>Sherry Berry</td>\n",
              "      <td>I had the Samsung V205 and then I decided to t...</td>\n",
              "      <td>Pretty good phone.. an improvement from my v205</td>\n",
              "      <td>1090627200</td>\n",
              "      <td>...</td>\n",
              "      <td>0.12</td>\n",
              "      <td>0.10</td>\n",
              "      <td>0.66</td>\n",
              "      <td>6</td>\n",
              "      <td>5</td>\n",
              "      <td>Quality</td>\n",
              "      <td>15</td>\n",
              "      <td>5</td>\n",
              "      <td>3</td>\n",
              "      <td>1</td>\n",
              "    </tr>\n",
              "    <tr>\n",
              "      <th>2</th>\n",
              "      <td>3</td>\n",
              "      <td>False</td>\n",
              "      <td>07 6, 2004</td>\n",
              "      <td>A2V48Q03FZUOSD</td>\n",
              "      <td>B0000E3GWH</td>\n",
              "      <td>NaN</td>\n",
              "      <td>Benjamin David</td>\n",
              "      <td>This is the first Samsung phone I have had and...</td>\n",
              "      <td>Not as user friendly as the Motorola V300-</td>\n",
              "      <td>1089072000</td>\n",
              "      <td>...</td>\n",
              "      <td>0.00</td>\n",
              "      <td>0.00</td>\n",
              "      <td>0.58</td>\n",
              "      <td>6</td>\n",
              "      <td>2</td>\n",
              "      <td>Quality</td>\n",
              "      <td>11</td>\n",
              "      <td>2</td>\n",
              "      <td>2</td>\n",
              "      <td>2</td>\n",
              "    </tr>\n",
              "    <tr>\n",
              "      <th>3</th>\n",
              "      <td>5</td>\n",
              "      <td>True</td>\n",
              "      <td>04 12, 2004</td>\n",
              "      <td>A1V3TRGWOMA8LC</td>\n",
              "      <td>B0000E3GWH</td>\n",
              "      <td>NaN</td>\n",
              "      <td>James Beswick</td>\n",
              "      <td>..and I'm from Europe, where the phones and ne...</td>\n",
              "      <td>The best phone I've ever owned</td>\n",
              "      <td>1081728000</td>\n",
              "      <td>...</td>\n",
              "      <td>0.01</td>\n",
              "      <td>0.16</td>\n",
              "      <td>0.27</td>\n",
              "      <td>0</td>\n",
              "      <td>5</td>\n",
              "      <td>Phone related generalized words 1</td>\n",
              "      <td>4</td>\n",
              "      <td>5</td>\n",
              "      <td>4</td>\n",
              "      <td>2</td>\n",
              "    </tr>\n",
              "    <tr>\n",
              "      <th>4</th>\n",
              "      <td>3</td>\n",
              "      <td>False</td>\n",
              "      <td>02 19, 2004</td>\n",
              "      <td>A3NOBH42C7UI5M</td>\n",
              "      <td>B0000E3GWH</td>\n",
              "      <td>NaN</td>\n",
              "      <td>Kepela</td>\n",
              "      <td>This phone is amazingly small and light for a ...</td>\n",
              "      <td>I love the phone but it has some real problems</td>\n",
              "      <td>1077148800</td>\n",
              "      <td>...</td>\n",
              "      <td>0.14</td>\n",
              "      <td>0.00</td>\n",
              "      <td>0.50</td>\n",
              "      <td>6</td>\n",
              "      <td>4</td>\n",
              "      <td>Quality</td>\n",
              "      <td>12</td>\n",
              "      <td>4</td>\n",
              "      <td>3</td>\n",
              "      <td>2</td>\n",
              "    </tr>\n",
              "    <tr>\n",
              "      <th>...</th>\n",
              "      <td>...</td>\n",
              "      <td>...</td>\n",
              "      <td>...</td>\n",
              "      <td>...</td>\n",
              "      <td>...</td>\n",
              "      <td>...</td>\n",
              "      <td>...</td>\n",
              "      <td>...</td>\n",
              "      <td>...</td>\n",
              "      <td>...</td>\n",
              "      <td>...</td>\n",
              "      <td>...</td>\n",
              "      <td>...</td>\n",
              "      <td>...</td>\n",
              "      <td>...</td>\n",
              "      <td>...</td>\n",
              "      <td>...</td>\n",
              "      <td>...</td>\n",
              "      <td>...</td>\n",
              "      <td>...</td>\n",
              "      <td>...</td>\n",
              "    </tr>\n",
              "    <tr>\n",
              "      <th>53625</th>\n",
              "      <td>1</td>\n",
              "      <td>True</td>\n",
              "      <td>01 15, 2018</td>\n",
              "      <td>A13L832YDDGU9G</td>\n",
              "      <td>B00PDML6U8</td>\n",
              "      <td>NaN</td>\n",
              "      <td>Terri W</td>\n",
              "      <td>The phone was stolen could not activate at all...</td>\n",
              "      <td>Stolen metro PC's phone</td>\n",
              "      <td>1515974400</td>\n",
              "      <td>...</td>\n",
              "      <td>0.03</td>\n",
              "      <td>0.03</td>\n",
              "      <td>0.03</td>\n",
              "      <td>1</td>\n",
              "      <td>1</td>\n",
              "      <td>Features</td>\n",
              "      <td>0</td>\n",
              "      <td>1</td>\n",
              "      <td>1</td>\n",
              "      <td>1</td>\n",
              "    </tr>\n",
              "    <tr>\n",
              "      <th>53626</th>\n",
              "      <td>5</td>\n",
              "      <td>True</td>\n",
              "      <td>08 15, 2016</td>\n",
              "      <td>A2UFV43VAUFKSH</td>\n",
              "      <td>B00PDML6U8</td>\n",
              "      <td>NaN</td>\n",
              "      <td>Nstor Jose Mattey Fuentes</td>\n",
              "      <td>good</td>\n",
              "      <td>Five Stars</td>\n",
              "      <td>1471219200</td>\n",
              "      <td>...</td>\n",
              "      <td>0.07</td>\n",
              "      <td>0.07</td>\n",
              "      <td>0.07</td>\n",
              "      <td>2</td>\n",
              "      <td>7</td>\n",
              "      <td>Phone related generalized words 2</td>\n",
              "      <td>0</td>\n",
              "      <td>7</td>\n",
              "      <td>1</td>\n",
              "      <td>1</td>\n",
              "    </tr>\n",
              "    <tr>\n",
              "      <th>53627</th>\n",
              "      <td>1</td>\n",
              "      <td>True</td>\n",
              "      <td>08 10, 2016</td>\n",
              "      <td>A2LQOV3RNG1Y2T</td>\n",
              "      <td>B00PDML6U8</td>\n",
              "      <td>NaN</td>\n",
              "      <td>Tim</td>\n",
              "      <td>I purchased two of them and had so many proble...</td>\n",
              "      <td>usually they are great products.</td>\n",
              "      <td>1470787200</td>\n",
              "      <td>...</td>\n",
              "      <td>0.02</td>\n",
              "      <td>0.02</td>\n",
              "      <td>0.02</td>\n",
              "      <td>1</td>\n",
              "      <td>2</td>\n",
              "      <td>Features</td>\n",
              "      <td>0</td>\n",
              "      <td>2</td>\n",
              "      <td>2</td>\n",
              "      <td>1</td>\n",
              "    </tr>\n",
              "    <tr>\n",
              "      <th>53628</th>\n",
              "      <td>5</td>\n",
              "      <td>True</td>\n",
              "      <td>07 14, 2015</td>\n",
              "      <td>ADY00ZJCY53F1</td>\n",
              "      <td>B00PDML6U8</td>\n",
              "      <td>NaN</td>\n",
              "      <td>SILVANA HUERES</td>\n",
              "      <td>excelente</td>\n",
              "      <td>Five Stars</td>\n",
              "      <td>1436832000</td>\n",
              "      <td>...</td>\n",
              "      <td>0.07</td>\n",
              "      <td>0.07</td>\n",
              "      <td>0.07</td>\n",
              "      <td>3</td>\n",
              "      <td>7</td>\n",
              "      <td>Service (Sim, Data Pack)</td>\n",
              "      <td>2</td>\n",
              "      <td>7</td>\n",
              "      <td>1</td>\n",
              "      <td>1</td>\n",
              "    </tr>\n",
              "    <tr>\n",
              "      <th>53629</th>\n",
              "      <td>4</td>\n",
              "      <td>False</td>\n",
              "      <td>04 23, 2015</td>\n",
              "      <td>A2IK776FY6MEMG</td>\n",
              "      <td>B00PDML6U8</td>\n",
              "      <td>NaN</td>\n",
              "      <td>Obi Wan</td>\n",
              "      <td>This is a great Smartphone for someone who's n...</td>\n",
              "      <td>Great budget smartphone</td>\n",
              "      <td>1429747200</td>\n",
              "      <td>...</td>\n",
              "      <td>0.00</td>\n",
              "      <td>0.08</td>\n",
              "      <td>0.77</td>\n",
              "      <td>6</td>\n",
              "      <td>3</td>\n",
              "      <td>Quality</td>\n",
              "      <td>9</td>\n",
              "      <td>3</td>\n",
              "      <td>2</td>\n",
              "      <td>1</td>\n",
              "    </tr>\n",
              "  </tbody>\n",
              "</table>\n",
              "<p>53630 rows × 58 columns</p>\n",
              "</div>\n",
              "      <button class=\"colab-df-convert\" onclick=\"convertToInteractive('df-c496b9a8-a680-44a8-9d29-c946712e0705')\"\n",
              "              title=\"Convert this dataframe to an interactive table.\"\n",
              "              style=\"display:none;\">\n",
              "        \n",
              "  <svg xmlns=\"http://www.w3.org/2000/svg\" height=\"24px\"viewBox=\"0 0 24 24\"\n",
              "       width=\"24px\">\n",
              "    <path d=\"M0 0h24v24H0V0z\" fill=\"none\"/>\n",
              "    <path d=\"M18.56 5.44l.94 2.06.94-2.06 2.06-.94-2.06-.94-.94-2.06-.94 2.06-2.06.94zm-11 1L8.5 8.5l.94-2.06 2.06-.94-2.06-.94L8.5 2.5l-.94 2.06-2.06.94zm10 10l.94 2.06.94-2.06 2.06-.94-2.06-.94-.94-2.06-.94 2.06-2.06.94z\"/><path d=\"M17.41 7.96l-1.37-1.37c-.4-.4-.92-.59-1.43-.59-.52 0-1.04.2-1.43.59L10.3 9.45l-7.72 7.72c-.78.78-.78 2.05 0 2.83L4 21.41c.39.39.9.59 1.41.59.51 0 1.02-.2 1.41-.59l7.78-7.78 2.81-2.81c.8-.78.8-2.07 0-2.86zM5.41 20L4 18.59l7.72-7.72 1.47 1.35L5.41 20z\"/>\n",
              "  </svg>\n",
              "      </button>\n",
              "      \n",
              "  <style>\n",
              "    .colab-df-container {\n",
              "      display:flex;\n",
              "      flex-wrap:wrap;\n",
              "      gap: 12px;\n",
              "    }\n",
              "\n",
              "    .colab-df-convert {\n",
              "      background-color: #E8F0FE;\n",
              "      border: none;\n",
              "      border-radius: 50%;\n",
              "      cursor: pointer;\n",
              "      display: none;\n",
              "      fill: #1967D2;\n",
              "      height: 32px;\n",
              "      padding: 0 0 0 0;\n",
              "      width: 32px;\n",
              "    }\n",
              "\n",
              "    .colab-df-convert:hover {\n",
              "      background-color: #E2EBFA;\n",
              "      box-shadow: 0px 1px 2px rgba(60, 64, 67, 0.3), 0px 1px 3px 1px rgba(60, 64, 67, 0.15);\n",
              "      fill: #174EA6;\n",
              "    }\n",
              "\n",
              "    [theme=dark] .colab-df-convert {\n",
              "      background-color: #3B4455;\n",
              "      fill: #D2E3FC;\n",
              "    }\n",
              "\n",
              "    [theme=dark] .colab-df-convert:hover {\n",
              "      background-color: #434B5C;\n",
              "      box-shadow: 0px 1px 3px 1px rgba(0, 0, 0, 0.15);\n",
              "      filter: drop-shadow(0px 1px 2px rgba(0, 0, 0, 0.3));\n",
              "      fill: #FFFFFF;\n",
              "    }\n",
              "  </style>\n",
              "\n",
              "      <script>\n",
              "        const buttonEl =\n",
              "          document.querySelector('#df-c496b9a8-a680-44a8-9d29-c946712e0705 button.colab-df-convert');\n",
              "        buttonEl.style.display =\n",
              "          google.colab.kernel.accessAllowed ? 'block' : 'none';\n",
              "\n",
              "        async function convertToInteractive(key) {\n",
              "          const element = document.querySelector('#df-c496b9a8-a680-44a8-9d29-c946712e0705');\n",
              "          const dataTable =\n",
              "            await google.colab.kernel.invokeFunction('convertToInteractive',\n",
              "                                                     [key], {});\n",
              "          if (!dataTable) return;\n",
              "\n",
              "          const docLinkHtml = 'Like what you see? Visit the ' +\n",
              "            '<a target=\"_blank\" href=https://colab.research.google.com/notebooks/data_table.ipynb>data table notebook</a>'\n",
              "            + ' to learn more about interactive tables.';\n",
              "          element.innerHTML = '';\n",
              "          dataTable['output_type'] = 'display_data';\n",
              "          await google.colab.output.renderOutput(dataTable, element);\n",
              "          const docLink = document.createElement('div');\n",
              "          docLink.innerHTML = docLinkHtml;\n",
              "          element.appendChild(docLink);\n",
              "        }\n",
              "      </script>\n",
              "    </div>\n",
              "  </div>\n",
              "  "
            ]
          },
          "metadata": {},
          "execution_count": 3
        }
      ]
    },
    {
      "cell_type": "code",
      "source": [
        "df.columns"
      ],
      "metadata": {
        "id": "4zSpka14fyol",
        "outputId": "8e7ca5d6-0721-434f-a2e7-486bf4e8e88c",
        "colab": {
          "base_uri": "https://localhost:8080/"
        }
      },
      "execution_count": null,
      "outputs": [
        {
          "output_type": "execute_result",
          "data": {
            "text/plain": [
              "Index(['overall', 'verified', 'reviewTime', 'reviewerID', 'asin', 'style',\n",
              "       'reviewerName', 'reviewText', 'summary', 'unixReviewTime', 'vote',\n",
              "       'image', 'description', 'feature', 'rank', 'main_cat', 'imageURL',\n",
              "       'imageURLHighRes', 'no_of_sent', 'no_of_words', 'no_of_unique_words',\n",
              "       'rank_no', 'sub_cat_1', 'sub_cat_2', 'sub_cat_3', 'sub_cat_rank', 'WC',\n",
              "       'Analytic', 'Authentic', 'Tone', 'WPS', 'BigWords', 'Dic', 'Cognition',\n",
              "       'Affect', 'tone_pos', 'tone_neg', 'emotion', 'emo_pos', 'emo_neg',\n",
              "       'time', 'focuspast', 'focuspresent', 'focusfuture', 'Topic0', 'Topic1',\n",
              "       'Topic2', 'Topic3', 'Topic4', 'Topic5', 'Topic6', 'dominant_topic',\n",
              "       'total_imp_topics', 'custom_topic_name', 'votes',\n",
              "       'total_imp_topics_0.05', 'total_imp_topics_0.10',\n",
              "       'total_imp_topics_0.20'],\n",
              "      dtype='object')"
            ]
          },
          "metadata": {},
          "execution_count": 4
        }
      ]
    },
    {
      "cell_type": "code",
      "source": [
        "df.drop(['total_imp_topics'], axis=1, inplace=True)"
      ],
      "metadata": {
        "id": "CPvrCv3w-9TV"
      },
      "execution_count": null,
      "outputs": []
    },
    {
      "cell_type": "code",
      "source": [
        "df.drop([43211, 43212, 43213], inplace=True)\n",
        "df.reset_index(drop=True, inplace=True)"
      ],
      "metadata": {
        "id": "WU10aAT2bAdk"
      },
      "execution_count": null,
      "outputs": []
    },
    {
      "cell_type": "code",
      "source": [
        "df[\"votes\"] = pd.to_numeric(df[\"votes\"])"
      ],
      "metadata": {
        "id": "kqguIo6g-9WB"
      },
      "execution_count": null,
      "outputs": []
    },
    {
      "cell_type": "code",
      "source": [],
      "metadata": {
        "id": "65x_DIAPbAgw"
      },
      "execution_count": null,
      "outputs": []
    },
    {
      "cell_type": "code",
      "source": [],
      "metadata": {
        "id": "7qzT0px_bAja"
      },
      "execution_count": null,
      "outputs": []
    },
    {
      "cell_type": "code",
      "source": [],
      "metadata": {
        "id": "SXursY2AbAl5"
      },
      "execution_count": null,
      "outputs": []
    },
    {
      "cell_type": "code",
      "source": [],
      "metadata": {
        "id": "p0iX2jzTbAoh"
      },
      "execution_count": null,
      "outputs": []
    },
    {
      "cell_type": "markdown",
      "source": [
        "## Groupby on 0.05, 0.10, 0.20"
      ],
      "metadata": {
        "id": "TRmJSRwAiADB"
      }
    },
    {
      "cell_type": "code",
      "source": [
        "pd.set_option('display.max_columns', None)"
      ],
      "metadata": {
        "id": "2ICu9xtbjhYN"
      },
      "execution_count": null,
      "outputs": []
    },
    {
      "cell_type": "code",
      "source": [
        "g_tot_imp_005 = df.groupby('total_imp_topics_0.05')"
      ],
      "metadata": {
        "id": "M8j0AAwm-9bN"
      },
      "execution_count": null,
      "outputs": []
    },
    {
      "cell_type": "code",
      "source": [
        "g_tot_imp_005.describe()['votes']"
      ],
      "metadata": {
        "colab": {
          "base_uri": "https://localhost:8080/",
          "height": 300
        },
        "id": "hkxYNTDW-9dy",
        "outputId": "90e123f6-43c0-4d9a-d105-ef5d85589450"
      },
      "execution_count": null,
      "outputs": [
        {
          "output_type": "execute_result",
          "data": {
            "text/plain": [
              "                         count       mean        std  min  25%  50%  75%  \\\n",
              "total_imp_topics_0.05                                                      \n",
              "1                       5326.0   0.507135   4.205367  0.0  0.0  0.0  0.0   \n",
              "2                      10609.0   1.309171  12.382380  0.0  0.0  0.0  0.0   \n",
              "3                       8867.0   3.473554  17.637029  0.0  0.0  0.0  2.0   \n",
              "4                       5958.0   7.770057  42.717783  0.0  0.0  0.0  4.0   \n",
              "5                       3140.0  13.235032  57.597245  0.0  0.0  2.0  6.0   \n",
              "6                        744.0  19.319892  68.910907  0.0  0.0  3.0  8.0   \n",
              "7                      18983.0   0.124743   2.265566  0.0  0.0  0.0  0.0   \n",
              "\n",
              "                          max  \n",
              "total_imp_topics_0.05          \n",
              "1                       159.0  \n",
              "2                       927.0  \n",
              "3                       618.0  \n",
              "4                      1737.0  \n",
              "5                      1080.0  \n",
              "6                       987.0  \n",
              "7                       249.0  "
            ],
            "text/html": [
              "\n",
              "  <div id=\"df-ab4cc127-62e6-471c-9bfa-40b9763728f4\">\n",
              "    <div class=\"colab-df-container\">\n",
              "      <div>\n",
              "<style scoped>\n",
              "    .dataframe tbody tr th:only-of-type {\n",
              "        vertical-align: middle;\n",
              "    }\n",
              "\n",
              "    .dataframe tbody tr th {\n",
              "        vertical-align: top;\n",
              "    }\n",
              "\n",
              "    .dataframe thead th {\n",
              "        text-align: right;\n",
              "    }\n",
              "</style>\n",
              "<table border=\"1\" class=\"dataframe\">\n",
              "  <thead>\n",
              "    <tr style=\"text-align: right;\">\n",
              "      <th></th>\n",
              "      <th>count</th>\n",
              "      <th>mean</th>\n",
              "      <th>std</th>\n",
              "      <th>min</th>\n",
              "      <th>25%</th>\n",
              "      <th>50%</th>\n",
              "      <th>75%</th>\n",
              "      <th>max</th>\n",
              "    </tr>\n",
              "    <tr>\n",
              "      <th>total_imp_topics_0.05</th>\n",
              "      <th></th>\n",
              "      <th></th>\n",
              "      <th></th>\n",
              "      <th></th>\n",
              "      <th></th>\n",
              "      <th></th>\n",
              "      <th></th>\n",
              "      <th></th>\n",
              "    </tr>\n",
              "  </thead>\n",
              "  <tbody>\n",
              "    <tr>\n",
              "      <th>1</th>\n",
              "      <td>5326.0</td>\n",
              "      <td>0.507135</td>\n",
              "      <td>4.205367</td>\n",
              "      <td>0.0</td>\n",
              "      <td>0.0</td>\n",
              "      <td>0.0</td>\n",
              "      <td>0.0</td>\n",
              "      <td>159.0</td>\n",
              "    </tr>\n",
              "    <tr>\n",
              "      <th>2</th>\n",
              "      <td>10609.0</td>\n",
              "      <td>1.309171</td>\n",
              "      <td>12.382380</td>\n",
              "      <td>0.0</td>\n",
              "      <td>0.0</td>\n",
              "      <td>0.0</td>\n",
              "      <td>0.0</td>\n",
              "      <td>927.0</td>\n",
              "    </tr>\n",
              "    <tr>\n",
              "      <th>3</th>\n",
              "      <td>8867.0</td>\n",
              "      <td>3.473554</td>\n",
              "      <td>17.637029</td>\n",
              "      <td>0.0</td>\n",
              "      <td>0.0</td>\n",
              "      <td>0.0</td>\n",
              "      <td>2.0</td>\n",
              "      <td>618.0</td>\n",
              "    </tr>\n",
              "    <tr>\n",
              "      <th>4</th>\n",
              "      <td>5958.0</td>\n",
              "      <td>7.770057</td>\n",
              "      <td>42.717783</td>\n",
              "      <td>0.0</td>\n",
              "      <td>0.0</td>\n",
              "      <td>0.0</td>\n",
              "      <td>4.0</td>\n",
              "      <td>1737.0</td>\n",
              "    </tr>\n",
              "    <tr>\n",
              "      <th>5</th>\n",
              "      <td>3140.0</td>\n",
              "      <td>13.235032</td>\n",
              "      <td>57.597245</td>\n",
              "      <td>0.0</td>\n",
              "      <td>0.0</td>\n",
              "      <td>2.0</td>\n",
              "      <td>6.0</td>\n",
              "      <td>1080.0</td>\n",
              "    </tr>\n",
              "    <tr>\n",
              "      <th>6</th>\n",
              "      <td>744.0</td>\n",
              "      <td>19.319892</td>\n",
              "      <td>68.910907</td>\n",
              "      <td>0.0</td>\n",
              "      <td>0.0</td>\n",
              "      <td>3.0</td>\n",
              "      <td>8.0</td>\n",
              "      <td>987.0</td>\n",
              "    </tr>\n",
              "    <tr>\n",
              "      <th>7</th>\n",
              "      <td>18983.0</td>\n",
              "      <td>0.124743</td>\n",
              "      <td>2.265566</td>\n",
              "      <td>0.0</td>\n",
              "      <td>0.0</td>\n",
              "      <td>0.0</td>\n",
              "      <td>0.0</td>\n",
              "      <td>249.0</td>\n",
              "    </tr>\n",
              "  </tbody>\n",
              "</table>\n",
              "</div>\n",
              "      <button class=\"colab-df-convert\" onclick=\"convertToInteractive('df-ab4cc127-62e6-471c-9bfa-40b9763728f4')\"\n",
              "              title=\"Convert this dataframe to an interactive table.\"\n",
              "              style=\"display:none;\">\n",
              "        \n",
              "  <svg xmlns=\"http://www.w3.org/2000/svg\" height=\"24px\"viewBox=\"0 0 24 24\"\n",
              "       width=\"24px\">\n",
              "    <path d=\"M0 0h24v24H0V0z\" fill=\"none\"/>\n",
              "    <path d=\"M18.56 5.44l.94 2.06.94-2.06 2.06-.94-2.06-.94-.94-2.06-.94 2.06-2.06.94zm-11 1L8.5 8.5l.94-2.06 2.06-.94-2.06-.94L8.5 2.5l-.94 2.06-2.06.94zm10 10l.94 2.06.94-2.06 2.06-.94-2.06-.94-.94-2.06-.94 2.06-2.06.94z\"/><path d=\"M17.41 7.96l-1.37-1.37c-.4-.4-.92-.59-1.43-.59-.52 0-1.04.2-1.43.59L10.3 9.45l-7.72 7.72c-.78.78-.78 2.05 0 2.83L4 21.41c.39.39.9.59 1.41.59.51 0 1.02-.2 1.41-.59l7.78-7.78 2.81-2.81c.8-.78.8-2.07 0-2.86zM5.41 20L4 18.59l7.72-7.72 1.47 1.35L5.41 20z\"/>\n",
              "  </svg>\n",
              "      </button>\n",
              "      \n",
              "  <style>\n",
              "    .colab-df-container {\n",
              "      display:flex;\n",
              "      flex-wrap:wrap;\n",
              "      gap: 12px;\n",
              "    }\n",
              "\n",
              "    .colab-df-convert {\n",
              "      background-color: #E8F0FE;\n",
              "      border: none;\n",
              "      border-radius: 50%;\n",
              "      cursor: pointer;\n",
              "      display: none;\n",
              "      fill: #1967D2;\n",
              "      height: 32px;\n",
              "      padding: 0 0 0 0;\n",
              "      width: 32px;\n",
              "    }\n",
              "\n",
              "    .colab-df-convert:hover {\n",
              "      background-color: #E2EBFA;\n",
              "      box-shadow: 0px 1px 2px rgba(60, 64, 67, 0.3), 0px 1px 3px 1px rgba(60, 64, 67, 0.15);\n",
              "      fill: #174EA6;\n",
              "    }\n",
              "\n",
              "    [theme=dark] .colab-df-convert {\n",
              "      background-color: #3B4455;\n",
              "      fill: #D2E3FC;\n",
              "    }\n",
              "\n",
              "    [theme=dark] .colab-df-convert:hover {\n",
              "      background-color: #434B5C;\n",
              "      box-shadow: 0px 1px 3px 1px rgba(0, 0, 0, 0.15);\n",
              "      filter: drop-shadow(0px 1px 2px rgba(0, 0, 0, 0.3));\n",
              "      fill: #FFFFFF;\n",
              "    }\n",
              "  </style>\n",
              "\n",
              "      <script>\n",
              "        const buttonEl =\n",
              "          document.querySelector('#df-ab4cc127-62e6-471c-9bfa-40b9763728f4 button.colab-df-convert');\n",
              "        buttonEl.style.display =\n",
              "          google.colab.kernel.accessAllowed ? 'block' : 'none';\n",
              "\n",
              "        async function convertToInteractive(key) {\n",
              "          const element = document.querySelector('#df-ab4cc127-62e6-471c-9bfa-40b9763728f4');\n",
              "          const dataTable =\n",
              "            await google.colab.kernel.invokeFunction('convertToInteractive',\n",
              "                                                     [key], {});\n",
              "          if (!dataTable) return;\n",
              "\n",
              "          const docLinkHtml = 'Like what you see? Visit the ' +\n",
              "            '<a target=\"_blank\" href=https://colab.research.google.com/notebooks/data_table.ipynb>data table notebook</a>'\n",
              "            + ' to learn more about interactive tables.';\n",
              "          element.innerHTML = '';\n",
              "          dataTable['output_type'] = 'display_data';\n",
              "          await google.colab.output.renderOutput(dataTable, element);\n",
              "          const docLink = document.createElement('div');\n",
              "          docLink.innerHTML = docLinkHtml;\n",
              "          element.appendChild(docLink);\n",
              "        }\n",
              "      </script>\n",
              "    </div>\n",
              "  </div>\n",
              "  "
            ]
          },
          "metadata": {},
          "execution_count": 9
        }
      ]
    },
    {
      "cell_type": "code",
      "source": [
        "for i in range(1,8):\n",
        "    print(i, '---', g_tot_imp_005.get_group(i)['votes'].mean())"
      ],
      "metadata": {
        "colab": {
          "base_uri": "https://localhost:8080/"
        },
        "id": "NO_2Q9TciZup",
        "outputId": "b70d93a1-3755-458d-802b-03f9e1fe8934"
      },
      "execution_count": null,
      "outputs": [
        {
          "output_type": "stream",
          "name": "stdout",
          "text": [
            "1 --- 0.5071348103642509\n",
            "2 --- 1.3091714581958713\n",
            "3 --- 3.4735536258035413\n",
            "4 --- 7.770057066129573\n",
            "5 --- 13.235031847133758\n",
            "6 --- 19.31989247311828\n",
            "7 --- 0.12474319127640521\n"
          ]
        }
      ]
    },
    {
      "cell_type": "code",
      "source": [
        "df['total_imp_topics_0.05'].value_counts()"
      ],
      "metadata": {
        "colab": {
          "base_uri": "https://localhost:8080/"
        },
        "id": "8wxJEddijppg",
        "outputId": "45cee616-95e3-480b-efac-38466c72cf24"
      },
      "execution_count": null,
      "outputs": [
        {
          "output_type": "execute_result",
          "data": {
            "text/plain": [
              "7    18983\n",
              "2    10609\n",
              "3     8867\n",
              "4     5958\n",
              "1     5326\n",
              "5     3140\n",
              "6      744\n",
              "Name: total_imp_topics_0.05, dtype: int64"
            ]
          },
          "metadata": {},
          "execution_count": 11
        }
      ]
    },
    {
      "cell_type": "markdown",
      "source": [
        "**According to this, a review talking about 5 topics should be the most beneficial (mean wise and count wise).**"
      ],
      "metadata": {
        "id": "lkcW9TUxEoiB"
      }
    },
    {
      "cell_type": "code",
      "source": [],
      "metadata": {
        "id": "dKG1etIrdWU_"
      },
      "execution_count": null,
      "outputs": []
    },
    {
      "cell_type": "code",
      "source": [],
      "metadata": {
        "id": "tqfhBb0BdaP9"
      },
      "execution_count": null,
      "outputs": []
    },
    {
      "cell_type": "code",
      "source": [
        "g_tot_imp_010 = df.groupby('total_imp_topics_0.10')"
      ],
      "metadata": {
        "id": "sDd6MrXUdaT2"
      },
      "execution_count": null,
      "outputs": []
    },
    {
      "cell_type": "code",
      "source": [
        "for i in range(1,8):\n",
        "    print(i, '---', g_tot_imp_010.get_group(i)['votes'].mean())"
      ],
      "metadata": {
        "colab": {
          "base_uri": "https://localhost:8080/"
        },
        "id": "1EYOyYShdaWe",
        "outputId": "4b88012b-dd92-4da8-888c-24d9564bdd97"
      },
      "execution_count": null,
      "outputs": [
        {
          "output_type": "stream",
          "name": "stdout",
          "text": [
            "1 --- 0.318976716298591\n",
            "2 --- 2.639355992844365\n",
            "3 --- 5.846153846153846\n",
            "4 --- 8.97488956056731\n",
            "5 --- 9.215025906735752\n",
            "6 --- 10.837837837837839\n",
            "7 --- 0.05265888456549935\n"
          ]
        }
      ]
    },
    {
      "cell_type": "code",
      "source": [
        "df['total_imp_topics_0.10'].value_counts()"
      ],
      "metadata": {
        "colab": {
          "base_uri": "https://localhost:8080/"
        },
        "id": "66OSUGCadktV",
        "outputId": "aaec4ff6-5aa2-41a4-ee79-0fdf9143f3e4"
      },
      "execution_count": null,
      "outputs": [
        {
          "output_type": "execute_result",
          "data": {
            "text/plain": [
              "1    20014\n",
              "2    13975\n",
              "3    10673\n",
              "4     4301\n",
              "7     3855\n",
              "5      772\n",
              "6       37\n",
              "Name: total_imp_topics_0.10, dtype: int64"
            ]
          },
          "metadata": {},
          "execution_count": 14
        }
      ]
    },
    {
      "cell_type": "markdown",
      "source": [
        "**According to this, a review talking about 4 topics should be the most beneficial (mean wise and count wise).**"
      ],
      "metadata": {
        "id": "BWcYnvbOFE-U"
      }
    },
    {
      "cell_type": "code",
      "source": [],
      "metadata": {
        "id": "x_viP2Zidmzu"
      },
      "execution_count": null,
      "outputs": []
    },
    {
      "cell_type": "code",
      "source": [],
      "metadata": {
        "id": "2usgMUGSClP7"
      },
      "execution_count": null,
      "outputs": []
    },
    {
      "cell_type": "code",
      "source": [
        "g_tot_imp_020 = df.groupby('total_imp_topics_0.20')"
      ],
      "metadata": {
        "id": "cUwoCn36ClSm"
      },
      "execution_count": null,
      "outputs": []
    },
    {
      "cell_type": "code",
      "source": [
        "for i in range(0,5):\n",
        "    print(i, '---', g_tot_imp_020.get_group(i)['votes'].mean())"
      ],
      "metadata": {
        "colab": {
          "base_uri": "https://localhost:8080/"
        },
        "id": "kF5uyEIlClVH",
        "outputId": "990f2a7c-0c5b-4e40-fab2-6efd6b213ca3"
      },
      "execution_count": null,
      "outputs": [
        {
          "output_type": "stream",
          "name": "stdout",
          "text": [
            "0 --- 0.05265888456549935\n",
            "1 --- 1.9144387116948092\n",
            "2 --- 4.158265665696338\n",
            "3 --- 4.623722789871168\n",
            "4 --- 5.3619047619047615\n"
          ]
        }
      ]
    },
    {
      "cell_type": "code",
      "source": [
        "df['total_imp_topics_0.20'].value_counts()"
      ],
      "metadata": {
        "colab": {
          "base_uri": "https://localhost:8080/"
        },
        "id": "U5xLO99_Coqd",
        "outputId": "9db00107-6cc6-4c79-aae2-b45b25153658"
      },
      "execution_count": null,
      "outputs": [
        {
          "output_type": "execute_result",
          "data": {
            "text/plain": [
              "1    25584\n",
              "2    19581\n",
              "3     4502\n",
              "0     3855\n",
              "4      105\n",
              "Name: total_imp_topics_0.20, dtype: int64"
            ]
          },
          "metadata": {},
          "execution_count": 17
        }
      ]
    },
    {
      "cell_type": "markdown",
      "source": [
        "**Cannot decide as such, maybe 2?**"
      ],
      "metadata": {
        "id": "VRmwqr3WFIba"
      }
    },
    {
      "cell_type": "code",
      "source": [],
      "metadata": {
        "id": "29-XJlfbGeVK"
      },
      "execution_count": null,
      "outputs": []
    }
  ]
}