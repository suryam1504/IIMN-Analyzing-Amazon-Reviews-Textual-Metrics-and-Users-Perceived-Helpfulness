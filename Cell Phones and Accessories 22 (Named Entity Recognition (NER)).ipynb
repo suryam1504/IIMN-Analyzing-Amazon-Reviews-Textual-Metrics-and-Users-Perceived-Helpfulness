{
  "nbformat": 4,
  "nbformat_minor": 0,
  "metadata": {
    "colab": {
      "provenance": []
    },
    "kernelspec": {
      "name": "python3",
      "display_name": "Python 3"
    },
    "language_info": {
      "name": "python"
    },
    "accelerator": "GPU",
    "gpuClass": "standard"
  },
  "cells": [
    {
      "cell_type": "code",
      "execution_count": null,
      "metadata": {
        "colab": {
          "base_uri": "https://localhost:8080/"
        },
        "id": "PDG9Aifdnh-S",
        "outputId": "6ba0043e-55e1-4fe5-8f13-616d3ff56778"
      },
      "outputs": [
        {
          "output_type": "stream",
          "name": "stdout",
          "text": [
            "Mounted at /content/drive\n"
          ]
        }
      ],
      "source": [
        "from google.colab import drive\n",
        "drive.mount('/content/drive')"
      ]
    },
    {
      "cell_type": "code",
      "source": [
        "import pandas as pd\n",
        "import numpy as np\n",
        "import re\n",
        "from nltk.corpus import stopwords\n",
        "from nltk.stem import WordNetLemmatizer\n",
        "from nltk.tokenize import sent_tokenize\n",
        "import nltk\n",
        "nltk.download('stopwords')\n",
        "nltk.download('wordnet')\n",
        "nltk.download('omw-1.4')"
      ],
      "metadata": {
        "colab": {
          "base_uri": "https://localhost:8080/"
        },
        "id": "IdMQY5Enn2Bu",
        "outputId": "2c9a1f6b-b050-46d8-9e8a-8ee0a1906cac"
      },
      "execution_count": null,
      "outputs": [
        {
          "output_type": "stream",
          "name": "stderr",
          "text": [
            "[nltk_data] Downloading package stopwords to /root/nltk_data...\n",
            "[nltk_data]   Unzipping corpora/stopwords.zip.\n",
            "[nltk_data] Downloading package wordnet to /root/nltk_data...\n",
            "[nltk_data] Downloading package omw-1.4 to /root/nltk_data...\n"
          ]
        },
        {
          "output_type": "execute_result",
          "data": {
            "text/plain": [
              "True"
            ]
          },
          "metadata": {},
          "execution_count": 2
        }
      ]
    },
    {
      "cell_type": "code",
      "source": [
        "df = pd.read_excel('/content/drive/MyDrive/IIM Nagpur NLP Files/CellPhoneAllData (Kapil sir modified for Sentiment Analysis).xlsx')"
      ],
      "metadata": {
        "id": "Edu6rFlJntAc"
      },
      "execution_count": null,
      "outputs": []
    },
    {
      "cell_type": "code",
      "source": [
        "df.head()"
      ],
      "metadata": {
        "colab": {
          "base_uri": "https://localhost:8080/",
          "height": 699
        },
        "id": "WQ748z-knzzq",
        "outputId": "a787b11c-2f26-43d5-a024-8e23316e279b"
      },
      "execution_count": null,
      "outputs": [
        {
          "output_type": "execute_result",
          "data": {
            "text/plain": [
              "   Rating  verified   reviewTime  Year      reviewerID        asin style  \\\n",
              "0       1     False  09 21, 2004  2004   A5JLAU2ARJ0BO  B0000E3GWH   NaN   \n",
              "1       4     False  07 24, 2004  2004  A1ACM1CBGORBN1  B0000E3GWH   NaN   \n",
              "2       3     False   07 6, 2004  2004  A2V48Q03FZUOSD  B0000E3GWH   NaN   \n",
              "3       5      True  04 12, 2004  2004  A1V3TRGWOMA8LC  B0000E3GWH   NaN   \n",
              "4       3     False  02 19, 2004  2004  A3NOBH42C7UI5M  B0000E3GWH   NaN   \n",
              "\n",
              "     reviewerName                                         reviewText  \\\n",
              "0    Old-and-Wise  This phone is ugly and heavy and has a terribl...   \n",
              "1    Sherry Berry  I had the Samsung V205 and then I decided to t...   \n",
              "2  Benjamin David  This is the first Samsung phone I have had and...   \n",
              "3   James Beswick  ..and I'm from Europe, where the phones and ne...   \n",
              "4          Kepela  This phone is amazingly small and light for a ...   \n",
              "\n",
              "                                           summary  ...  focusfuture  \\\n",
              "0                                    Bad reception  ...         0.00   \n",
              "1  Pretty good phone.. an improvement from my v205  ...         2.20   \n",
              "2       Not as user friendly as the Motorola V300-  ...         0.00   \n",
              "3                   The best phone I've ever owned  ...         3.64   \n",
              "4   I love the phone but it has some real problems  ...         0.81   \n",
              "\n",
              "   Conversation  dominant_topic  total_imp_topics  \\\n",
              "0          0.00               6                 2   \n",
              "1          0.73               6                 5   \n",
              "2          0.00               6                 2   \n",
              "3          0.00               0                 5   \n",
              "4          0.00               6                 4   \n",
              "\n",
              "                   custom_topic_name  votes total_imp_topics_0.05  \\\n",
              "0                            Quality      2                     2   \n",
              "1                            Quality     15                     5   \n",
              "2                            Quality     11                     2   \n",
              "3  Phone related generalized words 1      4                     5   \n",
              "4                            Quality     12                     4   \n",
              "\n",
              "   total_imp_topics_0.10  total_imp_topics_0.20  Neutral_Rating  \n",
              "0                      2                      1               0  \n",
              "1                      3                      1               0  \n",
              "2                      2                      2               1  \n",
              "3                      4                      2               0  \n",
              "4                      3                      2               1  \n",
              "\n",
              "[5 rows x 45 columns]"
            ],
            "text/html": [
              "\n",
              "  <div id=\"df-bf1ccb02-9ffa-452b-8aff-0e531681f3c5\">\n",
              "    <div class=\"colab-df-container\">\n",
              "      <div>\n",
              "<style scoped>\n",
              "    .dataframe tbody tr th:only-of-type {\n",
              "        vertical-align: middle;\n",
              "    }\n",
              "\n",
              "    .dataframe tbody tr th {\n",
              "        vertical-align: top;\n",
              "    }\n",
              "\n",
              "    .dataframe thead th {\n",
              "        text-align: right;\n",
              "    }\n",
              "</style>\n",
              "<table border=\"1\" class=\"dataframe\">\n",
              "  <thead>\n",
              "    <tr style=\"text-align: right;\">\n",
              "      <th></th>\n",
              "      <th>Rating</th>\n",
              "      <th>verified</th>\n",
              "      <th>reviewTime</th>\n",
              "      <th>Year</th>\n",
              "      <th>reviewerID</th>\n",
              "      <th>asin</th>\n",
              "      <th>style</th>\n",
              "      <th>reviewerName</th>\n",
              "      <th>reviewText</th>\n",
              "      <th>summary</th>\n",
              "      <th>...</th>\n",
              "      <th>focusfuture</th>\n",
              "      <th>Conversation</th>\n",
              "      <th>dominant_topic</th>\n",
              "      <th>total_imp_topics</th>\n",
              "      <th>custom_topic_name</th>\n",
              "      <th>votes</th>\n",
              "      <th>total_imp_topics_0.05</th>\n",
              "      <th>total_imp_topics_0.10</th>\n",
              "      <th>total_imp_topics_0.20</th>\n",
              "      <th>Neutral_Rating</th>\n",
              "    </tr>\n",
              "  </thead>\n",
              "  <tbody>\n",
              "    <tr>\n",
              "      <th>0</th>\n",
              "      <td>1</td>\n",
              "      <td>False</td>\n",
              "      <td>09 21, 2004</td>\n",
              "      <td>2004</td>\n",
              "      <td>A5JLAU2ARJ0BO</td>\n",
              "      <td>B0000E3GWH</td>\n",
              "      <td>NaN</td>\n",
              "      <td>Old-and-Wise</td>\n",
              "      <td>This phone is ugly and heavy and has a terribl...</td>\n",
              "      <td>Bad reception</td>\n",
              "      <td>...</td>\n",
              "      <td>0.00</td>\n",
              "      <td>0.00</td>\n",
              "      <td>6</td>\n",
              "      <td>2</td>\n",
              "      <td>Quality</td>\n",
              "      <td>2</td>\n",
              "      <td>2</td>\n",
              "      <td>2</td>\n",
              "      <td>1</td>\n",
              "      <td>0</td>\n",
              "    </tr>\n",
              "    <tr>\n",
              "      <th>1</th>\n",
              "      <td>4</td>\n",
              "      <td>False</td>\n",
              "      <td>07 24, 2004</td>\n",
              "      <td>2004</td>\n",
              "      <td>A1ACM1CBGORBN1</td>\n",
              "      <td>B0000E3GWH</td>\n",
              "      <td>NaN</td>\n",
              "      <td>Sherry Berry</td>\n",
              "      <td>I had the Samsung V205 and then I decided to t...</td>\n",
              "      <td>Pretty good phone.. an improvement from my v205</td>\n",
              "      <td>...</td>\n",
              "      <td>2.20</td>\n",
              "      <td>0.73</td>\n",
              "      <td>6</td>\n",
              "      <td>5</td>\n",
              "      <td>Quality</td>\n",
              "      <td>15</td>\n",
              "      <td>5</td>\n",
              "      <td>3</td>\n",
              "      <td>1</td>\n",
              "      <td>0</td>\n",
              "    </tr>\n",
              "    <tr>\n",
              "      <th>2</th>\n",
              "      <td>3</td>\n",
              "      <td>False</td>\n",
              "      <td>07 6, 2004</td>\n",
              "      <td>2004</td>\n",
              "      <td>A2V48Q03FZUOSD</td>\n",
              "      <td>B0000E3GWH</td>\n",
              "      <td>NaN</td>\n",
              "      <td>Benjamin David</td>\n",
              "      <td>This is the first Samsung phone I have had and...</td>\n",
              "      <td>Not as user friendly as the Motorola V300-</td>\n",
              "      <td>...</td>\n",
              "      <td>0.00</td>\n",
              "      <td>0.00</td>\n",
              "      <td>6</td>\n",
              "      <td>2</td>\n",
              "      <td>Quality</td>\n",
              "      <td>11</td>\n",
              "      <td>2</td>\n",
              "      <td>2</td>\n",
              "      <td>2</td>\n",
              "      <td>1</td>\n",
              "    </tr>\n",
              "    <tr>\n",
              "      <th>3</th>\n",
              "      <td>5</td>\n",
              "      <td>True</td>\n",
              "      <td>04 12, 2004</td>\n",
              "      <td>2004</td>\n",
              "      <td>A1V3TRGWOMA8LC</td>\n",
              "      <td>B0000E3GWH</td>\n",
              "      <td>NaN</td>\n",
              "      <td>James Beswick</td>\n",
              "      <td>..and I'm from Europe, where the phones and ne...</td>\n",
              "      <td>The best phone I've ever owned</td>\n",
              "      <td>...</td>\n",
              "      <td>3.64</td>\n",
              "      <td>0.00</td>\n",
              "      <td>0</td>\n",
              "      <td>5</td>\n",
              "      <td>Phone related generalized words 1</td>\n",
              "      <td>4</td>\n",
              "      <td>5</td>\n",
              "      <td>4</td>\n",
              "      <td>2</td>\n",
              "      <td>0</td>\n",
              "    </tr>\n",
              "    <tr>\n",
              "      <th>4</th>\n",
              "      <td>3</td>\n",
              "      <td>False</td>\n",
              "      <td>02 19, 2004</td>\n",
              "      <td>2004</td>\n",
              "      <td>A3NOBH42C7UI5M</td>\n",
              "      <td>B0000E3GWH</td>\n",
              "      <td>NaN</td>\n",
              "      <td>Kepela</td>\n",
              "      <td>This phone is amazingly small and light for a ...</td>\n",
              "      <td>I love the phone but it has some real problems</td>\n",
              "      <td>...</td>\n",
              "      <td>0.81</td>\n",
              "      <td>0.00</td>\n",
              "      <td>6</td>\n",
              "      <td>4</td>\n",
              "      <td>Quality</td>\n",
              "      <td>12</td>\n",
              "      <td>4</td>\n",
              "      <td>3</td>\n",
              "      <td>2</td>\n",
              "      <td>1</td>\n",
              "    </tr>\n",
              "  </tbody>\n",
              "</table>\n",
              "<p>5 rows × 45 columns</p>\n",
              "</div>\n",
              "      <button class=\"colab-df-convert\" onclick=\"convertToInteractive('df-bf1ccb02-9ffa-452b-8aff-0e531681f3c5')\"\n",
              "              title=\"Convert this dataframe to an interactive table.\"\n",
              "              style=\"display:none;\">\n",
              "        \n",
              "  <svg xmlns=\"http://www.w3.org/2000/svg\" height=\"24px\"viewBox=\"0 0 24 24\"\n",
              "       width=\"24px\">\n",
              "    <path d=\"M0 0h24v24H0V0z\" fill=\"none\"/>\n",
              "    <path d=\"M18.56 5.44l.94 2.06.94-2.06 2.06-.94-2.06-.94-.94-2.06-.94 2.06-2.06.94zm-11 1L8.5 8.5l.94-2.06 2.06-.94-2.06-.94L8.5 2.5l-.94 2.06-2.06.94zm10 10l.94 2.06.94-2.06 2.06-.94-2.06-.94-.94-2.06-.94 2.06-2.06.94z\"/><path d=\"M17.41 7.96l-1.37-1.37c-.4-.4-.92-.59-1.43-.59-.52 0-1.04.2-1.43.59L10.3 9.45l-7.72 7.72c-.78.78-.78 2.05 0 2.83L4 21.41c.39.39.9.59 1.41.59.51 0 1.02-.2 1.41-.59l7.78-7.78 2.81-2.81c.8-.78.8-2.07 0-2.86zM5.41 20L4 18.59l7.72-7.72 1.47 1.35L5.41 20z\"/>\n",
              "  </svg>\n",
              "      </button>\n",
              "      \n",
              "  <style>\n",
              "    .colab-df-container {\n",
              "      display:flex;\n",
              "      flex-wrap:wrap;\n",
              "      gap: 12px;\n",
              "    }\n",
              "\n",
              "    .colab-df-convert {\n",
              "      background-color: #E8F0FE;\n",
              "      border: none;\n",
              "      border-radius: 50%;\n",
              "      cursor: pointer;\n",
              "      display: none;\n",
              "      fill: #1967D2;\n",
              "      height: 32px;\n",
              "      padding: 0 0 0 0;\n",
              "      width: 32px;\n",
              "    }\n",
              "\n",
              "    .colab-df-convert:hover {\n",
              "      background-color: #E2EBFA;\n",
              "      box-shadow: 0px 1px 2px rgba(60, 64, 67, 0.3), 0px 1px 3px 1px rgba(60, 64, 67, 0.15);\n",
              "      fill: #174EA6;\n",
              "    }\n",
              "\n",
              "    [theme=dark] .colab-df-convert {\n",
              "      background-color: #3B4455;\n",
              "      fill: #D2E3FC;\n",
              "    }\n",
              "\n",
              "    [theme=dark] .colab-df-convert:hover {\n",
              "      background-color: #434B5C;\n",
              "      box-shadow: 0px 1px 3px 1px rgba(0, 0, 0, 0.15);\n",
              "      filter: drop-shadow(0px 1px 2px rgba(0, 0, 0, 0.3));\n",
              "      fill: #FFFFFF;\n",
              "    }\n",
              "  </style>\n",
              "\n",
              "      <script>\n",
              "        const buttonEl =\n",
              "          document.querySelector('#df-bf1ccb02-9ffa-452b-8aff-0e531681f3c5 button.colab-df-convert');\n",
              "        buttonEl.style.display =\n",
              "          google.colab.kernel.accessAllowed ? 'block' : 'none';\n",
              "\n",
              "        async function convertToInteractive(key) {\n",
              "          const element = document.querySelector('#df-bf1ccb02-9ffa-452b-8aff-0e531681f3c5');\n",
              "          const dataTable =\n",
              "            await google.colab.kernel.invokeFunction('convertToInteractive',\n",
              "                                                     [key], {});\n",
              "          if (!dataTable) return;\n",
              "\n",
              "          const docLinkHtml = 'Like what you see? Visit the ' +\n",
              "            '<a target=\"_blank\" href=https://colab.research.google.com/notebooks/data_table.ipynb>data table notebook</a>'\n",
              "            + ' to learn more about interactive tables.';\n",
              "          element.innerHTML = '';\n",
              "          dataTable['output_type'] = 'display_data';\n",
              "          await google.colab.output.renderOutput(dataTable, element);\n",
              "          const docLink = document.createElement('div');\n",
              "          docLink.innerHTML = docLinkHtml;\n",
              "          element.appendChild(docLink);\n",
              "        }\n",
              "      </script>\n",
              "    </div>\n",
              "  </div>\n",
              "  "
            ]
          },
          "metadata": {},
          "execution_count": 4
        }
      ]
    },
    {
      "cell_type": "code",
      "source": [],
      "metadata": {
        "id": "an0sx2cRtJrQ"
      },
      "execution_count": null,
      "outputs": []
    },
    {
      "cell_type": "code",
      "source": [
        "import spacy"
      ],
      "metadata": {
        "id": "B65hQ-wZL0vj"
      },
      "execution_count": null,
      "outputs": []
    },
    {
      "cell_type": "code",
      "source": [
        "nlp = spacy.load(\"en_core_web_sm\")"
      ],
      "metadata": {
        "id": "nerwIWA9uvFd"
      },
      "execution_count": null,
      "outputs": []
    },
    {
      "cell_type": "markdown",
      "source": [
        "### Removing stopwords might not be the best idea for this data"
      ],
      "metadata": {
        "id": "Ak6A3dxTxNn-"
      }
    },
    {
      "cell_type": "code",
      "source": [
        "lm = WordNetLemmatizer()\n",
        "def text_transformation(review):\n",
        "    corpus = []\n",
        "    new_item = re.sub('[^a-zA-Z.]',' ',str(review))\n",
        "    new_item = new_item.lower()\n",
        "    new_item = new_item.split()\n",
        "    new_item = [lm.lemmatize(word) for word in new_item if word not in set(stopwords.words('english'))]\n",
        "    corpus.append(' '.join(str(x) for x in new_item))\n",
        "    return corpus"
      ],
      "metadata": {
        "id": "EgVFw81RviAD"
      },
      "execution_count": null,
      "outputs": []
    },
    {
      "cell_type": "code",
      "source": [
        "k = 0\n",
        "review = df['reviewText'][k]    # run this for original review\n",
        "#review = text_transformation(df['reviewText'][k])[0]    # run this for transformed/processed review\n",
        "print(review)"
      ],
      "metadata": {
        "colab": {
          "base_uri": "https://localhost:8080/"
        },
        "id": "x7uWiXvAvokB",
        "outputId": "9702f800-2671-45b9-bb47-23c05c99e527"
      },
      "execution_count": null,
      "outputs": [
        {
          "output_type": "stream",
          "name": "stdout",
          "text": [
            "This phone is ugly and heavy and has a terrible user interface even for techies like myself.  It also drops calls like crazy here in Manhattan.  The Moto V600 is a much better phone, takes better pictures, gives you better clarity and reception, is smaller, and is much, much cheaper.  Get the Moto V600 if you want T-Mobile.  Stay away from this ugly monster.\n"
          ]
        }
      ]
    },
    {
      "cell_type": "code",
      "source": [
        "doc = nlp(review)\n",
        "# for ent in doc.ents:\n",
        "#     print(ent.text, \" | \", ent.label_)"
      ],
      "metadata": {
        "id": "3D2IlCHCuwyN"
      },
      "execution_count": null,
      "outputs": []
    },
    {
      "cell_type": "code",
      "source": [
        "# to visualize better \n",
        "from spacy import displacy\n",
        "displacy.render(doc, style=\"ent\", jupyter=True)"
      ],
      "metadata": {
        "colab": {
          "base_uri": "https://localhost:8080/",
          "height": 122
        },
        "id": "J1nZgLSnu4X8",
        "outputId": "65310246-55b4-4023-eee8-7347e8aba249"
      },
      "execution_count": null,
      "outputs": [
        {
          "output_type": "display_data",
          "data": {
            "text/plain": [
              "<IPython.core.display.HTML object>"
            ],
            "text/html": [
              "<span class=\"tex2jax_ignore\"><div class=\"entities\" style=\"line-height: 2.5; direction: ltr\">This phone is ugly and heavy and has a terrible user interface even for techies like myself.  It also drops calls like crazy here in \n",
              "<mark class=\"entity\" style=\"background: #feca74; padding: 0.45em 0.6em; margin: 0 0.25em; line-height: 1; border-radius: 0.35em;\">\n",
              "    Manhattan\n",
              "    <span style=\"font-size: 0.8em; font-weight: bold; line-height: 1; border-radius: 0.35em; vertical-align: middle; margin-left: 0.5rem\">GPE</span>\n",
              "</mark>\n",
              ".  \n",
              "<mark class=\"entity\" style=\"background: #7aecec; padding: 0.45em 0.6em; margin: 0 0.25em; line-height: 1; border-radius: 0.35em;\">\n",
              "    The Moto V600\n",
              "    <span style=\"font-size: 0.8em; font-weight: bold; line-height: 1; border-radius: 0.35em; vertical-align: middle; margin-left: 0.5rem\">ORG</span>\n",
              "</mark>\n",
              " is a much better phone, takes better pictures, gives you better clarity and reception, is smaller, and is much, much cheaper.  \n",
              "<mark class=\"entity\" style=\"background: #7aecec; padding: 0.45em 0.6em; margin: 0 0.25em; line-height: 1; border-radius: 0.35em;\">\n",
              "    Get the Moto V600\n",
              "    <span style=\"font-size: 0.8em; font-weight: bold; line-height: 1; border-radius: 0.35em; vertical-align: middle; margin-left: 0.5rem\">ORG</span>\n",
              "</mark>\n",
              " if you want \n",
              "<mark class=\"entity\" style=\"background: #7aecec; padding: 0.45em 0.6em; margin: 0 0.25em; line-height: 1; border-radius: 0.35em;\">\n",
              "    T-Mobile\n",
              "    <span style=\"font-size: 0.8em; font-weight: bold; line-height: 1; border-radius: 0.35em; vertical-align: middle; margin-left: 0.5rem\">ORG</span>\n",
              "</mark>\n",
              ".  Stay away from this ugly monster.</div></span>"
            ]
          },
          "metadata": {}
        }
      ]
    },
    {
      "cell_type": "code",
      "source": [
        "len(doc.ents)"
      ],
      "metadata": {
        "colab": {
          "base_uri": "https://localhost:8080/"
        },
        "id": "kmOTdKvTu4aT",
        "outputId": "12f1f812-e083-409a-8d2a-3d4ad09957d2"
      },
      "execution_count": null,
      "outputs": [
        {
          "output_type": "execute_result",
          "data": {
            "text/plain": [
              "4"
            ]
          },
          "metadata": {},
          "execution_count": 11
        }
      ]
    },
    {
      "cell_type": "code",
      "source": [],
      "metadata": {
        "id": "MJOi93sAu5If"
      },
      "execution_count": null,
      "outputs": []
    },
    {
      "cell_type": "markdown",
      "source": [
        "## Named Entity Recognition (NER)"
      ],
      "metadata": {
        "id": "VECgf7DYxrd8"
      }
    },
    {
      "cell_type": "code",
      "source": [
        "df['reviewText'] = df['reviewText'].astype(str)"
      ],
      "metadata": {
        "id": "TuwmvqQc21qG"
      },
      "execution_count": null,
      "outputs": []
    },
    {
      "cell_type": "code",
      "source": [
        "no_of_entities = [len(nlp(df['reviewText'][i]).ents) for i in list(df.index)]  # this takes 14 mins to run, even here on colab with GPU runtime"
      ],
      "metadata": {
        "id": "yG9i71uZxlwW"
      },
      "execution_count": null,
      "outputs": []
    },
    {
      "cell_type": "code",
      "source": [
        "print(no_of_entities)"
      ],
      "metadata": {
        "colab": {
          "base_uri": "https://localhost:8080/"
        },
        "id": "4AQkLoa0x9L5",
        "outputId": "65ac68b8-a01e-49e2-86c0-a8c9e8ccaac1"
      },
      "execution_count": null,
      "outputs": [
        {
          "output_type": "stream",
          "name": "stdout",
          "text": [
            "[4, 14, 15, 4, 32, 23, 25, 3, 22, 32, 16, 7, 21, 6, 6, 48, 6, 11, 3, 16, 27, 6, 19, 4, 3, 22, 7, 24, 0, 54, 2, 2, 5, 7, 11, 37, 6, 10, 26, 8, 8, 6, 16, 27, 16, 31, 5, 23, 11, 16, 9, 3, 5, 16, 27, 45, 10, 17, 51, 13, 4, 6, 4, 17, 23, 8, 24, 0, 10, 1, 8, 39, 33, 60, 18, 26, 96, 1, 0, 3, 4, 6, 3, 7, 9, 13, 0, 1, 0, 1, 0, 0, 0, 0, 0, 0, 0, 0, 2, 0, 2, 1, 0, 0, 0, 0, 0, 0, 0, 0, 0, 0, 0, 1, 0, 0, 1, 0, 0, 0, 1, 1, 3, 0, 0, 1, 0, 4, 3, 11, 4, 3, 13, 7, 5, 12, 6, 22, 7, 5, 4, 10, 2, 2, 11, 0, 0, 0, 0, 4, 3, 3, 1, 1, 21, 8, 8, 4, 6, 10, 0, 34, 6, 7, 18, 3, 49, 14, 0, 0, 2, 14, 9, 11, 2, 1, 6, 1, 6, 5, 27, 7, 0, 0, 0, 0, 0, 0, 0, 0, 0, 0, 1, 7, 1, 26, 21, 22, 6, 7, 10, 14, 20, 12, 64, 21, 25, 14, 18, 6, 3, 1, 53, 52, 6, 15, 7, 14, 0, 1, 4, 18, 41, 5, 51, 1, 2, 0, 10, 2, 3, 5, 6, 11, 3, 1, 6, 23, 40, 13, 5, 10, 3, 9, 6, 14, 20, 9, 37, 31, 16, 4, 27, 11, 3, 35, 27, 13, 10, 16, 6, 4, 4, 5, 48, 6, 4, 7, 17, 10, 7, 12, 2, 10, 15, 3, 3, 3, 0, 7, 0, 0, 16, 0, 1, 2, 8, 0, 0, 0, 0, 8, 8, 29, 5, 6, 7, 7, 0, 2, 1, 2, 0, 0, 0, 0, 6, 5, 8, 5, 7, 26, 8, 9, 33, 17, 14, 4, 3, 9, 9, 1, 16, 1, 8, 20, 22, 9, 8, 8, 4, 26, 0, 2, 16, 18, 6, 51, 34, 0, 21, 1, 0, 0, 0, 0, 2, 0, 1, 4, 0, 0, 0, 24, 28, 1, 4, 12, 2, 8, 0, 0, 1, 1, 2, 16, 3, 3, 3, 30, 10, 12, 12, 16, 0, 0, 1, 16, 8, 0, 4, 87, 18, 11, 12, 19, 10, 5, 0, 6, 7, 37, 26, 0, 23, 1, 1, 0, 0, 0, 0, 17, 39, 12, 12, 2, 13, 3, 5, 4, 7, 11, 8, 15, 66, 0, 0, 3, 0, 2, 1, 19, 5, 1, 1, 0, 1, 0, 11, 13, 4, 11, 2, 13, 29, 4, 4, 7, 12, 39, 2, 25, 7, 12, 8, 9, 16, 29, 26, 2, 1, 32, 1, 16, 0, 1, 3, 0, 1, 0, 1, 0, 0, 3, 0, 0, 13, 4, 10, 13, 0, 5, 19, 2, 15, 117, 12, 11, 21, 8, 1, 14, 5, 6, 4, 2, 5, 7, 0, 24, 3, 5, 2, 19, 9, 5, 2, 4, 0, 20, 0, 0, 2, 1, 0, 4, 0, 2, 0, 0, 0, 0, 9, 0, 0, 0, 21, 14, 4, 30, 7, 10, 2, 6, 13, 7, 94, 12, 7, 2, 64, 25, 32, 68, 55, 10, 5, 12, 49, 3, 0, 1, 0, 0, 6, 47, 5, 2, 4, 22, 5, 18, 28, 3, 0, 14, 5, 6, 36, 7, 4, 4, 1, 0, 12, 4, 0, 8, 11, 8, 10, 2, 14, 5, 24, 8, 6, 4, 82, 5, 6, 1, 3, 29, 4, 4, 13, 15, 0, 0, 10, 13, 17, 2, 3, 4, 24, 0, 4, 92, 18, 9, 4, 13, 24, 5, 0, 6, 28, 5, 1, 1, 0, 5, 3, 0, 3, 1, 3, 1, 1, 3, 0, 5, 7, 13, 5, 1, 1, 6, 17, 12, 2, 3, 1, 7, 0, 15, 18, 16, 0, 0, 30, 4, 9, 3, 7, 37, 54, 49, 6, 0, 3, 1, 8, 20, 6, 1, 1, 83, 286, 2, 1, 0, 8, 7, 14, 11, 8, 6, 9, 13, 0, 7, 1, 1, 6, 0, 2, 0, 0, 0, 0, 1, 0, 1, 4, 1, 0, 6, 0, 0, 0, 0, 0, 0, 2, 0, 0, 3, 1, 0, 0, 0, 0, 0, 0, 0, 1, 1, 0, 0, 0, 1, 1, 4, 1, 4, 3, 4, 0, 0, 0, 0, 0, 0, 1, 0, 0, 0, 0, 0, 0, 0, 0, 0, 0, 0, 2, 0, 2, 0, 0, 0, 1, 0, 0, 0, 0, 0, 1, 0, 0, 2, 0, 0, 0, 0, 0, 0, 16, 0, 0, 0, 2, 1, 1, 0, 0, 8, 1, 0, 0, 0, 2, 0, 1, 2, 0, 0, 0, 4, 3, 0, 4, 1, 0, 4, 27, 0, 4, 0, 10, 2, 0, 2, 0, 1, 0, 2, 22, 2, 2, 3, 1, 0, 1, 3, 26, 0, 0, 5, 1, 2, 0, 0, 6, 2, 0, 3, 0, 0, 0, 0, 1, 0, 2, 0, 8, 0, 0, 0, 0, 2, 1, 0, 0, 1, 0, 1, 3, 0, 1, 0, 1, 2, 0, 0, 1, 1, 0, 1, 1, 1, 2, 4, 5, 0, 0, 4, 0, 2, 3, 3, 0, 0, 11, 1, 1, 11, 11, 5, 33, 12, 9, 4, 20, 33, 5, 12, 0, 0, 1, 45, 13, 16, 18, 0, 1, 2, 1, 4, 2, 14, 25, 3, 3, 4, 0, 1, 2, 1, 0, 6, 2, 0, 0, 0, 43, 2, 3, 52, 2, 17, 5, 5, 4, 39, 0, 20, 2, 30, 37, 71, 54, 0, 16, 4, 4, 26, 36, 13, 24, 26, 5, 68, 6, 0, 5, 0, 0, 1, 0, 0, 0, 19, 2, 0, 0, 8, 4, 8, 0, 0, 4, 1, 1, 4, 4, 2, 3, 12, 6, 4, 23, 6, 0, 97, 0, 4, 2, 0, 14, 1, 3, 10, 2, 21, 7, 10, 48, 1, 9, 1, 1, 6, 2, 4, 12, 2, 72, 0, 9, 14, 1, 14, 12, 1, 71, 13, 1, 11, 15, 36, 4, 4, 7, 2, 19, 4, 10, 6, 58, 1, 3, 0, 22, 16, 1, 3, 38, 12, 19, 1, 11, 8, 10, 2, 14, 30, 8, 0, 0, 0, 0, 0, 0, 0, 0, 1, 1, 3, 3, 1, 0, 0, 8, 19, 1, 2, 80, 50, 0, 73, 48, 13, 46, 42, 54, 81, 32, 24, 0, 14, 0, 29, 5, 4, 18, 6, 2, 4, 0, 0, 0, 7, 23, 48, 24, 14, 0, 4, 32, 0, 0, 2, 0, 0, 0, 0, 4, 5, 0, 1, 0, 0, 0, 0, 0, 0, 0, 0, 0, 0, 0, 0, 0, 0, 0, 0, 0, 0, 0, 0, 0, 1, 0, 0, 0, 0, 0, 0, 0, 0, 1, 0, 0, 1, 0, 1, 1, 0, 1, 1, 0, 22, 1, 0, 0, 3, 1, 1, 1, 3, 0, 2, 5, 0, 6, 0, 18, 18, 4, 0, 0, 1, 5, 0, 2, 1, 1, 0, 2, 0, 1, 0, 0, 0, 0, 1, 0, 16, 2, 0, 2, 1, 2, 1, 93, 0, 0, 0, 0, 3, 5, 4, 0, 1, 14, 37, 50, 15, 92, 15, 3, 26, 9, 23, 28, 12, 7, 6, 13, 24, 6, 28, 6, 10, 27, 34, 13, 41, 7, 11, 21, 4, 24, 6, 25, 5, 43, 28, 3, 15, 35, 8, 7, 7, 40, 7, 17, 5, 2, 1, 31, 51, 0, 3, 2, 8, 0, 1, 0, 0, 0, 3, 17, 6, 19, 2, 0, 1, 0, 0, 1, 0, 1, 0, 1, 0, 2, 1, 16, 0, 13, 13, 11, 4, 5, 1, 0, 0, 8, 4, 42, 0, 0, 0, 0, 1, 0, 0, 6, 1, 5, 0, 0, 0, 0, 1, 0, 0, 0, 0, 7, 0, 1, 16, 18, 1, 3, 0, 0, 14, 5, 18, 31, 36, 35, 18, 0, 0, 0, 0, 0, 0, 0, 0, 0, 1, 1, 5, 27, 2, 13, 2, 7, 5, 8, 23, 33, 1, 2, 1, 0, 0, 0, 11, 6, 9, 4, 23, 83, 48, 55, 55, 33, 39, 12, 11, 81, 7, 7, 11, 9, 1, 0, 1, 0, 0, 0, 0, 0, 0, 0, 1, 1, 1, 0, 0, 0, 0, 0, 0, 0, 0, 0, 0, 0, 0, 0, 0, 0, 0, 0, 0, 0, 0, 0, 0, 0, 0, 0, 0, 0, 0, 0, 0, 5, 0, 6, 0, 0, 0, 0, 0, 1, 2, 1, 1, 4, 2, 4, 0, 0, 5, 3, 0, 7, 7, 1, 0, 3, 1, 20, 16, 0, 2, 0, 0, 5, 1, 0, 2, 4, 0, 2, 0, 0, 0, 0, 0, 2, 1, 0, 2, 6, 1, 0, 1, 7, 2, 0, 0, 0, 0, 0, 0, 0, 0, 0, 0, 0, 3, 1, 6, 2, 3, 1, 11, 3, 7, 58, 38, 5, 18, 18, 7, 19, 36, 32, 4, 10, 10, 22, 14, 30, 2, 53, 6, 7, 0, 25, 0, 2, 1, 49, 82, 30, 16, 11, 2, 29, 0, 1, 1, 1, 11, 1, 1, 1, 4, 0, 0, 25, 3, 6, 0, 1, 3, 1, 0, 21, 5, 0, 6, 6, 11, 1, 3, 0, 0, 39, 34, 0, 0, 0, 1, 0, 0, 0, 0, 0, 0, 0, 0, 0, 0, 0, 0, 0, 0, 0, 1, 0, 0, 0, 1, 1, 0, 0, 3, 0, 0, 1, 1, 0, 0, 0, 0, 0, 0, 0, 0, 0, 1, 1, 5, 0, 0, 3, 0, 0, 0, 1, 0, 0, 1, 1, 0, 0, 1, 6, 0, 0, 0, 0, 1, 0, 0, 3, 2, 1, 2, 2, 1, 1, 2, 3, 0, 1, 6, 13, 2, 4, 11, 23, 1, 3, 0, 0, 0, 0, 4, 1, 0, 0, 0, 0, 0, 1, 0, 0, 0, 0, 0, 0, 0, 0, 0, 0, 0, 1, 1, 0, 0, 1, 2, 1, 0, 3, 11, 5, 5, 0, 13, 0, 0, 3, 0, 1, 0, 1, 0, 1, 0, 0, 0, 0, 1, 0, 0, 10, 1, 1, 1, 4, 7, 10, 0, 17, 17, 24, 1, 1, 0, 1, 4, 0, 0, 15, 9, 9, 0, 7, 15, 0, 5, 0, 0, 0, 0, 0, 0, 0, 3, 1, 0, 0, 1, 0, 2, 1, 6, 1, 0, 0, 0, 0, 0, 0, 2, 3, 1, 2, 43, 0, 0, 0, 0, 1, 1, 1, 1, 0, 0, 11, 3, 12, 0, 0, 9, 0, 5, 0, 0, 0, 1, 0, 0, 1, 1, 0, 0, 3, 0, 0, 0, 0, 1, 0, 0, 1, 3, 1, 2, 9, 0, 5, 0, 4, 8, 5, 14, 1, 14, 0, 5, 0, 0, 0, 0, 0, 0, 2, 0, 1, 0, 4, 1, 3, 8, 2, 0, 0, 1, 1, 1, 2, 0, 8, 0, 40, 38, 4, 27, 4, 0, 11, 13, 1, 11, 4, 37, 18, 74, 7, 22, 9, 10, 6, 6, 9, 0, 0, 0, 0, 2, 1, 1, 0, 9, 3, 4, 20, 1, 27, 0, 0, 18, 0, 0, 0, 0, 0, 0, 0, 1, 0, 1, 1, 0, 1, 0, 1, 0, 1, 0, 0, 0, 0, 0, 1, 0, 0, 0, 1, 0, 0, 0, 0, 0, 0, 0, 2, 4, 0, 0, 1, 1, 0, 0, 0, 0, 0, 0, 0, 0, 0, 0, 0, 1, 0, 0, 0, 0, 0, 0, 0, 1, 0, 0, 1, 0, 0, 0, 0, 0, 0, 2, 0, 0, 0, 0, 0, 0, 0, 0, 0, 0, 0, 1, 0, 1, 0, 1, 0, 0, 0, 2, 0, 6, 0, 1, 0, 0, 6, 1, 1, 4, 2, 1, 4, 2, 4, 1, 3, 1, 4, 0, 1, 1, 0, 0, 5, 0, 0, 0, 3, 0, 2, 1, 0, 1, 3, 1, 8, 0, 3, 5, 4, 8, 3, 3, 7, 2, 1, 1, 6, 0, 0, 0, 0, 1, 3, 0, 0, 2, 5, 0, 4, 3, 0, 0, 0, 10, 0, 0, 0, 0, 0, 4, 0, 1, 4, 10, 5, 0, 0, 7, 1, 8, 0, 3, 4, 32, 23, 5, 0, 48, 10, 68, 7, 3, 12, 1, 0, 8, 0, 2, 0, 0, 1, 0, 0, 1, 0, 0, 0, 0, 1, 0, 0, 2, 4, 0, 2, 28, 15, 7, 0, 0, 3, 0, 0, 2, 3, 1, 0, 1, 0, 0, 0, 0, 32, 11, 8, 35, 17, 12, 0, 0, 0, 0, 0, 0, 0, 11, 2, 3, 0, 2, 0, 14, 1, 7, 9, 1, 0, 0, 0, 4, 5, 7, 0, 0, 4, 10, 1, 51, 3, 44, 6, 10, 203, 1, 0, 0, 0, 0, 6, 2, 10, 6, 8, 12, 13, 5, 10, 0, 1, 27, 14, 2, 17, 10, 10, 67, 22, 2, 1, 1, 0, 0, 0, 7, 1, 0, 0, 0, 0, 0, 0, 1, 0, 1, 0, 0, 0, 0, 0, 0, 0, 0, 0, 0, 0, 0, 0, 0, 0, 1, 0, 1, 0, 0, 0, 1, 0, 0, 0, 0, 0, 0, 0, 1, 0, 0, 2, 0, 1, 0, 1, 0, 0, 0, 1, 0, 0, 0, 0, 0, 0, 0, 0, 0, 0, 0, 0, 1, 0, 0, 0, 2, 0, 0, 0, 8, 0, 0, 0, 1, 0, 0, 0, 0, 0, 1, 0, 0, 0, 1, 0, 0, 0, 0, 0, 1, 0, 1, 1, 0, 1, 0, 0, 1, 0, 0, 2, 0, 0, 0, 0, 2, 0, 1, 0, 1, 1, 4, 4, 7, 5, 0, 0, 1, 2, 0, 0, 0, 0, 1, 0, 1, 0, 0, 1, 0, 1, 1, 4, 1, 3, 0, 1, 0, 1, 0, 0, 0, 2, 0, 0, 0, 0, 0, 0, 0, 0, 1, 1, 0, 0, 0, 1, 0, 0, 0, 0, 1, 0, 1, 0, 0, 0, 0, 0, 2, 1, 0, 0, 0, 0, 0, 1, 0, 0, 1, 0, 0, 0, 0, 0, 0, 0, 0, 0, 0, 0, 0, 0, 0, 0, 0, 0, 0, 0, 0, 0, 0, 1, 0, 1, 0, 0, 0, 0, 0, 0, 0, 0, 1, 0, 0, 1, 0, 0, 0, 1, 0, 1, 0, 0, 0, 0, 0, 0, 1, 1, 0, 0, 0, 0, 1, 0, 0, 5, 0, 0, 3, 0, 2, 2, 0, 0, 0, 0, 1, 0, 1, 0, 0, 0, 0, 0, 6, 0, 1, 5, 1, 0, 2, 5, 0, 1, 0, 1, 0, 5, 0, 0, 3, 7, 0, 11, 0, 0, 12, 0, 0, 2, 4, 3, 1, 2, 0, 0, 0, 2, 0, 1, 16, 0, 0, 0, 0, 0, 0, 0, 0, 0, 0, 0, 0, 5, 0, 0, 0, 0, 6, 0, 0, 17, 4, 1, 30, 1, 2, 32, 4, 10, 5, 0, 1, 15, 24, 16, 1, 0, 10, 0, 106, 10, 2, 2, 0, 1, 0, 0, 0, 1, 2, 0, 0, 1, 0, 1, 0, 0, 0, 1, 0, 15, 1, 0, 0, 0, 0, 1, 0, 0, 0, 0, 0, 0, 0, 2, 2, 0, 1, 2, 3, 0, 0, 1, 0, 26, 0, 2, 0, 0, 0, 1, 8, 0, 0, 2, 0, 1, 4, 2, 3, 6, 0, 97, 4, 0, 3, 10, 1, 1, 6, 2, 4, 2, 72, 0, 9, 1, 12, 1, 11, 36, 19, 22, 1, 0, 0, 0, 2, 4, 2, 0, 0, 6, 35, 2, 9, 7, 7, 6, 4, 19, 0, 0, 0, 0, 0, 0, 1, 2, 0, 2, 0, 0, 27, 0, 0, 0, 0, 0, 1, 0, 0, 3, 16, 11, 1, 2, 0, 0, 4, 1, 9, 10, 94, 0, 1, 0, 2, 0, 14, 1, 5, 4, 3, 1, 24, 7, 44, 10, 8, 12, 0, 12, 4, 0, 0, 0, 0, 0, 0, 0, 0, 0, 0, 0, 1, 4, 1, 0, 2, 0, 0, 0, 0, 0, 0, 0, 1, 0, 3, 0, 0, 0, 0, 6, 1, 0, 1, 2, 0, 0, 1, 3, 1, 0, 0, 0, 0, 0, 0, 1, 0, 1, 0, 0, 0, 0, 0, 0, 0, 0, 1, 0, 0, 0, 0, 1, 0, 1, 0, 0, 0, 0, 0, 0, 0, 0, 0, 0, 0, 0, 1, 1, 0, 1, 0, 0, 0, 0, 0, 0, 0, 0, 1, 21, 7, 0, 14, 40, 2, 0, 0, 0, 0, 0, 1, 1, 0, 1, 3, 8, 0, 0, 0, 5, 0, 0, 0, 1, 3, 1, 2, 0, 2, 3, 1, 0, 11, 0, 0, 0, 0, 0, 16, 0, 0, 37, 7, 1, 6, 5, 0, 1, 6, 1, 10, 25, 20, 7, 0, 3, 8, 6, 14, 19, 9, 77, 13, 36, 32, 47, 15, 33, 25, 25, 8, 1, 3, 16, 60, 19, 12, 20, 6, 5, 4, 13, 1, 13, 13, 0, 0, 0, 0, 0, 0, 0, 0, 0, 1, 0, 0, 6, 1, 0, 0, 0, 1, 0, 2, 0, 2, 44, 0, 5, 1, 3, 34, 1, 7, 3, 6, 12, 0, 2, 4, 5, 0, 12, 0, 1, 0, 0, 0, 1, 12, 0, 1, 3, 0, 3, 1, 10, 9, 18, 1, 0, 0, 0, 1, 0, 0, 0, 0, 0, 0, 0, 0, 0, 1, 0, 1, 0, 0, 0, 1, 0, 0, 0, 1, 2, 0, 0, 1, 1, 0, 0, 0, 1, 0, 1, 1, 0, 0, 0, 0, 0, 1, 0, 0, 0, 0, 0, 0, 0, 0, 1, 0, 0, 0, 0, 0, 0, 0, 0, 9, 0, 1, 0, 0, 1, 0, 1, 4, 2, 1, 0, 0, 3, 4, 0, 1, 0, 9, 0, 0, 5, 3, 0, 1, 2, 1, 2, 3, 6, 0, 0, 5, 0, 3, 5, 11, 0, 0, 0, 5, 1, 0, 1, 0, 0, 0, 4, 9, 5, 0, 0, 1, 1, 0, 8, 0, 2, 0, 15, 0, 0, 0, 0, 1, 0, 0, 0, 0, 0, 0, 0, 1, 0, 0, 23, 0, 1, 0, 0, 0, 0, 1, 0, 0, 0, 0, 0, 0, 4, 2, 0, 0, 0, 0, 0, 0, 1, 0, 0, 0, 2, 1, 0, 1, 2, 1, 1, 12, 0, 0, 4, 0, 10, 3, 36, 0, 0, 0, 0, 6, 0, 0, 0, 1, 1, 0, 2, 3, 0, 1, 9, 0, 0, 0, 0, 0, 0, 20, 0, 0, 0, 1, 0, 0, 0, 0, 0, 0, 0, 0, 0, 1, 0, 1, 0, 0, 0, 0, 0, 0, 0, 0, 0, 2, 0, 0, 0, 0, 0, 0, 0, 0, 0, 0, 0, 0, 0, 0, 4, 0, 0, 0, 0, 1, 0, 0, 0, 0, 0, 0, 0, 0, 0, 0, 0, 1, 1, 1, 0, 8, 0, 2, 14, 0, 1, 2, 27, 8, 2, 1, 5, 0, 0, 6, 33, 12, 18, 47, 13, 0, 2, 63, 19, 0, 3, 2, 19, 9, 1, 5, 3, 1, 7, 10, 53, 17, 25, 8, 21, 0, 3, 5, 72, 39, 4, 0, 54, 7, 0, 7, 18, 3, 18, 3, 24, 1, 33, 38, 1, 23, 6, 5, 1, 66, 3, 5, 45, 11, 15, 43, 24, 2, 9, 78, 9, 48, 4, 12, 18, 20, 19, 20, 0, 7, 1, 17, 7, 37, 100, 7, 49, 26, 26, 4, 38, 10, 23, 5, 27, 3, 13, 66, 5, 55, 55, 1, 11, 0, 1, 0, 1, 4, 0, 1, 0, 0, 2, 2, 0, 11, 0, 9, 2, 0, 1, 2, 8, 0, 1, 0, 2, 4, 7, 4, 28, 0, 1, 0, 0, 0, 0, 1, 0, 1, 0, 1, 0, 1, 0, 1, 0, 0, 0, 0, 0, 0, 0, 0, 0, 2, 0, 1, 0, 0, 0, 1, 3, 1, 1, 0, 2, 0, 6, 8, 0, 0, 0, 1, 0, 0, 2, 0, 1, 3, 15, 4, 0, 2, 3, 1, 0, 0, 0, 0, 1, 0, 0, 0, 3, 0, 6, 0, 0, 8, 3, 0, 0, 1, 1, 2, 1, 0, 0, 0, 7, 6, 0, 4, 7, 0, 12, 5, 6, 2, 16, 16, 4, 9, 1, 0, 0, 22, 1, 9, 15, 1, 0, 6, 71, 0, 0, 1, 1, 5, 0, 0, 0, 1, 0, 0, 0, 3, 2, 0, 6, 1, 0, 0, 0, 0, 0, 0, 0, 0, 2, 4, 20, 0, 0, 1, 0, 4, 0, 1, 0, 0, 10, 4, 0, 3, 1, 0, 0, 4, 1, 0, 0, 2, 0, 0, 0, 1, 0, 0, 0, 1, 1, 0, 0, 0, 0, 0, 0, 1, 0, 0, 0, 0, 0, 0, 0, 0, 0, 0, 0, 0, 0, 0, 0, 0, 0, 2, 1, 0, 0, 0, 0, 1, 0, 0, 2, 0, 0, 0, 0, 0, 0, 0, 0, 0, 0, 0, 0, 0, 0, 1, 1, 0, 1, 0, 0, 1, 1, 0, 1, 0, 0, 0, 2, 0, 2, 1, 0, 3, 0, 6, 4, 1, 1, 1, 7, 1, 0, 0, 0, 1, 0, 40, 41, 4, 4, 4, 0, 0, 0, 0, 0, 2, 0, 0, 16, 2, 3, 34, 3, 66, 10, 75, 108, 8, 12, 7, 0, 0, 0, 0, 0, 3, 0, 5, 3, 1, 2, 1, 1, 7, 9, 8, 2, 7, 12, 60, 29, 17, 43, 5, 5, 60, 8, 28, 0, 0, 43, 0, 0, 0, 0, 0, 0, 13, 0, 3, 1, 1, 3, 0, 0, 6, 0, 11, 12, 7, 0, 3, 0, 0, 0, 0, 1, 21, 0, 0, 22, 1, 1, 36, 8, 6, 32, 6, 2, 19, 1, 2, 2, 0, 1, 2, 3, 1, 50, 0, 4, 7, 0, 8, 0, 0, 0, 15, 0, 0, 0, 44, 0, 0, 2, 0, 1, 4, 4, 0, 3, 3, 0, 0, 3, 4, 0, 0, 0, 0, 1, 0, 0, 0, 0, 0, 0, 0, 0, 0, 1, 0, 0, 0, 0, 0, 1, 0, 0, 0, 0, 0, 0, 0, 0, 0, 0, 0, 0, 0, 0, 0, 0, 0, 0, 2, 2, 1, 4, 4, 0, 3, 3, 4, 0, 2, 1, 0, 10, 4, 0, 1, 0, 1, 0, 0, 0, 1, 2, 3, 2, 1, 0, 0, 1, 0, 3, 1, 0, 5, 2, 0, 1, 7, 1, 12, 2, 14, 0, 0, 1, 2, 9, 2, 89, 19, 5, 12, 22, 22, 9, 16, 2, 7, 69, 12, 2, 0, 1, 0, 19, 23, 0, 0, 3, 1, 14, 10, 7, 4, 1, 3, 71, 18, 5, 0, 6, 20, 1, 1, 8, 1, 17, 0, 1, 2, 0, 3, 0, 10, 3, 6, 9, 3, 2, 0, 1, 0, 11, 0, 0, 0, 0, 0, 0, 0, 2, 1, 4, 0, 0, 0, 1, 0, 7, 0, 3, 1, 0, 1, 3, 7, 5, 1, 1, 1, 0, 2, 1, 4, 2, 3, 1, 0, 15, 0, 0, 0, 17, 4, 7, 12, 8, 0, 0, 4, 5, 1, 0, 0, 0, 45, 0, 0, 0, 0, 0, 1, 0, 0, 0, 0, 0, 0, 4, 0, 2, 3, 0, 2, 3, 0, 0, 1, 10, 3, 1, 0, 0, 0, 0, 0, 0, 0, 2, 0, 3, 0, 0, 0, 0, 0, 0, 0, 1, 2, 2, 1, 0, 0, 0, 0, 1, 1, 2, 1, 0, 1, 5, 0, 4, 1, 0, 1, 4, 0, 28, 11, 0, 0, 0, 0, 1, 0, 0, 0, 0, 0, 1, 0, 0, 0, 0, 0, 1, 0, 0, 0, 0, 0, 0, 0, 0, 2, 0, 1, 0, 0, 0, 0, 0, 0, 0, 1, 0, 1, 0, 0, 0, 0, 0, 0, 7, 4, 9, 0, 0, 0, 2, 4, 2, 0, 0, 0, 3, 8, 27, 0, 9, 1, 11, 0, 0, 1, 5, 10, 2, 15, 11, 9, 11, 0, 0, 1, 0, 1, 3, 4, 0, 0, 0, 0, 0, 0, 0, 1, 0, 0, 0, 0, 0, 1, 1, 0, 0, 0, 0, 0, 1, 1, 0, 0, 0, 1, 0, 0, 0, 0, 0, 1, 0, 0, 0, 0, 0, 1, 0, 0, 0, 0, 0, 0, 1, 0, 0, 0, 0, 0, 0, 0, 0, 0, 0, 0, 0, 0, 1, 1, 1, 0, 0, 0, 0, 0, 0, 0, 0, 0, 0, 0, 0, 1, 0, 0, 0, 0, 0, 0, 0, 1, 0, 0, 0, 1, 0, 0, 0, 0, 0, 34, 0, 0, 0, 1, 0, 0, 0, 16, 0, 0, 1, 1, 8, 5, 0, 6, 2, 0, 1, 4, 0, 0, 3, 2, 2, 0, 0, 7, 0, 2, 0, 2, 0, 3, 2, 0, 6, 2, 0, 6, 8, 3, 19, 0, 1, 6, 6, 0, 0, 3, 3, 0, 1, 0, 3, 7, 9, 4, 0, 0, 0, 4, 1, 6, 5, 11, 0, 5, 3, 1, 0, 12, 0, 0, 29, 0, 0, 0, 0, 0, 0, 0, 0, 0, 0, 1, 11, 4, 2, 3, 0, 0, 2, 0, 0, 5, 2, 1, 6, 0, 1, 0, 0, 0, 0, 0, 0, 0, 0, 0, 1, 1, 0, 0, 0, 0, 2, 1, 0, 3, 14, 0, 1, 2, 2, 3, 2, 2, 1, 22, 6, 6, 13, 1, 0, 3, 6, 5, 17, 2, 2, 0, 5, 19, 0, 42, 5, 3, 13, 4, 8, 5, 0, 18, 32, 22, 4, 5, 2, 3, 3, 1, 0, 0, 1, 0, 8, 0, 0, 0, 0, 0, 0, 0, 0, 0, 0, 1, 1, 0, 1, 1, 0, 3, 0, 0, 0, 0, 0, 0, 7, 1, 1, 1, 0, 1, 1, 1, 0, 1, 1, 0, 1, 2, 3, 0, 0, 1, 1, 0, 0, 4, 3, 2, 4, 1, 4, 0, 0, 0, 6, 0, 14, 3, 6, 1, 0, 5, 0, 5, 0, 2, 1, 1, 3, 0, 0, 1, 0, 0, 0, 0, 0, 19, 5, 2, 3, 0, 37, 0, 2, 1, 1, 0, 0, 0, 0, 0, 9, 0, 0, 0, 0, 0, 2, 1, 0, 1, 5, 0, 0, 2, 1, 0, 3, 1, 0, 1, 3, 2, 0, 1, 0, 1, 0, 45, 2, 34, 13, 12, 6, 5, 48, 0, 0, 1, 0, 0, 1, 1, 0, 0, 0, 0, 0, 0, 1, 1, 0, 7, 5, 0, 0, 0, 1, 2, 0, 0, 0, 0, 0, 0, 7, 3, 16, 13, 0, 1, 0, 8, 0, 0, 0, 0, 0, 1, 0, 0, 1, 1, 0, 0, 2, 18, 0, 2, 4, 3, 1, 4, 4, 0, 8, 6, 1, 10, 3, 1, 7, 2, 1, 4, 5, 11, 4, 15, 9, 11, 4, 25, 4, 7, 7, 4, 0, 40, 0, 0, 36, 27, 7, 2, 17, 16, 3, 3, 5, 11, 14, 25, 129, 23, 0, 16, 1, 17, 9, 2, 1, 4, 14, 78, 2, 1, 15, 21, 6, 2, 7, 2, 6, 3, 13, 11, 4, 19, 4, 103, 14, 17, 25, 11, 32, 6, 17, 38, 6, 177, 1, 131, 1, 3, 0, 0, 0, 0, 1, 0, 11, 3, 10, 2, 2, 8, 36, 103, 18, 23, 28, 2, 0, 1, 0, 0, 0, 1, 0, 2, 0, 0, 4, 0, 0, 3, 0, 0, 0, 0, 0, 0, 0, 0, 0, 0, 1, 0, 0, 0, 0, 2, 1, 3, 0, 30, 5, 2, 0, 11, 2, 0, 0, 0, 6, 7, 3, 1, 0, 0, 1, 2, 0, 21, 6, 0, 0, 0, 0, 0, 0, 0, 6, 0, 4, 0, 9, 23, 8, 0, 0, 1, 0, 0, 0, 0, 0, 1, 2, 0, 6, 1, 0, 25, 0, 0, 0, 0, 0, 0, 1, 0, 0, 1, 0, 0, 0, 0, 0, 0, 0, 0, 0, 0, 0, 3, 0, 0, 0, 2, 3, 4, 0, 0, 136, 0, 2, 0, 6, 0, 1, 0, 0, 1, 0, 0, 1, 1, 1, 0, 0, 1, 0, 1, 1, 0, 0, 0, 0, 0, 0, 0, 0, 0, 0, 1, 4, 1, 1, 32, 1, 0, 1, 0, 1, 1, 5, 1, 3, 15, 0, 0, 8, 1, 0, 0, 6, 1, 0, 5, 0, 2, 65, 0, 8, 2, 0, 14, 10, 11, 4, 0, 1, 0, 22, 4, 8, 58, 2, 0, 4, 4, 60, 1, 20, 2, 1, 2, 3, 9, 24, 20, 22, 3, 4, 0, 4, 0, 1, 1, 8, 3, 0, 0, 0, 3, 5, 0, 0, 1, 0, 0, 0, 2, 0, 1, 0, 1, 0, 6, 0, 0, 0, 0, 0, 4, 0, 0, 1, 1, 0, 0, 0, 0, 0, 2, 0, 1, 2, 0, 0, 0, 0, 0, 0, 1, 0, 1, 0, 0, 0, 0, 0, 1, 0, 1, 5, 3, 4, 0, 0, 0, 0, 0, 0, 0, 0, 6, 0, 0, 0, 1, 0, 0, 1, 0, 1, 3, 0, 0, 4, 6, 0, 2, 0, 0, 0, 0, 0, 0, 1, 0, 20, 2, 1, 1, 11, 0, 11, 0, 0, 1, 2, 0, 0, 51, 1, 6, 9, 0, 14, 2, 12, 54, 3, 2, 1, 5, 20, 24, 14, 11, 5, 2, 20, 29, 44, 18, 18, 0, 0, 0, 5, 8, 0, 0, 0, 0, 4, 3, 1, 0, 1, 0, 0, 0, 0, 0, 5, 0, 1, 1, 7, 6, 16, 0, 3, 1, 2, 0, 0, 0, 0, 0, 1, 0, 3, 24, 2, 12, 0, 0, 0, 25, 36, 1, 0, 3, 9, 3, 12, 18, 17, 11, 14, 10, 8, 34, 18, 1, 0, 1, 12, 8, 4, 9, 3, 0, 0, 0, 0, 0, 0, 0, 0, 0, 2, 6, 0, 0, 0, 0, 0, 0, 2, 0, 0, 4, 1, 8, 0, 0, 4, 10, 4, 1, 7, 3, 0, 1, 0, 0, 26, 26, 7, 9, 2, 0, 0, 1, 3, 1, 12, 1, 2, 3, 2, 20, 2, 0, 0, 0, 1, 0, 0, 0, 0, 0, 0, 0, 2, 1, 1, 6, 2, 2, 0, 0, 1, 5, 5, 0, 3, 2, 21, 4, 8, 15, 8, 1, 0, 6, 0, 23, 4, 4, 0, 0, 1, 3, 0, 0, 0, 0, 0, 3, 3, 1, 1, 3, 8, 1, 0, 0, 0, 0, 0, 0, 0, 0, 0, 0, 0, 3, 0, 0, 0, 1, 3, 0, 0, 5, 0, 3, 0, 4, 0, 3, 14, 1, 7, 1, 12, 14, 2, 25, 3, 10, 16, 24, 7, 9, 3, 6, 6, 0, 6, 21, 4, 1, 0, 0, 3, 5, 13, 4, 0, 68, 4, 1, 13, 25, 0, 0, 0, 0, 0, 0, 0, 0, 0, 1, 0, 1, 1, 1, 1, 2, 1, 0, 4, 22, 44, 4, 18, 6, 0, 1, 3, 0, 3, 24, 9, 12, 29, 0, 36, 18, 11, 33, 40, 6, 7, 27, 7, 42, 26, 22, 32, 1, 6, 35, 6, 17, 17, 54, 37, 68, 17, 32, 18, 18, 224, 6, 1, 0, 0, 0, 0, 0, 0, 0, 0, 0, 0, 1, 1, 0, 0, 0, 0, 0, 1, 0, 0, 0, 0, 0, 0, 0, 3, 0, 0, 0, 5, 0, 0, 0, 0, 0, 0, 0, 0, 10, 5, 0, 6, 0, 2, 1, 2, 22, 0, 1, 1, 1, 0, 7, 0, 1, 4, 2, 1, 7, 1, 1, 1, 0, 0, 6, 4, 3, 2, 0, 0, 0, 2, 1, 11, 2, 0, 3, 0, 7, 1, 1, 6, 7, 4, 3, 5, 56, 8, 9, 2, 2, 0, 0, 0, 1, 0, 2, 1, 3, 1, 1, 3, 0, 0, 1, 2, 29, 5, 1, 0, 1, 1, 0, 1, 0, 0, 0, 5, 0, 0, 1, 1, 14, 0, 8, 0, 1, 11, 1, 4, 7, 9, 10, 5, 13, 29, 5, 26, 44, 3, 0, 0, 1, 0, 0, 0, 0, 0, 0, 0, 0, 0, 0, 1, 0, 0, 0, 0, 1, 1, 0, 0, 0, 0, 0, 0, 0, 4, 0, 3, 0, 0, 0, 3, 1, 0, 0, 0, 0, 1, 1, 2, 0, 0, 0, 0, 1, 0, 0, 0, 0, 0, 0, 1, 0, 1, 2, 1, 0, 2, 2, 3, 6, 0, 0, 8, 0, 0, 2, 0, 0, 0, 3, 0, 0, 0, 0, 0, 1, 1, 1, 0, 0, 0, 0, 0, 1, 0, 0, 0, 0, 0, 0, 0, 3, 0, 0, 7, 0, 0, 0, 1, 0, 93, 0, 3, 0, 0, 0, 1, 0, 0, 2, 3, 0, 1, 18, 17, 0, 1, 1, 4, 4, 3, 3, 10, 3, 12, 12, 62, 14, 6, 18, 3, 17, 0, 0, 0, 1, 0, 0, 12, 3, 0, 0, 6, 6, 1, 0, 1, 1, 0, 10, 28, 0, 0, 22, 4, 12, 1, 31, 23, 32, 0, 3, 0, 1, 4, 0, 2, 0, 2, 2, 0, 6, 3, 22, 2, 7, 1, 0, 8, 1, 0, 5, 17, 3, 8, 10, 17, 4, 16, 5, 31, 7, 1, 5, 8, 2, 7, 14, 3, 8, 2, 0, 7, 0, 0, 0, 0, 0, 0, 6, 4, 4, 6, 4, 0, 4, 0, 5, 6, 0, 1, 0, 0, 0, 11, 0, 2, 1, 1, 0, 0, 2, 2, 0, 0, 0, 0, 12, 1, 1, 2, 6, 1, 0, 5, 0, 0, 0, 2, 1, 2, 0, 1, 1, 0, 0, 2, 1, 0, 0, 1, 1, 0, 0, 0, 0, 0, 0, 0, 0, 0, 0, 0, 0, 0, 0, 0, 0, 0, 3, 1, 0, 6, 0, 2, 1, 1, 0, 3, 0, 1, 0, 0, 0, 0, 6, 0, 0, 1, 1, 3, 0, 1, 26, 3, 2, 1, 0, 2, 1, 1, 2, 4, 8, 0, 0, 2, 2, 0, 1, 8, 0, 3, 11, 1, 7, 0, 0, 33, 14, 15, 20, 5, 33, 19, 38, 8, 11, 7, 3, 24, 9, 1, 12, 1, 0, 7, 0, 0, 0, 2, 0, 0, 0, 3, 4, 0, 2, 3, 0, 0, 11, 1, 2, 32, 4, 0, 0, 1, 0, 0, 1, 2, 0, 2, 4, 0, 0, 0, 0, 1, 0, 0, 2, 1, 4, 0, 1, 3, 3, 0, 0, 3, 3, 2, 1, 0, 0, 0, 0, 20, 0, 3, 12, 8, 6, 45, 10, 32, 9, 9, 42, 8, 24, 7, 14, 5, 0, 0, 19, 8, 3, 0, 0, 0, 0, 1, 2, 1, 2, 1, 4, 0, 0, 0, 0, 2, 3, 0, 0, 1, 0, 0, 0, 1, 5, 1, 0, 0, 1, 1, 1, 4, 9, 1, 12, 100, 2, 13, 27, 51, 0, 0, 1, 10, 2, 0, 0, 1, 0, 2, 5, 2, 1, 0, 4, 8, 4, 0, 0, 0, 0, 0, 1, 0, 1, 0, 1, 0, 3, 7, 1, 19, 1, 0, 1, 1, 0, 3, 0, 4, 1, 1, 2, 0, 0, 8, 0, 2, 1, 0, 8, 0, 0, 0, 0, 1, 0, 0, 0, 0, 0, 2, 1, 5, 0, 1, 0, 1, 0, 0, 0, 0, 3, 1, 0, 3, 3, 9, 6, 4, 0, 8, 4, 1, 2, 1, 2, 3, 1, 1, 0, 0, 2, 0, 0, 0, 0, 0, 3, 1, 1, 0, 92, 0, 14, 0, 0, 1, 0, 0, 0, 0, 0, 1, 0, 0, 3, 0, 10, 1, 3, 2, 0, 2, 1, 14, 2, 3, 0, 0, 1, 20, 8, 0, 2, 3, 0, 0, 24, 15, 9, 0, 0, 0, 0, 0, 1, 0, 0, 0, 0, 0, 0, 1, 3, 1, 2, 0, 0, 0, 3, 2, 6, 4, 0, 4, 3, 1, 7, 1, 0, 4, 8, 24, 44, 6, 0, 38, 12, 32, 6, 1, 2, 59, 4, 6, 0, 1, 0, 0, 0, 1, 0, 7, 3, 1, 23, 0, 0, 1, 0, 0, 0, 0, 0, 7, 1, 0, 1, 11, 0, 1, 0, 2, 3, 0, 14, 0, 1, 0, 0, 0, 0, 0, 5, 21, 16, 5, 0, 0, 0, 0, 0, 0, 0, 1, 2, 0, 0, 4, 17, 0, 0, 5, 1, 1, 4, 0, 1, 6, 2, 0, 0, 1, 0, 0, 0, 0, 0, 0, 8, 0, 1, 0, 1, 0, 0, 0, 1, 0, 1, 0, 1, 0, 0, 3, 1, 2, 14, 0, 3, 1, 0, 2, 2, 0, 2, 0, 0, 0, 0, 1, 4, 0, 4, 1, 1, 17, 2, 6, 1, 45, 0, 0, 4, 0, 0, 1, 2, 17, 0, 0, 0, 3, 1, 0, 19, 31, 0, 22, 1, 1, 0, 0, 0, 3, 1, 0, 2, 0, 36, 0, 0, 1, 1, 0, 0, 0, 3, 0, 0, 4, 0, 0, 0, 7, 3, 24, 1, 7, 0, 20, 4, 1, 3, 130, 12, 2, 3, 0, 2, 7, 22, 0, 5, 3, 5, 34, 4, 30, 18, 14, 1, 6, 6, 18, 6, 33, 0, 6, 24, 35, 53, 0, 0, 0, 6, 2, 0, 0, 19, 4, 17, 0, 0, 1, 18, 1, 3, 5, 6, 0, 7, 5, 2, 15, 13, 2, 48, 1, 0, 12, 23, 0, 0, 0, 0, 1, 129, 1, 0, 7, 13, 7, 42, 4, 10, 0, 0, 1, 4, 0, 2, 0, 0, 0, 0, 1, 0, 11, 0, 0, 0, 0, 1, 1, 0, 0, 0, 0, 0, 0, 0, 0, 0, 0, 0, 10, 0, 0, 0, 1, 2, 0, 0, 1, 17, 1, 0, 9, 3, 1, 2, 10, 2, 0, 0, 7, 1, 0, 0, 0, 8, 3, 3, 0, 2, 12, 0, 0, 1, 0, 5, 3, 1, 0, 1, 7, 13, 12, 12, 1, 9, 11, 0, 5, 48, 5, 0, 0, 10, 0, 129, 0, 7, 3, 2, 3, 0, 5, 0, 0, 1, 3, 0, 3, 0, 10, 1, 22, 2, 0, 2, 0, 0, 4, 1, 0, 0, 6, 1, 3, 0, 0, 0, 1, 0, 0, 0, 0, 0, 0, 0, 0, 0, 0, 0, 0, 0, 0, 0, 1, 0, 0, 0, 0, 0, 0, 0, 0, 0, 0, 0, 0, 0, 3, 0, 1, 0, 1, 0, 0, 2, 0, 0, 0, 1, 0, 0, 0, 1, 0, 0, 0, 0, 0, 0, 0, 0, 0, 0, 0, 1, 1, 0, 1, 0, 6, 0, 0, 1, 2, 4, 1, 0, 0, 0, 3, 3, 0, 0, 13, 6, 4, 4, 0, 0, 13, 29, 27, 17, 48, 8, 27, 10, 9, 2, 0, 2, 0, 0, 0, 0, 1, 0, 8, 6, 0, 2, 0, 0, 0, 0, 0, 0, 2, 0, 0, 14, 9, 9, 27, 3, 0, 0, 1, 1, 1, 1, 0, 0, 2, 2, 0, 0, 1, 0, 0, 0, 0, 1, 0, 0, 0, 0, 0, 0, 1, 0, 2, 0, 0, 1, 0, 0, 1, 0, 0, 4, 2, 2, 17, 2, 4, 2, 2, 5, 18, 21, 0, 18, 3, 6, 16, 0, 10, 4, 1, 0, 0, 0, 1, 3, 8, 2, 0, 0, 0, 2, 8, 0, 1, 3, 1, 4, 0, 0, 10, 0, 0, 4, 0, 3, 0, 0, 0, 45, 0, 0, 5, 2, 1, 2, 0, 0, 0, 0, 1, 0, 0, 0, 0, 0, 1, 0, 0, 2, 0, 0, 0, 0, 0, 6, 1, 5, 1, 0, 0, 0, 0, 0, 0, 0, 0, 0, 0, 15, 0, 3, 1, 0, 1, 0, 0, 7, 1, 0, 0, 0, 6, 3, 0, 1, 11, 6, 5, 13, 0, 9, 5, 4, 4, 16, 2, 6, 6, 11, 2, 12, 15, 2, 3, 94, 9, 10, 19, 21, 8, 41, 4, 14, 6, 8, 1, 6, 30, 12, 33, 1, 17, 0, 1, 2, 28, 7, 1, 69, 13, 26, 11, 2, 18, 8, 4, 41, 47, 14, 0, 0, 9, 0, 0, 3, 2, 0, 6, 2, 12, 35, 87, 0, 0, 19, 1, 1, 3, 24, 13, 0, 0, 0, 0, 0, 1, 0, 0, 1, 0, 0, 0, 3, 0, 6, 2, 2, 7, 0, 10, 6, 0, 0, 0, 0, 2, 0, 0, 1, 0, 2, 0, 0, 0, 0, 0, 0, 1, 0, 1, 0, 1, 0, 0, 0, 0, 5, 0, 0, 0, 0, 0, 0, 0, 0, 1, 0, 0, 0, 1, 0, 2, 0, 1, 0, 1, 9, 3, 3, 11, 0, 1, 2, 3, 1, 10, 9, 3, 0, 31, 15, 8, 1, 10, 0, 0, 0, 0, 0, 0, 0, 1, 0, 0, 3, 9, 0, 0, 0, 0, 0, 0, 0, 0, 0, 0, 0, 1, 6, 1, 0, 1, 0, 1, 0, 0, 0, 0, 0, 14, 0, 0, 1, 1, 1, 0, 0, 0, 0, 26, 47, 2, 13, 0, 38, 7, 1, 3, 1, 1, 7, 0, 0, 2, 25, 33, 0, 1, 36, 1, 0, 33, 6, 22, 0, 0, 0, 0, 0, 0, 0, 10, 0, 0, 0, 0, 1, 3, 0, 1, 0, 1, 0, 0, 0, 0, 0, 0, 0, 0, 1, 0, 0, 0, 4, 1, 0, 0, 1, 0, 0, 1, 0, 0, 0, 0, 0, 0, 1, 24, 0, 0, 0, 23, 0, 1, 0, 0, 0, 1, 68, 1, 11, 7, 0, 2, 0, 0, 2, 1, 0, 5, 4, 2, 4, 0, 4, 0, 0, 3, 0, 0, 1, 6, 0, 0, 0, 12, 14, 0, 3, 3, 48, 4, 0, 0, 7, 0, 1, 0, 2, 64, 28, 0, 6, 0, 0, 1, 0, 1, 10, 0, 3, 1, 23, 32, 5, 0, 0, 1, 0, 0, 0, 0, 0, 0, 0, 0, 0, 3, 0, 1, 7, 1, 2, 2, 0, 83, 11, 57, 9, 0, 0, 11, 7, 1, 1, 0, 0, 0, 0, 4, 1, 5, 0, 1, 0, 1, 11, 1, 7, 2, 0, 1, 0, 1, 7, 1, 0, 0, 0, 1, 5, 0, 1, 0, 0, 1, 1, 0, 0, 17, 4, 0, 2, 24, 3, 6, 1, 0, 41, 0, 1, 0, 0, 0, 9, 0, 0, 1, 0, 1, 0, 2, 0, 2, 1, 0, 1, 1, 1, 2, 0, 6, 1, 0, 3, 5, 2, 9, 0, 35, 14, 2, 1, 0, 0, 21, 0, 0, 10, 1, 3, 0, 21, 17, 1, 10, 0, 1, 2, 1, 0, 0, 12, 1, 0, 0, 0, 0, 0, 4, 6, 0, 2, 2, 0, 0, 0, 0, 0, 5, 3, 5, 0, 0, 0, 0, 0, 0, 1, 0, 0, 1, 0, 0, 0, 0, 0, 0, 0, 1, 4, 0, 0, 2, 0, 0, 0, 1, 0, 0, 1, 0, 0, 0, 1, 0, 0, 0, 1, 1, 0, 0, 4, 0, 1, 0, 0, 2, 0, 0, 0, 0, 1, 0, 1, 0, 0, 0, 0, 0, 0, 0, 2, 0, 1, 0, 0, 0, 0, 0, 0, 1, 0, 0, 0, 0, 0, 1, 0, 0, 1, 0, 3, 0, 0, 2, 4, 0, 3, 0, 2, 3, 2, 0, 6, 2, 2, 0, 0, 0, 19, 0, 0, 4, 1, 7, 0, 4, 4, 0, 8, 3, 1, 1, 7, 1, 22, 0, 0, 0, 3, 0, 6, 0, 0, 0, 0, 7, 0, 0, 0, 1, 1, 0, 2, 4, 7, 8, 2, 1, 0, 1, 22, 1, 0, 1, 0, 0, 0, 0, 0, 0, 0, 0, 0, 0, 0, 1, 1, 0, 0, 0, 10, 0, 0, 0, 0, 0, 0, 0, 0, 2, 0, 0, 1, 0, 1, 0, 0, 1, 0, 6, 0, 0, 2, 4, 6, 0, 0, 1, 0, 0, 0, 0, 6, 1, 2, 8, 9, 0, 1, 0, 0, 0, 1, 0, 0, 0, 0, 0, 0, 0, 12, 0, 1, 2, 1, 0, 1, 0, 3, 0, 5, 0, 0, 0, 0, 0, 1, 1, 0, 2, 0, 6, 5, 11, 1, 12, 1, 1, 32, 0, 1, 6, 0, 2, 7, 2, 1, 44, 23, 1, 0, 0, 63, 21, 1, 0, 0, 23, 4, 4, 8, 10, 34, 2, 2, 16, 0, 5, 19, 0, 0, 3, 0, 0, 0, 0, 1, 0, 0, 0, 0, 1, 0, 1, 1, 2, 6, 2, 4, 0, 3, 17, 6, 0, 1, 0, 0, 0, 0, 1, 32, 0, 4, 0, 0, 0, 0, 0, 0, 32, 4, 1, 1, 0, 14, 3, 12, 73, 9, 1, 1, 0, 0, 6, 0, 1, 2, 1, 1, 0, 0, 0, 1, 2, 5, 1, 2, 16, 0, 4, 0, 19, 0, 7, 0, 3, 0, 5, 0, 4, 5, 19, 1, 19, 12, 10, 1, 1, 0, 1, 2, 1, 0, 1, 0, 0, 0, 0, 0, 0, 0, 0, 1, 0, 0, 1, 0, 0, 0, 0, 12, 8, 2, 0, 0, 0, 22, 0, 0, 0, 3, 0, 19, 0, 4, 4, 15, 3, 1, 26, 2, 3, 1, 21, 2, 0, 1, 3, 1, 1, 2, 1, 0, 1, 1, 0, 0, 0, 5, 5, 0, 0, 0, 0, 1, 0, 0, 6, 0, 3, 1, 1, 0, 0, 2, 0, 0, 5, 3, 1, 1, 4, 3, 7, 0, 1, 2, 4, 0, 0, 17, 0, 1, 5, 22, 0, 0, 1, 0, 1, 0, 0, 0, 0, 0, 0, 0, 1, 0, 1, 0, 0, 1, 1, 0, 1, 1, 2, 0, 0, 1, 0, 0, 0, 0, 0, 0, 0, 0, 0, 0, 0, 0, 0, 0, 1, 0, 0, 8, 4, 5, 3, 5, 0, 0, 3, 0, 0, 5, 6, 7, 16, 0, 4, 2, 4, 0, 0, 0, 0, 0, 0, 0, 0, 0, 0, 4, 1, 0, 0, 2, 0, 0, 0, 2, 0, 0, 0, 0, 33, 0, 1, 0, 0, 11, 0, 0, 3, 11, 10, 4, 2, 25, 13, 4, 20, 106, 32, 1, 5, 46, 14, 8, 0, 0, 0, 1, 0, 0, 1, 1, 0, 1, 2, 2, 0, 0, 0, 0, 0, 1, 0, 0, 0, 0, 0, 0, 0, 0, 3, 1, 1, 0, 0, 0, 2, 0, 0, 0, 1, 0, 0, 2, 1, 0, 0, 1, 0, 0, 0, 0, 0, 0, 0, 0, 0, 0, 0, 9, 0, 0, 0, 1, 0, 0, 1, 2, 0, 0, 1, 1, 0, 8, 4, 6, 0, 0, 0, 0, 2, 0, 3, 7, 2, 0, 9, 1, 9, 10, 0, 0, 0, 0, 0, 75, 1, 0, 0, 0, 0, 5, 0, 0, 1, 2, 0, 0, 0, 6, 0, 0, 0, 0, 1, 0, 0, 0, 0, 2, 6, 0, 2, 1, 0, 0, 1, 0, 5, 1, 0, 0, 0, 1, 1, 10, 2, 5, 8, 0, 5, 2, 2, 2, 4, 0, 1, 8, 1, 1, 1, 7, 23, 0, 1, 22, 10, 20, 15, 1, 24, 0, 3, 1, 14, 3, 3, 7, 14, 0, 0, 1, 0, 9, 1, 0, 1, 37, 23, 10, 57, 19, 7, 1, 0, 4, 1, 3, 1, 2, 19, 0, 0, 0, 1, 2, 7, 8, 0, 25, 1, 2, 0, 2, 0, 0, 0, 1, 0, 0, 0, 38, 0, 1, 0, 0, 0, 0, 0, 0, 1, 0, 0, 0, 1, 0, 0, 3, 1, 3, 3, 11, 0, 1, 7, 28, 0, 1, 2, 0, 0, 0, 1, 1, 0, 0, 6, 1, 0, 0, 2, 1, 4, 4, 0, 24, 4, 1, 0, 0, 3, 1, 47, 1, 1, 3, 3, 0, 0, 17, 0, 0, 0, 0, 0, 0, 0, 0, 0, 0, 1, 0, 0, 0, 1, 0, 0, 0, 2, 0, 0, 1, 0, 0, 1, 0, 3, 0, 0, 0, 0, 0, 2, 1, 1, 0, 0, 0, 0, 4, 0, 2, 0, 0, 2, 0, 0, 4, 1, 1, 55, 0, 0, 1, 0, 0, 0, 2, 5, 16, 4, 48, 1, 34, 1, 0, 1, 2, 0, 0, 0, 0, 0, 3, 0, 0, 0, 0, 0, 0, 0, 0, 0, 0, 0, 2, 0, 0, 0, 0, 0, 0, 0, 0, 0, 0, 0, 0, 0, 0, 0, 1, 1, 0, 0, 1, 0, 0, 0, 0, 0, 0, 14, 1, 0, 0, 5, 0, 4, 3, 0, 25, 0, 3, 0, 0, 11, 0, 0, 10, 0, 31, 7, 0, 0, 0, 0, 0, 4, 1, 1, 0, 0, 0, 95, 0, 0, 0, 0, 0, 0, 0, 1, 0, 0, 0, 1, 1, 0, 2, 0, 0, 0, 6, 0, 0, 0, 0, 0, 0, 0, 1, 0, 1, 9, 0, 0, 4, 1, 5, 0, 1, 2, 13, 1, 8, 5, 2, 1, 0, 1, 1, 2, 0, 9, 54, 37, 1, 14, 2, 2, 0, 29, 6, 8, 5, 1, 13, 0, 3, 88, 27, 0, 20, 5, 0, 9, 1, 1, 8, 0, 8, 1, 35, 2, 2, 4, 15, 7, 19, 43, 35, 4, 32, 1, 7, 0, 9, 4, 9, 16, 8, 18, 0, 12, 0, 14, 4, 4, 12, 17, 5, 1, 13, 6, 4, 56, 14, 9, 22, 2, 0, 0, 6, 11, 16, 35, 21, 51, 67, 20, 13, 3, 46, 8, 0, 34, 24, 13, 3, 2, 8, 11, 26, 49, 108, 15, 7, 7, 0, 0, 2, 1, 9, 13, 1, 0, 5, 4, 2, 5, 28, 11, 20, 95, 9, 0, 3, 10, 12, 7, 8, 5, 31, 0, 11, 5, 7, 20, 0, 8, 15, 1, 2, 1, 0, 10, 2, 5, 1, 4, 39, 2, 0, 2, 2, 27, 10, 4, 7, 14, 2, 41, 49, 8, 0, 0, 0, 2, 0, 20, 6, 20, 4, 1, 0, 0, 18, 9, 8, 0, 2, 2, 5, 3, 3, 46, 0, 0, 0, 5, 0, 17, 0, 0, 57, 1, 35, 15, 84, 6, 84, 10, 1, 9, 20, 14, 16, 2, 33, 119, 6, 18, 49, 5, 44, 31, 11, 11, 16, 6, 0, 12, 10, 204, 6, 50, 21, 74, 39, 6, 22, 10, 47, 30, 12, 14, 0, 16, 27, 3, 18, 35, 1, 6, 74, 56, 3, 81, 26, 53, 46, 129, 1, 1, 7, 11, 71, 0, 18, 0, 143, 53, 1, 0, 0, 0, 1, 1, 3, 0, 19, 0, 1, 0, 1, 0, 14, 2, 16, 4, 23, 43, 0, 18, 125, 8, 25, 14, 10, 0, 2, 42, 19, 7, 0, 4, 6, 0, 28, 8, 3, 18, 2, 0, 40, 18, 7, 28, 21, 6, 9, 12, 4, 30, 3, 7, 5, 2, 0, 0, 1, 0, 0, 18, 0, 0, 0, 0, 0, 0, 0, 0, 1, 0, 7, 2, 4, 4, 1, 1, 0, 0, 0, 1, 6, 0, 7, 1, 1, 6, 1, 4, 28, 1, 10, 0, 0, 0, 0, 0, 1, 0, 0, 0, 0, 1, 1, 1, 0, 0, 2, 0, 0, 0, 0, 0, 0, 0, 0, 0, 0, 0, 1, 0, 1, 1, 0, 0, 0, 0, 0, 0, 1, 0, 0, 1, 0, 0, 0, 0, 0, 0, 0, 0, 5, 10, 0, 0, 3, 2, 0, 0, 0, 0, 4, 0, 1, 0, 0, 0, 0, 0, 0, 0, 0, 0, 0, 0, 1, 0, 0, 0, 3, 0, 0, 0, 2, 0, 0, 1, 0, 1, 0, 0, 1, 0, 0, 0, 0, 1, 0, 0, 0, 0, 0, 1, 0, 0, 0, 0, 0, 0, 5, 1, 1, 0, 0, 3, 1, 1, 0, 2, 0, 1, 3, 1, 0, 0, 2, 2, 0, 0, 0, 2, 16, 1, 4, 0, 0, 1, 0, 0, 0, 0, 0, 0, 1, 0, 0, 0, 0, 0, 0, 0, 0, 0, 1, 0, 1, 9, 9, 0, 27, 2, 0, 0, 1, 0, 1, 0, 0, 150, 0, 0, 5, 6, 24, 18, 2, 1, 2, 1, 0, 15, 4, 2, 2, 1, 7, 13, 9, 4, 2, 7, 3, 9, 20, 3, 18, 25, 1, 40, 42, 3, 1, 0, 0, 0, 0, 4, 0, 0, 2, 0, 1, 1, 0, 0, 52, 1, 0, 0, 4, 22, 0, 1, 26, 16, 3, 6, 31, 19, 13, 4, 48, 19, 4, 0, 2, 0, 6, 5, 0, 0, 1, 5, 7, 3, 15, 1, 2, 99, 23, 30, 13, 0, 2, 28, 1, 0, 2, 3, 48, 21, 0, 2, 3, 0, 0, 0, 0, 0, 2, 0, 30, 1, 7, 5, 5, 4, 4, 4, 0, 1, 7, 0, 22, 5, 0, 0, 0, 1, 0, 0, 0, 0, 0, 7, 0, 0, 0, 0, 1, 1, 0, 0, 3, 0, 1, 0, 0, 0, 0, 0, 0, 0, 1, 0, 0, 3, 1, 4, 0, 0, 0, 0, 0, 0, 0, 0, 0, 0, 0, 2, 0, 0, 1, 0, 1, 0, 0, 1, 1, 4, 2, 28, 3, 92, 0, 7, 0, 4, 7, 13, 7, 44, 0, 1, 23, 21, 0, 1, 1, 0, 0, 2, 0, 1, 16, 21, 3, 1, 2, 0, 0, 8, 2, 4, 8, 1, 1, 0, 1, 0, 28, 0, 0, 0, 2, 2, 7, 6, 1, 1, 0, 1, 0, 0, 0, 0, 0, 0, 0, 0, 1, 0, 0, 0, 0, 1, 0, 1, 6, 0, 1, 0, 1, 0, 0, 0, 0, 1, 3, 1, 0, 2, 0, 0, 3, 1, 0, 0, 0, 0, 0, 1, 0, 0, 0, 83, 4, 0, 5, 0, 2, 4, 0, 1, 0, 0, 1, 1, 2, 10, 0, 6, 1, 3, 24, 1, 7, 0, 1, 1, 0, 0, 1, 3, 1, 1, 4, 0, 36, 0, 2, 2, 2, 15, 3, 6, 5, 4, 4, 2, 1, 2, 1, 0, 1, 3, 3, 0, 0, 1, 1, 2, 10, 0, 0, 4, 1, 10, 3, 5, 1, 2, 0, 1, 16, 128, 2, 5, 1, 9, 4, 14, 0, 5, 1, 2, 10, 1, 1, 3, 0, 14, 2, 2, 9, 1, 8, 3, 1, 1, 6, 3, 5, 0, 15, 23, 4, 9, 14, 15, 17, 10, 1, 25, 25, 65, 1, 5, 14, 6, 17, 13, 0, 7, 0, 0, 0, 3, 6, 11, 1, 1, 0, 4, 2, 1, 1, 2, 17, 18, 0, 10, 0, 0, 0, 0, 0, 2, 1, 0, 0, 0, 0, 0, 0, 0, 0, 0, 3, 0, 0, 0, 0, 0, 0, 0, 0, 1, 0, 0, 0, 0, 0, 0, 0, 0, 0, 0, 0, 2, 0, 0, 0, 0, 1, 0, 8, 0, 1, 1, 8, 10, 7, 3, 9, 35, 2, 2, 0, 0, 0, 0, 0, 10, 0, 0, 2, 0, 2, 0, 1, 0, 4, 2, 1, 0, 0, 0, 2, 4, 9, 0, 1, 2, 2, 1, 0, 0, 0, 0, 0, 1, 0, 0, 0, 0, 3, 0, 1, 1, 1, 1, 0, 0, 1, 6, 1, 5, 12, 72, 2, 0, 1, 1, 0, 0, 0, 0, 0, 0, 1, 0, 0, 1, 0, 2, 1, 0, 3, 21, 8, 2, 0, 0, 0, 0, 10, 2, 0, 2, 1, 0, 0, 0, 1, 0, 0, 1, 0, 0, 0, 2, 0, 0, 0, 4, 5, 4, 1, 0, 26, 0, 9, 3, 1, 12, 0, 6, 0, 4, 6, 3, 18, 7, 3, 177, 5, 1, 82, 43, 1, 5, 1, 1, 0, 1, 1, 0, 0, 0, 0, 0, 0, 0, 1, 1, 0, 0, 0, 0, 0, 0, 2, 1, 0, 1, 3, 0, 5, 0, 1, 0, 2, 3, 1, 0, 3, 2, 0, 5, 2, 0, 0, 0, 19, 5, 0, 1, 2, 1, 1, 0, 0, 0, 0, 0, 0, 0, 1, 0, 0, 0, 0, 0, 0, 0, 0, 1, 0, 0, 0, 1, 0, 0, 0, 0, 0, 2, 0, 0, 0, 0, 1, 1, 1, 0, 7, 2, 0, 0, 0, 0, 0, 2, 0, 7, 0, 1, 0, 0, 2, 0, 0, 0, 0, 0, 0, 0, 0, 0, 0, 0, 37, 0, 0, 4, 0, 1, 16, 10, 4, 2, 29, 0, 0, 0, 1, 1, 8, 2, 59, 32, 8, 1, 1, 0, 3, 21, 32, 116, 1, 1, 4, 7, 11, 3, 13, 7, 60, 85, 25, 3, 80, 11, 32, 124, 11, 9, 13, 30, 0, 25, 11, 6, 8, 2, 144, 7, 34, 0, 0, 0, 0, 3, 2, 0, 1, 4, 0, 0, 1, 0, 0, 0, 2, 6, 0, 3, 0, 4, 0, 2, 1, 3, 0, 0, 0, 3, 0, 0, 2, 0, 0, 0, 10, 7, 6, 1, 4, 30, 3, 6, 1, 0, 1, 5, 2, 5, 0, 3, 6, 2, 1, 12, 3, 6, 0, 9, 10, 0, 0, 0, 3, 0, 1, 1, 3, 1, 1, 0, 1, 3, 1, 0, 1, 0, 0, 3, 1, 3, 1, 1, 0, 1, 0, 11, 5, 8, 0, 0, 5, 0, 1, 0, 0, 0, 2, 68, 72, 0, 0, 0, 0, 2, 11, 3, 7, 0, 0, 13, 1, 4, 0, 0, 0, 3, 0, 0, 1, 2, 0, 0, 0, 0, 0, 2, 1, 0, 0, 0, 7, 20, 0, 0, 0, 1, 0, 0, 3, 0, 0, 0, 9, 4, 0, 4, 8, 1, 0, 0, 0, 0, 11, 1, 5, 0, 2, 0, 2, 0, 12, 0, 1, 0, 1, 0, 0, 17, 0, 0, 5, 7, 2, 1, 5, 39, 0, 8, 6, 40, 21, 202, 39, 13, 25, 0, 8, 0, 0, 3, 0, 0, 0, 0, 0, 6, 0, 4, 0, 0, 0, 0, 0, 0, 4, 0, 1, 10, 0, 1, 0, 0, 1, 1, 0, 1, 2, 1, 0, 0, 0, 0, 0, 0, 3, 1, 6, 1, 0, 0, 1, 5, 0, 0, 0, 0, 0, 0, 2, 0, 0, 5, 4, 0, 14, 0, 17, 4, 0, 21, 2, 3, 0, 1, 4, 1, 1, 3, 32, 1, 7, 2, 0, 0, 0, 0, 0, 0, 0, 0, 0, 0, 1, 0, 1, 4, 3, 2, 3, 0, 1, 0, 0, 0, 0, 27, 0, 5, 6, 1, 5, 3, 9, 7, 50, 46, 21, 25, 2, 61, 34, 50, 0, 0, 0, 0, 1, 1, 0, 1, 3, 0, 0, 0, 0, 0, 3, 6, 13, 0, 12, 4, 1, 2, 1, 106, 2, 36, 5, 0, 0, 0, 7, 0, 0, 5, 12, 4, 4, 15, 0, 0, 0, 19, 2, 1, 0, 0, 0, 0, 4, 3, 0, 0, 6, 0, 0, 0, 0, 10, 1, 0, 2, 1, 0, 0, 0, 0, 52, 12, 0, 0, 2, 10, 0, 0, 0, 0, 0, 0, 0, 0, 0, 1, 0, 0, 0, 1, 0, 0, 0, 0, 0, 0, 0, 0, 0, 0, 0, 0, 1, 0, 0, 2, 2, 1, 1, 0, 0, 0, 0, 2, 0, 0, 0, 0, 0, 0, 3, 0, 0, 1, 7, 0, 0, 3, 1, 2, 91, 4, 2, 1, 4, 1, 0, 0, 32, 0, 1, 0, 0, 4, 5, 1, 0, 2, 0, 0, 0, 0, 0, 4, 0, 8, 11, 12, 8, 4, 14, 0, 9, 0, 8, 0, 0, 0, 0, 1, 2, 2, 2, 5, 19, 0, 3, 12, 0, 0, 0, 0, 1, 1, 0, 0, 1, 0, 0, 0, 3, 1, 11, 0, 0, 1, 0, 2, 14, 0, 9, 1, 11, 6, 3, 23, 0, 43, 72, 11, 0, 0, 0, 5, 12, 20, 0, 24, 0, 0, 0, 0, 0, 0, 0, 2, 0, 0, 0, 7, 0, 0, 0, 1, 0, 1, 0, 0, 0, 0, 0, 0, 1, 0, 0, 0, 0, 0, 0, 0, 0, 7, 0, 0, 0, 0, 0, 0, 0, 1, 0, 0, 0, 0, 0, 0, 0, 0, 0, 0, 0, 0, 0, 0, 0, 0, 0, 0, 0, 1, 1, 0, 0, 0, 0, 0, 0, 0, 2, 0, 0, 0, 0, 1, 0, 1, 0, 0, 1, 0, 1, 0, 1, 0, 0, 0, 0, 0, 0, 0, 0, 0, 0, 1, 1, 0, 0, 0, 0, 1, 0, 0, 0, 0, 0, 0, 74, 0, 0, 1, 0, 0, 0, 7, 4, 2, 2, 8, 0, 3, 0, 9, 0, 12, 0, 6, 0, 1, 0, 2, 0, 16, 0, 1, 7, 66, 0, 1, 1, 0, 4, 0, 0, 0, 20, 0, 1, 0, 1, 0, 1, 0, 0, 0, 1, 0, 1, 0, 0, 2, 0, 0, 0, 0, 0, 0, 0, 0, 0, 0, 1, 1, 0, 1, 0, 0, 0, 1, 1, 0, 0, 0, 1, 0, 0, 0, 0, 1, 0, 0, 0, 0, 0, 0, 0, 0, 0, 0, 1, 1, 0, 0, 0, 0, 0, 0, 0, 1, 1, 0, 0, 0, 0, 0, 0, 0, 2, 0, 1, 1, 0, 0, 0, 0, 0, 0, 0, 0, 0, 0, 1, 0, 4, 0, 1, 0, 0, 0, 0, 0, 0, 0, 0, 0, 1, 0, 0, 0, 0, 0, 0, 0, 0, 0, 0, 2, 0, 0, 0, 1, 1, 1, 0, 0, 0, 0, 2, 1, 1, 0, 0, 1, 0, 0, 0, 2, 0, 1, 0, 2, 0, 1, 1, 5, 1, 0, 4, 4, 4, 3, 2, 5, 0, 0, 0, 0, 9, 3, 17, 0, 0, 0, 0, 6, 1, 30, 0, 0, 1, 0, 1, 0, 0, 0, 0, 0, 0, 0, 0, 0, 37, 1, 0, 0, 0, 2, 0, 0, 3, 0, 0, 0, 0, 1, 0, 1, 0, 0, 1, 1, 0, 4, 4, 0, 1, 1, 0, 1, 0, 1, 5, 0, 1, 2, 4, 1, 0, 0, 4, 0, 7, 1, 0, 7, 16, 3, 3, 7, 0, 1, 0, 2, 0, 2, 0, 4, 0, 0, 0, 0, 0, 1, 2, 0, 2, 0, 0, 12, 0, 0, 0, 0, 0, 0, 0, 0, 3, 0, 0, 0, 1, 0, 0, 3, 0, 3, 1, 3, 0, 1, 2, 3, 2, 12, 0, 2, 0, 8, 8, 0, 0, 4, 13, 0, 3, 0, 24, 1, 0, 1, 8, 3, 1, 0, 1, 0, 1, 1, 0, 0, 0, 0, 1, 0, 0, 1, 0, 0, 0, 0, 1, 0, 0, 0, 0, 1, 0, 0, 0, 0, 0, 0, 1, 0, 21, 0, 1, 0, 0, 0, 9, 2, 1, 1, 3, 0, 0, 2, 1, 3, 1, 3, 0, 6, 7, 31, 23, 14, 2, 0, 17, 45, 21, 0, 0, 0, 0, 0, 0, 0, 0, 1, 1, 1, 3, 1, 1, 1, 0, 1, 0, 1, 0, 1, 0, 0, 0, 0, 0, 0, 0, 2, 2, 1, 1, 6, 0, 3, 12, 3, 4, 0, 1, 3, 1, 0, 1, 0, 1, 0, 0, 0, 2, 1, 1, 1, 8, 4, 30, 6, 58, 0, 1, 6, 6, 20, 54, 21, 35, 30, 13, 20, 26, 6, 8, 38, 5, 2, 3, 2, 29, 5, 31, 61, 3, 40, 8, 29, 44, 8, 10, 29, 2, 48, 3, 7, 2, 12, 17, 10, 29, 15, 10, 3, 13, 7, 3, 5, 10, 4, 6, 15, 10, 11, 14, 3, 0, 17, 11, 13, 3, 69, 80, 11, 0, 3, 0, 1, 0, 0, 5, 0, 0, 0, 0, 0, 0, 0, 0, 0, 1, 0, 0, 1, 0, 0, 0, 1, 1, 14, 29, 4, 9, 3, 1, 5, 2, 0, 0, 0, 1, 0, 0, 0, 6, 21, 0, 0, 0, 4, 0, 0, 0, 0, 0, 1, 3, 1, 2, 1, 0, 0, 10, 3, 0, 9, 1, 1, 1, 0, 2, 1, 18, 5, 4, 4, 1, 1, 4, 1, 5, 5, 0, 13, 21, 23, 104, 89, 10, 3, 15, 14, 1, 1, 1, 2, 3, 0, 0, 1, 0, 1, 0, 1, 0, 0, 0, 0, 0, 0, 22, 1, 2, 0, 1, 0, 0, 0, 0, 1, 0, 1, 0, 0, 0, 1, 1, 0, 0, 0, 0, 1, 0, 0, 0, 1, 5, 0, 1, 1, 4, 9, 0, 0, 0, 0, 0, 0, 0, 1, 0, 0, 0, 0, 1, 0, 0, 0, 3, 0, 8, 1, 9, 0, 12, 10, 1, 0, 1, 0, 7, 2, 5, 5, 8, 15, 1, 1, 0, 0, 5, 2, 1, 24, 11, 0, 41, 1, 0, 6, 0, 0, 0, 0, 3, 4, 0, 0, 0, 0, 0, 2, 3, 7, 2, 6, 1, 0, 0, 0, 2, 0, 0, 0, 1, 0, 2, 10, 20, 0, 0, 0, 1, 0, 4, 0, 0, 5, 7, 0, 0, 0, 15, 9, 3, 0, 1, 16, 0, 1, 103, 10, 5, 0, 0, 0, 0, 0, 0, 0, 0, 0, 0, 9, 0, 0, 0, 0, 0, 1, 0, 0, 0, 0, 0, 0, 0, 0, 0, 0, 0, 0, 1, 0, 1, 1, 1, 0, 0, 0, 1, 0, 0, 0, 0, 0, 0, 0, 1, 0, 0, 1, 7, 0, 0, 0, 0, 0, 0, 1, 0, 0, 6, 0, 0, 0, 1, 0, 1, 0, 4, 0, 2, 1, 0, 0, 0, 1, 1, 1, 15, 0, 0, 0, 0, 0, 0, 0, 0, 1, 3, 3, 1, 1, 0, 0, 0, 2, 0, 1, 1, 1, 0, 0, 0, 2, 3, 0, 0, 4, 1, 0, 2, 5, 1, 1, 0, 4, 1, 4, 7, 0, 3, 4, 2, 27, 3, 2, 1, 5, 5, 0, 7, 15, 0, 54, 54, 54, 0, 6, 1, 12, 0, 0, 56, 56, 5, 11, 0, 1, 5, 56, 6, 0, 1, 1, 0, 3, 0, 1, 0, 0, 0, 0, 0, 0, 7, 0, 2, 0, 0, 0, 0, 0, 0, 0, 0, 0, 0, 0, 0, 5, 0, 1, 0, 0, 0, 0, 0, 0, 0, 0, 1, 0, 0, 0, 0, 0, 1, 0, 0, 0, 7, 0, 0, 0, 0, 3, 0, 1, 0, 16, 0, 0, 0, 0, 1, 1, 0, 0, 0, 0, 0, 1, 1, 0, 1, 0, 0, 0, 0, 0, 0, 0, 0, 1, 0, 0, 2, 0, 0, 1, 1, 0, 0, 0, 0, 0, 0, 0, 0, 0, 0, 0, 1, 1, 0, 0, 0, 1, 0, 0, 0, 0, 0, 0, 0, 1, 0, 0, 0, 1, 0, 0, 0, 0, 0, 0, 0, 0, 0, 0, 0, 0, 0, 0, 0, 0, 0, 2, 2, 0, 0, 0, 0, 0, 0, 1, 0, 7, 3, 1, 0, 0, 1, 0, 1, 3, 1, 4, 0, 4, 0, 2, 2, 2, 4, 4, 1, 4, 2, 4, 1, 5, 3, 1, 0, 2, 0, 0, 130, 22, 3, 1, 0, 0, 0, 0, 0, 0, 2, 5, 1, 0, 0, 0, 1, 0, 9, 3, 2, 12, 1, 9, 5, 6, 0, 16, 11, 2, 0, 0, 0, 5, 0, 50, 2, 7, 2, 21, 3, 3, 6, 3, 9, 0, 7, 2, 4, 3, 12, 3, 1, 2, 8, 3, 1, 21, 8, 8, 2, 5, 9, 13, 88, 4, 0, 0, 0, 0, 0, 0, 0, 0, 2, 1, 23, 4, 1, 1, 4, 5, 0, 0, 0, 1, 1, 0, 0, 0, 0, 0, 0, 0, 0, 0, 1, 0, 0, 1, 1, 1, 0, 0, 0, 0, 0, 0, 0, 1, 0, 0, 0, 0, 0, 0, 0, 0, 0, 0, 0, 0, 0, 1, 0, 0, 0, 1, 0, 0, 0, 0, 0, 1, 0, 0, 1, 0, 0, 0, 0, 0, 0, 0, 0, 1, 1, 0, 0, 0, 0, 1, 2, 0, 0, 0, 1, 0, 0, 0, 0, 0, 1, 0, 0, 1, 0, 1, 2, 0, 0, 0, 1, 0, 0, 0, 0, 0, 0, 0, 0, 0, 0, 0, 0, 0, 0, 0, 0, 2, 0, 0, 0, 0, 0, 3, 0, 9, 0, 1, 0, 8, 1, 15, 0, 1, 1, 0, 1, 0, 0, 1, 0, 11, 37, 8, 4, 0, 21, 0, 0, 1, 1, 0, 2, 4, 1, 0, 0, 0, 0, 0, 0, 0, 2, 1, 1, 4, 3, 1, 32, 0, 1, 0, 0, 1, 1, 0, 1, 0, 15, 0, 3, 3, 0, 22, 0, 0, 1, 0, 0, 0, 0, 1, 1, 0, 0, 1, 0, 0, 5, 0, 2, 0, 1, 0, 1, 0, 0, 2, 7, 0, 1, 3, 1, 1, 1, 0, 0, 1, 0, 2, 3, 0, 2, 0, 0, 1, 2, 0, 0, 5, 2, 0, 0, 0, 0, 5, 1, 0, 5, 6, 4, 0, 0, 11, 8, 0, 31, 3, 0, 1, 1, 0, 2, 1, 5, 3, 4, 2, 1, 0, 11, 4, 2, 9, 1, 0, 0, 5, 12, 15, 4, 1, 37, 6, 2, 3, 1, 2, 2, 7, 9, 42, 7, 8, 4, 6, 3, 2, 6, 4, 4, 9, 6, 6, 6, 11, 12, 4, 8, 44, 18, 33, 17, 6, 185, 14, 13, 13, 46, 0, 0, 0, 1, 0, 0, 0, 0, 2, 0, 0, 0, 2, 0, 0, 0, 0, 0, 0, 0, 0, 0, 0, 8, 0, 0, 2, 0, 0, 0, 2, 1, 0, 1, 0, 0, 0, 0, 0, 0, 0, 0, 0, 0, 1, 0, 0, 0, 0, 4, 0, 0, 2, 1, 0, 0, 0, 0, 0, 0, 0, 1, 0, 0, 1, 1, 0, 0, 1, 0, 5, 1, 3, 8, 18, 0, 0, 3, 1, 10, 1, 0, 4, 0, 14, 2, 1, 12, 0, 0, 3, 0, 0, 1, 0, 0, 1, 2, 4, 0, 0, 0, 3, 0, 1, 0, 2, 0, 1, 0, 2, 0, 0, 1, 0, 4, 1, 0, 1, 1, 0, 0, 0, 0, 0, 0, 0, 0, 0, 0, 4, 2, 11, 7, 0, 0, 7, 23, 1, 4, 5, 51, 4, 6, 8, 0, 0, 0, 8, 3, 12, 0, 1, 2, 56, 9, 33, 5, 9, 4, 0, 5, 6, 0, 2, 0, 3, 1, 1, 4, 0, 4, 0, 3, 4, 0, 0, 0, 0, 0, 0, 0, 1, 0, 0, 1, 0, 7, 1, 6, 9, 0, 0, 0, 0, 1, 0, 2, 0, 0, 0, 0, 1, 0, 2, 1, 1, 12, 0, 0, 16, 1, 0, 0, 0, 0, 2, 0, 0, 2, 0, 0, 0, 0, 0, 1, 0, 1, 0, 0, 0, 0, 0, 0, 0, 0, 1, 0, 0, 0, 0, 0, 0, 1, 0, 0, 0, 0, 5, 0, 0, 0, 0, 0, 0, 0, 1, 0, 0, 0, 0, 0, 0, 0, 0, 1, 0, 7, 13, 3, 0, 2, 2, 18, 7, 2, 0, 0, 9, 0, 6, 23, 0, 0, 0, 0, 1, 10, 0, 1, 1, 0, 0, 0, 0, 0, 0, 0, 0, 0, 0, 0, 1, 0, 0, 0, 0, 0, 0, 0, 0, 0, 0, 0, 0, 0, 2, 0, 3, 1, 2, 0, 0, 1, 0, 0, 1, 0, 2, 0, 0, 0, 0, 7, 2, 1, 0, 20, 2, 5, 0, 0, 0, 3, 0, 19, 0, 0, 2, 0, 0, 0, 0, 0, 0, 4, 0, 1, 0, 17, 0, 0, 1, 0, 0, 0, 0, 1, 3, 3, 0, 8, 0, 1, 2, 0, 3, 2, 4, 4, 8, 3, 2, 0, 0, 0, 0, 15, 0, 8, 0, 1, 3, 0, 0, 1, 0, 0, 0, 1, 0, 9, 1, 5, 1, 11, 0, 0, 1, 3, 6, 0, 1, 0, 0, 16, 6, 0, 3, 10, 0, 0, 3, 0, 5, 2, 0, 16, 1, 0, 26, 0, 0, 12, 0, 0, 0, 2, 0, 32, 3, 4, 30, 1, 0, 0, 7, 0, 0, 0, 55, 0, 0, 0, 0, 0, 0, 0, 1, 0, 0, 6, 0, 0, 2, 1, 4, 0, 0, 0, 31, 9, 1, 1, 3, 1, 2, 2, 1, 3, 3, 3, 1, 1, 38, 9, 2, 0, 7, 0, 0, 0, 0, 0, 1, 0, 2, 0, 0, 0, 0, 10, 9, 2, 2, 10, 13, 5, 0, 1, 15, 3, 0, 6, 2, 0, 0, 0, 17, 14, 0, 30, 3, 0, 0, 1, 26, 13, 7, 45, 14, 87, 14, 14, 4, 0, 0, 0, 1, 3, 2, 0, 5, 0, 0, 0, 0, 0, 0, 0, 0, 0, 0, 1, 3, 0, 2, 0, 2, 0, 0, 15, 7, 0, 2, 1, 1, 1, 1, 0, 1, 4, 0, 0, 1, 0, 0, 0, 0, 0, 0, 22, 0, 1, 0, 0, 0, 0, 0, 0, 0, 4, 8, 0, 0, 0, 0, 0, 2, 26, 0, 1, 0, 0, 0, 0, 0, 0, 0, 2, 1, 1, 0, 0, 8, 0, 1, 2, 0, 0, 0, 0, 0, 0, 0, 0, 0, 0, 0, 0, 0, 0, 2, 0, 0, 0, 0, 0, 0, 1, 0, 1, 6, 0, 0, 0, 0, 4, 1, 0, 2, 0, 0, 0, 0, 0, 2, 0, 2, 1, 0, 0, 0, 0, 2, 0, 0, 0, 0, 0, 5, 0, 1, 1, 0, 0, 1, 1, 1, 0, 4, 17, 1, 0, 0, 0, 0, 0, 0, 1, 0, 5, 1, 12, 6, 3, 8, 0, 18, 6, 7, 0, 0, 1, 4, 2, 8, 3, 0, 4, 1, 3, 2, 3, 10, 1, 3, 0, 4, 0, 3, 14, 2, 18, 0, 1, 1, 12, 12, 0, 0, 3, 4, 1, 4, 2, 2, 0, 0, 0, 1, 2, 4, 0, 1, 0, 0, 2, 1, 0, 2, 0, 0, 0, 0, 0, 1, 0, 0, 0, 1, 3, 0, 4, 2, 1, 2, 17, 42, 5, 15, 2, 11, 0, 0, 0, 0, 2, 3, 0, 6, 1, 4, 0, 0, 0, 0, 0, 0, 0, 0, 0, 0, 0, 1, 0, 2, 0, 1, 0, 0, 0, 0, 17, 0, 0, 0, 0, 0, 0, 0, 1, 2, 0, 0, 0, 0, 0, 0, 0, 0, 0, 2, 0, 0, 1, 0, 0, 2, 0, 1, 0, 1, 0, 0, 0, 0, 0, 0, 0, 0, 0, 0, 4, 0, 0, 4, 0, 0, 0, 3, 0, 0, 0, 0, 2, 2, 0, 0, 0, 0, 1, 1, 1, 0, 0, 1, 1, 5, 1, 0, 2, 1, 5, 2, 1, 3, 3, 0, 1, 14, 0, 3, 0, 12, 11, 1, 3, 1, 7, 4, 25, 25, 3, 26, 1, 4, 4, 5, 43, 1, 1, 0, 5, 5, 0, 0, 2, 0, 0, 0, 0, 1, 52, 2, 0, 1, 0, 5, 0, 0, 0, 1, 0, 0, 1, 8, 4, 2, 3, 1, 0, 0, 6, 1, 0, 0, 0, 0, 0, 0, 0, 1, 11, 4, 33, 0, 0, 0, 0, 0, 0, 0, 1, 3, 2, 0, 8, 3, 1, 0, 3, 0, 7, 2, 1, 17, 4, 7, 0, 0, 0, 0, 0, 4, 5, 0, 13, 1, 4, 0, 0, 0, 1, 8, 24, 0, 2, 0, 0, 0, 0, 0, 0, 1, 0, 1, 2, 4, 0, 1, 0, 1, 1, 0, 0, 7, 14, 0, 0, 2, 2, 0, 0, 0, 3, 6, 0, 3, 1, 1, 0, 2, 0, 1, 1, 0, 0, 0, 0, 0, 0, 6, 0, 4, 5, 1, 9, 0, 1, 0, 1, 0, 2, 0, 0, 7, 0, 2, 1, 0, 2, 1, 0, 5, 10, 3, 22, 0, 8, 2, 1, 0, 0, 1, 0, 0, 2, 0, 0, 2, 0, 0, 0, 20, 0, 0, 3, 5, 1, 0, 0, 1, 3, 0, 2, 62, 31, 8, 1, 2, 2, 23, 4, 9, 18, 12, 16, 15, 25, 3, 3, 54, 54, 10, 41, 1, 42, 42, 0, 0, 0, 0, 0, 0, 0, 0, 0, 0, 0, 1, 1, 1, 2, 0, 0, 0, 0, 2, 1, 2, 0, 3, 3, 0, 0, 1, 0, 0, 0, 0, 0, 0, 0, 4, 0, 0, 0, 1, 1, 1, 0, 1, 2, 0, 1, 3, 0, 2, 0, 0, 0, 0, 1, 0, 0, 0, 0, 1, 8, 1, 0, 0, 0, 0, 0, 0, 0, 0, 0, 1, 0, 0, 0, 0, 0, 2, 0, 0, 0, 1, 0, 0, 0, 0, 0, 1, 7, 0, 0, 1, 4, 0, 6, 29, 0, 0, 0, 0, 2, 1, 1, 0, 3, 0, 2, 9, 3, 1, 4, 26, 34, 3, 1, 3, 0, 8, 14, 1, 33, 0, 22, 0, 1, 29, 0, 0, 0, 0, 2, 0, 5, 0, 0, 1, 1, 0, 0, 3, 10, 0, 44, 0, 2, 6, 1, 1, 1, 8, 1, 0, 17, 2, 149, 15, 7, 4, 9, 4, 6, 6, 36, 0, 10, 1, 0, 0, 0, 0, 0, 0, 0, 0, 0, 0, 0, 0, 0, 0, 1, 0, 1, 0, 0, 1, 0, 0, 0, 0, 1, 0, 0, 0, 0, 0, 1, 0, 0, 8, 0, 0, 24, 3, 0, 0, 0, 0, 0, 1, 0, 0, 0, 0, 0, 0, 0, 0, 11, 1, 4, 0, 3, 0, 1, 0, 23, 5, 0, 1, 0, 9, 2, 0, 1, 1, 10, 0, 2, 16, 0, 5, 4, 13, 1, 32, 4, 4, 18, 6, 1, 7, 9, 4, 25, 0, 1, 0, 0, 45, 1, 5, 2, 4, 0, 2, 3, 13, 2, 20, 2, 4, 5, 18, 2, 3, 7, 1, 19, 7, 7, 1, 13, 2, 1, 1, 29, 30, 1, 3, 25, 13, 4, 9, 17, 5, 0, 13, 0, 12, 17, 3, 1, 44, 4, 9, 1, 4, 13, 25, 25, 14, 0, 5, 6, 5, 6, 9, 52, 11, 32, 12, 8, 13, 9, 57, 140, 0, 0, 6, 1, 0, 2, 2, 0, 0, 1, 16, 4, 1, 2, 6, 4, 2, 9, 12, 0, 8, 0, 0, 0, 0, 1, 1, 1, 7, 26, 6, 0, 0, 0, 0, 0, 0, 0, 0, 0, 0, 0, 0, 1, 0, 0, 1, 0, 0, 0, 0, 1, 0, 0, 0, 0, 2, 7, 3, 1, 0, 1, 0, 3, 0, 0, 1, 0, 2, 0, 1, 3, 0, 3, 1, 0, 0, 1, 0, 4, 7, 7, 7, 2, 9, 1, 3, 12, 1, 5, 10, 0, 4, 1, 1, 1, 40, 5, 0, 7, 0, 6, 5, 0, 1, 2, 3, 9, 7, 0, 0, 0, 1, 0, 0, 0, 0, 0, 0, 0, 0, 0, 0, 0, 3, 0, 0, 0, 4, 3, 1, 6, 4, 1, 1, 0, 0, 1, 0, 2, 2, 4, 0, 0, 6, 3, 5, 1, 3, 13, 0, 0, 0, 0, 0, 1, 0, 0, 0, 0, 41, 1, 0, 0, 6, 0, 1, 0, 0, 0, 4, 16, 1, 0, 0, 1, 1, 0, 1, 0, 0, 0, 0, 1, 0, 0, 0, 0, 2, 2, 0, 2, 7, 8, 3, 0, 23, 0, 0, 7, 9, 7, 0, 16, 1, 0, 7, 0, 0, 1, 0, 0, 0, 3, 2, 0, 0, 0, 2, 4, 0, 1, 1, 1, 19, 0, 0, 0, 0, 0, 0, 1, 0, 0, 0, 0, 0, 0, 0, 0, 0, 1, 0, 1, 0, 0, 0, 6, 1, 1, 1, 4, 0, 1, 4, 0, 0, 10, 6, 11, 0, 1, 3, 1, 0, 0, 2, 0, 0, 0, 0, 0, 0, 1, 4, 6, 10, 16, 4, 8, 3, 2, 8, 0, 0, 0, 7, 0, 0, 1, 0, 0, 0, 0, 0, 0, 1, 0, 0, 0, 0, 1, 4, 0, 0, 2, 0, 0, 0, 1, 0, 2, 0, 0, 0, 0, 1, 14, 1, 3, 0, 0, 0, 4, 0, 0, 5, 0, 0, 1, 0, 0, 0, 0, 6, 2, 0, 1, 0, 0, 0, 1, 0, 5, 1, 0, 0, 0, 0, 0, 0, 0, 5, 29, 1, 2, 1, 2, 1, 3, 2, 0, 0, 2, 2, 0, 7, 1, 1, 5, 1, 7, 3, 4, 0, 26, 13, 1, 1, 4, 1, 2, 5, 0, 29, 2, 0, 1, 0, 0, 2, 1, 0, 1, 4, 1, 0, 0, 0, 4, 0, 0, 3, 0, 1, 11, 1, 0, 2, 2, 1, 0, 0, 0, 0, 0, 0, 0, 0, 1, 1, 3, 1, 65, 16, 0, 25, 1, 0, 0, 0, 0, 0, 1, 0, 11, 13, 0, 0, 1, 2, 0, 0, 0, 9, 1, 0, 5, 1, 1, 2, 1, 3, 6, 0, 0, 0, 1, 0, 1, 0, 0, 0, 1, 0, 6, 0, 0, 1, 1, 1, 0, 2, 5, 1, 4, 4, 0, 0, 3, 4, 0, 2, 4, 0, 1, 1, 1, 23, 0, 0, 1, 0, 1, 0, 0, 0, 0, 0, 0, 0, 0, 0, 0, 0, 0, 0, 0, 1, 0, 0, 0, 0, 4, 1, 0, 0, 1, 0, 9, 0, 8, 0, 1, 0, 0, 2, 2, 8, 0, 0, 0, 0, 0, 0, 1, 0, 2, 1, 14, 0, 0, 0, 5, 5, 0, 0, 2, 0, 1, 0, 2, 3, 0, 0, 0, 0, 0, 0, 3, 12, 0, 7, 3, 2, 0, 10, 3, 0, 6, 1, 7, 4, 14, 45, 0, 0, 1, 0, 0, 0, 0, 1, 0, 1, 3, 12, 0, 0, 4, 0, 0, 0, 3, 0, 0, 2, 0, 1, 0, 0, 0, 0, 0, 0, 0, 2, 0, 9, 0, 0, 0, 0, 5, 0, 0, 0, 0, 0, 0, 9, 0, 0, 0, 1, 0, 3, 1, 0, 0, 0, 1, 2, 1, 0, 2, 0, 0, 0, 2, 0, 0, 1, 7, 2, 5, 0, 0, 1, 1, 4, 9, 17, 3, 6, 2, 7, 0, 1, 2, 2, 30, 2, 11, 0, 0, 1, 2, 8, 1, 0, 14, 9, 0, 5, 12, 3, 2, 1, 0, 30, 6, 8, 2, 1, 0, 1, 10, 0, 0, 1, 1, 2, 38, 0, 0, 27, 1, 13, 0, 18, 1, 0, 25, 0, 9, 0, 0, 1, 0, 2, 5, 0, 4, 10, 2, 7, 0, 0, 18, 3, 3, 23, 23, 0, 1, 1, 3, 1, 3, 0, 4, 0, 6, 3, 1, 0, 0, 0, 47, 0, 6, 14, 0, 4, 5, 1, 3, 1, 4, 0, 9, 4, 2, 0, 6, 4, 1, 0, 9, 9, 0, 9, 3, 3, 2, 0, 5, 7, 0, 6, 6, 7, 11, 3, 0, 3, 0, 9, 1, 1, 16, 6, 8, 0, 7, 0, 5, 2, 1, 2, 0, 0, 3, 0, 4, 0, 10, 4, 4, 0, 0, 5, 18, 16, 10, 1, 1, 1, 3, 1, 1, 0, 1, 6, 11, 28, 9, 9, 16, 11, 10, 2, 0, 0, 1, 12, 0, 0, 2, 15, 20, 0, 1, 0, 29, 0, 1, 0, 2, 7, 2, 1, 1, 0, 1, 3, 23, 9, 2, 32, 2, 6, 2, 13, 3, 2, 1, 11, 1, 4, 7, 4, 15, 4, 3, 13, 13, 1, 7, 2, 13, 2, 3, 3, 29, 0, 1, 21, 6, 5, 16, 0, 7, 0, 6, 6, 0, 1, 0, 1, 14, 0, 1, 3, 0, 4, 8, 2, 0, 1, 7, 0, 4, 5, 1, 2, 15, 2, 74, 24, 27, 39, 72, 14, 48, 39, 13, 13, 8, 1, 31, 17, 4, 0, 9, 5, 21, 2, 26, 6, 0, 0, 1, 0, 0, 0, 5, 3, 0, 0, 0, 0, 1, 35, 0, 0, 0, 1, 6, 13, 2, 4, 0, 1, 4, 0, 0, 0, 0, 0, 0, 0, 1, 3, 1, 15, 14, 21, 1, 33, 10, 7, 3, 28, 13, 25, 18, 0, 4, 2, 24, 1, 1, 0, 0, 0, 1, 3, 0, 4, 0, 10, 0, 6, 4, 2, 3, 9, 0, 7, 1, 3, 6, 1, 3, 1, 3, 0, 0, 0, 0, 0, 0, 0, 0, 0, 0, 3, 0, 2, 8, 7, 7, 14, 3, 15, 2, 0, 0, 0, 2, 0, 0, 0, 0, 11, 0, 0, 4, 0, 1, 0, 0, 0, 1, 1, 1, 1, 0, 5, 0, 9, 2, 14, 0, 5, 1, 0, 11, 4, 10, 0, 0, 0, 9, 0, 1, 3, 0, 2, 23, 5, 6, 10, 74, 2, 1, 15, 1, 3, 15, 3, 3, 7, 18, 1, 15, 3, 25, 10, 4, 41, 0, 13, 2, 3, 0, 5, 2, 0, 0, 1, 11, 10, 5, 36, 4, 1, 0, 0, 1, 0, 0, 0, 0, 0, 1, 0, 0, 3, 0, 0, 0, 0, 0, 0, 0, 0, 0, 0, 0, 0, 0, 0, 0, 0, 0, 0, 0, 0, 0, 1, 0, 0, 1, 0, 1, 0, 0, 0, 0, 0, 0, 0, 0, 1, 0, 1, 0, 0, 0, 0, 1, 0, 0, 0, 0, 0, 1, 0, 0, 0, 0, 0, 1, 0, 0, 0, 1, 2, 0, 0, 0, 0, 0, 0, 1, 0, 0, 0, 0, 2, 0, 0, 0, 0, 1, 0, 0, 0, 0, 0, 0, 1, 0, 0, 0, 0, 0, 0, 1, 0, 0, 0, 0, 0, 0, 0, 0, 0, 0, 0, 0, 1, 1, 0, 0, 0, 0, 2, 0, 0, 0, 0, 0, 0, 0, 0, 0, 0, 0, 1, 0, 0, 1, 0, 0, 1, 0, 1, 0, 0, 0, 5, 0, 0, 0, 0, 0, 0, 0, 0, 0, 1, 0, 0, 0, 0, 1, 0, 1, 1, 0, 0, 0, 1, 3, 0, 0, 0, 0, 0, 0, 0, 4, 0, 0, 0, 2, 0, 0, 0, 0, 1, 0, 1, 0, 0, 1, 0, 0, 1, 0, 0, 0, 1, 0, 0, 0, 0, 0, 1, 0, 1, 1, 1, 0, 0, 0, 0, 1, 0, 0, 0, 0, 0, 0, 0, 0, 0, 0, 0, 0, 0, 0, 0, 0, 0, 0, 1, 0, 1, 1, 0, 1, 0, 4, 0, 1, 0, 0, 0, 0, 0, 0, 0, 1, 0, 0, 1, 0, 0, 0, 0, 0, 0, 0, 0, 1, 1, 1, 0, 2, 0, 0, 0, 0, 0, 0, 0, 1, 0, 0, 0, 0, 0, 0, 0, 0, 1, 0, 0, 0, 0, 0, 0, 0, 0, 0, 0, 0, 0, 1, 1, 0, 1, 0, 0, 1, 0, 0, 0, 3, 0, 0, 2, 0, 0, 0, 0, 0, 1, 0, 0, 0, 0, 0, 1, 1, 0, 0, 2, 0, 0, 0, 0, 0, 1, 1, 0, 0, 0, 0, 0, 0, 0, 0, 0, 0, 0, 1, 1, 0, 0, 0, 0, 0, 0, 0, 0, 0, 0, 0, 0, 0, 0, 0, 0, 0, 0, 0, 0, 0, 0, 0, 3, 0, 0, 0, 0, 1, 0, 0, 0, 0, 1, 0, 0, 0, 0, 1, 0, 0, 0, 0, 0, 0, 0, 0, 0, 0, 0, 0, 1, 0, 0, 0, 0, 0, 1, 1, 0, 0, 0, 0, 1, 1, 1, 0, 0, 0, 0, 0, 0, 2, 1, 4, 2, 0, 0, 0, 1, 1, 0, 0, 0, 0, 0, 0, 1, 0, 1, 0, 0, 0, 0, 0, 0, 0, 0, 0, 0, 0, 0, 0, 0, 0, 0, 0, 0, 0, 0, 0, 0, 0, 0, 0, 1, 0, 0, 0, 0, 0, 0, 0, 1, 0, 0, 0, 0, 0, 0, 0, 0, 0, 0, 0, 1, 0, 0, 0, 0, 0, 0, 0, 0, 0, 0, 0, 0, 0, 1, 0, 0, 0, 0, 1, 0, 0, 0, 0, 1, 0, 0, 0, 2, 0, 0, 0, 1, 2, 0, 1, 0, 0, 0, 2, 1, 0, 0, 2, 3, 1, 0, 0, 1, 0, 1, 3, 2, 0, 0, 0, 5, 4, 2, 2, 1, 3, 0, 3, 3, 2, 1, 0, 3, 0, 4, 1, 1, 0, 1, 0, 0, 0, 0, 1, 0, 0, 1, 0, 1, 0, 16, 1, 1, 0, 4, 0, 1, 3, 3, 0, 2, 0, 6, 1, 0, 1, 2, 1, 2, 3, 3, 0, 0, 0, 0, 0, 4, 2, 0, 0, 2, 1, 0, 0, 2, 0, 0, 1, 0, 1, 0, 2, 0, 1, 0, 5, 4, 0, 0, 0, 3, 9, 0, 0, 2, 0, 0, 1, 0, 4, 0, 3, 7, 1, 0, 0, 2, 2, 3, 0, 7, 1, 3, 0, 3, 3, 4, 0, 0, 7, 1, 1, 1, 9, 0, 13, 8, 0, 2, 1, 1, 1, 2, 0, 0, 0, 19, 1, 1, 68, 0, 5, 2, 2, 0, 4, 30, 4, 2, 1, 0, 0, 6, 4, 4, 0, 0, 0, 1, 0, 1, 0, 7, 0, 0, 0, 0, 5, 2, 0, 1, 1, 0, 1, 1, 0, 0, 3, 0, 0, 2, 3, 1, 1, 10, 29, 1, 0, 2, 1, 5, 0, 4, 23, 16, 21, 13, 23, 23, 24, 4, 12, 27, 2, 16, 16, 27, 18, 26, 113, 53, 18, 20, 18, 39, 3, 4, 7, 9, 9, 20, 24, 2, 29, 29, 12, 25, 21, 41, 2, 17, 4, 5, 35, 52, 3, 11, 107, 326, 38, 13, 54, 48, 41, 0, 5, 34, 2, 25, 0, 1, 0, 1, 1, 2, 1, 20, 71, 23, 1, 1, 0, 0, 0, 0, 0, 0, 1, 1, 0, 1, 0, 0, 0, 0, 0, 0, 0, 1, 4, 1, 9, 0, 2, 0, 0, 0, 0, 0, 0, 0, 0, 0, 2, 0, 0, 1, 13, 0, 0, 0, 0, 0, 0, 1, 0, 0, 4, 0, 1, 0, 2, 1, 0, 0, 1, 1, 1, 1, 0, 3, 0, 0, 5, 10, 0, 1, 3, 3, 2, 0, 0, 1, 4, 22, 0, 0, 5, 20, 15, 74, 7, 25, 17, 0, 1, 27, 28, 45, 14, 4, 3, 0, 2, 37, 1, 16, 0, 2, 0, 0, 0, 0, 0, 0, 5, 0, 0, 0, 2, 13, 7, 2, 0, 5, 2, 0, 0, 0, 0, 0, 0, 0, 7, 15, 4, 1, 1, 1, 0, 0, 25, 1, 2, 0, 4, 1, 17, 0, 5, 0, 0, 14, 2, 0, 0, 0, 3, 1, 5, 0, 1, 0, 2, 4, 0, 32, 9, 10, 22, 38, 15, 0, 1, 2, 10, 0, 2, 1, 0, 21, 1, 0, 4, 3, 1, 0, 3, 0, 0, 0, 1, 0, 1, 0, 1, 1, 0, 0, 2, 2, 11, 2, 0, 1, 1, 2, 7, 12, 0, 12, 32, 3, 15, 5, 3, 2, 40, 8, 55, 17, 30, 5, 27, 0, 0, 0, 0, 1, 1, 9, 2, 0, 0, 0, 2, 0, 1, 0, 4, 6, 3, 0, 0, 15, 2, 2, 3, 1, 0, 8, 18, 0, 0, 2, 2, 2, 0, 2, 6, 24, 21, 37, 0, 0, 48, 0, 0, 0, 9, 0, 6, 5, 0, 4, 1, 9, 0, 75, 2, 1, 13, 1, 1, 6, 11, 0, 0, 3, 4, 1, 0, 3, 0, 2, 22, 0, 0, 0, 0, 0, 0, 0, 0, 1, 0, 0, 0, 0, 0, 0, 0, 0, 1, 2, 2, 1, 1, 0, 0, 0, 0, 0, 0, 0, 0, 1, 0, 0, 0, 0, 1, 1, 1, 0, 1, 1, 0, 1, 0, 0, 0, 0, 0, 0, 0, 2, 0, 0, 0, 0, 1, 0, 0, 0, 1, 0, 2, 0, 0, 1, 0, 0, 1, 1, 1, 4, 0, 0, 0, 0, 0, 0, 1, 0, 0, 0, 0, 0, 0, 0, 0, 0, 0, 0, 0, 0, 1, 0, 17, 0, 2, 1, 3, 0, 6, 0, 2, 0, 0, 0, 0, 31, 1, 0, 0, 0, 0, 3, 1, 0, 0, 0, 0, 0, 1, 0, 0, 2, 2, 0, 0, 42, 21, 0, 1, 0, 0, 1, 0, 0, 4, 0, 1, 0, 0, 0, 0, 0, 0, 0, 0, 3, 52, 2, 1, 4, 0, 1, 4, 0, 9, 1, 1, 0, 2, 1, 0, 0, 0, 0, 0, 0, 28, 26, 0, 0, 0, 1, 0, 0, 1, 1, 0, 1, 0, 0, 0, 0, 0, 1, 0, 59, 0, 1, 0, 5, 0, 0, 3, 1, 1, 0, 1, 0, 0, 0, 0, 1, 1, 0, 0, 2, 0, 1, 0, 3, 0, 9, 14, 1, 0, 2, 67, 0, 2, 3, 0, 0, 1, 15, 2, 0, 0, 8, 3, 14, 0, 8, 8, 2, 0, 1, 4, 0, 16, 0, 1, 4, 3, 17, 0, 0, 0, 0, 5, 1, 0, 1, 0, 1, 7, 0, 3, 0, 0, 0, 0, 4, 1, 1, 0, 0, 52, 6, 0, 0, 0, 0, 0, 2, 0, 0, 0, 0, 5, 0, 0, 0, 0, 0, 1, 1, 1, 1, 0, 0, 0, 0, 0, 0, 0, 0, 0, 0, 0, 0, 0, 0, 0, 0, 10, 0, 4, 0, 0, 0, 0, 1, 0, 0, 0, 1, 2, 1, 1, 13, 5, 0, 3, 0, 0, 18, 1, 0, 0, 0, 1, 0, 0, 67, 1, 15, 0, 1, 0, 3, 0, 0, 1, 0, 0, 1, 0, 19, 0, 13, 0, 10, 14, 6, 1, 0, 0, 10, 0, 1, 1, 0, 0, 0, 1, 6, 7, 1, 1, 2, 0, 8, 1, 3, 0, 0, 0, 0, 1, 0, 0, 0, 1, 0, 9, 0, 0, 0, 0, 0, 0, 0, 0, 1, 0, 2, 2, 0, 0, 0, 0, 0, 9, 6, 0, 0, 0, 5, 0, 1, 0, 5, 0, 3, 1, 1, 1, 6, 25, 2, 4, 12, 3, 0, 0, 0, 1, 3, 1, 6, 25, 4, 9, 0, 0, 0, 3, 0, 0, 0, 0, 0, 0, 12, 0, 3, 0, 0, 6, 0, 1, 1, 0, 0, 0, 1, 0, 0, 2, 1, 0, 1, 0, 0, 2, 3, 0, 1, 0, 0, 0, 0, 0, 4, 3, 0, 1, 7, 0, 0, 0, 0, 0, 0, 0, 0, 2, 65, 24, 26, 0, 46, 11, 11, 1, 6, 5, 67, 1, 0, 0, 0, 1, 0, 0, 0, 0, 2, 1, 0, 2, 0, 0, 0, 0, 0, 0, 0, 1, 0, 0, 1, 3, 80, 2, 3, 13, 1, 1, 0, 0, 0, 0, 0, 51, 0, 1, 0, 0, 3, 4, 1, 5, 4, 0, 0, 0, 3, 0, 0, 0, 0, 1, 2, 0, 0, 0, 0, 0, 0, 2, 1, 7, 7, 0, 0, 0, 0, 0, 0, 2, 3, 5, 1, 7, 14, 59, 2, 13, 3, 70, 18, 1, 0, 2, 1, 0, 2, 5, 8, 0, 52, 0, 1, 3, 0, 0, 0, 1, 0, 0, 3, 0, 0, 0, 0, 0, 1, 1, 0, 0, 0, 1, 0, 0, 0, 0, 1, 0, 0, 0, 1, 1, 1, 0, 18, 0, 0, 0, 0, 0, 0, 0, 0, 0, 0, 0, 0, 0, 3, 0, 1, 1, 0, 1, 0, 0, 1, 0, 1, 0, 0, 0, 1, 1, 0, 8, 67, 0, 0, 0, 0, 0, 0, 1, 0, 0, 5, 0, 0, 25, 1, 1, 0, 2, 0, 0, 0, 0, 0, 0, 0, 1, 0, 0, 1, 0, 1, 1, 1, 0, 1, 0, 0, 0, 1, 0, 1, 1, 0, 5, 0, 0, 0, 1, 0, 1, 0, 0, 1, 0, 0, 4, 0, 4, 2, 3, 0, 0, 3, 28, 1, 2, 2, 0, 0, 0, 0, 0, 0, 0, 0, 2, 0, 1, 0, 15, 0, 1, 4, 0, 0, 0, 0, 0, 0, 4, 8, 1, 0, 2, 2, 1, 1, 0, 5, 16, 0, 0, 0, 2, 1, 0, 0, 0, 0, 0, 0, 0, 0, 0, 2, 5, 2, 0, 0, 2, 0, 0, 10, 0, 0, 1, 0, 0, 1, 0, 12, 3, 1, 1, 0, 0, 0, 0, 0, 0, 0, 0, 0, 0, 0, 1, 0, 56, 2, 5, 10, 2, 0, 0, 0, 0, 0, 1, 0, 0, 1, 1, 2, 0, 1, 1, 9, 1, 0, 3, 11, 2, 0, 1, 0, 0, 19, 44, 5, 17, 8, 11, 0, 0, 1, 1, 0, 3, 0, 0, 3, 7, 1, 0, 2, 0, 0, 0, 0, 2, 0, 2, 12, 1, 1, 0, 0, 0, 0, 4, 0, 0, 0, 1, 0, 0, 0, 0, 0, 0, 0, 0, 0, 0, 0, 0, 0, 0, 0, 0, 0, 0, 0, 37, 0, 1, 0, 0, 0, 0, 0, 0, 0, 2, 2, 1, 26, 1, 0, 0, 0, 11, 4, 8, 15, 0, 5, 0, 1, 35, 8, 30, 7, 0, 9, 2, 0, 1, 0, 1, 1, 0, 0, 3, 0, 5, 0, 0, 0, 0, 2, 0, 11, 0, 0, 0, 0, 0, 0, 7, 0, 14, 3, 1, 1, 1, 2, 0, 0, 16, 0, 1, 2, 0, 11, 0, 0, 6, 2, 5, 1, 0, 0, 0, 102, 6, 9, 2, 1, 62, 19, 1, 0, 14, 10, 0, 12, 13, 0, 6, 5, 5, 8, 0, 21, 1, 0, 0, 34, 0, 0, 1, 0, 0, 2, 15, 0, 10, 1, 0, 0, 0, 8, 7, 3, 2, 1, 3, 0, 0, 0, 0, 11, 0, 1, 0, 0, 0, 1, 0, 0, 0, 0, 1, 1, 0, 0, 0, 0, 0, 0, 0, 0, 37, 0, 1, 0, 0, 0, 0, 0, 3, 0, 2, 3, 5, 0, 7, 15, 8, 0, 0, 1, 2, 0, 8, 1, 0, 7, 0, 0, 0, 1, 1, 0, 0, 4, 0, 0, 1, 0, 0, 0, 0, 0, 0, 0, 0, 1, 0, 1, 0, 0, 0, 0, 0, 0, 0, 0, 1, 1, 0, 2, 9, 0, 0, 0, 0, 0, 1, 1, 0, 0, 1, 0, 0, 0, 0, 0, 1, 0, 0, 0, 0, 0, 0, 0, 0, 0, 0, 0, 0, 0, 0, 2, 0, 1, 0, 0, 0, 0, 0, 0, 0, 0, 0, 0, 9, 0, 1, 0, 0, 3, 4, 1, 0, 0, 0, 0, 0, 0, 0, 0, 0, 37, 0, 0, 0, 0, 0, 0, 0, 0, 11, 2, 0, 0, 0, 1, 0, 0, 5, 4, 0, 0, 35, 0, 1, 0, 0, 15, 0, 1, 0, 0, 0, 0, 1, 0, 0, 0, 0, 0, 3, 0, 3, 34, 24, 1, 2, 1, 1, 1, 5, 1, 14, 0, 0, 3, 2, 0, 2, 2, 0, 0, 0, 3, 4, 11, 1, 30, 1, 2, 0, 29, 6, 3, 9, 11, 0, 6, 11, 0, 1, 9, 25, 72, 75, 8, 4, 42, 3, 0, 1, 2, 0, 2, 0, 0, 0, 0, 0, 0, 1, 1, 0, 0, 0, 0, 1, 0, 27, 40, 2, 0, 0, 0, 0, 0, 0, 0, 0, 0, 0, 0, 1, 0, 0, 0, 0, 0, 0, 0, 0, 1, 3, 0, 0, 1, 0, 0, 0, 1, 1, 0, 0, 0, 0, 0, 0, 0, 0, 0, 0, 0, 0, 0, 2, 0, 0, 0, 0, 0, 0, 0, 0, 0, 0, 1, 0, 0, 0, 0, 2, 1, 1, 0, 1, 1, 1, 1, 2, 3, 1, 7, 6, 0, 0, 0, 0, 3, 0, 0, 0, 0, 0, 1, 0, 0, 0, 0, 1, 0, 0, 0, 0, 0, 0, 2, 0, 0, 0, 1, 0, 1, 0, 0, 8, 2, 1, 0, 0, 1, 0, 0, 26, 6, 11, 5, 2, 0, 1, 0, 28, 1, 2, 1, 0, 0, 0, 1, 0, 0, 0, 0, 1, 0, 1, 0, 0, 0, 0, 0, 1, 1, 0, 0, 0, 1, 0, 0, 0, 0, 0, 0, 1, 0, 1, 6, 1, 0, 1, 0, 0, 0, 0, 0, 1, 0, 1, 0, 0, 1, 0, 0, 0, 0, 0, 2, 0, 1, 0, 0, 0, 0, 0, 1, 0, 0, 0, 0, 0, 3, 0, 0, 1, 0, 0, 0, 0, 0, 0, 0, 0, 0, 2, 0, 0, 0, 2, 1, 0, 1, 0, 0, 0, 0, 0, 0, 0, 0, 0, 3, 0, 0, 8, 0, 0, 0, 0, 3, 0, 0, 0, 0, 0, 0, 1, 0, 2, 1, 0, 4, 0, 1, 0, 4, 0, 2, 1, 2, 5, 1, 0, 6, 0, 7, 2, 1, 0, 0, 0, 0, 0, 1, 0, 0, 0, 0, 0, 0, 2, 4, 0, 0, 9, 0, 1, 0, 0, 0, 0, 0, 0, 0, 1, 0, 8, 1, 1, 8, 0, 0, 0, 0, 3, 0, 3, 0, 6, 1, 0, 2, 0, 0, 0, 0, 15, 0, 0, 0, 0, 0, 1, 1, 1, 8, 0, 0, 0, 0, 1, 0, 3, 10, 0, 0, 1, 0, 0, 0, 0, 0, 0, 1, 0, 0, 0, 0, 2, 6, 13, 3, 4, 77, 0, 1, 0, 0, 0, 0, 0, 0, 0, 0, 1, 0, 0, 0, 0, 3, 1, 2, 0, 1, 0, 0, 0, 0, 0, 1, 0, 0, 0, 0, 0, 2, 0, 2, 0, 0, 0, 1, 0, 0, 2, 0, 1, 0, 1, 0, 0, 1, 1, 30, 0, 1, 1, 0, 1, 17, 7, 0, 6, 6, 19, 16, 29, 0, 14, 7, 5, 0, 11, 0, 1, 0, 5, 6, 0, 0, 0, 1, 1, 2, 0, 0, 0, 5, 1, 2, 0, 1, 1, 0, 2, 7, 0, 0, 4, 5, 0, 0, 0, 47, 0, 0, 11, 17, 1, 0, 0, 0, 0, 0, 0, 0, 9, 0, 0, 4, 0, 9, 4, 2, 0, 3, 4, 22, 12, 12, 0, 0, 2, 0, 0, 0, 0, 0, 1, 5, 0, 1, 0, 1, 10, 0, 2, 0, 0, 0, 0, 2, 0, 1, 0, 0, 0, 0, 0, 0, 1, 1, 0, 1, 0, 0, 0, 0, 1, 0, 0, 0, 0, 0, 0, 0, 1, 0, 0, 0, 0, 0, 1, 0, 0, 0, 0, 0, 0, 0, 0, 1, 0, 0, 0, 0, 0, 0, 4, 0, 0, 0, 0, 0, 0, 0, 0, 1, 3, 1, 10, 1, 19, 1, 1, 0, 1, 0, 0, 167, 6, 0, 0, 5, 2, 18, 3, 0, 6, 168, 2, 1, 0, 0, 0, 1, 0, 0, 0, 0, 0, 0, 7, 0, 0, 3, 1, 0, 1, 4, 6, 2, 1, 1, 21, 6, 0, 1, 0, 1, 0, 0, 0, 0, 1, 0, 1, 1, 1, 0, 0, 1, 17, 0, 1, 0, 1, 1, 0, 0, 8, 0, 10, 1, 0, 4, 26, 0, 0, 2, 5, 0, 4, 0, 2, 4, 0, 40, 0, 2, 3, 8, 2, 0, 0, 3, 0, 2, 1, 0, 2, 0, 2, 5, 7, 3, 12, 1, 22, 5, 0, 0, 0, 0, 0, 10, 0, 0, 3, 4, 0, 0, 5, 10, 1, 4, 5, 2, 9, 3, 4, 0, 2, 7, 1, 6, 1, 6, 1, 32, 3, 2, 4, 4, 45, 26, 0, 0, 1, 0, 1, 31, 47, 4, 0, 1, 2, 2, 1, 37, 0, 2, 63, 56, 64, 15, 6, 9, 3, 9, 42, 35, 9, 4, 0, 0, 0, 0, 0, 0, 0, 0, 0, 0, 6, 0, 0, 2, 0, 0, 2, 1, 1, 6, 15, 0, 7, 1, 1, 2, 0, 0, 0, 2, 0, 1, 0, 0, 0, 0, 0, 1, 0, 0, 3, 0, 25, 1, 0, 0, 0, 0, 0, 2, 0, 1, 2, 0, 2, 0, 0, 0, 0, 0, 1, 0, 0, 0, 0, 0, 0, 0, 0, 0, 0, 0, 3, 0, 0, 0, 1, 2, 0, 0, 1, 0, 0, 0, 0, 0, 0, 1, 2, 4, 0, 0, 1, 0, 0, 0, 0, 0, 1, 1, 0, 0, 0, 0, 0, 0, 0, 0, 0, 0, 0, 1, 0, 0, 0, 0, 0, 0, 0, 0, 0, 1, 0, 1, 0, 0, 1, 0, 0, 0, 0, 0, 0, 20, 1, 0, 0, 0, 0, 0, 0, 0, 0, 0, 0, 0, 0, 0, 0, 0, 0, 1, 3, 1, 0, 0, 0, 1, 1, 0, 0, 0, 1, 0, 0, 0, 0, 0, 0, 0, 0, 0, 0, 0, 0, 1, 0, 0, 1, 0, 0, 1, 0, 0, 0, 0, 0, 1, 0, 0, 1, 0, 0, 0, 1, 0, 0, 0, 0, 0, 14, 0, 4, 16, 0, 3, 0, 0, 0, 0, 0, 0, 0, 0, 0, 0, 6, 0, 1, 1, 1, 1, 0, 4, 0, 5, 8, 1, 0, 0, 0, 2, 11, 0, 33, 1, 1, 2, 1, 1, 0, 0, 0, 1, 14, 2, 2, 4, 7, 3, 6, 22, 7, 6, 0, 0, 0, 40, 54, 25, 10, 10, 32, 6, 10, 2, 0, 37, 37, 9, 0, 3, 4, 9, 4, 40, 2, 0, 1, 0, 2, 0, 0, 2, 0, 0, 0, 0, 2, 0, 0, 2, 1, 0, 0, 15, 4, 0, 0, 2, 0, 0, 1, 3, 0, 1, 0, 1, 0, 0, 0, 1, 0, 0, 0, 7, 0, 0, 1, 0, 1, 1, 1, 0, 0, 11, 0, 0, 12, 0, 0, 1, 0, 0, 4, 0, 3, 0, 2, 0, 3, 2, 2, 0, 0, 0, 3, 3, 0, 1, 0, 3, 0, 45, 0, 0, 0, 0, 0, 0, 0, 0, 13, 0, 0, 1, 0, 0, 1, 0, 0, 1, 1, 0, 3, 1, 3, 2, 1, 1, 0, 0, 1, 0, 1, 0, 0, 3, 0, 0, 10, 0, 0, 13, 0, 0, 0, 0, 1, 2, 0, 0, 0, 0, 3, 1, 8, 3, 0, 3, 13, 1, 0, 2, 40, 22, 27, 3, 1, 0, 4, 0, 24, 0, 2, 4, 0, 20, 5, 0, 0, 0, 20, 0, 8, 4, 2, 2, 0, 1, 0, 0, 1, 0, 0, 11, 5, 11, 3, 0, 1, 1, 0, 0, 12, 0, 2, 0, 4, 0, 0, 0, 4, 0, 14, 0, 0, 0, 2, 0, 2, 0, 0, 0, 0, 7, 0, 1, 0, 0, 0, 2, 0, 0, 0, 21, 5, 2, 1, 0, 0, 1, 0, 0, 0, 2, 0, 0, 1, 0, 0, 0, 2, 1, 6, 1, 0, 0, 0, 0, 0, 1, 0, 0, 0, 0, 0, 0, 0, 0, 0, 1, 5, 0, 1, 4, 3, 2, 0, 1, 0, 11, 6, 7, 0, 1, 23, 24, 1, 9, 5, 5, 7, 55, 8, 5, 5, 2, 5, 5, 4, 13, 4, 14, 19, 69, 47, 57, 15, 43, 68, 56, 22, 55, 32, 10, 0, 47, 0, 2, 0, 0, 5, 7, 1, 0, 69, 4, 2, 0, 4, 4, 0, 6, 1, 2, 15, 0, 0, 0, 0, 0, 1, 1, 60, 1, 0, 6, 1, 0, 0, 12, 1, 3, 0, 1, 2, 0, 0, 0, 0, 0, 0, 0, 0, 0, 0, 3, 1, 0, 0, 0, 0, 0, 0, 0, 0, 1, 22, 6, 2, 2, 1, 2, 1, 6, 25, 0, 16, 3, 0, 1, 3, 5, 2, 1, 4, 16, 5, 6, 0, 0, 2, 0, 2, 0, 6, 0, 0, 0, 0, 0, 0, 0, 0, 0, 0, 0, 0, 0, 0, 0, 0, 1, 1, 0, 0, 0, 0, 1, 0, 0, 0, 3, 1, 1, 0, 0, 0, 0, 0, 0, 0, 4, 2, 0, 0, 0, 1, 0, 0, 5, 1, 2, 1, 0, 0, 4, 0, 0, 0, 0, 1, 0, 0, 1, 0, 1, 0, 0, 0, 3, 3, 6, 0, 0, 0, 0, 0, 3, 0, 0, 0, 0, 0, 6, 0, 0, 0, 1, 0, 0, 1, 0, 0, 0, 0, 1, 2, 1, 0, 0, 0, 0, 0, 0, 0, 0, 1, 0, 0, 0, 0, 0, 0, 0, 0, 0, 0, 1, 0, 0, 0, 0, 0, 0, 0, 0, 0, 0, 0, 0, 0, 0, 1, 0, 1, 0, 0, 0, 0, 0, 0, 3, 1, 1, 0, 0, 2, 0, 0, 5, 1, 0, 0, 0, 0, 0, 1, 0, 1, 0, 0, 4, 1, 12, 0, 0, 0, 0, 0, 1, 0, 3, 2, 3, 4, 2, 0, 1, 6, 0, 2, 2, 4, 8, 5, 5, 7, 1, 0, 1, 7, 6, 0, 7, 1, 1, 8, 0, 3, 5, 4, 5, 2, 104, 104, 0, 0, 0, 0, 3, 0, 0, 0, 0, 45, 0, 0, 19, 0, 33, 1, 17, 10, 1, 8, 0, 11, 0, 0, 0, 0, 0, 0, 0, 0, 0, 0, 0, 1, 1, 0, 0, 0, 0, 4, 0, 1, 0, 0, 0, 0, 1, 0, 1, 0, 0, 0, 0, 0, 0, 0, 0, 3, 1, 0, 0, 0, 0, 0, 0, 0, 0, 0, 1, 4, 0, 0, 0, 0, 0, 0, 0, 2, 0, 0, 0, 0, 1, 1, 0, 1, 0, 0, 0, 0, 1, 0, 1, 4, 0, 0, 0, 0, 0, 0, 0, 1, 0, 0, 10, 1, 1, 0, 0, 0, 1, 0, 0, 0, 0, 0, 0, 0, 0, 0, 0, 16, 13, 1, 0, 1, 0, 0, 0, 0, 1, 2, 0, 0, 0, 0, 0, 0, 1, 0, 1, 0, 1, 7, 0, 0, 0, 0, 0, 0, 0, 0, 10, 0, 1, 3, 0, 0, 0, 0, 0, 0, 0, 0, 5, 0, 1, 1, 3, 0, 0, 0, 0, 0, 0, 1, 0, 0, 2, 0, 0, 1, 0, 0, 0, 0, 0, 0, 0, 0, 1, 1, 0, 0, 0, 0, 0, 0, 0, 1, 7, 1, 0, 0, 0, 0, 0, 0, 0, 0, 0, 0, 0, 1, 1, 17, 0, 0, 0, 0, 2, 2, 1, 0, 1, 0, 0, 1, 3, 0, 0, 1, 1, 0, 0, 0, 0, 0, 0, 0, 0, 0, 0, 1, 0, 3, 0, 0, 0, 0, 0, 1, 1, 0, 1, 1, 0, 1, 4, 1, 2, 0, 0, 0, 0, 1, 0, 22, 0, 1, 0, 0, 0, 0, 0, 0, 0, 0, 0, 8, 0, 0, 0, 0, 6, 0, 6, 0, 0, 0, 0, 0, 0, 0, 0, 1, 0, 3, 1, 0, 0, 0, 0, 0, 1, 0, 0, 0, 0, 1, 1, 0, 0, 0, 1, 0, 0, 0, 0, 2, 0, 0, 0, 0, 1, 0, 0, 0, 0, 0, 0, 0, 0, 7, 4, 0, 1, 2, 0, 0, 0, 0, 1, 0, 1, 0, 0, 0, 2, 0, 1, 1, 0, 0, 0, 0, 1, 1, 0, 0, 0, 0, 0, 1, 0, 1, 0, 0, 0, 0, 0, 0, 0, 0, 0, 0, 0, 0, 0, 0, 0, 0, 0, 0, 1, 2, 2, 5, 0, 4, 0, 0, 6, 0, 1, 1, 1, 0, 0, 0, 0, 0, 0, 0, 0, 0, 1, 0, 0, 0, 2, 0, 0, 0, 0, 0, 0, 0, 1, 1, 1, 0, 0, 0, 1, 0, 1, 0, 0, 0, 1, 2, 0, 0, 0, 0, 0, 4, 0, 0, 1, 2, 1, 0, 0, 1, 0, 0, 0, 0, 0, 0, 0, 2, 0, 0, 4, 0, 0, 3, 1, 0, 1, 0, 1, 0, 1, 0, 0, 0, 0, 0, 0, 0, 0, 0, 0, 1, 1, 0, 0, 0, 0, 0, 1, 2, 0, 0, 6, 0, 0, 0, 0, 5, 5, 0, 0, 2, 0, 0, 0, 0, 2, 0, 4, 0, 0, 0, 0, 7, 4, 3, 2, 0, 0, 1, 1, 0, 9, 9, 9, 1, 5, 0, 2, 12, 2, 3, 1, 7, 0, 1, 2, 3, 0, 0, 0, 2, 0, 4, 3, 2, 7, 6, 3, 0, 1, 1, 0, 2, 2, 5, 9, 0, 0, 0, 0, 0, 0, 0, 0, 1, 0, 1, 0, 0, 0, 0, 0, 0, 0, 0, 0, 0, 0, 0, 1, 0, 1, 0, 0, 0, 1, 0, 0, 0, 0, 1, 0, 0, 0, 0, 1, 0, 0, 4, 0, 0, 0, 0, 0, 0, 1, 0, 0, 0, 0, 1, 2, 0, 0, 0, 0, 1, 6, 0, 0, 8, 1, 0, 0, 1, 104, 0, 0, 0, 2, 0, 3, 0, 0, 0, 0, 4, 1, 3, 1, 0, 2, 4, 1, 0, 0, 8, 0, 3, 3, 0, 0, 0, 9, 4, 1, 0, 0, 0, 0, 3, 0, 0, 0, 0, 1, 0, 0, 0, 0, 1, 0, 0, 0, 6, 1, 4, 1, 0, 0, 4, 5, 0, 0, 0, 0, 0, 3, 0, 0, 0, 0, 9, 0, 0, 0, 3, 0, 2, 1, 2, 12, 0, 2, 0, 0, 0, 1, 0, 3, 1, 0, 1, 6, 0, 1, 0, 0, 3, 1, 0, 0, 0, 0, 1, 0, 19, 0, 0, 5, 3, 1, 10, 0, 10, 3, 0, 2, 13, 39, 0, 2, 0, 2, 5, 0, 1, 0, 17, 4, 3, 79, 2, 4, 0, 0, 56, 8, 0, 6, 1, 0, 1, 0, 0, 0, 0, 1, 6, 1, 1, 1, 1, 0, 3, 0, 2, 0, 0, 0, 2, 9, 2, 1, 15, 59, 2, 0, 0, 1, 12, 1, 0, 5, 21, 1, 33, 20, 4, 3, 0, 10, 9, 10, 2, 9, 5, 7, 0, 1, 0, 0, 0, 1, 1, 0, 0, 5, 0, 3, 0, 0, 0, 0, 0, 0, 0, 4, 0, 0, 2, 3, 0, 0, 0, 1, 0, 0, 1, 0, 0, 0, 0, 0, 1, 0, 1, 0, 0, 0, 0, 1, 2, 0, 1, 0, 0, 0, 0, 0, 0, 0, 0, 0, 0, 0, 0, 0, 0, 0, 2, 0, 0, 0, 0, 0, 3, 2, 0, 1, 0, 3, 3, 3, 1, 0, 0, 4, 0, 1, 0, 0, 1, 0, 0, 1, 0, 0, 0, 3, 0, 0, 0, 2, 0, 0, 0, 1, 0, 0, 0, 2, 0, 0, 1, 20, 1, 1, 0, 0, 0, 0, 1, 1, 20, 0, 0, 1, 0, 0, 0, 0, 0, 0, 0, 4, 0, 0, 0, 0, 1, 0, 0, 0, 0, 0, 1, 4, 0, 0, 1, 1, 0, 0, 5, 0, 0, 0, 3, 5, 0, 0, 1, 0, 0, 0, 0, 1, 0, 0, 1, 0, 1, 1, 0, 0, 0, 2, 0, 1, 0, 0, 8, 2, 0, 0, 1, 1, 1, 0, 0, 1, 2, 1, 6, 0, 1, 0, 0, 0, 1, 0, 0, 0, 1, 34, 0, 0, 0, 3, 0, 1, 31, 1, 1, 1, 0, 0, 2, 1, 1, 0, 10, 2, 2, 5, 1, 1, 0, 2, 0, 0, 7, 0, 0, 0, 0, 11, 0, 0, 7, 0, 24, 0, 0, 2, 0, 0, 12, 1, 0, 1, 0, 0, 0, 1, 1, 2, 0, 0, 0, 0, 0, 0, 0, 5, 0, 0, 2, 8, 21, 4, 1, 5, 0, 0, 1, 2, 8, 0, 1, 1, 0, 0, 0, 3, 17, 0, 11, 0, 0, 2, 5, 0, 1, 8, 6, 3, 2, 0, 2, 2, 1, 12, 1, 19, 11, 6, 2, 2, 18, 0, 1, 5, 0, 3, 2, 4, 2, 8, 25, 7, 0, 6, 5, 4, 1, 1, 2, 1, 13, 0, 4, 2, 3, 2, 6, 1, 8, 0, 3, 2, 2, 10, 2, 3, 4, 1, 1, 8, 0, 2, 16, 4, 0, 0, 9, 6, 1, 4, 1, 8, 33, 19, 3, 0, 5, 5, 2, 2, 2, 6, 3, 3, 1, 4, 0, 7, 3, 1, 5, 19, 1, 3, 13, 1, 8, 6, 24, 7, 0, 4, 10, 2, 5, 2, 1, 3, 4, 0, 15, 2, 17, 17, 13, 13, 0, 2, 1, 3, 20, 1, 1, 8, 2, 2, 9, 1, 4, 30, 1, 12, 9, 1, 82, 2, 35, 0, 114, 23, 6, 11, 0, 6, 28, 0, 5, 63, 8, 32, 3, 2, 8, 3, 12, 0, 5, 0, 27, 3, 2, 19, 7, 14, 17, 41, 108, 0, 1, 1, 0, 0, 0, 1, 0, 0, 0, 0, 0, 0, 2, 1, 0, 0, 0, 0, 0, 1, 1, 0, 0, 1, 0, 1, 0, 0, 0, 0, 0, 0, 0, 0, 0, 0, 0, 0, 0, 1, 1, 0, 0, 0, 0, 0, 1, 0, 0, 1, 0, 0, 6, 0, 0, 0, 0, 0, 1, 0, 1, 0, 0, 1, 0, 0, 1, 4, 0, 2, 4, 0, 1, 1, 12, 0, 0, 0, 0, 2, 0, 3, 1, 0, 3, 3, 0, 0, 1, 0, 0, 0, 1, 0, 0, 0, 0, 1, 0, 0, 0, 0, 0, 0, 0, 0, 1, 0, 2, 0, 0, 0, 1, 0, 0, 0, 0, 0, 1, 0, 1, 2, 0, 0, 6, 0, 9, 0, 7, 3, 0, 7, 0, 0, 6, 29, 5, 8, 0, 5, 1, 29, 11, 7, 24, 13, 12, 45, 5, 3, 69, 2, 2, 8, 17, 12, 10, 8, 32, 51, 54, 25, 24, 2, 34, 39, 4, 6, 157, 7, 10, 73, 3, 0, 2, 1, 4, 0, 0, 2, 1, 1, 0, 9, 0, 0, 3, 0, 0, 0, 0, 3, 2, 0, 0, 0, 18, 2, 5, 1, 4, 2, 0, 51, 15, 11, 3, 1, 8, 6, 10, 3, 28, 5, 2, 4, 7, 3, 1, 3, 3, 0, 15, 10, 0, 3, 2, 1, 2, 4, 46, 14, 8, 29, 12, 63, 1, 2, 0, 5, 12, 6, 8, 5, 13, 1, 46, 13, 18, 1, 31, 5, 8, 6, 2, 0, 0, 0, 1, 0, 0, 0, 0, 0, 0, 0, 1, 0, 0, 5, 2, 1, 2, 0, 0, 1, 0, 8, 0, 14, 1, 0, 2, 0, 2, 4, 0, 0, 1, 4, 0, 3, 22, 5, 0, 1, 0, 0, 0, 0, 0, 0, 0, 0, 0, 0, 0, 0, 3, 7, 9, 0, 0, 1, 42, 0, 1, 0, 1, 0, 9, 0, 1, 3, 0, 0, 1, 1, 1, 0, 0, 0, 0, 0, 1, 0, 0, 2, 0, 0, 0, 1, 0, 1, 0, 0, 4, 0, 0, 2, 3, 1, 2, 13, 15, 0, 4, 6, 5, 2, 4, 1, 0, 1, 0, 0, 0, 5, 0, 0, 1, 0, 1, 0, 0, 0, 0, 0, 0, 0, 0, 0, 0, 0, 3, 0, 0, 10, 22, 2, 13, 0, 0, 1, 6, 0, 8, 1, 5, 3, 0, 9, 0, 3, 0, 5, 0, 3, 0, 0, 26, 11, 25, 0, 8, 17, 3, 2, 0, 13, 0, 1, 6, 2, 0, 1, 0, 0, 0, 0, 3, 1, 2, 6, 4, 0, 2, 0, 0, 0, 22, 0, 0, 5, 13, 7, 0, 0, 1, 1, 22, 4, 5, 0, 3, 34, 5, 1, 2, 4, 16, 96, 78, 0, 0, 0, 0, 0, 0, 0, 1, 0, 0, 0, 0, 0, 0, 0, 1, 1, 9, 0, 1, 2, 17, 8, 6, 16, 5, 7, 6, 3, 2, 0, 0, 1, 0, 0, 0, 0, 9, 0, 0, 0, 0, 0, 1, 1, 0, 2, 1, 7, 2, 0, 1, 3, 7, 7, 0, 1, 0, 4, 0, 11, 10, 13, 2, 11, 2, 1, 0, 1, 5, 0, 0, 0, 6, 0, 0, 1, 6, 4, 26, 26, 3, 12, 2, 2, 0, 5, 0, 3, 1, 0, 0, 0, 0, 0, 3, 2, 9, 25, 3, 15, 0, 0, 0, 7, 1, 14, 3, 1, 21, 1, 1, 1, 11, 2, 2, 3, 5, 0, 4, 36, 1, 10, 0, 2, 2, 3, 16, 0, 0, 26, 0, 13, 0, 0, 0, 0, 13, 9, 22, 1, 10, 7, 4, 15, 0, 45, 9, 1, 1, 0, 1, 0, 0, 4, 0, 0, 0, 0, 0, 0, 2, 0, 5, 0, 1, 0, 0, 1, 0, 3, 0, 0, 0, 0, 6, 0, 1, 2, 0, 0, 0, 0, 1, 1, 0, 0, 0, 0, 4, 0, 0, 0, 1, 0, 0, 2, 0, 0, 1, 0, 0, 0, 0, 0, 0, 0, 0, 0, 0, 0, 0, 1, 0, 0, 0, 1, 0, 0, 1, 1, 0, 3, 0, 0, 1, 0, 0, 1, 0, 1, 0, 8, 0, 0, 2, 6, 0, 8, 1, 0, 38, 3, 1, 11, 20, 2, 0, 0, 0, 1, 0, 0, 1, 0, 0, 0, 0, 0, 0, 0, 0, 1, 0, 0, 2, 0, 0, 0, 0, 0, 1, 1, 0, 0, 0, 0, 0, 1, 0, 0, 0, 0, 0, 0, 0, 0, 0, 0, 0, 1, 0, 1, 0, 5, 0, 0, 0, 0, 0, 0, 0, 1, 0, 1, 0, 0, 0, 3, 1, 1, 0, 0, 0, 0, 1, 0, 0, 0, 1, 0, 0, 1, 0, 0, 0, 0, 1, 0, 0, 0, 0, 0, 0, 0, 8, 5, 0, 0, 0, 0, 1, 0, 0, 0, 0, 0, 0, 0, 0, 0, 0, 0, 0, 0, 0, 1, 0, 1, 0, 0, 0, 0, 1, 0, 0, 0, 0, 0, 0, 0, 0, 0, 0, 0, 0, 0, 0, 1, 1, 1, 0, 0, 0, 2, 0, 0, 0, 0, 0, 0, 1, 0, 5, 0, 0, 5, 0, 0, 0, 1, 0, 1, 0, 1, 0, 0, 1, 0, 0, 1, 0, 0, 0, 0, 0, 0, 0, 0, 0, 2, 0, 1, 0, 0, 0, 1, 0, 0, 0, 0, 0, 0, 0, 0, 0, 0, 1, 1, 0, 1, 0, 0, 0, 0, 0, 0, 0, 1, 0, 0, 0, 0, 1, 0, 0, 0, 0, 0, 0, 6, 1, 2, 0, 1, 6, 2, 0, 0, 0, 0, 1, 1, 0, 4, 0, 4, 2, 13, 0, 4, 10, 4, 0, 0, 0, 3, 0, 4, 6, 1, 3, 110, 0, 2, 2, 0, 0, 5, 1, 0, 0, 0, 0, 5, 0, 1, 0, 0, 3, 4, 8, 0, 4, 5, 13, 0, 29, 1, 0, 1, 0, 0, 0, 5, 0, 1, 0, 4, 0, 0, 13, 5, 2, 0, 3, 0, 4, 1, 8, 5, 2, 13, 1, 4, 2, 7, 0, 0, 0, 4, 0, 0, 0, 0, 0, 0, 1, 0, 0, 1, 0, 0, 1, 0, 0, 0, 0, 1, 0, 0, 0, 1, 0, 0, 1, 1, 3, 18, 0, 0, 0, 0, 0, 0, 0, 1, 21, 8, 1, 5, 0, 0, 0, 1, 0, 1, 3, 27, 0, 0, 1, 0, 1, 0, 0, 3, 0, 1, 0, 0, 13, 0, 0, 0, 0, 0, 0, 1, 0, 11, 1, 0, 0, 3, 3, 0, 1, 3, 1, 1, 1, 0, 1, 3, 0, 0, 2, 1, 1, 2, 0, 14, 1, 6, 0, 3, 0, 8, 1, 12, 0, 1, 0, 1, 0, 0, 0, 0, 6, 0, 0, 6, 3, 2, 0, 0, 11, 0, 111, 0, 6, 1, 13, 8, 8, 0, 0, 8, 1, 2, 0, 0, 3, 36, 5, 5, 13, 0, 6, 0, 0, 4, 2, 7, 12, 1, 0, 2, 1, 0, 3, 0, 9, 40, 2, 3, 5, 5, 5, 7, 5, 3, 2, 0, 0, 0, 0, 4, 0, 0, 3, 0, 14, 0, 2, 1, 2, 0, 0, 6, 0, 1, 3, 0, 0, 0, 1, 3, 0, 0, 0, 0, 0, 3, 0, 1, 1, 0, 0, 3, 3, 2, 0, 1, 0, 11, 4, 1, 0, 0, 0, 0, 4, 0, 1, 11, 0, 5, 3, 77, 5, 3, 1, 7, 1, 3, 1, 2, 0, 9, 25, 3, 0, 1, 0, 24, 56, 1, 1, 7, 5, 1, 0, 1, 2, 0, 0, 0, 2, 0, 1, 0, 2, 0, 0, 0, 0, 0, 0, 4, 0, 0, 0, 0, 0, 0, 0, 19, 1, 3, 0, 1, 0, 0, 0, 0, 0, 0, 0, 0, 3, 4, 3, 2, 3, 1, 1, 1, 0, 0, 2, 1, 4, 8, 1, 0, 0, 6, 0, 2, 12, 0, 1, 1, 2, 0, 20, 0, 4, 0, 0, 0, 1, 1, 1, 0, 0, 0, 0, 0, 3, 0, 0, 0, 0, 1, 1, 0, 0, 0, 2, 1, 0, 0, 0, 1, 16, 3, 0, 1, 2, 1, 2, 4, 11, 0, 4, 7, 5, 5, 0, 11, 1, 2, 39, 0, 6, 2, 0, 0, 0, 6, 0, 21, 3, 7, 5, 14, 0, 13, 16, 10, 4, 23, 3, 3, 2, 0, 0, 1, 2, 1, 0, 0, 5, 17, 1, 0, 0, 6, 0, 1, 0, 0, 0, 8, 2, 14, 1, 0, 2, 0, 0, 1, 2, 1, 1, 0, 0, 1, 1, 0, 0, 0, 0, 0, 1, 0, 0, 0, 0, 1, 1, 2, 0, 0, 0, 0, 78, 5, 0, 0, 7, 1, 1, 0, 0, 0, 0, 0, 0, 0, 0, 0, 0, 0, 0, 0, 0, 0, 2, 0, 4, 0, 0, 0, 15, 0, 4, 0, 0, 0, 7, 7, 0, 0, 2, 0, 0, 0, 1, 1, 0, 4, 0, 1, 0, 0, 0, 2, 0, 0, 0, 0, 0, 0, 4, 0, 5, 1, 4, 7, 2, 4, 0, 3, 0, 2, 1, 1, 2, 0, 0, 0, 0, 0, 0, 0, 0, 8, 3, 2, 0, 1, 0, 0, 0, 0, 0, 1, 0, 4, 0, 5, 2, 5, 10, 48, 0, 0, 0, 0, 1, 0, 0, 0, 0, 0, 0, 0, 0, 0, 0, 0, 10, 0, 0, 0, 0, 0, 0, 0, 1, 2, 0, 1, 0, 0, 1, 0, 0, 0, 0, 0, 0, 0, 1, 1, 0, 0, 1, 0, 0, 0, 0, 0, 0, 2, 0, 1, 29, 0, 0, 2, 3, 1, 0, 0, 0, 0, 0, 1, 0, 0, 0, 0, 0, 0, 9, 0, 0, 0, 1, 5, 8, 26, 1, 0, 5, 1, 23, 7, 5, 0, 1, 0, 10, 0, 3, 0, 0, 0, 0, 0, 0, 0, 0, 0, 1, 4, 0, 0, 0, 1, 0, 0, 0, 0, 1, 0, 0, 0, 0, 1, 1, 0, 0, 0, 0, 0, 1, 0, 0, 0, 0, 0, 0, 1, 0, 0, 3, 0, 1, 0, 1, 3, 0, 0, 0, 1, 0, 0, 0, 0, 0, 0, 0, 0, 1, 0, 0, 0, 0, 1, 0, 0, 0, 0, 1, 0, 0, 1, 0, 0, 0, 0, 0, 0, 0, 0, 1, 0, 1, 0, 1, 1, 0, 0, 0, 1, 0, 1, 4, 0, 0, 0, 0, 1, 0, 0, 0, 1, 0, 0, 0, 0, 0, 0, 0, 0, 1, 0, 2, 0, 0, 0, 0, 0, 0, 1, 0, 0, 0, 0, 1, 1, 0, 2, 5, 0, 1, 0, 1, 0, 0, 0, 1, 1, 0, 0, 0, 0, 0, 0, 0, 0, 1, 0, 1, 0, 2, 0, 3, 0, 0, 2, 18, 1, 0, 2, 0, 0, 0, 0, 0, 0, 0, 0, 0, 0, 5, 2, 0, 0, 0, 0, 0, 7, 1, 1, 0, 0, 0, 0, 0, 1, 0, 1, 14, 0, 1, 0, 0, 1, 0, 1, 0, 10, 0, 0, 0, 1, 0, 0, 0, 0, 0, 1, 2, 0, 0, 0, 0, 0, 0, 0, 0, 0, 0, 0, 1, 0, 2, 0, 0, 0, 1, 0, 1, 6, 0, 0, 0, 0, 0, 0, 2, 0, 0, 0, 0, 2, 0, 0, 1, 0, 1, 8, 0, 2, 2, 0, 0, 7, 0, 3, 0, 0, 0, 5, 1, 0, 0, 0, 0, 0, 0, 0, 0, 0, 0, 0, 0, 0, 0, 0, 0, 0, 0, 0, 0, 2, 0, 0, 1, 9, 0, 1, 1, 0, 2, 0, 3, 0, 1, 0, 0, 0, 2, 0, 1, 0, 0, 0, 1, 0, 0, 0, 10, 1, 0, 12, 1, 0, 0, 0, 1, 1, 0, 1, 62, 0, 0, 1, 5, 0, 0, 0, 0, 0, 1, 0, 0, 0, 0, 0, 3, 0, 0, 1, 0, 1, 0, 0, 1, 1, 0, 0, 0, 0, 0, 0, 0, 1, 1, 0, 0, 0, 1, 0, 0, 0, 1, 0, 1, 0, 1, 0, 0, 0, 0, 0, 0, 0, 0, 0, 0, 0, 0, 0, 0, 0, 0, 0, 6, 1, 0, 0, 0, 0, 0, 0, 0, 0, 0, 0, 0, 0, 1, 1, 0, 0, 1, 0, 0, 1, 1, 0, 0, 3, 0, 0, 0, 2, 0, 1, 0, 3, 0, 0, 0, 0, 0, 0, 0, 0, 0, 0, 0, 0, 1, 0, 0, 0, 1, 15, 0, 0, 2, 0, 0, 0, 0, 13, 0, 0, 0, 0, 0, 0, 6, 0, 0, 1, 1, 0, 0, 0, 0, 0, 0, 1, 0, 0, 0, 0, 0, 1, 0, 0, 0, 0, 0, 2, 0, 0, 1, 0, 0, 1, 15, 1, 1, 4, 0, 1, 1, 0, 0, 0, 0, 0, 0, 0, 0, 0, 6, 4, 0, 0, 0, 0, 0, 0, 0, 0, 7, 0, 3, 0, 0, 0, 0, 0, 0, 0, 0, 0, 0, 0, 1, 5, 0, 0, 0, 0, 0, 0, 0, 0, 0, 0, 2, 0, 0, 0, 0, 6, 0, 1, 0, 0, 0, 0, 0, 1, 1, 1, 0, 0, 0, 0, 0, 2, 0, 0, 1, 0, 0, 0, 0, 0, 1, 1, 0, 1, 12, 0, 2, 1, 0, 0, 0, 1, 0, 0, 0, 0, 0, 0, 6, 1, 1, 0, 1, 0, 0, 0, 10, 1, 1, 1, 1, 0, 0, 1, 0, 2, 0, 1, 0, 0, 0, 0, 0, 0, 0, 1, 0, 0, 0, 0, 0, 0, 0, 0, 1, 2, 1, 0, 4, 3, 6, 2, 1, 2, 1, 2, 2, 3, 1, 0, 2, 0, 33, 1, 0, 5, 1, 1, 2, 0, 3, 15, 1, 2, 1, 5, 2, 0, 2, 2, 0, 0, 0, 3, 0, 0, 29, 0, 0, 0, 0, 0, 0, 0, 4, 4, 0, 8, 22, 22, 0, 2, 1, 1, 42, 42, 0, 0, 1, 0, 0, 0, 1, 2, 0, 9, 1, 0, 0, 0, 0, 3, 0, 0, 0, 0, 0, 1, 1, 0, 0, 0, 0, 4, 0, 0, 2, 15, 0, 0, 0, 5, 6, 3, 0, 0, 1, 2, 8, 0, 11, 2, 3, 3, 0, 2, 2, 2, 0, 0, 0, 1, 4, 1, 0, 0, 0, 0, 0, 0, 1, 9, 2, 2, 2, 8, 1, 10, 24, 0, 0, 0, 0, 0, 0, 0, 7, 1, 0, 0, 3, 1, 0, 0, 1, 5, 0, 2, 47, 4, 4, 4, 27, 23, 4, 0, 7, 3, 2, 4, 0, 1, 4, 3, 2, 42, 6, 5, 7, 53, 10, 6, 8, 4, 3, 9, 130, 22, 8, 12, 13, 7, 1, 0, 0, 33, 0, 4, 1, 15, 24, 7, 36, 16, 3, 4, 0, 18, 55, 41, 25, 3, 22, 1, 29, 130, 1, 0, 22, 0, 3, 1, 0, 1, 50, 1, 0, 0, 0, 0, 3, 0, 0, 0, 1, 1, 1, 0, 0, 1, 0, 0, 0, 3, 0, 0, 1, 5, 0, 0, 0, 2, 3, 0, 0, 1, 0, 3, 0, 0, 1, 0, 0, 20, 0, 0, 0, 1, 20, 0, 0, 0, 0, 0, 0, 1, 0, 0, 0, 9, 0, 0, 5, 0, 0, 0, 1, 2, 1, 0, 0, 1, 1, 1, 1, 0, 0, 0, 0, 1, 0, 0, 1, 1, 1, 4, 0, 0, 0, 0, 1, 0, 1, 1, 0, 0, 0, 1, 0, 1, 0, 0, 1, 1, 1, 0, 0, 0, 3, 0, 0, 0, 0, 0, 0, 0, 0, 1, 0, 0, 0, 0, 0, 2, 0, 0, 1, 0, 0, 1, 0, 8, 0, 0, 0, 1, 0, 0, 0, 0, 0, 1, 0, 1, 0, 0, 2, 0, 1, 1, 1, 0, 0, 0, 0, 0, 0, 0, 0, 0, 9, 1, 0, 1, 0, 0, 0, 4, 0, 0, 2, 0, 0, 1, 0, 0, 6, 5, 0, 0, 0, 0, 0, 3, 0, 2, 0, 0, 0, 0, 0, 0, 1, 0, 0, 0, 0, 2, 1, 0, 0, 2, 9, 0, 0, 1, 1, 0, 1, 0, 0, 0, 3, 0, 17, 0, 0, 2, 0, 0, 0, 0, 3, 2, 0, 0, 1, 1, 1, 0, 0, 1, 0, 10, 2, 0, 1, 1, 0, 0, 7, 1, 0, 0, 1, 33, 33, 3, 0, 4, 4, 4, 5, 2, 0, 9, 8, 3, 9, 7, 7, 0, 0, 7, 2, 3, 4, 31, 23, 57, 50, 6, 1, 23, 5, 0, 0, 0, 1, 0, 0, 0, 2, 0, 1, 0, 1, 0, 2, 17, 0, 25, 0, 1, 5, 0, 1, 0, 0, 3, 0, 1, 9, 0, 1, 0, 2, 4, 0, 0, 0, 0, 5, 88, 0, 1, 2, 0, 2, 6, 0, 0, 0, 1, 0, 0, 0, 0, 0, 0, 0, 1, 0, 0, 1, 2, 0, 0, 0, 0, 0, 1, 1, 0, 0, 0, 0, 0, 0, 2, 1, 0, 0, 0, 0, 0, 3, 0, 0, 1, 0, 51, 4, 0, 0, 0, 0, 7, 2, 6, 7, 2, 2, 0, 0, 0, 3, 4, 1, 1, 1, 2, 72, 1, 9, 15, 4, 0, 15, 0, 1, 0, 0, 1, 0, 0, 1, 1, 2, 2, 10, 1, 0, 7, 1, 0, 96, 7, 0, 0, 0, 0, 0, 0, 1, 0, 0, 1, 0, 1, 2, 2, 0, 0, 0, 0, 2, 21, 0, 12, 0, 1, 8, 1, 3, 0, 0, 0, 1, 0, 1, 0, 11, 3, 4, 1, 0, 0, 1, 0, 0, 0, 0, 0, 2, 2, 9, 0, 0, 39, 0, 0, 0, 0, 1, 0, 0, 0, 0, 0, 5, 0, 1, 0, 0, 0, 0, 5, 0, 1, 0, 13, 2, 1, 1, 16, 0, 3, 0, 0, 20, 16, 1, 1, 1, 0, 1, 0, 1, 0, 1, 1, 2, 1, 0, 2, 0, 0, 0, 2, 0, 11, 5, 2, 2, 21, 0, 18, 0, 2, 1, 67, 6, 0, 0, 1, 0, 0, 47, 0, 0, 7, 0, 0, 0, 0, 0, 0, 5, 2, 3, 0, 1, 0, 0, 3, 0, 0, 0, 3, 0, 0, 1, 0, 5, 6, 0, 0, 2, 0, 1, 0, 0, 0, 0, 16, 0, 4, 0, 0, 7, 0, 0, 0, 4, 0, 0, 0, 0, 0, 0, 0, 2, 7, 0, 68, 0, 7, 0, 0, 0, 7, 1, 4, 0, 13, 0, 34, 0, 0, 0, 1, 2, 1, 7, 13, 5, 24, 0, 3, 1, 0, 0, 8, 2, 0, 4, 0, 4, 0, 22, 0, 4, 0, 0, 0, 0, 3, 0, 3, 10, 10, 0, 5, 2, 1, 2, 22, 65, 37, 5, 1, 7, 1, 267, 0, 0, 0, 1, 3, 0, 0, 9, 0, 0, 0, 4, 4, 0, 12, 3, 68, 5, 0, 14, 0, 6, 2, 0, 2, 3, 3, 25, 28, 31, 7, 3, 1, 3, 2, 129, 3, 13, 5, 25, 53, 1, 56, 28, 17, 21, 27, 6, 4, 0, 0, 0, 11, 0, 0, 0, 0, 0, 5, 0, 1, 0, 1, 2, 0, 0, 0, 0, 0, 0, 0, 0, 0, 0, 0, 0, 1, 0, 0, 5, 0, 1, 1, 4, 0, 1, 0, 0, 0, 0, 0, 1, 0, 0, 0, 0, 0, 0, 0, 5, 1, 1, 0, 0, 0, 1, 0, 4, 0, 0, 0, 1, 0, 1, 1, 0, 0, 4, 0, 0, 0, 0, 1, 4, 0, 0, 0, 0, 1, 0, 1, 14, 0, 5, 0, 1, 0, 2, 1, 0, 7, 11, 5, 0, 2, 1, 0, 0, 0, 0, 0, 0, 0, 0, 0, 0, 4, 1, 0, 1, 1, 0, 0, 4, 3, 0, 0, 0, 0, 0, 0, 1, 3, 8, 0, 0, 0, 0, 0, 5, 5, 1, 0, 1, 1, 1, 2, 1, 0, 30, 24, 33, 3, 2, 6, 3, 1, 2, 0, 38, 8, 3, 5, 0, 1, 2, 7, 26, 0, 3, 0, 2, 0, 0, 0, 0, 2, 0, 0, 3, 0, 2, 2, 1, 0, 7, 0, 13, 0, 1, 1, 0, 12, 0, 0, 0, 3, 33, 0, 0, 0, 2, 2, 1, 2, 0, 0, 4, 0, 0, 0, 0, 0, 1, 2, 0, 0, 0, 1, 0, 0, 1, 1, 0, 0, 0, 0, 0, 0, 0, 0, 0, 0, 0, 0, 1, 1, 1, 0, 0, 0, 8, 4, 3, 0, 2, 0, 3, 16, 0, 1, 3, 0, 6, 0, 2, 10, 3, 1, 0, 0, 5, 0, 0, 0, 0, 0, 0, 0, 0, 0, 2, 0, 1, 0, 0, 1, 1, 1, 0, 0, 0, 1, 0, 0, 34, 0, 1, 1, 0, 0, 1, 7, 1, 0, 0, 11, 0, 23, 5, 7, 47, 0, 0, 6, 0, 13, 2, 2, 1, 1, 6, 1, 0, 1, 5, 0, 1, 0, 6, 0, 0, 0, 3, 1, 0, 1, 0, 0, 7, 3, 0, 3, 0, 1, 0, 3, 0, 0, 2, 4, 4, 1, 22, 64, 3, 8, 4, 3, 19, 33, 1, 1, 3, 26, 0, 1, 0, 0, 6, 0, 0, 4, 0, 0, 0, 0, 2, 2, 0, 6, 5, 0, 3, 0, 0, 0, 0, 0, 0, 0, 1, 0, 0, 5, 1, 0, 0, 1, 0, 60, 1, 6, 3, 4, 7, 17, 1, 3, 0, 69, 40, 8, 10, 3, 0, 1, 4, 4, 0, 17, 0, 0, 10, 1, 6, 1, 1, 2, 13, 0, 10, 1, 35, 6, 1, 8, 31, 71, 4, 12, 11, 26, 8, 7, 2, 14, 10, 121, 7, 0, 1, 0, 0, 0, 1, 0, 0, 0, 0, 2, 1, 0, 10, 1, 0, 0, 0, 3, 0, 0, 0, 0, 0, 10, 10, 67, 1, 6, 7, 6, 3, 37, 0, 0, 1, 12, 0, 0, 10, 19, 19, 5, 34, 16, 13, 3, 40, 1, 0, 1, 0, 0, 0, 0, 2, 13, 28, 20, 3, 4, 24, 13, 2, 20, 3, 10, 47, 13, 6, 1, 14, 33, 9, 11, 9, 0, 0, 4, 1, 0, 0, 1, 1, 1, 4, 4, 0, 0, 0, 117, 9, 0, 0, 3, 28, 0, 0, 3, 1, 27, 14, 0, 0, 7, 6, 0, 0, 0, 0, 0, 0, 0, 0, 0, 0, 1, 2, 0, 0, 0, 0, 0, 0, 0, 0, 0, 0, 0, 0, 0, 4, 0, 0, 0, 1, 0, 0, 0, 0, 1, 0, 0, 0, 0, 0, 1, 0, 0, 2, 0, 0, 0, 7, 0, 2, 11, 25, 0, 23, 0, 0, 4, 1, 0, 1, 39, 1, 1, 0, 0, 0, 0, 0, 2, 2, 0, 1, 0, 4, 0, 1, 1, 2, 8, 16, 0, 1, 11, 0, 4, 0, 0, 0, 0, 1, 0, 0, 0, 0, 0, 0, 1, 35, 0, 0, 0, 1, 7, 1, 0, 0, 2, 0, 0, 9, 0, 0, 0, 0, 0, 0, 0, 2, 0, 0, 20, 0, 14, 0, 9, 0, 0, 0, 39, 1, 3, 0, 1, 1, 0, 0, 0, 0, 0, 1, 9, 0, 2, 0, 5, 2, 0, 0, 7, 0, 5, 7, 4, 3, 0, 0, 5, 1, 1, 9, 13, 0, 0, 0, 0, 0, 1, 0, 6, 0, 2, 10, 4, 0, 0, 0, 0, 0, 0, 0, 0, 0, 0, 0, 2, 4, 2, 3, 0, 5, 1, 7, 0, 0, 22, 0, 0, 0, 1, 1, 1, 3, 50, 11, 0, 1, 2, 1, 2, 6, 1, 0, 6, 59, 105, 105, 41, 0, 0, 0, 0, 4, 0, 3, 0, 1, 0, 0, 1, 0, 0, 0, 1, 0, 1, 0, 0, 0, 2, 0, 1, 0, 0, 1, 0, 0, 14, 0, 0, 0, 0, 0, 0, 0, 1, 1, 11, 0, 0, 0, 0, 1, 0, 0, 1, 0, 0, 0, 0, 0, 0, 1, 2, 0, 0, 0, 0, 0, 0, 0, 0, 1, 0, 0, 1, 1, 0, 2, 4, 0, 7, 26, 0, 4, 19, 0, 0, 4, 0, 5, 0, 1, 0, 1, 16, 15, 15, 1, 0, 1, 0, 0, 0, 0, 3, 6, 0, 0, 0, 0, 0, 0, 2, 21, 0, 8, 3, 0, 3, 1, 0, 1, 1, 2, 0, 0, 0, 7, 2, 0, 0, 1, 0, 2, 0, 1, 0, 13, 4, 0, 0, 5, 0, 22, 0, 0, 4, 7, 16, 1, 0, 0, 0, 3, 5, 1, 0, 0, 1, 2, 0, 5, 0, 3, 0, 0, 4, 0, 4, 0, 1, 0, 5, 1, 0, 13, 3, 3, 5, 0, 0, 0, 1, 0, 2, 4, 1, 40, 8, 5, 0, 13, 7, 1, 0, 1, 7, 0, 1, 0, 4, 2, 1, 6, 1, 6, 6, 8, 7, 1, 4, 13, 3, 0, 8, 10, 9, 2, 35, 9, 14, 14, 9, 11, 2, 5, 15, 9, 1, 2, 3, 26, 5, 2, 6, 0, 11, 5, 2, 0, 1, 5, 4, 24, 7, 0, 3, 31, 4, 22, 2, 4, 0, 5, 0, 2, 1, 1, 1, 1, 23, 27, 0, 14, 2, 28, 70, 57, 19, 29, 8, 109, 0, 115, 25, 5, 41, 22, 0, 0, 0, 0, 45, 4, 0, 8, 2, 2, 0, 0, 0, 0, 0, 0, 0, 1, 0, 11, 1, 2, 0, 0, 2, 1, 1, 0, 9, 2, 10, 13, 0, 8, 9, 0, 15, 2, 8, 1, 14, 9, 2, 8, 10, 4, 1, 11, 22, 6, 1, 24, 23, 18, 8, 0, 3, 0, 0, 1, 2, 0, 0, 0, 0, 0, 0, 0, 0, 2, 0, 0, 1, 3, 0, 1, 0, 2, 0, 0, 0, 0, 0, 2, 0, 33, 1, 2, 5, 1, 0, 0, 3, 3, 0, 0, 0, 1, 0, 3, 0, 0, 3, 0, 0, 0, 5, 0, 1, 0, 0, 14, 3, 2, 1, 0, 0, 0, 18, 0, 0, 2, 0, 0, 4, 2, 0, 0, 0, 0, 0, 0, 0, 2, 3, 0, 0, 0, 5, 0, 0, 1, 1, 0, 0, 7, 0, 2, 6, 0, 1, 0, 0, 0, 1, 1, 0, 1, 0, 0, 0, 0, 1, 0, 2, 5, 2, 1, 0, 2, 19, 1, 1, 0, 0, 0, 0, 0, 1, 0, 0, 1, 1, 6, 0, 2, 0, 1, 4, 0, 1, 0, 0, 5, 0, 3, 0, 0, 0, 3, 1, 1, 0, 0, 0, 0, 0, 0, 0, 0, 8, 1, 0, 0, 4, 3, 1, 0, 1, 0, 1, 0, 0, 2, 0, 0, 2, 0, 0, 0, 0, 0, 5, 0, 0, 0, 0, 0, 0, 0, 0, 1, 0, 0, 0, 0, 1, 0, 1, 0, 18, 1, 0, 0, 0, 1, 1, 0, 10, 0, 0, 2, 0, 0, 2, 1, 0, 2, 1, 0, 0, 1, 0, 0, 1, 29, 1, 8, 1, 3, 5, 0, 2, 2, 12, 0, 0, 107, 0, 0, 0, 0, 2, 0, 1, 1, 3, 3, 0, 1, 0, 3, 0, 0, 0, 0, 11, 0, 0, 0, 1, 1, 0, 0, 0, 0, 0, 0, 0, 6, 0, 2, 0, 0, 1, 0, 0, 0, 1, 0, 4, 2, 0, 0, 1, 5, 0, 0, 1, 1, 0, 0, 0, 1, 0, 0, 3, 0, 0, 0, 1, 0, 0, 0, 0, 0, 2, 3, 33, 1, 0, 1, 0, 1, 1, 0, 0, 3, 0, 1, 0, 0, 0, 0, 0, 0, 0, 0, 1, 0, 1, 4, 0, 0, 0, 0, 0, 0, 0, 3, 1, 1, 0, 0, 0, 0, 0, 0, 0, 3, 0, 1, 0, 0, 0, 0, 0, 0, 0, 0, 2, 1, 0, 0, 0, 0, 1, 0, 0, 0, 0, 0, 0, 4, 1, 0, 16, 0, 0, 1, 0, 0, 0, 0, 1, 1, 0, 0, 1, 0, 0, 0, 0, 0, 0, 2, 0, 0, 5, 0, 0, 0, 2, 1, 0, 0, 0, 9, 0, 0, 0, 0, 0, 0, 0, 1, 0, 0, 1, 0, 1, 0, 0, 1, 0, 0, 0, 0, 0, 1, 1, 0, 0, 0, 0, 2, 2, 0, 0, 0, 0, 0, 0, 0, 2, 0, 0, 0, 0, 13, 0, 0, 0, 0, 0, 0, 0, 0, 0, 0, 0, 0, 0, 0, 0, 0, 0, 0, 0, 0, 0, 33, 0, 0, 0, 0, 0, 2, 0, 0, 1, 0, 0, 1, 0, 0, 0, 0, 0, 0, 0, 12, 2, 3, 0, 5, 18, 0, 0, 2, 1, 9, 3, 19, 5, 2, 1, 0, 2, 31, 0, 0, 0, 0, 2, 0, 0, 0, 0, 0, 0, 0, 1, 2, 11, 2, 13, 42, 0, 4, 0, 17, 2, 0, 0, 1, 0, 0, 1, 1, 1, 1, 0, 0, 0, 0, 8, 1, 0, 9, 0, 0, 0, 0, 0, 2, 0, 0, 0, 0, 0, 0, 0, 0, 0, 0, 1, 2, 0, 0, 5, 0, 1, 0, 0, 0, 0, 0, 1, 0, 0, 0, 0, 2, 2, 0, 1, 0, 0, 1, 0, 0, 0, 0, 0, 0, 2, 0, 0, 0, 0, 0, 0, 0, 0, 2, 0, 0, 1, 0, 0, 0, 0, 3, 2, 1, 6, 0, 4, 1, 0, 0, 0, 2, 0, 0, 0, 0, 0, 2, 1, 0, 0, 0, 0, 0, 28, 1, 0, 18, 0, 23, 5, 2, 2, 1, 0, 0, 0, 0, 0, 0, 1, 1, 0, 0, 0, 0, 0, 0, 0, 0, 0, 1, 2, 0, 4, 0, 0, 0, 0, 0, 0, 0, 0, 0, 0, 0, 0, 0, 0, 0, 0, 0, 1, 1, 0, 0, 0, 0, 0, 1, 0, 0, 0, 0, 0, 0, 0, 1, 0, 0, 1, 0, 1, 0, 0, 0, 0, 0, 3, 0, 2, 1, 0, 0, 0, 0, 1, 0, 0, 0, 0, 0, 0, 0, 0, 0, 0, 0, 0, 0, 1, 1, 1, 0, 0, 0, 0, 0, 0, 0, 0, 1, 1, 0, 0, 0, 0, 6, 11, 32, 0, 1, 105, 41, 13, 0, 0, 1, 0, 0, 0, 0, 0, 0, 0, 0, 0, 0, 1, 98, 5, 11, 0, 0, 4, 0, 0, 0, 0, 1, 0, 0, 4, 0, 0, 1, 1, 0, 1, 0, 0, 1, 0, 0, 0, 0, 1, 0, 0, 0, 0, 1, 0, 1, 0, 0, 0, 0, 0, 1, 0, 0, 0, 0, 0, 0, 0, 0, 0, 0, 2, 0, 1, 0, 1, 0, 1, 0, 1, 0, 0, 1, 0, 1, 0, 0, 1, 0, 7, 0, 1, 0, 0, 0, 0, 0, 0, 0, 0, 0, 0, 0, 0, 0, 0, 22, 1, 0, 0, 4, 1, 0, 0, 0, 4, 1, 7, 3, 0, 2, 4, 0, 0, 5, 0, 0, 5, 3, 1, 0, 3, 4, 9, 5, 1, 5, 2, 0, 0, 0, 19, 0, 0, 0, 0, 0, 13, 7, 1, 0, 7, 0, 3, 13, 0, 16, 26, 0, 7, 8, 0, 11, 6, 2, 29, 2, 0, 0, 0, 0, 1, 0, 3, 1, 0, 0, 0, 0, 1, 0, 0, 0, 0, 9, 3, 1, 1, 0, 0, 0, 0, 0, 1, 0, 0, 1, 0, 0, 0, 1, 0, 1, 0, 0, 0, 2, 1, 0, 0, 0, 0, 0, 0, 1, 1, 0, 1, 0, 0, 0, 0, 1, 0, 0, 0, 0, 1, 0, 0, 0, 1, 0, 0, 10, 1, 2, 16, 0, 0, 0, 0, 2, 0, 0, 0, 4, 1, 0, 0, 0, 1, 0, 0, 0, 0, 35, 1, 0, 0, 0, 0, 0, 4, 0, 0, 15, 8, 3, 6, 12, 0, 0, 0, 1, 3, 0, 1, 0, 0, 0, 1, 1, 0, 0, 0, 0, 1, 0, 0, 0, 0, 2, 0, 4, 3, 1, 5, 0, 0, 0, 1, 0, 0, 3, 10, 8, 0, 0, 0, 14, 0, 1, 1, 0, 0, 3, 1, 3, 3, 1, 0, 0, 0, 0, 0, 25, 0, 0, 4, 0, 0, 3, 1, 0, 7, 0, 1, 0, 10, 0, 1, 1, 2, 0, 0, 0, 0, 0, 0, 0, 0, 1, 0, 1, 0, 7, 0, 3, 0, 3, 0, 1, 0, 1, 4, 4, 0, 0, 0, 1, 1, 5, 2, 0, 3, 1, 0, 0, 0, 0, 0, 7, 2, 8, 0, 0, 0, 0, 0, 0, 0, 2, 8, 0, 9, 24, 0, 0, 0, 12, 0, 1, 6, 3, 3, 1, 0, 27, 1, 1, 7, 6, 3, 8, 8, 4, 2, 2, 34, 21, 3, 6, 1, 40, 9, 2, 4, 4, 1, 14, 34, 42, 3, 40, 17, 23, 6, 21, 18, 6, 1, 0, 3, 35, 17, 0, 0, 32, 0, 0, 1, 0, 20, 0, 2, 0, 2, 0, 0, 0, 1, 1, 0, 0, 0, 1, 0, 3, 59, 0, 1, 0, 0, 2, 0, 4, 0, 1, 0, 0, 1, 0, 5, 1, 3, 4, 1, 0, 3, 7, 0, 0, 6, 0, 18, 4, 4, 2, 1, 4, 0, 1, 1, 0, 32, 2, 2, 4, 10, 2, 0, 5, 1, 1, 0, 1, 0, 0, 1, 16, 0, 0, 0, 0, 14, 1, 15, 19, 2, 8, 19, 1, 0, 61, 16, 0, 0, 0, 0, 3, 0, 0, 0, 6, 0, 0, 0, 1, 3, 1, 0, 0, 0, 0, 7, 0, 0, 0, 9, 0, 0, 2, 0, 0, 17, 5, 2, 3, 1, 0, 2, 3, 0, 1, 0, 1, 3, 6, 0, 0, 1, 1, 0, 0, 0, 0, 0, 10, 23, 0, 0, 4, 2, 0, 1, 0, 6, 0, 1, 1, 4, 4, 5, 9, 1, 1, 7, 33, 0, 15, 1, 0, 1, 86, 22, 0, 2, 0, 1, 0, 3, 1, 0, 1, 2, 0, 0, 0, 4, 1, 0, 0, 0, 0, 0, 1, 0, 1, 0, 0, 1, 8, 0, 5, 1, 1, 0, 5, 9, 2, 6, 0, 2, 5, 14, 1, 1, 6, 7, 4, 2, 15, 1, 5, 1, 7, 25, 15, 2, 13, 4, 23, 11, 30, 4, 30, 41, 0, 2, 0, 0, 0, 0, 0, 1, 0, 0, 0, 0, 0, 1, 2, 0, 0, 0, 0, 0, 0, 0, 0, 0, 0, 0, 0, 0, 3, 0, 1, 3, 0, 0, 0, 0, 0, 0, 0, 6, 1, 0, 0, 0, 0, 0, 0, 0, 0, 0, 0, 0, 0, 0, 0, 0, 1, 0, 0, 0, 1, 0, 0, 0, 0, 0, 1, 1, 0, 0, 1, 0, 0, 1, 0, 0, 0, 0, 1, 0, 0, 1, 0, 0, 0, 0, 0, 0, 0, 0, 0, 2, 0, 0, 0, 1, 1, 0, 0, 0, 2, 0, 0, 0, 0, 1, 1, 1, 0, 0, 0, 0, 0, 0, 0, 0, 0, 0, 0, 16, 0, 3, 5, 0, 0, 0, 0, 0, 0, 0, 2, 1, 0, 0, 0, 0, 0, 0, 0, 3, 0, 0, 0, 0, 0, 0, 0, 0, 0, 0, 0, 0, 1, 0, 0, 0, 0, 0, 1, 1, 0, 0, 0, 1, 0, 0, 0, 1, 1, 0, 0, 0, 0, 1, 0, 0, 1, 0, 0, 0, 0, 0, 0, 0, 0, 0, 2, 2, 0, 0, 0, 6, 2, 0, 3, 0, 11, 0, 0, 1, 4, 0, 0, 10, 8, 1, 11, 0, 0, 0, 2, 3, 7, 8, 0, 1, 0, 5, 0, 0, 6, 4, 7, 12, 3, 0, 0, 0, 0, 3, 2, 3, 6, 6, 13, 0, 13, 2, 8, 0, 11, 3, 9, 16, 13, 0, 1, 6, 10, 8, 6, 15, 5, 5, 3, 29, 42, 13, 4, 18, 29, 31, 42, 41, 5, 42, 1, 3, 0, 1, 0, 2, 8, 0, 0, 0, 2, 9, 2, 1, 0, 0, 0, 0, 0, 0, 2, 2, 0, 0, 1, 0, 0, 2, 0, 0, 1, 10, 0, 0, 0, 0, 0, 1, 2, 5, 0, 1, 1, 1, 0, 0, 2, 0, 14, 0, 0, 3, 1, 3, 21, 0, 3, 3, 0, 1, 0, 17, 32, 4, 0, 61, 15, 3, 6, 1, 2, 11, 3, 17, 1, 5, 0, 0, 1, 0, 0, 0, 0, 0, 0, 0, 0, 0, 0, 0, 0, 0, 1, 0, 0, 0, 0, 39, 0, 0, 0, 1, 1, 3, 0, 0, 0, 2, 0, 0, 0, 0, 0, 0, 1, 0, 0, 3, 18, 4, 17, 1, 1, 1, 3, 1, 22, 12, 8, 14, 9, 2, 3, 0, 2, 1, 3, 35, 7, 0, 0, 0, 0, 0, 0, 0, 0, 0, 0, 0, 3, 1, 0, 0, 0, 0, 0, 0, 1, 0, 0, 1, 0, 3, 3, 0, 1, 14, 0, 15, 0, 0, 0, 0, 0, 0, 1, 0, 0, 0, 1, 1, 4, 1, 0, 0, 0, 0, 1, 0, 0, 0, 1, 4, 0, 0, 0, 0, 0, 0, 0, 0, 0, 0, 0, 0, 0, 1, 0, 0, 4, 0, 0, 0, 7, 0, 0, 6, 0, 1, 1, 0, 0, 0, 0, 0, 0, 0, 0, 1, 11, 3, 0, 0, 1, 2, 0, 0, 0, 0, 1, 0, 0, 0, 2, 1, 1, 1, 0, 0, 0, 0, 0, 1, 1, 3, 0, 4, 0, 0, 0, 0, 0, 1, 0, 0, 0, 0, 2, 0, 0, 1, 0, 0, 0, 19, 0, 6, 0, 0, 0, 1, 0, 41, 0, 1, 0, 6, 0, 1, 5, 0, 0, 1, 27, 0, 7, 3, 2, 0, 0, 0, 0, 0, 0, 2, 0, 0, 1, 1, 0, 0, 0, 0, 0, 2, 30, 0, 2, 3, 2, 1, 1, 3, 4, 2, 0, 0, 7, 5, 0, 1, 0, 15, 3, 8, 12, 0, 6, 8, 0, 19, 19, 19, 19, 6, 3, 1, 0, 0, 1, 0, 0, 0, 1, 0, 0, 2, 0, 0, 0, 9, 0, 0, 0, 0, 0, 2, 0, 0, 1, 4, 1, 0, 0, 0, 0, 0, 0, 0, 0, 0, 0, 2, 0, 1, 1, 0, 1, 0, 0, 6, 0, 0, 0, 1, 0, 0, 0, 0, 1, 0, 0, 1, 2, 0, 0, 0, 0, 0, 0, 1, 1, 1, 0, 2, 0, 0, 0, 0, 0, 0, 0, 1, 2, 0, 0, 0, 0, 0, 0, 0, 0, 0, 0, 2, 0, 0, 0, 0, 0, 0, 0, 0, 0, 0, 0, 0, 1, 0, 0, 0, 0, 0, 0, 0, 0, 0, 0, 0, 5, 0, 0, 0, 4, 3, 0, 0, 1, 0, 0, 2, 0, 0, 0, 0, 1, 0, 0, 0, 2, 2, 1, 0, 1, 0, 2, 1, 1, 0, 1, 0, 0, 0, 0, 0, 0, 0, 0, 0, 0, 1, 1, 2, 0, 0, 0, 0, 0, 0, 0, 0, 3, 0, 0, 0, 0, 0, 0, 0, 0, 4, 0, 1, 0, 0, 1, 0, 4, 11, 0, 0, 0, 0, 0, 0, 0, 0, 0, 3, 0, 0, 0, 0, 0, 0, 1, 1, 2, 2, 1, 6, 1, 15, 11, 7, 0, 0, 29, 6, 27, 1, 0, 4, 0, 0, 1, 0, 0, 0, 2, 0, 0, 10, 2, 0, 2, 3, 0, 0, 0, 0, 0, 0, 1, 2, 3, 6, 0, 18, 0, 4, 0, 8, 0, 5, 1, 0, 0, 2, 0, 0, 2, 0, 0, 1, 0, 3, 18, 0, 2, 1, 0, 4, 0, 1, 1, 0, 2, 0, 0, 3, 1, 0, 3, 1, 6, 0, 1, 0, 0, 7, 0, 8, 1, 0, 0, 0, 1, 0, 3, 0, 0, 0, 0, 0, 0, 1, 1, 2, 0, 0, 0, 0, 0, 2, 1, 2, 0, 0, 0, 0, 0, 0, 1, 0, 0, 1, 0, 0, 0, 1, 1, 0, 0, 0, 0, 1, 0, 0, 0, 1, 0, 0, 3, 0, 0, 0, 0, 1, 0, 2, 0, 0, 0, 1, 0, 0, 0, 0, 0, 0, 1, 0, 0, 0, 0, 1, 0, 0, 0, 0, 0, 7, 0, 1, 0, 0, 1, 1, 0, 0, 0, 0, 0, 0, 1, 0, 0, 0, 51, 1, 1, 10, 0, 3, 3, 0, 0, 0, 0, 0, 0, 1, 1, 3, 0, 5, 0, 0, 0, 5, 24, 3, 1, 0, 1, 0, 0, 0, 0, 0, 0, 0, 0, 0, 0, 0, 1, 4, 0, 7, 14, 1, 2, 0, 4, 0, 6, 0, 2, 0, 0, 0, 0, 0, 27, 0, 0, 5, 0, 1, 0, 0, 0, 0, 1, 2, 0, 9, 0, 1, 3, 0, 3, 22, 32, 1, 0, 12, 6, 6, 17, 3, 1, 2, 91, 133, 9, 8, 4, 16, 0, 3, 0, 1, 0, 2, 0, 13, 21, 6, 65, 5, 7, 2, 0, 0, 2, 1, 33, 0, 0, 0, 1, 3, 13, 1, 1, 0, 0, 0, 0, 12, 0, 0, 9, 7, 2, 0, 0, 1, 1, 9, 3, 0, 2, 3, 0, 2, 21, 23, 1, 91, 132, 1, 1, 31, 1, 1, 0, 0, 1, 2, 0, 13, 0, 0, 2, 15, 1, 2, 1, 86, 0, 1, 17, 7, 2, 26, 25, 11, 12, 2, 2, 10, 15, 3, 1, 29, 31, 52, 9, 19, 19, 5, 0, 18, 9, 0, 0, 17, 11, 0, 52, 5, 31, 5, 5, 28, 7, 8, 3, 1, 5, 2, 52, 3, 8, 6, 6, 1, 2, 31, 4, 1, 79, 11, 11, 94, 20, 2, 7, 52, 5, 2, 2, 1, 0, 1, 2, 0, 0, 6, 23, 2, 0, 1, 3, 0, 0, 1, 0, 0, 0, 23, 2, 0, 28, 0, 0, 1, 16, 2, 1, 0, 0, 0, 0, 4, 1, 0, 0, 10, 3, 0, 1, 0, 6, 19, 0, 0, 0, 48, 0, 1, 26, 1, 3, 2, 9, 1, 5, 2, 0, 35, 9, 26, 2, 1, 1, 0, 8, 0, 0, 10, 8, 6, 24, 0, 0, 0, 0, 0, 0, 0, 0, 0, 0, 0, 1, 0, 0, 1, 1, 1, 2, 2, 1, 0, 0, 0, 1, 1, 6, 0, 0, 0, 0, 2, 27, 0, 48, 21, 4, 0, 0, 28, 0, 2, 1, 0, 0, 1, 0, 0, 28, 28, 5, 1, 0, 0, 3, 2, 1, 2, 16, 0, 8, 0, 29, 42, 0, 5, 0, 0, 4, 2, 1, 1, 1, 1, 5, 3, 0, 0, 1, 0, 0, 5, 0, 0, 0, 0, 0, 0, 0, 0, 0, 1, 0, 0, 0, 2, 6, 4, 0, 0, 0, 0, 1, 2, 7, 1, 2, 4, 0, 7, 4, 5, 6, 1, 6, 0, 0, 1, 1, 0, 1, 0, 0, 2, 0, 0, 0, 0, 1, 12, 2, 3, 7, 0, 0, 4, 0, 1, 1, 0, 0, 0, 3, 4, 2, 9, 10, 0, 18, 0, 0, 28, 36, 27, 3, 0, 0, 1, 0, 0, 20, 5, 0, 0, 0, 16, 16, 16, 1, 6, 3, 1, 6, 5, 5, 8, 3, 25, 1, 5, 1, 5, 3, 9, 3, 18, 1, 11, 13, 1, 1, 3, 1, 1, 3, 1, 0, 10, 5, 3, 0, 6, 19, 2, 1, 13, 7, 15, 6, 6, 6, 0, 44, 18, 3, 4, 0, 9, 26, 26, 19, 48, 251, 239, 48, 48, 34, 9, 1, 3, 0, 3, 0, 0, 0, 0, 1, 1, 0, 0, 1, 0, 1, 0, 3, 0, 0, 2, 0, 6, 0, 0, 0, 2, 0, 0, 0, 3, 0, 0, 0, 0, 0, 31, 6, 0, 0, 1, 5, 0, 0, 0, 3, 0, 0, 2, 7, 5, 1, 1, 2, 1, 13, 3, 2, 0, 1, 1, 0, 0, 0, 0, 9, 1, 0, 0, 2, 3, 94, 0, 1, 9, 2, 0, 7, 19, 15, 0, 1, 0, 6, 1, 6, 0, 0, 0, 0, 2, 36, 0, 0, 0, 0, 1, 4, 0, 0, 0, 4, 9, 0, 0, 0, 0, 0, 30, 0, 3, 1, 1, 6, 4, 1, 0, 1, 0, 0, 2, 4, 0, 1, 2, 35, 0, 4, 39, 48, 17, 48, 240, 34, 1, 1, 10, 0, 0, 0, 0, 22, 4, 25, 8, 2, 14, 0, 26, 77, 23, 7, 0, 0, 0, 4, 1, 1, 7, 1, 0, 0, 11, 0, 0, 0, 0, 0, 5, 0, 1, 0, 0, 3, 0, 0, 0, 0, 4, 0, 1, 0, 1, 0, 9, 0, 0, 3, 1, 0, 0, 4, 0, 1, 0, 10, 10, 4, 1, 2, 0, 1, 0, 0, 7, 0, 0, 1, 0, 0, 1, 3, 1, 0, 0, 1, 1, 1, 0, 1, 0, 0, 0, 0, 0, 0, 0, 5, 0, 0, 12, 0, 64, 1, 7, 3, 6, 3, 1, 0, 1, 0, 0, 0, 0, 0, 0, 1, 1, 0, 1, 2, 1, 0, 0, 1, 1, 7, 4, 1, 0, 20, 0, 37, 0, 78, 5, 13, 2, 5, 1, 1, 79, 8, 1, 0, 0, 0, 1, 0, 0, 16, 0, 3, 1, 0, 0, 26, 0, 0, 2, 1, 0, 2, 0, 0, 1, 0, 0, 1, 0, 0, 0, 6, 0, 0, 0, 0, 0, 0, 0, 10, 0, 0, 0, 0, 0, 0, 0, 1, 0, 0, 0, 0, 0, 13, 1, 0, 0, 0, 0, 5, 0, 1, 1, 0, 0, 0, 0, 0, 0, 2, 0, 0, 4, 0, 1, 6, 0, 2, 0, 0, 0, 3, 2, 2, 0, 3, 0, 0, 0, 0, 1, 0, 13, 0, 0, 0, 13, 2, 1, 0, 0, 0, 0, 0, 0, 0, 0, 0, 0, 0, 0, 1, 0, 0, 0, 4, 0, 0, 2, 0, 0, 1, 3, 0, 0, 1, 0, 0, 0, 1, 0, 0, 0, 8, 0, 0, 4, 1, 5, 0, 0, 2, 24, 0, 0, 4, 4, 4, 0, 0, 0, 2, 0, 2, 0, 0, 1, 4, 0, 0, 0, 0, 0, 0, 0, 0, 2, 1, 0, 0, 3, 0, 0, 0, 0, 0, 0, 0, 1, 3, 0, 26, 0, 0, 2, 0, 0, 2, 9, 0, 3, 0, 0, 1, 25, 23, 1, 0, 1, 20, 10, 0, 0, 0, 16, 0, 1, 2, 6, 0, 0, 0, 5, 0, 12, 8, 0, 8, 3, 2, 4, 0, 0, 3, 0, 1, 0, 0, 0, 0, 8, 0, 3, 0, 12, 0, 2, 2, 5, 3, 6, 6, 0, 2, 1, 19, 24, 52, 0, 10, 4, 0, 0, 1, 5, 0, 4, 0, 0, 2, 0, 6, 0, 5, 3, 7, 0, 1, 0, 0, 2, 0, 3, 13, 69, 23, 15, 3, 15, 0, 0, 0, 9, 0, 0, 0, 10, 0, 8, 6, 0, 0, 1, 0, 0, 1, 1, 0, 0, 6, 27, 9, 1, 2, 2, 1, 10, 4, 0, 13, 0, 22, 1, 1, 1, 0, 0, 1, 1, 1, 0, 2, 1, 0, 1, 10, 0, 2, 0, 0, 0, 0, 0, 0, 0, 0, 0, 1, 0, 0, 0, 0, 0, 0, 0, 1, 1, 1, 0, 0, 0, 0, 0, 0, 0, 0, 0, 0, 0, 6, 111, 76, 7, 1, 0, 0, 1, 0, 0, 0, 0, 49, 1, 3, 0, 47, 0, 2, 0, 0, 2, 2, 0, 1, 6, 1, 0, 0, 0, 1, 0, 4, 1, 1, 25, 7, 9, 0, 7, 3, 18, 0, 1, 1, 2, 0, 3, 0, 0, 7, 0, 14, 0, 0, 0, 0, 0, 0, 8, 4, 14, 0, 0, 0, 0, 1, 2, 2, 0, 1, 2, 0, 1, 22, 0, 0, 0, 1, 0, 0, 6, 37, 18, 0, 0, 2, 2, 5, 1, 1, 0, 1, 0, 8, 10, 0, 51, 3, 119, 0, 1, 6, 9, 0, 0, 0, 19, 0, 1, 7, 0, 12, 40, 16, 7, 4, 0, 0, 66, 9, 0, 2, 1, 12, 7, 7, 6, 11, 7, 16, 2, 1, 0, 0, 0, 12, 0, 53, 11, 3, 2, 1, 0, 1, 0, 1, 0, 0, 0, 2, 0, 0, 0, 0, 9, 0, 1, 0, 0, 0, 3, 3, 1, 4, 0, 1, 2, 9, 1, 0, 2, 0, 0, 0, 0, 1, 14, 8, 0, 2, 7, 0, 0, 17, 2, 1, 0, 1, 0, 0, 0, 0, 0, 0, 1, 0, 0, 0, 1, 3, 1, 1, 1, 0, 0, 0, 0, 5, 1, 0, 0, 8, 2, 2, 1, 1, 2, 0, 3, 3, 2, 0, 2, 0, 0, 3, 1, 1, 0, 0, 0, 0, 2, 0, 10, 0, 1, 1, 0, 1, 0, 1, 1, 0, 0, 0, 2, 0, 2, 1, 0, 0, 2, 0, 2, 10, 4, 0, 0, 0, 0, 0, 0, 0, 1, 0, 0, 0, 0, 1, 1, 0, 5, 0, 1, 1, 1, 0, 3, 1, 2, 0, 1, 0, 0, 0, 0, 0, 0, 0, 10, 3, 0, 0, 1, 13, 0, 0, 0, 1, 0, 1, 6, 10, 0, 11, 0, 0, 3, 1, 0, 0, 4, 0, 0, 0, 3, 1, 3, 0, 0, 4, 1, 9, 1, 33, 0, 8, 1, 6, 2, 0, 0, 1, 0, 8, 5, 0, 0, 0, 0, 1, 3, 0, 5, 0, 5, 36, 10, 5, 1, 0, 3, 10, 0, 52, 67, 11, 12, 3, 18, 18, 0, 2, 2, 0, 0, 0, 1, 0, 1, 0, 4, 3, 2, 14, 0, 0, 0, 14, 0, 0, 1, 0, 10, 0, 8, 0, 5, 2, 0, 0, 3, 0, 0, 5, 0, 10, 0, 0, 1, 0, 0, 0, 1, 2, 0, 0, 0, 1, 0, 1, 0, 0, 1, 0, 1, 0, 0, 2, 1, 3, 0, 1, 0, 0, 0, 2, 11, 1, 4, 4, 0, 2, 1, 0, 3, 4, 0, 1, 2, 0, 7, 0, 0, 0, 52, 5, 4, 4, 1, 3, 0, 5, 3, 5, 0, 0, 5, 0, 0, 0, 0, 0, 2, 2, 0, 0, 1, 0, 2, 1, 0, 2, 0, 0, 0, 0, 1, 4, 4, 2, 0, 0, 1, 0, 4, 2, 1, 3, 1, 1, 0, 4, 0, 1, 1, 0, 3, 0, 40, 1, 8, 1, 0, 0, 0, 9, 0, 2, 1, 2, 13, 0, 5, 6, 1, 1, 4, 1, 14, 0, 0, 0, 6, 15, 3, 11, 20, 6, 30, 8, 4, 1, 5, 4, 3, 10, 0, 0, 0, 1, 2, 0, 0, 0, 0, 0, 1, 47, 0, 0, 0, 0, 0, 0, 0, 0, 3, 1, 0, 0, 1, 0, 0, 0, 0, 3, 1, 0, 0, 0, 1, 0, 0, 0, 0, 0, 0, 2, 1, 0, 1, 0, 0, 13, 0, 1, 0, 1, 1, 1, 0, 0, 0, 0, 9, 8, 3, 8, 7, 5, 1, 0, 1, 2, 0, 0, 0, 0, 1, 1, 0, 0, 0, 0, 6, 0, 0, 3, 0, 0, 20, 2, 0, 0, 14, 0, 1, 3, 14, 49, 69, 6, 0, 4, 58, 2, 1, 1, 2, 0, 0, 0, 22, 0, 0, 0, 0, 1, 6, 7, 18, 3, 0, 0, 0, 0, 0, 0, 0, 1, 2, 0, 0, 0, 0, 1, 0, 0, 1, 1, 0, 2, 0, 0, 0, 0, 1, 0, 1, 6, 0, 1, 0, 0, 1, 1, 0, 0, 0, 0, 1, 0, 4, 3, 23, 21, 2, 2, 4, 2, 3, 0, 0, 3, 0, 3, 0, 0, 0, 0, 0, 3, 0, 0, 8, 5, 0, 0, 9, 3, 0, 0, 0, 1, 1, 2, 0, 0, 17, 0, 0, 2, 0, 0, 0, 0, 0, 0, 0, 0, 0, 0, 0, 0, 2, 0, 1, 0, 0, 0, 0, 0, 0, 0, 0, 0, 0, 0, 0, 0, 0, 2, 0, 0, 0, 0, 10, 0, 0, 0, 0, 0, 0, 1, 0, 0, 0, 1, 0, 0, 0, 0, 1, 0, 0, 0, 0, 0, 0, 0, 0, 0, 0, 2, 0, 0, 0, 0, 0, 0, 0, 0, 0, 1, 1, 0, 0, 1, 0, 0, 2, 1, 0, 0, 0, 0, 0, 0, 5, 5, 3, 2, 0, 0, 0, 0, 5, 2, 0, 2, 0, 0, 1, 0, 0, 0, 0, 1, 2, 0, 1, 10, 6, 0, 0, 0, 0, 1, 0, 0, 1, 1, 4, 1, 0, 14, 3, 13, 0, 0, 0, 0, 0, 0, 3, 0, 0, 4, 0, 0, 0, 0, 1, 0, 1, 2, 6, 3, 0, 0, 6, 0, 0, 0, 0, 0, 1, 1, 1, 2, 1, 0, 0, 3, 2, 1, 0, 0, 0, 0, 1, 0, 0, 0, 0, 0, 0, 1, 3, 0, 3, 0, 1, 1, 9, 0, 1, 7, 7, 0, 0, 0, 0, 0, 0, 0, 1, 5, 0, 22, 0, 0, 0, 1, 2, 2, 11, 4, 0, 1, 1, 3, 8, 1, 0, 75, 91, 20, 7, 0, 1, 3, 14, 35, 0, 18, 1, 59, 40, 6, 15, 18, 8, 17, 0, 0, 1, 5, 2, 7, 7, 1, 15, 0, 0, 0, 4, 3, 0, 0, 0, 2, 1, 2, 1, 2, 1, 0, 0, 0, 0, 1, 0, 0, 0, 0, 1, 0, 1, 0, 0, 0, 0, 0, 0, 0, 1, 0, 0, 0, 1, 0, 2, 5, 2, 0, 0, 1, 0, 2, 0, 0, 18, 0, 1, 0, 0, 5, 3, 4, 13, 2, 1, 1, 0, 0, 6, 13, 4, 15, 0, 0, 14, 15, 1, 19, 0, 0, 11, 34, 0, 17, 24, 0, 0, 1, 0, 0, 2, 1, 0, 0, 0, 0, 3, 0, 3, 0, 0, 0, 2, 0, 20, 0, 0, 0, 12, 0, 9, 8, 8, 0, 2, 0, 0, 22, 0, 0, 0, 0, 3, 5, 0, 0, 0, 0, 1, 0, 1, 7, 0, 10, 0, 0, 1, 0, 2, 0, 0, 0, 2, 0, 0, 1, 0, 0, 2, 0, 8, 0, 1, 1, 0, 0, 0, 0, 0, 0, 16, 0, 0, 1, 0, 0, 0, 2, 7, 0, 0, 3, 1, 3, 6, 8, 0, 3, 0, 2, 1, 0, 3, 6, 0, 0, 0, 0, 0, 1, 42, 0, 0, 3, 0, 1, 0, 0, 0, 0, 0, 1, 0, 0, 1, 0, 0, 0, 1, 4, 0, 1, 0, 32, 32, 57, 0, 0, 0, 0, 1, 0, 0, 1, 0, 0, 1, 0, 0, 18, 0, 0, 0, 0, 0, 14, 1, 5, 5, 0, 0, 0, 7, 3, 3, 2, 0, 1, 0, 14, 0, 0, 8, 3, 3, 1, 0, 1, 0, 3, 1, 2, 0, 4, 1, 0, 0, 0, 15, 1, 0, 0, 0, 9, 5, 5, 4, 0, 0, 7, 2, 0, 0, 1, 0, 0, 1, 0, 0, 1, 29, 0, 1, 17, 2, 0, 0, 0, 4, 5, 0, 1, 2, 3, 4, 0, 2, 2, 0, 0, 0, 0, 0, 0, 0, 0, 0, 0, 0, 0, 0, 0, 0, 0, 0, 1, 0, 0, 0, 1, 1, 0, 0, 0, 0, 1, 0, 0, 0, 0, 0, 0, 0, 3, 0, 0, 0, 1, 0, 0, 0, 0, 0, 4, 0, 63, 0, 0, 0, 0, 1, 5, 0, 0, 0, 0, 0, 0, 0, 0, 0, 2, 0, 0, 0, 0, 0, 1, 0, 0, 1, 1, 0, 1, 0, 0, 1, 5, 2, 0, 1, 0, 2, 0, 1, 0, 1, 1, 3, 0, 0, 0, 0, 0, 0, 0, 1, 0, 2, 2, 19, 0, 0, 1, 0, 3, 5, 0, 4, 0, 10, 0, 1, 0, 1, 0, 9, 4, 0, 0, 8, 0, 0, 0, 0, 0, 1, 0, 22, 0, 0, 23, 1, 0, 1, 0, 1, 0, 0, 0, 0, 0, 1, 0, 42, 0, 0, 0, 19, 0, 1, 0, 31, 0, 0, 0, 2, 0, 0, 9, 3, 0, 0, 0, 0, 0, 0, 23, 0, 1, 0, 0, 0, 3, 0, 1, 19, 0, 0, 0, 0, 4, 4, 0, 5, 0, 0, 0, 0, 0, 0, 0, 0, 0, 0, 3, 1, 0, 0, 1, 1, 0, 0, 0, 20, 0, 1, 1, 0, 0, 0, 0, 0, 1, 1, 0, 0, 0, 0, 0, 1, 0, 0, 1, 0, 0, 0, 0, 1, 3, 0, 0, 0, 0, 0, 0, 0, 0, 0, 0, 1, 0, 3, 0, 0, 0, 0, 0, 0, 0, 0, 0, 1, 0, 1, 1, 0, 0, 0, 0, 0, 0, 0, 0, 0, 0, 0, 1, 0, 1, 0, 0, 0, 0, 0, 0, 2, 0, 1, 1, 0, 0, 2, 0, 0, 0, 0, 0, 0, 1, 1, 0, 0, 0, 0, 0, 0, 0, 0, 0, 1, 0, 0, 0, 0, 0, 1, 0, 1, 0, 0, 0, 0, 0, 0, 0, 0, 1, 0, 0, 0, 0, 1, 0, 0, 1, 1, 5, 3, 0, 1, 1, 7, 12, 0, 0, 0, 3, 8, 0, 1, 0, 0, 0, 0, 0, 0, 0, 0, 0, 0, 0, 0, 0, 0, 0, 0, 1, 0, 0, 9, 0, 5, 0, 4, 0, 0, 2, 0, 0, 0, 0, 0, 1, 0, 0, 0, 0, 1, 43, 0, 1, 1, 1, 47, 0, 0, 0, 2, 1, 0, 0, 4, 0, 1, 1, 1, 1, 0, 0, 3, 8, 0, 1, 0, 1, 2, 2, 0, 6, 4, 0, 0, 3, 2, 3, 0, 0, 2, 0, 0, 0, 1, 0, 0, 0, 0, 0, 0, 8, 0, 0, 0, 0, 0, 0, 2, 0, 0, 0, 4, 2, 1, 0, 2, 0, 1, 0, 0, 0, 0, 1, 1, 1, 0, 0, 1, 0, 1, 0, 0, 3, 2, 0, 2, 0, 0, 0, 1, 1, 8, 0, 2, 0, 0, 3, 0, 1, 1, 6, 6, 0, 0, 0, 1, 1, 0, 0, 0, 0, 0, 0, 0, 0, 0, 0, 0, 0, 0, 0, 0, 0, 0, 2, 0, 0, 1, 1, 1, 0, 0, 0, 0, 0, 0, 0, 0, 0, 0, 0, 0, 1, 1, 0, 0, 0, 0, 0, 0, 0, 0, 0, 0, 0, 0, 0, 0, 0, 0, 0, 0, 0, 1, 0, 0, 0, 2, 0, 0, 0, 0, 0, 0, 0, 0, 0, 0, 0, 0, 0, 0, 0, 0, 0, 1, 0, 1, 0, 0, 0, 0, 1, 0, 1, 2, 0, 0, 0, 0, 0, 0, 0, 0, 0, 0, 11, 0, 0, 0, 0, 0, 0, 0, 0, 0, 0, 0, 0, 98, 0, 0, 0, 0, 1, 0, 1, 15, 0, 0, 0, 6, 0, 0, 0, 0, 0, 0, 0, 3, 0, 111, 76, 0, 1, 1, 0, 0, 2, 0, 0, 0, 0, 0, 5, 1, 19, 12, 44, 14, 0, 2, 13, 9, 1, 76, 0, 0, 0, 16, 1, 0, 4, 0, 5, 0, 0, 11, 1, 1, 2, 4, 1, 0, 0, 0, 0, 2, 0, 0, 0, 0, 0, 0, 6, 16, 4, 0, 1, 1, 0, 0, 3, 261, 0, 0, 0, 0, 0, 1, 1, 0, 0, 0, 1, 1, 0, 1, 0, 0, 0, 1, 0, 0, 0, 0, 0, 0, 0, 0, 0, 0, 1, 0, 0, 0, 0, 0, 0, 0, 0, 2, 11, 0, 0, 0, 0, 13, 1, 4, 2, 0, 0, 2, 0, 0, 0, 1, 0, 0, 0, 1, 0, 0, 0, 2, 0, 0, 6, 0, 0, 1, 0, 0, 1, 0, 0, 1, 4, 0, 0, 0, 1, 0, 0, 0, 0, 0, 1, 0, 0, 0, 0, 0, 0, 0, 0, 2, 1, 0, 0, 0, 0, 0, 0, 0, 0, 0, 0, 1, 2, 0, 0, 0, 0, 0, 2, 3, 2, 1, 1, 1, 0, 1, 5, 2, 2, 0, 0, 0, 1, 0, 0, 0, 0, 2, 8, 0, 0, 0, 0, 0, 0, 0, 2, 0, 0, 0, 0, 2, 0, 0, 0, 0, 0, 2, 0, 1, 1, 1, 0, 0, 0, 0, 0, 0, 0, 0, 0, 16, 0, 0, 0, 2, 0, 0, 2, 0, 0, 5, 0, 0, 8, 43, 0, 0, 0, 0, 1, 0, 0, 0, 1, 0, 0, 8, 8, 3, 0, 0, 0, 8, 0, 1, 11, 4, 2, 63, 0, 0, 0, 0, 0, 2, 0, 0, 0, 0, 0, 0, 1, 1, 1, 0, 0, 1, 0, 1, 0, 0, 1, 0, 3, 0, 0, 1, 2, 1, 0, 0, 0, 7, 0, 0, 9, 1, 0, 1, 0, 0, 0, 0, 0, 0, 1, 0, 0, 0, 1, 0, 0, 0, 0, 0, 1, 0, 0, 1, 3, 0, 1, 0, 1, 0, 0, 1, 0, 5, 1, 1, 0, 0, 1, 1, 0, 0, 0, 0, 0, 0, 0, 0, 0, 0, 0, 1, 0, 13, 0, 0, 3, 20, 0, 0, 2, 1, 1, 0, 0, 0, 0, 0, 3, 0, 1, 4, 0, 0, 0, 0, 0, 2, 0, 10, 12, 1, 0, 1, 0, 13, 0, 0, 0, 0, 26, 0, 1, 23, 13, 0, 0, 0, 0, 0, 0, 1, 0, 0, 0, 0, 0, 1, 0, 0, 0, 0, 0, 0, 1, 1, 0, 1, 0, 0, 0, 1, 0, 0, 0, 0, 0, 1, 0, 1, 0, 1, 0, 0, 2, 1, 0, 0, 0, 1, 0, 0, 1, 1, 0, 0, 0, 0, 0, 0, 0, 0, 0, 1, 1, 0, 0, 0, 0, 1, 0, 0, 0, 0, 1, 0, 0, 6, 0, 1, 0, 1, 6, 46, 0, 0, 0, 3, 0, 0, 0, 1, 0, 6, 0, 5, 0, 0, 0, 0, 0, 0, 0, 0, 0, 0, 31, 8, 0, 2, 0, 0, 5, 0, 0, 2, 0, 1, 0, 0, 1, 1, 1, 0, 0, 1, 18, 0, 1, 1, 2, 0, 8, 0, 0, 0, 9, 1, 0, 0, 0, 0, 0, 15, 1, 0, 0, 4, 5, 2, 6, 1, 54, 10, 0, 0, 0, 48, 1, 0, 144, 0, 0, 0, 0, 0, 1, 7, 0, 0, 5, 0, 1, 0, 0, 0, 0, 0, 0, 0, 0, 0, 1, 1, 48, 0, 0, 65, 1, 0, 0, 0, 1, 0, 0, 0, 0, 0, 5, 0, 0, 0, 0, 35, 2, 5, 0, 1, 0, 11, 0, 0, 3, 0, 8, 0, 10, 0, 0, 0, 2, 0, 4, 1, 0, 0, 28, 0, 0, 4, 1, 0, 0, 0, 5, 1, 0, 0, 0, 0, 0, 4, 48, 2, 0, 0, 1, 0, 0, 0, 0, 0, 0, 0, 0, 0, 1, 0, 2, 0, 0, 0, 11, 3, 2, 0, 3, 59, 12, 0, 0, 0, 0, 20, 0, 0, 0, 0, 0, 0, 2, 1, 12, 20, 13, 0, 1, 0, 11, 0, 19, 1, 3, 1, 0, 0, 0, 1, 0, 0, 0, 1, 4, 1, 1, 0, 0, 11, 2, 0, 7, 0, 4, 0, 0, 0, 1, 0, 19, 0, 8, 0, 3, 0, 14, 0, 0, 0, 0, 3, 0, 0, 0, 0, 1, 0, 0, 0, 0, 2, 1, 0, 0, 0, 0, 1, 0, 0, 0, 2, 11, 9, 0, 14, 2, 0, 0, 1, 0, 0, 0, 4, 5, 0, 0, 0, 0, 0, 8, 0, 2, 3, 1, 1, 5, 1, 1, 0, 0, 0, 0, 1, 0, 33, 0, 0, 0, 0, 0, 0, 14, 1, 2, 0, 0, 2, 0, 0, 0, 1, 6, 0, 2, 0, 1, 0, 0, 0, 2, 8, 0, 0, 0, 2, 0, 15, 1, 2, 0, 1, 0, 0, 0, 5, 0, 8, 1, 0, 0, 9, 3, 0, 3, 7, 2, 0, 0, 5, 0, 0, 12, 3, 0, 1, 12, 2, 1, 2, 0, 0, 0, 6, 0, 0, 0, 0, 0, 12, 1, 0, 0, 0, 1, 0, 0, 0, 0, 0, 3, 0, 7, 0, 12, 6, 0, 0, 0, 1, 0, 4, 0, 0, 0, 6, 2, 0, 0, 0, 0, 2, 18, 3, 1, 2, 0, 1, 3, 0, 13, 0, 0, 4, 4, 0, 2, 0, 1, 1, 62, 2, 1, 28, 0, 2, 0, 0, 1, 2, 1, 0, 5, 0, 2, 10, 1, 0, 1, 1, 0, 1, 4, 1, 2, 3, 0, 0, 0, 3, 0, 0, 0, 0, 2, 1, 0, 3, 2, 1, 8, 1, 0, 0, 1, 0, 6, 0, 0, 5, 1, 8, 1, 2, 0, 0, 0, 0, 0, 0, 0, 0, 0, 0, 0, 0, 0, 0, 0, 0, 0, 0, 0, 0, 0, 0, 0, 0, 1, 1, 0, 1, 0, 1, 0, 0, 0, 4, 0, 1, 2, 6, 0, 0, 3, 0, 0, 2, 0, 2, 0, 0, 1, 0, 0, 0, 0, 0, 0, 1, 0, 0, 0, 22, 28, 0, 1, 3, 4, 2, 2, 1, 1, 0, 0, 0, 0, 0, 0, 0, 0, 1, 1, 0, 3, 1, 1, 1, 9, 1, 0, 30, 0, 0, 1, 0, 1, 3, 4, 0, 0, 2, 1, 8, 0, 4, 0, 0, 0, 5, 8, 0, 0, 14, 0, 13, 0, 0, 2, 32, 4, 1, 1, 1, 1, 2, 0, 12, 1, 0, 5, 1, 0, 3, 2, 0, 0, 0, 0, 0, 54, 0, 15, 5, 17, 1, 6, 0, 0, 13, 0, 0, 12, 0, 3, 20, 0, 7, 0, 11, 6, 74, 0, 2, 1, 0, 0, 2, 0, 5, 2, 0, 4, 1, 7, 10, 1, 1, 0, 12, 2, 4, 24, 5, 2, 1, 1, 14, 6, 3, 0, 2, 1, 0, 0, 7, 47, 7, 2, 7, 18, 0, 2, 0, 2, 29, 19, 4, 37, 1, 8, 1, 2, 28, 67, 0, 2, 32, 16, 37, 3, 8, 0, 0, 0, 9, 41, 0, 1, 7, 53, 3, 28, 30, 30, 1, 1, 35, 74, 68, 0, 3, 4, 0, 0, 8, 0, 0, 0, 2, 0, 0, 1, 0, 2, 0, 0, 8, 23, 0, 0, 0, 4, 20, 3, 1, 1, 0, 0, 0, 0, 1, 0, 0, 1, 18, 0, 1, 3, 3, 0, 0, 0, 0, 0, 49, 28, 61, 97, 0, 9, 0, 1, 3, 0, 0, 0, 2, 7, 2, 0, 0, 0, 1, 0, 50, 3, 0, 1, 0, 2, 0, 7, 1, 16, 2, 11, 19, 5, 2, 19, 5, 20, 7, 3, 23, 43, 0, 0, 0, 4, 2, 0, 0, 0, 0, 0, 1, 0, 0, 7, 0, 0, 0, 0, 0, 0, 0, 1, 0, 9, 0, 2, 0, 1, 0, 1, 0, 3, 0, 0, 0, 1, 4, 1, 1, 0, 0, 2, 0, 0, 1, 2, 0, 2, 0, 0, 1, 0, 0, 1, 4, 0, 7, 0, 2, 0, 0, 0, 0, 0, 0, 0, 0, 0, 4, 1, 0, 0, 0, 8, 3, 0, 0, 0, 0, 0, 0, 0, 0, 1, 0, 3, 1, 0, 28, 5, 0, 1, 0, 0, 3, 0, 1, 0, 0, 1, 1, 0, 0, 0, 3, 1, 0, 0, 0, 1, 1, 0, 1, 2, 1, 0, 0, 0, 7, 2, 0, 1, 0, 0, 19, 30, 0, 0, 7, 0, 7, 11, 2, 5, 6, 1, 1, 1, 0, 0, 1, 0, 0, 3, 0, 0, 1, 0, 0, 0, 0, 0, 0, 1, 2, 0, 0, 0, 0, 0, 0, 0, 0, 0, 1, 1, 0, 0, 0, 0, 0, 1, 0, 0, 0, 0, 0, 0, 0, 0, 0, 0, 0, 0, 0, 1, 0, 0, 0, 0, 0, 0, 2, 0, 8, 0, 0, 0, 0, 0, 0, 1, 0, 0, 0, 0, 0, 0, 0, 42, 3, 0, 0, 2, 1, 2, 0, 1, 0, 1, 0, 0, 1, 15, 0, 3, 1, 0, 3, 0, 3, 1, 2, 0, 0, 0, 0, 1, 2, 1, 1, 0, 1, 0, 10, 2, 3, 0, 16, 1, 1, 0, 5, 0, 1, 0, 0, 0, 1, 5, 0, 1, 2, 1, 2, 3, 1, 4, 2, 0, 1, 0, 1, 0, 0, 1, 0, 0, 2, 16, 9, 0, 0, 3, 1, 1, 6, 2, 22, 0, 0, 1, 5, 0, 2, 3, 0, 0, 0, 0, 1, 1, 6, 7, 4, 0, 5, 1, 1, 0, 8, 5, 1, 0, 0, 6, 0, 3, 18, 3, 1, 1, 6, 0, 10, 2, 0, 0, 1, 0, 1, 3, 8, 0, 0, 1, 0, 4, 0, 0, 1, 0, 1, 1, 1, 3, 1, 0, 0, 0, 0, 0, 0, 2, 4, 0, 0, 4, 0, 2, 13, 6, 1, 0, 7, 0, 0, 12, 0, 3, 0, 0, 0, 5, 4, 0, 5, 3, 0, 0, 0, 0, 0, 0, 0, 0, 1, 0, 6, 0, 0, 2, 19, 2, 1, 1, 1, 0, 0, 1, 0, 1, 4, 30, 12, 1, 0, 0, 1, 0, 18, 0, 0, 2, 6, 0, 0, 1, 1, 6, 0, 4, 5, 1, 3, 1, 4, 1, 1, 0, 2, 0, 0, 5, 2, 0, 12, 2, 2, 3, 2, 18, 0, 0, 0, 0, 0, 1, 0, 0, 5, 0, 0, 4, 11, 1, 14, 0, 0, 0, 5, 0, 0, 1, 0, 3, 3, 0, 0, 0, 3, 0, 44, 0, 0, 0, 1, 2, 0, 1, 1, 0, 0, 2, 1, 1, 1, 4, 0, 3, 0, 2, 0, 0, 0, 0, 23, 0, 0, 0, 1, 1, 0, 4, 1, 13, 0, 0, 0, 6, 0, 0, 1, 8, 0, 0, 1, 2, 8, 2, 22, 4, 2, 1, 0, 1, 0, 1, 2, 4, 10, 4, 2, 10, 2, 0, 1, 0, 3, 25, 1, 3, 2, 28, 0, 1, 0, 0, 0, 0, 0, 0, 0, 0, 2, 1, 0, 14, 50, 0, 0, 2, 0, 0, 1, 0, 0, 0, 1, 0, 1, 0, 0, 0, 0, 0, 0, 1, 0, 0, 0, 1, 0, 11, 3, 9, 3, 1, 0, 3, 0, 3, 7, 6, 1, 8, 4, 1, 2, 17, 21, 3, 1, 9, 2, 5, 7, 4, 2, 4, 29, 7, 9, 16, 7, 0, 0, 0, 3, 1, 1, 0, 0, 1, 19, 0, 0, 0, 0, 0, 1, 1, 0, 1, 2, 0, 0, 0, 0, 1, 0, 46, 2, 1, 2, 1, 6, 0, 0, 0, 24, 0, 1, 1, 1, 0, 0, 25, 0, 1, 6, 9, 2, 0, 8, 10, 0, 1, 2, 10, 47, 0, 0, 0, 6, 3, 0, 0, 0, 0, 0, 0, 0, 0, 1, 0, 0, 0, 1, 0, 0, 0, 0, 13, 0, 1, 1, 0, 0, 0, 2, 0, 0, 0, 20, 0, 0, 0, 1, 0, 0, 0, 5, 5, 11, 0, 3, 0, 7, 0, 2, 0, 2, 1, 0, 0, 0, 0, 0, 0, 0, 0, 1, 1, 4, 4, 0, 4, 1, 0, 3, 0, 0, 1, 0, 0, 0, 0, 0, 0, 0, 8, 2, 0, 19, 4, 1, 2, 0, 1, 0, 0, 1, 0, 1, 0, 0, 0, 0, 1, 9, 0, 0, 3, 0, 4, 6, 13, 0, 1, 3, 7, 2, 15, 0, 0, 1, 20, 3, 0, 0, 0, 0, 34, 0, 0, 0, 0, 4, 2, 0, 15, 6, 0, 1, 0, 3, 3, 0, 0, 0, 0, 0, 0, 0, 0, 0, 0, 0, 6, 0, 0, 22, 0, 0, 1, 1, 0, 1, 1, 0, 0, 0, 1, 1, 0, 0, 0, 0, 0, 0, 1, 1, 0, 5, 0, 0, 0, 0, 0, 0, 1, 0, 0, 1, 5, 3, 0, 0, 2, 0, 2, 0, 4, 0, 0, 5, 2, 5, 25, 0, 0, 0, 9, 0, 0, 0, 6, 4, 1, 11, 9, 0, 1, 7, 0, 0, 1, 0, 0, 0, 1, 0, 2, 3, 0, 2, 2, 0, 0, 0, 0, 0, 0, 1, 1, 0, 0, 0, 0, 0, 3, 0, 0, 0, 0, 0, 1, 6, 5, 0, 0, 2, 0, 7, 2, 0, 2, 0, 5, 2, 4, 2, 31, 0, 2, 59, 2, 1, 0, 5, 2, 0, 3, 19, 13, 6, 140, 0, 34, 0, 0, 8, 35, 1, 15, 140, 37, 0, 6, 1, 29, 10, 3, 0, 1, 0, 2, 0, 2, 1, 0, 2, 0, 0, 0, 15, 0, 0, 34, 0, 2, 1, 0, 0, 0, 1, 0, 1, 0, 0, 8, 0, 0, 0, 0, 0, 0, 19, 1, 2, 1, 2, 1, 3, 0, 5, 1, 1, 0, 8, 0, 3, 0, 0, 3, 0, 2, 0, 0, 1, 7, 0, 1, 2, 4, 1, 0, 6, 14, 2, 0, 0, 0, 1, 1, 0, 1, 6, 0, 8, 1, 0, 1, 2, 0, 0, 0, 5, 25, 32, 1, 12, 7, 1, 1, 0, 7, 0, 9, 0, 15, 0, 0, 0, 5, 0, 0, 0, 1, 0, 0, 2, 36, 0, 3, 15, 2, 26, 0, 1, 1, 0, 5, 0, 1, 0, 29, 7, 1, 1, 1, 0, 0, 16, 0, 3, 0, 37, 2, 0, 0, 1, 19, 7, 10, 23, 0, 0, 0, 38, 1, 1, 0, 0, 2, 4, 0, 0, 0, 0, 11, 5, 0, 8, 1, 2, 43, 0, 0, 2, 43, 0, 1, 0, 1, 0, 0, 1, 11, 9, 5, 0, 0, 0, 0, 0, 4, 0, 0, 0, 8, 14, 3, 5, 11, 0, 0, 2, 0, 0, 0, 5, 2, 0, 0, 0, 0, 4, 0, 0, 0, 0, 0, 7, 1, 6, 0, 0, 1, 1, 1, 0, 1, 4, 19, 2, 0, 0, 2, 0, 0, 0, 0, 13, 0, 1, 0, 4, 1, 0, 0, 5, 0, 1, 0, 0, 29, 0, 4, 1, 1, 0, 1, 1, 0, 0, 2, 15, 0, 7, 0, 0, 0, 0, 1, 0, 2, 0, 7, 0, 0, 1, 0, 0, 0, 4, 0, 0, 0, 4, 1, 1, 5, 2, 0, 0, 0, 1, 0, 0, 0, 0, 75, 0, 4, 0, 0, 0, 3, 4, 8, 3, 1, 0, 7, 0, 0, 0, 0, 3, 3, 12, 0, 16, 0, 1, 3, 3, 0, 16, 1, 0, 0, 10, 13, 0, 5, 0, 0, 2, 6, 3, 3, 0, 1, 0, 1, 11, 0, 0, 0, 1, 0, 0, 0, 5, 0, 1, 0, 0, 1, 3, 5, 2, 0, 3, 0, 1, 1, 1, 3, 0, 0, 1, 5, 0, 8, 6, 5, 3, 0, 3, 6, 4, 1, 8, 5, 0, 1, 16, 0, 5, 0, 51, 3, 1, 35, 30, 6, 4, 1, 0, 0, 0, 0, 0, 1, 1, 6, 0, 1, 3, 3, 0, 0, 0, 0, 1, 0, 0, 0, 6, 0, 1, 0, 0, 1, 0, 0, 0, 0, 0, 0, 1, 9, 0, 1, 0, 1, 0, 0, 1, 0, 0, 0, 1, 0, 3, 0, 0, 1, 10, 1, 0, 0, 1, 0, 0, 0, 0, 0, 0, 0, 3, 0, 1, 0, 0, 3, 0, 0, 0, 0, 0, 0, 0, 1, 1, 0, 1, 1, 1, 0, 0, 3, 0, 8, 0, 1, 0, 0, 1, 1, 19, 0, 0, 0, 3, 0, 2, 16, 0, 31, 22, 2, 10, 0, 1, 0, 1, 1, 1, 0, 4, 0, 1, 6, 0, 0, 0, 0, 0, 0, 3, 0, 1, 10, 0, 0, 0, 0, 3, 3, 1, 3, 5, 0, 0, 0, 2, 2, 0, 0, 0, 0, 0, 0, 0, 1, 0, 0, 0, 0, 0, 0, 27, 0, 0, 0, 0, 0, 0, 0, 1, 1, 0, 1, 0, 0, 0, 0, 0, 1, 1, 0, 0, 8, 0, 0, 1, 2, 0, 0, 0, 0, 1, 0, 0, 0, 0, 0, 0, 13, 0, 1, 0, 0, 0, 0, 0, 0, 0, 0, 1, 0, 0, 1, 0, 0, 0, 0, 0, 0, 0, 0, 2, 19, 0, 0, 0, 0, 0, 7, 30, 3, 0, 0, 0, 0, 3, 34, 34, 34, 34, 139, 140, 140, 140, 2, 0, 0, 8, 0, 1, 0, 1, 0, 0, 2, 1, 1, 21, 2, 0, 0, 1, 0, 1, 0, 1, 0, 3, 4, 0, 0, 0, 0, 0, 3, 0, 4, 0, 2, 8, 7, 0, 8, 0, 5, 7, 14, 0, 0, 0, 0, 0, 0, 8, 0, 2, 0, 0, 0, 0, 0, 1, 0, 3, 1, 1, 0, 2, 3, 0, 0, 0, 0, 1, 1, 1, 0, 3, 5, 0, 2, 4, 1, 1, 0, 1, 1, 7, 1, 1, 0, 13, 0, 0, 0, 2, 0, 1, 4, 1, 0, 1, 0, 2, 0, 11, 0, 15, 0, 0, 0, 5, 0, 0, 2, 2, 0, 0, 0, 1, 1, 4, 1, 7, 2, 2, 6, 0, 2, 1, 0, 0, 0, 0, 4, 1, 1, 0, 7, 1, 0, 9, 0, 1, 0, 0, 2, 1, 22, 4, 6, 4, 3, 16, 0, 7, 36, 1, 3, 6, 4, 14, 4, 0, 2, 2, 1, 0, 1, 7, 11, 0, 9, 7, 0, 1, 0, 1, 0, 2, 0, 0, 5, 0, 0, 0, 0, 0, 7, 17, 6, 0, 4, 0, 4, 12, 7, 2, 0, 13, 3, 54, 0, 3, 2, 12, 0, 0, 7, 0, 10, 1, 0, 3, 3, 5, 1, 0, 3, 2, 5, 12, 16, 0, 0, 9, 12, 41, 3, 0, 0, 14, 1, 0, 6, 1, 26, 13, 33, 2, 1, 3, 0, 16, 62, 2, 0, 1, 1, 11, 1, 13, 29, 33, 29, 33, 0, 0, 15, 2, 36, 2, 4, 0, 0, 4, 0, 0, 3, 7, 0, 0, 2, 2, 1, 3, 5, 2, 1, 22, 4, 10, 1, 26, 8, 4, 2, 165, 9, 7, 3, 4, 1, 7, 6, 0, 6, 0, 0, 4, 13, 0, 7, 1, 0, 0, 4, 15, 0, 2, 0, 2, 26, 19, 40, 14, 4, 8, 0, 1, 2, 0, 1, 1, 1, 6, 2, 76, 42, 4, 172, 39, 39, 39, 39, 45, 14, 29, 7, 132, 129, 39, 21, 64, 10, 16, 4, 11, 1, 2, 1, 7, 0, 1, 0, 1, 0, 0, 1, 0, 8, 0, 1, 0, 0, 0, 0, 5, 0, 9, 7, 2, 0, 0, 0, 1, 1, 5, 7, 2, 0, 3, 0, 4, 0, 0, 0, 1, 0, 0, 2, 0, 2, 1, 0, 2, 1, 2, 1, 3, 9, 1, 1, 0, 2, 1, 37, 0, 1, 2, 0, 0, 0, 0, 0, 16, 0, 2, 0, 0, 19, 1, 1, 0, 0, 28, 10, 0, 1, 1, 1, 0, 6, 1, 1, 0, 0, 3, 0, 0, 0, 0, 0, 1, 0, 0, 10, 0, 2, 0, 3, 0, 0, 0, 0, 3, 3, 0, 0, 0, 2, 1, 4, 1, 2, 3, 0, 0, 0, 0, 2, 4, 2, 0, 10, 1, 8, 2, 2, 0, 8, 0, 1, 0, 0, 1, 0, 0, 0, 11, 0, 1, 1, 1, 0, 0, 0, 0, 1, 0, 3, 2, 0, 0, 1, 0, 8, 0, 0, 0, 10, 1, 1, 1, 0, 0, 4, 9, 1, 0, 0, 10, 0, 0, 11, 0, 11, 0, 0, 1, 0, 1, 0, 0, 1, 53, 0, 14, 0, 3, 0, 0, 1, 0, 2, 0, 0, 0, 0, 0, 0, 28, 0, 1, 0, 0, 0, 0, 0, 0, 0, 0, 0, 0, 0, 0, 8, 0, 0, 0, 1, 1, 2, 0, 0, 1, 0, 0, 0, 0, 0, 6, 0, 0, 2, 0, 0, 0, 0, 0, 0, 0, 1, 0, 0, 1, 0, 0, 0, 0, 0, 1, 0, 0, 0, 0, 0, 0, 2, 1, 0, 0, 0, 0, 0, 0, 0, 0, 0, 24, 0, 5, 0, 10, 3, 4, 79, 22, 0, 0, 0, 0, 0, 0, 0, 1, 7, 1, 0, 2, 0, 2, 2, 1, 1, 6, 0, 1, 1, 0, 0, 0, 0, 0, 19, 5, 5, 2, 0, 0, 0, 0, 0, 1, 1, 0, 0, 1, 0, 0, 1, 0, 0, 0, 1, 0, 0, 0, 0, 0, 1, 0, 1, 0, 0, 0, 0, 0, 0, 0, 0, 1, 0, 1, 0, 0, 0, 0, 0, 0, 0, 0, 1, 0, 0, 2, 0, 2, 0, 1, 0, 2, 0, 0, 1, 0, 10, 0, 0, 0, 6, 1, 2, 3, 0, 0, 0, 0, 16, 1, 3, 0, 0, 1, 0, 0, 0, 0, 2, 0, 0, 0, 1, 6, 1, 0, 0, 0, 0, 0, 9, 0, 0, 1, 1, 0, 0, 0, 0, 0, 1, 0, 0, 0, 0, 12, 1, 0, 3, 2, 4, 1, 1, 0, 0, 0, 0, 0, 0, 4, 0, 4, 1, 0, 5, 4, 0, 4, 0, 1, 0, 0, 4, 0, 1, 0, 0, 0, 0, 3, 1, 14, 9, 6, 1, 10, 0, 1, 0, 84, 1, 0, 1, 1, 0, 0, 0, 0, 0, 1, 3, 1, 4, 0, 5, 2, 2, 21, 7, 0, 1, 0, 4, 8, 1, 0, 0, 0, 1, 2, 19, 0, 0, 0, 0, 0, 0, 5, 1, 1, 0, 0, 0, 0, 0, 1, 0, 0, 0, 0, 6, 2, 0, 0, 0, 1, 0, 15, 0, 0, 17, 8, 0, 0, 3, 0, 1, 8, 2, 0, 4, 0, 0, 0, 1, 2, 3, 0, 0, 0, 1, 0, 48, 3, 0, 1, 9, 1, 0, 0, 0, 0, 4, 2, 14, 2, 0, 0, 0, 8, 1, 0, 1, 4, 12, 6, 7, 4, 2, 1, 4, 1, 0, 0, 1, 3, 0, 19, 2, 4, 2, 0, 0, 0, 0, 1, 10, 0, 1, 0, 15, 0, 0, 1, 6, 0, 0, 0, 4, 0, 3, 0, 0, 0, 0, 1, 0, 0, 7, 2, 1, 0, 0, 8, 2, 0, 1, 0, 0, 2, 0, 1, 0, 0, 0, 0, 0, 0, 0, 9, 1, 0, 0, 0, 11, 1, 0, 0, 0, 1, 0, 1, 0, 57, 0, 0, 0, 1, 4, 0, 0, 2, 0, 2, 0, 0, 0, 0, 1, 0, 0, 0, 1, 0, 0, 0, 0, 0, 0, 0, 0, 0, 0, 0, 0, 0, 0, 2, 4, 2, 0, 0, 0, 20, 0, 2, 0, 0, 1, 0, 0, 1, 0, 0, 0, 7, 0, 1, 0, 3, 2, 0, 1, 0, 0, 0, 0, 0, 0, 5, 0, 0, 2, 2, 0, 0, 0, 1, 1, 0, 1, 0, 0, 3, 1, 2, 0, 1, 0, 0, 4, 0, 1, 0, 0, 0, 1, 3, 1, 1, 0, 0, 0, 0, 0, 0, 0, 0, 8, 0, 0, 7, 0, 2, 0, 1, 1, 0, 0, 0, 0, 1, 3, 2, 0, 0, 0, 0, 0, 10, 0, 3, 0, 4, 3, 3, 1, 0, 1, 0, 0, 2, 1, 0, 1, 2, 0, 4, 1, 1, 2, 0, 0, 0, 2, 37, 1, 2, 49, 0, 0, 5, 6, 3, 1, 0, 0, 0, 11, 3, 15, 18, 4, 6, 31, 9, 35, 29, 12, 41, 13, 23, 12, 5, 44, 22, 6, 83, 15, 9, 12, 81, 137, 49, 0, 0, 0, 0, 0, 0, 0, 1, 2, 0, 1, 15, 4, 1, 5, 0, 4, 0, 0, 2, 0, 0, 25, 12, 9, 0, 1, 4, 0, 1, 0, 4, 0, 2, 10, 1, 5, 0, 0, 3, 24, 3, 4, 0, 4, 1, 11, 39, 1, 35, 6, 22, 0, 0, 29, 6, 0, 1, 0, 0, 0, 0, 0, 0, 0, 0, 0, 0, 0, 0, 0, 1, 0, 0, 0, 0, 0, 0, 0, 0, 1, 0, 0, 1, 0, 1, 1, 0, 0, 0, 0, 0, 3, 0, 4, 0, 2, 0, 0, 1, 0, 0, 0, 0, 0, 0, 0, 1, 1, 0, 1, 1, 0, 0, 0, 2, 0, 0, 0, 0, 0, 0, 0, 0, 0, 0, 0, 0, 0, 0, 0, 0, 0, 0, 0, 0, 0, 0, 1, 0, 0, 5, 0, 1, 0, 1, 3, 0, 1, 1, 0, 0, 0, 0, 1, 0, 2, 0, 0, 3, 0, 0, 0, 0, 0, 2, 0, 0, 0, 0, 0, 0, 0, 0, 0, 0, 0, 0, 1, 0, 0, 0, 1, 1, 0, 0, 0, 0, 0, 0, 0, 0, 0, 1, 0, 1, 1, 0, 0, 1, 0, 0, 0, 2, 3, 2, 0, 0, 0, 0, 0, 0, 0, 0, 1, 1, 0, 1, 0, 0, 0, 0, 0, 0, 0, 0, 0, 0, 1, 0, 0, 0, 0, 1, 2, 4, 0, 0, 0, 0, 2, 0, 0, 1, 0, 0, 0, 0, 0, 0, 1, 0, 0, 0, 0, 0, 0, 8, 1, 0, 0, 1, 0, 0, 0, 1, 1, 3, 0, 0, 0, 0, 0, 1, 0, 0, 0, 0, 0, 4, 2, 0, 0, 0, 1, 0, 1, 0, 2, 0, 11, 1, 0, 0, 3, 0, 2, 6, 1, 5, 2, 0, 0, 0, 0, 12, 0, 3, 0, 0, 9, 0, 12, 1, 1, 0, 0, 5, 3, 1, 2, 16, 10, 0, 4, 1, 0, 1, 4, 2, 75, 0, 0, 3, 12, 5, 0, 0, 32, 7, 9, 3, 5, 1, 12, 0, 3, 0, 0, 0, 1, 2, 3, 2, 0, 1, 3, 2, 1, 1, 1, 1, 0, 0, 0, 4, 31, 1, 3, 21, 1, 3, 7, 2, 1, 6, 9, 1, 18, 5, 6, 7, 4, 2, 23, 31, 27, 0, 8, 3, 2, 4, 10, 12, 6, 5, 3, 1, 31, 0, 0, 0, 0, 0, 0, 0, 0, 1, 1, 0, 0, 0, 6, 0, 0, 4, 3, 0, 0, 3, 6, 0, 0, 0, 0, 0, 0, 1, 0, 0, 0, 0, 0, 0, 0, 0, 0, 0, 0, 0, 0, 0, 0, 0, 1, 0, 0, 1, 0, 1, 0, 0, 0, 1, 0, 1, 0, 0, 1, 0, 1, 0, 1, 0, 0, 0, 0, 0, 0, 0, 0, 0, 0, 0, 0, 1, 0, 0, 0, 0, 0, 1, 1, 1, 0, 0, 0, 0, 0, 0, 0, 1, 1, 0, 0, 0, 0, 1, 0, 0, 0, 1, 0, 0, 1, 0, 0, 0, 0, 0, 0, 0, 0, 0, 0, 0, 0, 2, 1, 0, 1, 1, 0, 0, 0, 0, 1, 0, 0, 0, 0, 0, 0, 0, 0, 0, 2, 1, 0, 0, 0, 1, 1, 0, 0, 0, 0, 0, 0, 0, 0, 1, 0, 1, 0, 0, 0, 0, 0, 0, 0, 0, 0, 0, 0, 0, 0, 0, 0, 0, 0, 0, 0, 0, 2, 0, 0, 0, 0, 0, 1, 0, 0, 0, 2, 0, 0, 4, 0, 19, 1, 0, 2, 2, 0, 0, 0, 0, 0, 2, 0, 0, 0, 0, 0, 0, 0, 1, 0, 0, 0, 0, 3, 1, 0, 0, 0, 0, 0, 0, 0, 0, 0, 42, 42, 0, 2, 1, 0, 1, 0, 2, 0, 0, 0, 1, 0, 0, 0, 0, 9, 4, 0, 0, 4, 3, 0, 66, 1, 0, 2, 0, 0, 0, 5, 1, 0, 6, 0, 0, 112, 0, 9, 7, 1, 1, 2, 0, 2, 0, 0, 0, 7, 1, 0, 1, 0, 1, 3, 6, 2, 0, 47, 1, 7, 0, 1, 3, 0, 3, 1, 1, 0, 12, 3, 6, 6, 1, 0, 0, 4, 36, 0, 0, 1, 18, 0, 0, 0, 0, 0, 0, 0, 0, 0, 0, 5, 0, 1, 15, 0, 0, 0, 0, 6, 3, 41, 1, 0, 1, 0, 0, 0, 1, 0, 0, 0, 4, 0, 8, 0, 0, 0, 0, 1, 2, 1, 2, 0, 0, 0, 0, 0, 1, 0, 0, 1, 0, 0, 0, 0, 0, 0, 0, 0, 0, 0, 0, 0, 0, 0, 1, 0, 0, 2, 0, 12, 0, 3, 2, 0, 1, 0, 0, 0, 2, 2, 1, 0, 0, 2, 0, 0, 0, 0, 0, 1, 0, 0, 0, 0, 0, 8, 0, 6, 6, 1, 0, 0, 0, 0, 1, 8, 0, 0, 3, 0, 0, 1, 0, 0, 0, 0, 0, 0, 0, 0, 0, 1, 0, 0, 0, 0, 1, 0, 0, 0, 0, 1, 0, 0, 1, 14, 0, 0, 0, 1, 0, 0, 3, 0, 0, 0, 0, 1, 0, 1, 1, 2, 1, 0, 0, 0, 0, 3, 0, 1, 0, 0, 0, 0, 0, 0, 1, 1, 0, 1, 0, 8, 0, 1, 1, 1, 0, 1, 0, 0, 0, 0, 0, 0, 0, 0, 2, 0, 0, 0, 1, 0, 2, 0, 0, 0, 0, 0, 0, 0, 0, 0, 0, 1, 5, 0, 3, 0, 0, 0, 0, 0, 1, 1, 0, 0, 0, 0, 0, 1, 0, 1, 0, 0, 0, 0, 0, 0, 0, 1, 1, 0, 0, 0, 0, 0, 0, 0, 0, 0, 0, 0, 0, 0, 0, 0, 0, 2, 1, 0, 0, 1, 0, 0, 1, 0, 0, 0, 0, 0, 0, 0, 0, 1, 1, 0, 0, 2, 0, 0, 0, 0, 1, 1, 0, 1, 0, 0, 40, 9, 1, 2, 4, 8, 0, 1, 0, 45, 0, 0, 2, 0, 1, 1, 0, 0, 0, 0, 1, 0, 0, 0, 5, 0, 0, 0, 0, 0, 0, 5, 0, 1, 0, 0, 94, 0, 0, 0, 0, 0, 17, 1, 2, 9, 0, 0, 0, 0, 3, 0, 0, 0, 1, 0, 0, 0, 6, 2, 0, 0, 0, 0, 38, 0, 0, 1, 1, 1, 0, 3, 0, 1, 0, 0, 7, 0, 0, 0, 0, 1, 2, 8, 0, 0, 1, 0, 0, 0, 14, 57, 44, 22, 0, 17, 0, 0, 5, 23, 23, 1, 2, 0, 0, 0, 0, 0, 0, 4, 4, 2, 0, 0, 1, 0, 0, 0, 0, 2, 2, 0, 0, 4, 0, 10, 0, 0, 0, 0, 9, 0, 1, 0, 5, 1, 1, 3, 1, 43, 0, 0, 76, 6, 7, 7, 2, 7, 8, 6, 13, 17, 21, 4, 4, 53, 5, 20, 25, 13, 23, 3, 17, 12, 7, 9, 6, 0, 2, 0, 0, 0, 7, 0, 1, 20, 0, 0, 1, 1, 0, 1, 1, 0, 0, 30, 1, 0, 0, 1, 0, 0, 0, 0, 0, 0, 0, 0, 0, 0, 0, 2, 0, 0, 0, 0, 0, 2, 9, 1, 0, 0, 0, 1, 0, 0, 0, 0, 1, 1, 0, 0, 3, 0, 0, 0, 1, 1, 0, 0, 13, 0, 0, 1, 0, 0, 0, 2, 0, 0, 0, 0, 24, 0, 8, 0, 1, 0, 0, 1, 14, 3, 0, 0, 0, 0, 4, 1, 0, 0, 0, 0, 0, 19, 0, 2, 14, 3, 33, 6, 2, 42, 8, 54, 14, 56, 5, 1, 3, 5, 17, 35, 7, 0, 0, 0, 0, 0, 0, 3, 0, 0, 0, 1, 0, 5, 0, 0, 0, 0, 0, 0, 0, 0, 0, 30, 1, 3, 0, 1, 0, 0, 0, 0, 0, 0, 0, 0, 0, 0, 0, 2, 1, 0, 0, 0, 0, 0, 0, 0, 0, 0, 3, 0, 2, 0, 0, 6, 0, 0, 1, 0, 13, 0, 0, 1, 0, 0, 8, 0, 0, 0, 0, 0, 0, 0, 0, 0, 0, 6, 10, 1, 0, 1, 0, 0, 0, 0, 0, 2, 1, 1, 1, 2, 0, 0, 0, 0, 2, 0, 0, 1, 0, 1, 0, 0, 0, 0, 0, 0, 0, 0, 3, 1, 4, 0, 0, 0, 0, 1, 0, 0, 0, 11, 0, 0, 0, 0, 0, 0, 0, 0, 0, 0, 3, 1, 2, 0, 0, 0, 0, 3, 0, 1, 0, 0, 3, 0, 0, 0, 8, 0, 0, 0, 0, 0, 1, 0, 0, 1, 0, 0, 0, 1, 1, 0, 0, 0, 1, 0, 0, 0, 0, 6, 0, 0, 0, 0, 0, 4, 1, 0, 0, 0, 0, 0, 0, 0, 0, 1, 0, 3, 5, 0, 1, 0, 2, 0, 2, 1, 1, 0, 3, 0, 0, 3, 1, 0, 3, 13, 2, 0, 0, 66, 2, 4, 1, 0, 11, 3, 4, 0, 0, 0, 0, 0, 0, 0, 0, 0, 0, 3, 1, 2, 2, 1, 0, 0, 0, 22, 18, 117, 4, 0, 1, 2, 0, 31, 37, 0, 0, 0, 1, 0, 1, 1, 1, 6, 0, 6, 0, 5, 2, 0, 32, 14, 2, 28, 109, 0, 2, 0, 3, 2, 0, 0, 0, 1, 3, 1, 0, 0, 1, 0, 0, 4, 1, 0, 0, 0, 1, 0, 1, 0, 0, 6, 5, 6, 0, 7, 0, 3, 0, 2, 0, 1, 0, 3, 3, 1, 1, 4, 0, 0, 21, 0, 1, 0, 4, 1, 1, 0, 2, 0, 2, 0, 16, 0, 1, 0, 0, 1, 0, 0, 0, 0, 0, 3, 1, 0, 4, 2, 0, 0, 0, 0, 0, 0, 0, 7, 0, 1, 0, 1, 0, 0, 0, 1, 0, 0, 0, 11, 0, 1, 1, 5, 1, 0, 0, 5, 2, 0, 1, 0, 0, 0, 0, 4, 0, 0, 0, 0, 0, 1, 0, 22, 0, 0, 0, 0, 0, 1, 0, 0, 1, 1, 0, 0, 13, 0, 0, 1, 1, 0, 0, 0, 1, 0, 0, 0, 1, 0, 0, 0, 3, 0, 1, 0, 0, 0, 1, 0, 2, 1, 2, 1, 1, 2, 4, 1, 9, 0, 8, 13, 0, 1, 6, 6, 0, 2, 0, 8, 0, 0, 0, 1, 0, 0, 3, 0, 0, 0, 0, 0, 0, 2, 1, 0, 0, 0, 0, 2, 0, 24, 3, 2, 4, 0, 0, 0, 0, 2, 4, 30, 0, 9, 0, 0, 1, 0, 0, 0, 0, 1, 2, 0, 0, 0, 0, 0, 0, 6, 0, 1, 8, 6, 3, 0, 2, 0, 0, 7, 0, 0, 0, 4, 3, 1, 2, 1, 1, 0, 1, 0, 2, 0, 8, 15, 0, 1, 0, 2, 0, 0, 1, 0, 3, 0, 8, 0, 2, 0, 7, 0, 0, 0, 1, 0, 1, 1, 0, 0, 0, 0, 0, 0, 2, 2, 0, 1, 0, 1, 12, 1, 0, 0, 0, 0, 0, 0, 0, 3, 11, 2, 0, 15, 0, 0, 0, 8, 18, 6, 0, 0, 0, 8, 1, 0, 6, 1, 7, 0, 0, 0, 0, 0, 6, 0, 0, 2, 1, 3, 2, 4, 0, 0, 0, 0, 0, 2, 5, 0, 13, 0, 0, 8, 7, 2, 0, 3, 0, 0, 7, 4, 0, 0, 0, 0, 0, 1, 0, 5, 0, 0, 0, 0, 0, 19, 0, 0, 1, 0, 0, 6, 11, 0, 0, 0, 9, 0, 0, 5, 0, 5, 10, 0, 0, 9, 7, 6, 3, 17, 6, 4, 3, 1, 3, 3, 4, 4, 0, 1, 3, 0, 0, 3, 3, 0, 0, 0, 3, 1, 0, 0, 14, 7, 2, 0, 0, 1, 2, 1, 1, 0, 1, 13, 4, 0, 15, 0, 0, 0, 1, 15, 0, 6, 0, 4, 0, 5, 0, 0, 18, 0, 0, 0, 0, 0, 3, 0, 0, 0, 0, 7, 1, 2, 0, 7, 0, 2, 4, 0, 5, 10, 0, 2, 0, 0, 1, 5, 0, 0, 4, 1, 0, 2, 0, 1, 0, 3, 6, 0, 0, 0, 3, 0, 0, 1, 0, 0, 2, 9, 5, 9, 2, 7, 0, 1, 0, 0, 1, 2, 19, 3, 0, 6, 0, 2, 0, 2, 0, 4, 0, 1, 0, 3, 24, 0, 8, 2, 3, 5, 32, 1, 0, 0, 40, 0, 0, 5, 1, 14, 1, 1, 9, 0, 0, 7, 40, 2, 13, 7, 9, 6, 0, 9, 5, 4, 0, 17, 34, 9, 0, 0, 1, 0, 0, 0, 0, 0, 4, 0, 5, 9, 0, 0, 0, 0, 2, 0, 0, 2, 3, 1, 0, 1, 0, 0, 1, 6, 4, 0, 0, 2, 1, 0, 1, 0, 0, 2, 1, 0, 0, 0, 2, 0, 0, 0, 0, 0, 0, 0, 0, 1, 2, 2, 0, 0, 19, 0, 0, 0, 0, 0, 0, 0, 0, 0, 0, 0, 2, 1, 0, 0, 7, 0, 0, 2, 2, 5, 0, 1, 18, 0, 13, 0, 0, 2, 0, 0, 1, 6, 1, 2, 52, 2, 0, 0, 0, 0, 5, 0, 0, 1, 3, 0, 1, 0, 1, 0, 1, 54, 2, 0, 0, 0, 0, 0, 2, 2, 0, 0, 0, 9, 6, 3, 0, 1, 0, 0, 0, 5, 0, 7, 0, 0, 6, 3, 0, 2, 0, 0, 0, 1, 0, 2, 3, 0, 0, 0, 0, 16, 0, 0, 0, 0, 33, 21, 78, 22, 0, 0, 0, 0, 11, 0, 24, 4, 0, 0, 1, 1, 4, 6, 6, 0, 0, 0, 0, 1, 0, 0, 2, 11, 0, 6, 1, 0, 4, 0, 1, 2, 0, 0, 0, 0, 0, 0, 6, 0, 21, 0, 0, 0, 10, 22, 2, 2, 2, 0, 0, 2, 0, 5, 0, 0, 46, 2, 0, 0, 0, 11, 0, 0, 6, 0, 0, 0, 2, 1, 0, 0, 0, 0, 0, 3, 36, 1, 0, 0, 1, 1, 23, 0, 0, 1, 0, 0, 0, 63, 16, 33, 19, 12, 3, 2, 0, 0, 5, 0, 1, 21, 2, 2, 20, 4, 23, 3, 23, 66, 4, 14, 11, 5, 39, 0, 6, 2, 2, 0, 0, 13, 2, 9, 0, 2, 3, 4, 2, 0, 3, 74, 8, 0, 0, 3, 61, 2, 76, 76, 76, 0, 0, 0, 0, 2, 4, 0, 6, 0, 0, 1, 3, 2, 1, 0, 0, 11, 1, 0, 2, 0, 3, 3, 0, 6, 8, 4, 0, 2, 0, 2, 1, 1, 0, 3, 0, 0, 16, 0, 1, 8, 0, 0, 0, 9, 8, 0, 0, 21, 1, 0, 10, 2, 1, 0, 7, 0, 0, 0, 1, 1, 1, 0, 1, 0, 3, 0, 0, 0, 0, 0, 3, 0, 2, 1, 2, 0, 2, 1, 0, 0, 0, 0, 16, 0, 7, 19, 6, 10, 1, 2, 1, 0, 0, 1, 3, 4, 0, 3, 9, 2, 0, 1, 0, 1, 1, 2, 1, 3, 1, 8, 1, 1, 0, 1, 4, 0, 9, 1, 0, 2, 1, 6, 0, 0, 0, 1, 5, 13, 3, 6, 1, 8, 0, 2, 8, 3, 4, 1, 20, 5, 5, 0, 1, 0, 2, 0, 1, 13, 2, 0, 0, 0, 5, 1, 1, 1, 0, 6, 1, 3, 2, 12, 0, 12, 3, 0, 0, 18, 7, 1, 0, 18, 6, 2, 0, 0, 1, 2, 3, 0, 4, 0, 39, 4, 2, 0, 6, 3, 1, 32, 54, 2, 1, 5, 2, 1, 2, 1, 14, 2, 1, 0, 2, 3, 6, 3, 2, 0, 4, 4, 0, 1, 4, 1, 1, 0, 4, 8, 0, 2, 0, 0, 19, 1, 0, 1, 7, 1, 6, 0, 0, 0, 4, 41, 38, 1, 0, 0, 9, 12, 9, 10, 0, 1, 4, 12, 24, 19, 0, 7, 6, 0, 1, 22, 1, 34, 4, 5, 0, 2, 1, 7, 11, 1, 2, 0, 0, 40, 1, 30, 30, 30, 30, 0, 0, 0, 9, 5, 0, 39, 39, 39, 0, 1, 34, 2, 2, 2, 1, 4, 2, 3, 0, 0, 8, 5, 1, 0, 0, 2, 1, 22, 22, 22, 64, 10, 10, 44, 50, 2, 23, 19, 5, 5, 24, 7, 65, 24, 99, 22, 68, 2, 46, 2, 0, 7, 2, 17, 30, 3, 74, 2, 36, 0, 3, 26, 0, 0, 2, 2, 2, 1, 0, 0, 7, 0, 0, 5, 6, 0, 0, 1, 1, 0, 0, 0, 0, 16, 0, 1, 4, 0, 6, 6, 0, 0, 1, 2, 0, 0, 0, 14, 1, 0, 1, 0, 0, 1, 0, 7, 0, 1, 5, 0, 7, 3, 0, 0, 0, 2, 16, 7, 1, 3, 0, 0, 6, 0, 0, 0, 0, 5, 0, 9, 19, 0, 0, 0, 0, 5, 7, 2, 0, 0, 15, 2, 0, 0, 1, 0, 3, 78, 0, 0, 0, 0, 1, 4, 0, 13, 2, 1, 2, 1, 1, 0, 2, 0, 3, 0, 0, 0, 2, 3, 0, 0, 3, 0, 8, 2, 2, 4, 0, 14, 1, 9, 0, 0, 2, 1, 11, 1, 2, 0, 8, 22, 0, 26, 7, 0, 1, 0, 7, 0, 3, 1, 17, 8, 1, 5, 1, 0, 2, 0, 0, 0, 4, 0, 0, 3, 0, 1, 1, 0, 1, 0, 0, 2, 0, 0, 1, 0, 2, 0, 0, 0, 4, 2, 0, 1, 0, 2, 39, 22, 78, 7, 0, 0, 0, 6, 0, 0, 0, 27, 0, 4, 22, 0, 78, 1, 0, 1, 0, 2, 3, 0, 0, 0, 1, 0, 14, 0, 0, 14, 8, 0, 0, 7, 0, 10, 0, 23, 2, 3, 3, 2, 52, 1, 8, 5, 1, 0, 0, 6, 1, 0, 0, 18, 0, 0, 0, 2, 0, 6, 0, 5, 0, 0, 7, 0, 0, 0, 59, 0, 0, 8, 11, 0, 0, 1, 0, 0, 0, 21, 0, 10, 3, 0, 2, 2, 0, 0, 21, 5, 0, 0, 2, 13, 2, 11, 0, 1, 9, 1, 10, 0, 12, 2, 1, 0, 0, 0, 8, 73, 32, 75, 14, 4, 15, 7, 34, 0, 1, 1, 4, 2, 0, 0, 2, 50, 4, 4, 4, 1, 0, 1, 0, 4, 0, 0, 2, 2, 1, 1, 0, 0, 0, 0, 5, 6, 0, 12, 6, 10, 1, 0, 1, 1, 12, 1, 0, 2, 2, 8, 4, 0, 3, 1, 67, 0, 0, 0, 0, 7, 8, 0, 3, 6, 3, 0, 9, 21, 7, 6, 3, 10, 1, 2, 0, 18, 34, 39, 1, 31, 19, 14, 83, 1, 0, 1, 3, 1, 1, 11, 0, 1, 0, 8, 6, 0, 1, 30, 0, 0, 2, 3, 3, 3, 0, 16, 0, 0, 8, 0, 1, 23, 0, 4, 1, 5, 2, 2, 2, 10, 3, 0, 10, 22, 0, 1, 0, 0, 0, 0, 14, 18, 19, 3, 1, 58, 21, 6, 0, 9, 3, 64, 2, 0, 3, 0, 2, 0, 0, 0, 2, 10, 0, 1, 4, 21, 10, 17, 14, 0, 29, 4, 0, 23, 15, 0, 6, 6, 0, 4, 3, 3, 9, 0, 1, 0, 7, 0, 42, 0, 1, 16, 7, 83, 9, 10, 2, 4, 7, 0, 0, 82, 13, 7, 1, 3, 0, 1, 0, 19, 0, 2, 17, 0, 0, 29, 2, 20, 0, 1, 0, 0, 16, 2, 1, 20, 0, 0, 1, 34, 19, 4, 6, 209, 10, 0, 26, 16, 3, 0, 0, 2, 2, 0, 1, 0, 0, 0, 0, 0, 0, 8, 1, 1, 0, 0, 5, 0, 0, 0, 6, 6, 36, 12, 6, 0, 1, 2, 0, 0, 0, 2, 12, 4, 4, 0, 0, 0, 0, 0, 0, 8, 0, 2, 0, 0, 0, 0, 0, 0, 0, 1, 0, 0, 1, 1, 0, 0, 0, 0, 0, 0, 0, 0, 0, 1, 0, 0, 15, 0, 0, 0, 0, 1, 1, 0, 0, 1, 1, 0, 0, 0, 0, 7, 0, 1, 0, 0, 0, 1, 0, 1, 0, 0, 0, 1, 0, 0, 0, 0, 6, 0, 0, 3, 0, 2, 0, 3, 1, 0, 0, 2, 0, 0, 3, 0, 0, 1, 1, 1, 0, 2, 1, 0, 1, 0, 3, 0, 2, 0, 5, 3, 0, 10, 7, 5, 0, 0, 7, 2, 9, 2, 2, 0, 0, 0, 2, 8, 0, 5, 1, 0, 0, 0, 0, 0, 0, 0, 9, 1, 0, 1, 5, 6, 16, 0, 0, 2, 0, 0, 2, 0, 5, 1, 4, 0, 0, 0, 4, 0, 0, 2, 0, 0, 0, 0, 0, 0, 0, 0, 0, 5, 0, 0, 0, 1, 0, 0, 7, 0, 0, 0, 1, 0, 0, 1, 0, 0, 0, 0, 2, 0, 0, 0, 0, 5, 0, 0, 0, 0, 1, 0, 0, 0, 0, 1, 0, 0, 0, 2, 0, 0, 2, 0, 0, 0, 0, 0, 0, 0, 1, 0, 0, 1, 1, 0, 0, 0, 0, 0, 0, 0, 0, 0, 0, 0, 0, 19, 1, 0, 0, 0, 0, 0, 1, 2, 0, 1, 4, 0, 1, 1, 0, 0, 0, 2, 0, 0, 0, 0, 0, 6, 4, 3, 0, 0, 2, 5, 0, 0, 0, 0, 0, 1, 0, 5, 0, 0, 2, 0, 17, 0, 0, 0, 0, 0, 0, 0, 1, 0, 0, 0, 1, 1, 1, 0, 0, 2, 18, 39, 0, 0, 0, 0, 1, 4, 0, 0, 3, 0, 0, 0, 0, 3, 0, 6, 0, 3, 0, 0, 0, 0, 0, 0, 0, 0, 3, 0, 0, 0, 0, 1, 0, 0, 0, 1, 0, 2, 0, 3, 0, 76, 3, 1, 2, 0, 5, 0, 0, 1, 0, 1, 7, 20, 5, 4, 0, 0, 0, 0, 0, 0, 10, 5, 0, 0, 0, 8, 2, 0, 2, 3, 5, 5, 16, 0, 0, 1, 82, 0, 1, 1, 0, 0, 0, 0, 6, 0, 0, 0, 0, 6, 2, 3, 0, 0, 0, 0, 0, 0, 0, 0, 25, 0, 0, 10, 0, 1, 0, 0, 1, 0, 0, 1, 0, 0, 1, 0, 2, 0, 1, 2, 0, 0, 1, 6, 1, 1, 1, 2, 0, 0, 2, 2, 0, 4, 0, 0, 0, 0, 2, 2, 7, 5, 2, 1, 2, 0, 44, 0, 3, 4, 6, 29, 0, 2, 4, 0, 0, 9, 1, 35, 16, 2, 36, 19, 27, 1, 0, 0, 0, 1, 4, 17, 3, 103, 15, 0, 0, 0, 0, 0, 2, 0, 0, 3, 0, 8, 0, 0, 0, 0, 1, 0, 2, 1, 2, 1, 0, 9, 20, 6, 0, 0, 1, 4, 3, 185, 1, 0, 11, 0, 9, 0, 0, 1, 0, 0, 2, 0, 0, 0, 0, 15, 0, 0, 0, 1, 0, 4, 0, 0, 9, 2, 1, 0, 6, 2, 0, 4, 0, 1, 7, 22, 3, 1, 1, 15, 1, 0, 6, 0, 3, 0, 1, 2, 0, 0, 0, 0, 0, 0, 0, 0, 0, 0, 0, 1, 0, 0, 2, 14, 0, 0, 2, 31, 28, 1, 2, 0, 0, 2, 0, 2, 0, 0, 0, 0, 0, 0, 5, 0, 1, 0, 0, 12, 4, 0, 1, 0, 0, 0, 0, 0, 0, 0, 0, 0, 2, 0, 0, 0, 0, 0, 0, 1, 1, 1, 0, 0, 1, 0, 1, 0, 0, 1, 0, 3, 0, 0, 1, 2, 1, 0, 0, 0, 7, 0, 0, 9, 1, 0, 1, 0, 0, 0, 0, 0, 0, 1, 0, 0, 0, 1, 0, 0, 0, 0, 0, 1, 0, 0, 1, 3, 0, 1, 0, 1, 0, 0, 1, 0, 5, 1, 1, 0, 0, 1, 1, 0, 0, 0, 0, 0, 0, 0, 0, 0, 0, 0, 1, 0, 13, 0, 0, 3, 20, 0, 0, 2, 1, 1, 0, 0, 0, 0, 0, 3, 0, 1, 4, 0, 0, 0, 0, 4, 2, 0, 1, 0, 0, 0, 0, 0, 6, 0, 1, 1, 0, 0, 5, 3, 0, 14, 0, 0, 0, 1, 1, 0, 2, 1, 1, 0, 23, 0, 3, 1, 0, 1, 119, 0, 0, 1, 0, 0, 0, 5, 1, 0, 5, 16, 0, 1, 0, 0, 1, 1, 1, 0, 1, 3, 22, 2, 4, 0, 0, 0, 0, 0, 1, 4, 0, 1, 0, 0, 0, 0, 9, 7, 29, 1, 0, 0, 2, 1, 0, 1, 0, 7, 0, 1, 0, 4, 0, 0, 6, 13, 0, 1, 0, 0, 2, 0, 9, 0, 0, 0, 2, 0, 0, 1, 0, 1, 0, 0, 3, 0, 0, 3, 0, 1, 8, 0, 0, 2, 0, 0, 2, 1, 0, 0, 0, 0, 5, 0, 0, 0, 5, 0, 52, 1, 0, 0, 0, 0, 1, 0, 0, 0, 0, 0, 0, 0, 0, 13, 0, 1, 0, 0, 0, 1, 0, 0, 0, 2, 0, 6, 0, 0, 0, 1, 0, 0, 0, 0, 0, 0, 0, 1, 0, 0, 0, 0, 7, 2, 0, 0, 0, 0, 0, 0, 0, 2, 0, 0, 0, 0, 0, 0, 0, 1, 0, 2, 1, 0, 0, 0, 0, 0, 1, 23, 1, 1, 3, 9, 0, 4, 5, 0, 0, 0, 5, 0, 0, 2, 0, 1, 0, 0, 2, 0, 0, 0, 0, 0, 0, 1, 1, 1, 0, 3, 0, 2, 0, 0, 0, 9, 1, 0, 0, 0, 0, 0, 0, 3, 1, 0, 0, 3, 0, 0, 0, 0, 2, 1, 0, 0, 2, 0, 35, 0, 0, 7, 18, 29, 1, 1, 2, 6, 0, 0, 0, 1, 0, 0, 1, 0, 0, 0, 1, 0, 23, 0, 0, 1, 0, 1, 0, 0, 4, 0, 11, 0, 0, 2, 0, 0, 0, 0, 0, 1, 10, 1, 3, 0, 0, 0, 0, 0, 0, 0, 0, 0, 0, 0, 0, 0, 0, 0, 0, 5, 1, 0, 0, 0, 0, 0, 0, 0, 0, 1, 0, 0, 1, 0, 0, 7, 1, 0, 11, 1, 0, 1, 0, 0, 0, 0, 3, 18, 0, 0, 0, 1, 2, 0, 0, 1, 0, 2, 4, 1, 2, 0, 0, 0, 0, 0, 1, 1, 0, 0, 0, 0, 1, 0, 0, 0, 0, 3, 0, 0, 2, 0, 0, 0, 1, 0, 0, 0, 3, 0, 0, 0, 1, 0, 0, 13, 2, 2, 0, 0, 1, 0, 1, 0, 0, 0, 0, 0, 0, 0, 1, 0, 0, 0, 0, 0, 0, 0, 5, 0, 10, 0, 1, 0, 1, 1, 11, 6, 0, 0, 1, 0, 0, 0, 0, 1, 0, 0, 0, 0, 0, 8, 0, 0, 0, 0, 1, 5, 5, 1, 1, 0, 3, 0, 0, 0, 1, 0, 0, 0, 8, 0, 1, 0, 0, 0, 3, 1, 0, 1, 0, 0, 0, 3, 2, 1, 0, 2, 0, 0, 1, 0, 0, 0, 0, 0, 0, 2, 0, 0, 1, 0, 1, 0, 0, 0, 0, 0, 2, 0, 6, 0, 0, 0, 1, 0, 1, 3, 0, 0, 0, 0, 3, 0, 0, 0, 1, 0, 0, 0, 0, 0, 0, 4, 0, 0, 0, 0, 0, 0, 0, 0, 0, 0, 0, 0, 0, 1, 1, 0, 0, 1, 1, 1, 1, 0, 0, 1, 1, 8, 0, 0, 0, 1, 0, 0, 16, 1, 0, 0, 0, 0, 0, 0, 0, 2, 2, 2, 0, 0, 2, 0, 1, 1, 0, 0, 0, 1, 0, 0, 6, 1, 1, 4, 0, 1, 0, 0, 0, 0, 0, 0, 0, 0, 0, 0, 1, 0, 6, 0, 0, 1, 0, 0, 0, 0, 0, 0, 0, 0, 1, 0, 0, 0, 0, 0, 0, 0, 0, 0, 0, 1, 0, 1, 6, 0, 0, 5, 0, 0, 0, 4, 1, 0, 0, 29, 1, 0, 1, 8, 35, 1, 3, 0, 3, 0, 1, 3, 0, 0, 0, 0, 0, 0, 0, 11, 0, 2, 2, 22, 0, 7, 0, 15, 0, 0, 1, 0, 0, 0, 0, 0, 0, 0, 0, 1, 0, 0, 1, 0, 1, 2, 0, 2, 0, 0, 0, 0, 1, 0, 0, 0, 0, 0, 0, 0, 0, 0, 0, 0, 1, 0, 0, 3, 1, 0, 0, 0, 2, 0, 0, 1, 0, 0, 1, 1, 0, 0, 0, 0, 0, 0, 0, 0, 0, 0, 0, 0, 0, 0, 2, 2, 1, 0, 0, 0, 0, 0, 0, 4, 0, 2, 0, 0, 19, 1, 0, 0, 0, 0, 0, 0, 1, 3, 0, 6, 0, 1, 0, 0, 2, 0, 0, 0, 0, 1, 0, 1, 0, 0, 0, 0, 0, 0, 3, 0, 0, 0, 0, 0, 0, 0, 0, 0, 1, 0, 0, 1, 1, 1, 0, 0, 0, 5, 0, 0, 1, 0, 0, 1, 0, 0, 0, 0, 1, 0, 0, 0, 0, 0, 0, 0, 0, 0, 5, 0, 0, 0, 0, 28, 33, 64, 64, 2, 0, 0, 9, 9, 16, 20, 39, 39, 5, 1, 1, 1, 30, 33, 7, 0, 0, 5, 0, 2, 2, 1, 2, 17, 45, 22, 0, 23, 17, 3, 0, 0, 0, 130, 0, 0, 8, 0, 0, 1, 1, 4, 0, 0, 0, 0, 0, 1, 1, 0, 2, 6, 13, 0, 1, 1, 0, 2, 0, 0, 1, 0, 0, 1, 0, 0, 0, 1, 0, 0, 0, 1, 2, 0, 0, 0, 1, 0, 0, 0, 0, 1, 0, 0, 0, 0, 0, 3, 0, 0, 0, 0, 0, 0, 5, 0, 0, 0, 0, 1, 0, 0, 0, 11, 0, 0, 1, 1, 0, 0, 0, 0, 2, 6, 3, 0, 0, 0, 4, 0, 1, 3, 4, 12, 0, 0, 0, 1, 1, 0, 5, 0, 0, 0, 1, 10, 0, 0, 0, 0, 0, 3, 2, 0, 1, 1, 0, 2, 0, 3, 0, 0, 1, 0, 0, 0, 0, 32, 7, 6, 0, 0, 1, 0, 0, 4, 0, 1, 2, 0, 1, 4, 1, 0, 0, 1, 1, 0, 2, 0, 0, 2, 0, 2, 0, 1, 0, 1, 0, 34, 13, 0, 3, 3, 3, 0, 3, 0, 0, 1, 1, 1, 0, 0, 0, 0, 0, 1, 0, 0, 3, 3, 3, 6, 0, 4, 1, 3, 0, 3, 4, 0, 0, 1, 3, 11, 0, 4, 5, 0, 7, 2, 1, 2, 4, 0, 1, 0, 0, 0, 0, 3, 0, 2, 1, 5, 4, 1, 1, 3, 0, 2, 0, 0, 0, 22, 0, 1, 22, 2, 0, 0, 3, 0, 0, 0, 20, 0, 0, 0, 0, 3, 3, 0, 0, 0, 0, 0, 0, 4, 4, 2, 0, 0, 0, 0, 0, 0, 3, 0, 8, 0, 1, 118, 7, 0, 4, 20, 0, 1, 0, 21, 0, 13, 0, 24, 38, 0, 0, 0, 0, 0, 1, 2, 0, 0, 5, 26, 0, 0, 0, 0, 2, 0, 32, 3, 18, 0, 0, 1, 3, 0, 6, 1, 0, 0, 3, 23, 0, 1, 7, 0, 0, 0, 1, 0, 4, 0, 0, 1, 0, 0, 0, 0, 0, 3, 0, 0, 0, 0, 0, 0, 0, 0, 0, 6, 0, 0, 1, 0, 0, 1, 3, 4, 0, 0, 0, 3, 8, 0, 0, 0, 0, 0, 0, 0, 0, 2, 0, 1, 0, 0, 0, 0, 23, 24, 119, 119, 119, 119, 3, 186, 0, 0, 2, 0, 0, 0, 5, 0, 24, 1, 0, 6, 4, 0, 0, 6, 0, 4, 0, 0, 1, 0, 0, 0, 0, 0, 4, 1, 1, 1, 11, 0, 1, 0, 9, 2, 3, 16, 5, 26, 30, 3, 5, 0, 8, 2, 4, 11, 5, 1, 20, 14, 1, 22, 22, 22, 22, 6, 1, 13, 5, 2, 17, 14, 0, 15, 0, 7, 0, 2, 1, 19, 2, 2, 7, 3, 0, 2, 0, 1, 3, 26, 31, 10, 33, 17, 51, 26, 1, 86, 40, 0, 3, 0, 0, 0, 0, 3, 1, 0, 4, 2, 1, 6, 2, 1, 1, 0, 0, 0, 1, 0, 1, 3, 0, 5, 0, 1, 1, 0, 0, 0, 0, 0, 0, 0, 3, 4, 0, 5, 0, 0, 1, 0, 2, 2, 12, 6, 0, 2, 0, 1, 1, 0, 19, 24, 0, 2, 1, 1, 3, 0, 0, 0, 0, 1, 103, 103, 0, 0, 1, 17, 0, 1, 1, 2, 17, 7, 12, 100, 9, 3, 1, 0, 0, 44, 11, 1, 2, 0, 0, 0, 3, 0, 0, 0, 3, 10, 4, 9, 3, 0, 6, 3, 0, 0, 0, 0, 0, 0, 0, 7, 1, 0, 11, 0, 0, 4, 13, 0, 36, 0, 0, 2, 2, 14, 9, 28, 0, 4, 3, 0, 6, 0, 1, 8, 10, 10, 1, 7, 1, 0, 0, 8, 0, 55, 0, 0, 0, 6, 35, 0, 9, 1, 0, 4, 1, 0, 5, 0, 1, 0, 0, 5, 3, 0, 0, 0, 1, 0, 5, 85, 148, 3, 0, 13, 1, 10, 2, 8, 11, 1, 5, 16, 6, 2, 3, 0, 0, 2, 0, 4, 1, 0, 0, 157, 11, 1, 1, 2, 1, 0, 1, 3, 1, 1, 0, 0, 2, 1, 2, 5, 0, 0, 3, 3, 3, 0, 0, 22, 23, 0, 5, 0, 5, 0, 2, 1, 1, 0, 5, 1, 3, 1, 0, 0, 3, 5, 1, 0, 3, 1, 3, 0, 12, 0, 55, 0, 2, 0, 0, 4, 0, 1, 10, 12, 7, 21, 1, 1, 19, 0, 1, 0, 3, 0, 0, 2, 0, 2, 0, 0, 0, 0, 3, 6, 9, 0, 3, 20, 1, 16, 4, 33, 0, 0, 5, 0, 5, 12, 1, 4, 1, 118, 0, 0, 1, 24, 11, 8, 23, 7, 3, 1, 34, 36, 16, 10, 5, 1, 0, 0, 0, 4, 0, 0, 0, 1, 6, 4, 0, 0, 0, 5, 0, 0, 0, 10, 1, 1, 6, 1, 0, 1, 1, 1, 0, 0, 2, 5, 0, 14, 0, 2, 10, 0, 0, 0, 0, 1, 4, 0, 3, 0, 0, 2, 0, 0, 1, 15, 0, 0, 0, 0, 0, 1, 0, 1, 3, 96, 0, 3, 10, 1, 0, 4, 1, 0, 0, 0, 7, 3, 0, 11, 2, 3, 5, 75, 49, 2, 0, 1, 2, 1, 1, 2, 2, 0, 0, 0, 0, 34, 4, 0, 2, 0, 32, 9, 0, 4, 0, 0, 0, 11, 21, 2, 38, 2, 0, 0, 0, 2, 4, 1, 0, 1, 0, 0, 1, 11, 0, 0, 4, 0, 1, 1, 5, 5, 0, 0, 0, 4, 13, 0, 0, 0, 1, 17, 0, 0, 2, 0, 1, 11, 5, 0, 11, 8, 1, 1, 0, 1, 5, 0, 0, 0, 0, 0, 12, 19, 5, 0, 0, 1, 25, 2, 1, 2, 13, 4, 2, 15, 1, 1, 4, 3, 0, 6, 0, 1, 0, 10, 0, 0, 8, 1, 5, 0, 9, 2, 0, 6, 0, 13, 3, 8, 3, 36, 2, 0, 6, 0, 10, 3, 5, 18, 44, 99, 0, 3, 0, 10, 1, 2, 0, 0, 0, 0, 0, 0, 26, 12, 2, 7, 0, 1, 0, 1, 1, 1, 0, 3, 0, 68, 0, 0, 0, 0, 0, 0, 1, 0, 0, 32, 0, 0, 0, 0, 0, 0, 2, 0, 1, 0, 0, 0, 0, 2, 0, 0, 1, 5, 1, 0, 6, 0, 1, 0, 0, 2, 0, 0, 0, 0, 0, 1, 0, 4, 0, 0, 0, 1, 2, 2, 0, 5, 0, 0, 0, 0, 6, 0, 0, 0, 0, 1, 0, 0, 0, 0, 0, 0, 0, 0, 1, 0, 3, 0, 0, 0, 0, 0, 0, 0, 1, 0, 2, 11, 0, 0, 0, 1, 3, 3, 0, 4, 4, 3, 6, 1, 2, 3, 11, 0, 0, 3, 1, 0, 1, 0, 3, 4, 2, 2, 23, 10, 0, 32, 50, 29, 2, 2, 1, 0, 9, 25, 16, 13, 11, 3, 2, 18, 37, 3, 66, 28, 0, 89, 5, 12, 12, 67, 11, 39, 1, 2, 65, 0, 10, 0, 10, 1, 41, 2, 9, 0, 0, 3, 1, 1, 0, 0, 0, 3, 7, 7, 1, 1, 0, 7, 3, 1, 7, 0, 2, 13, 214, 7, 28, 9, 0, 0, 10, 0, 0, 5, 0, 1, 0, 1, 0, 0, 0, 17, 0, 0, 1, 52, 0, 0, 0, 0, 5, 0, 1, 0, 0, 0, 0, 0, 5, 3, 0, 2, 0, 1, 0, 0, 4, 36, 0, 4, 0, 1, 2, 1, 0, 4, 0, 4, 0, 2, 1, 4, 3, 0, 0, 1, 1, 9, 0, 0, 0, 2, 0, 2, 0, 2, 0, 1, 0, 2, 0, 0, 8, 0, 0, 1, 1, 1, 0, 17, 1, 3, 0, 0, 1, 0, 3, 0, 13, 1, 0, 9, 0, 8, 10, 0, 0, 0, 0, 0, 0, 17, 3, 11, 0, 22, 0, 7, 0, 2, 0, 2, 2, 3, 12, 1, 3, 2, 6, 5, 2, 0, 0, 1, 21, 16, 8, 58, 17, 1, 0, 4, 0, 6, 2, 5, 28, 20, 0, 0, 0, 0, 0, 5, 0, 2, 0, 1, 0, 1, 103, 0, 2, 0, 0, 0, 0, 2, 0, 0, 0, 3, 0, 0, 17, 0, 2, 0, 3, 6, 44, 44, 44, 98, 0, 39, 0, 3, 0, 0, 0, 1, 2, 0, 4, 0, 4, 0, 0, 1, 0, 0, 0, 0, 0, 0, 1, 2, 0, 0, 13, 0, 3, 3, 0, 1, 0, 3, 0, 3, 0, 5, 0, 1, 1, 0, 0, 17, 3, 3, 2, 1, 1, 1, 1, 0, 0, 2, 0, 9, 3, 4, 0, 0, 1, 0, 0, 0, 1, 2, 0, 3, 0, 1, 4, 4, 0, 0, 0, 0, 3, 7, 0, 0, 1, 11, 0, 0, 0, 0, 18, 0, 0, 0, 3, 0, 4, 0, 0, 16, 1, 0, 0, 0, 0, 1, 0, 0, 3, 0, 0, 0, 1, 1, 1, 1, 0, 0, 1, 1, 0, 1, 0, 1, 1, 3, 0, 5, 0, 0, 0, 0, 1, 1, 0, 0, 0, 0, 0, 0, 0, 0, 0, 0, 0, 0, 0, 0, 0, 0, 1, 0, 3, 4, 0, 9, 0, 0, 0, 0, 2, 1, 0, 1, 0, 3, 1, 0, 0, 1, 0, 0, 0, 1, 2, 0, 0, 2, 0, 0, 0, 1, 0, 1, 2, 0, 9, 0, 6, 0, 1, 1, 0, 0, 1, 0, 0, 0, 0, 3, 4, 2, 1, 1, 3, 2, 0, 0, 1, 0, 0, 0, 0, 0, 0, 0, 1, 0, 0, 32, 1, 14, 2, 0, 0, 17, 0, 0, 0, 2, 23, 1, 0, 22, 4, 0, 0, 1, 1, 0, 0, 6, 1, 0, 0, 2, 0, 2, 1, 0, 1, 0, 0, 0, 1, 0, 0, 1, 117, 0, 0, 0, 2, 0, 0, 0, 0, 0, 6, 0, 0, 0, 1, 7, 3, 1, 2, 0, 0, 16, 0, 0, 10, 0, 15, 3, 1, 2, 0, 2, 2, 0, 0, 0, 1, 0, 0, 0, 0, 0, 0, 22, 0, 0, 6, 3, 0, 0, 0, 17, 0, 1, 2, 3, 7, 0, 0, 1, 0, 0, 6, 1, 0, 0, 0, 0, 0, 2, 20, 1, 0, 6, 3, 1, 1, 1, 0, 9, 1, 0, 7, 0, 0, 1, 0, 2, 0, 10, 0, 2, 0, 8, 1, 2, 0, 0, 1, 1, 25, 0, 1, 0, 8, 5, 0, 0, 5, 44, 0, 2, 2, 21, 3, 9, 1, 0, 0, 4, 0, 7, 0, 0, 0, 1, 6, 0, 0, 0, 0, 0, 0, 11, 0, 0, 13, 0, 2, 3, 0, 0, 0, 1, 0, 1, 0, 0, 0, 2, 0, 0, 0, 0, 4, 0, 0, 0, 17, 0, 4, 15, 0, 0, 2, 74, 13, 0, 9, 1, 1, 1, 7, 1, 1, 1, 3, 1, 0, 0, 1, 4, 2, 0, 0, 1, 23, 16, 0, 8, 1, 3, 4, 0, 3, 6, 0, 5, 4, 5, 0, 0, 1, 0, 0, 0, 0, 0, 0, 0, 0, 0, 0, 0, 0, 0, 0, 2, 0, 0, 0, 0, 0, 0, 0, 0, 1, 0, 1, 0, 0, 1, 0, 0, 0, 1, 3, 2, 0, 0, 0, 0, 0, 0, 1, 0, 0, 4, 0, 0, 0, 2, 0, 9, 0, 0, 1, 0, 0, 0, 2, 0, 0, 0, 0, 0, 3, 29, 2, 0, 0, 0, 8, 0, 2, 0, 3, 5, 59, 1, 1, 0, 0, 0, 6, 15, 2, 0, 3, 0, 4, 1, 0, 4, 29, 16, 43, 5, 0, 107, 1, 0, 1, 0, 0, 0, 1, 19, 0, 2, 1, 3, 2, 4, 5, 8, 19, 3, 0, 2, 4, 7, 2, 1, 34, 11, 6, 1, 22, 21, 1, 5, 0, 0, 6, 1, 12, 0, 10, 0, 0, 0, 0, 0, 9, 0, 22, 6, 0, 2, 6, 2, 2, 3, 0, 1, 2, 25, 0, 3, 1, 1, 0, 6, 0, 4, 2, 2, 0, 3, 23, 12, 16, 1, 0, 207, 4, 27, 30, 24, 3, 114, 2, 9, 19, 13, 52, 14, 97, 0, 36, 24, 16, 7, 0, 0, 1, 0, 3, 0, 0, 0, 1, 0, 9, 2, 2, 2, 2, 0, 0, 0, 0, 0, 0, 10, 2, 0, 1, 2, 0, 0, 3, 4, 0, 0, 0, 0, 0, 0, 0, 1, 0, 0, 1, 8, 23, 1, 0, 1, 2, 0, 4, 12, 0, 2, 10, 7, 0, 1, 3, 0, 3, 3, 0, 0, 1, 0, 16, 0, 0, 1, 0, 4, 7, 10, 1, 11, 3, 0, 3, 0, 0, 2, 2, 0, 3, 0, 30, 0, 1, 1, 1, 1, 2, 12, 13, 0, 2, 1, 0, 0, 3, 7, 14, 27, 9, 41, 9, 4, 14, 19, 17, 332, 102, 30, 0, 0, 0, 1, 0, 0, 7, 2, 0, 1, 2, 0, 0, 10, 0, 1, 9, 0, 0, 0, 0, 2, 0, 1, 0, 0, 3, 3, 2, 0, 0, 0, 0, 0, 7, 0, 0, 8, 0, 0, 0, 0, 0, 2, 0, 0, 0, 0, 0, 0, 0, 14, 0, 1, 70, 0, 30, 0, 8, 0, 7, 0, 2, 6, 1, 7, 0, 2, 0, 1, 0, 6, 1, 6, 4, 1, 1, 0, 0, 0, 2, 1, 0, 2, 1, 0, 0, 1, 0, 0, 1, 0, 0, 1, 4, 1, 0, 0, 0, 1, 0, 8, 0, 4, 0, 0, 1, 5, 0, 27, 4, 3, 1, 0, 0, 0, 3, 0, 6, 7, 0, 0, 21, 0, 0, 0, 0, 2, 2, 1, 0, 0, 0, 0, 28, 8, 0, 71, 0, 0, 0, 0, 0, 1, 0, 2, 1, 1, 2, 0, 1, 0, 0, 1, 3, 0, 0, 1, 1, 0, 59, 0, 3, 0, 3, 3, 71, 1, 0, 1, 1, 2, 1, 0, 0, 1, 0, 3, 0, 2, 7, 0, 0, 1, 0, 0, 1, 1, 5, 0, 0, 0, 2, 0, 6, 2, 1, 0, 1, 0, 1, 3, 1, 0, 0, 0, 0, 0, 0, 0, 0, 1, 1, 0, 0, 0, 0, 0, 1, 1, 0, 0, 0, 0, 0, 0, 0, 0, 0, 1, 0, 0, 0, 0, 1, 3, 0, 11, 0, 2, 0, 18, 0, 0, 1, 1, 0, 4, 1, 0, 0, 0, 0, 0, 2, 0, 0, 9, 0, 0, 0, 0, 0, 0, 0, 0, 2, 1, 10, 0, 4, 0, 16, 1, 0, 1, 1, 0, 0, 0, 0, 1, 0, 0, 0, 0, 8, 0, 0, 0, 1, 0, 0, 0, 0, 1, 0, 0, 3, 3, 13, 0, 0, 0, 0, 1, 1, 0, 1, 1, 4, 0, 0, 0, 15, 0, 1, 2, 0, 5, 5, 0, 4, 0, 1, 0, 1, 2, 1, 1, 2, 63, 0, 38, 5, 1, 0, 0, 1, 2, 24, 5, 0, 0, 0, 0, 1, 7, 0, 0, 4, 13, 6, 5, 0, 0, 8, 0, 0, 0, 11, 1, 0, 7, 0, 7, 8, 0, 3, 18, 1, 0, 2, 0, 1, 1, 3, 1, 0, 7, 0, 20, 0, 0, 1, 0, 0, 1, 3, 0, 7, 0, 41, 0, 34, 1, 0, 1, 0, 8, 1, 62, 0, 28, 4, 11, 7, 8, 1, 2, 9, 55, 4, 40, 65, 2, 1, 3, 17, 0, 18, 0, 12, 6, 7, 13, 0, 9, 14, 32, 3, 2, 16, 6, 1, 60, 215, 3, 3, 5, 2, 0, 0, 0, 1, 0, 2, 1, 1, 0, 0, 1, 0, 0, 1, 1, 0, 1, 0, 1, 0, 0, 1, 2, 0, 4, 1, 0, 0, 0, 2, 1, 0, 0, 1, 0, 3, 0, 9, 0, 0, 0, 0, 3, 0, 1, 4, 8, 0, 40, 8, 7, 0, 5, 2, 0, 36, 1, 0, 1, 9, 0, 2, 37, 0, 1, 0, 2, 1, 7, 7, 3, 2, 0, 26, 3, 1, 20, 0, 1, 2, 16, 3, 3, 1, 0, 0, 1, 1, 0, 0, 2, 2, 2, 1, 4, 0, 1, 2, 8, 0, 0, 0, 0, 0, 0, 0, 4, 1, 1, 0, 0, 0, 2, 0, 0, 0, 1, 1, 3, 34, 5, 0, 0, 7, 1, 3, 2, 1, 2, 0, 4, 8, 0, 0, 41, 0, 0, 4, 0, 5, 1, 1, 18, 4, 1, 57, 6, 9, 25, 1, 0, 17, 0, 0, 0, 13, 2, 3, 1, 1, 0, 1, 1, 3, 2, 0, 0, 5, 1, 1, 1, 26, 1, 6, 0, 7, 7, 1, 14, 1, 2, 7, 3, 29, 0, 11, 0, 0, 8, 1, 1, 2, 0, 0, 1, 0, 0, 0, 0, 0, 1, 1, 0, 0, 0, 0, 0, 0, 3, 1, 0, 0, 1, 0, 0, 0, 1, 0, 0, 0, 0, 5, 0, 0, 7, 1, 0, 0, 2, 0, 0, 0, 0, 0, 0, 0, 0, 5, 0, 0, 5, 4, 0, 0, 40, 0, 3, 3, 12, 2, 0, 2, 14, 6, 0, 2, 0, 12, 19, 0, 3, 1, 4, 4, 20, 0, 10, 1, 1, 0, 0, 1, 0, 1, 0, 1, 0, 0, 0, 1, 1, 2, 1, 8, 0, 0, 0, 0, 0, 0, 1, 14, 8, 1, 16, 0, 3, 1, 2, 0, 1, 2, 0, 0, 0, 1, 0, 0, 4, 0, 0, 0, 1, 2, 0, 1, 0, 0, 2, 20, 0, 0, 0, 2, 32, 7, 1, 0, 20, 0, 0, 0, 0, 11, 2, 0, 0, 0, 0, 0, 5, 2, 0, 5, 0, 4, 5, 1, 1, 0, 20, 0, 0, 0, 0, 1, 3, 1, 9, 40, 0, 12, 3, 0, 1, 0, 1, 0, 30, 0, 0, 1, 0, 0, 0, 1, 3, 0, 0, 2, 4, 0, 2, 11, 0, 3, 34, 6, 6, 4, 17, 1, 2, 5, 0, 12, 8, 8, 20, 12, 6, 27, 72, 28, 0, 0, 2, 1, 2, 4, 1, 26, 3, 2, 0, 4, 0, 0, 30, 3, 21, 0, 12, 3, 3, 32, 13, 5, 9, 20, 4, 14, 14, 6, 6, 4, 34, 1, 51, 2, 8, 3, 1, 0, 0, 1, 0, 0, 0, 9, 4, 0, 0, 9, 0, 0, 0, 0, 0, 7, 35, 2, 0, 9, 2, 0, 0, 7, 3, 3, 1, 1, 1, 6, 0, 0, 3, 4, 0, 2, 3, 1, 0, 0, 27, 10, 3, 0, 0, 3, 0, 0, 11, 3, 4, 0, 1, 4, 0, 0, 0, 12, 4, 2, 34, 28, 0, 1, 5, 14, 0, 0, 6, 10, 7, 0, 2, 0, 9, 1, 1, 1, 0, 0, 0, 2, 10, 0, 5, 2, 14, 0, 3, 17, 3, 0, 0, 23, 21, 22, 2, 0, 3, 0, 0, 0, 0, 2, 0, 1, 0, 5, 1, 0, 0, 1, 0, 0, 10, 0, 0, 3, 0, 1, 1, 8, 0, 0, 2, 0, 8, 0, 0, 5, 5, 2, 0, 5, 7, 0, 6, 2, 8, 1, 0, 0, 1, 4, 1, 7, 0, 2, 3, 1, 33, 19, 8, 1, 51, 39, 0, 1, 0, 1, 3, 0, 12, 0, 0, 1, 1, 1, 1, 0, 1, 0, 0, 12, 0, 0, 4, 1, 0, 0, 1, 0, 6, 23, 3, 22, 1, 28, 0, 2, 5, 3, 2, 8, 0, 3, 19, 2, 0, 0, 1, 2, 0, 0, 10, 11, 0, 0, 0, 0, 4, 0, 4, 7, 0, 1, 1, 0, 0, 2, 13, 1, 4, 1, 0, 0, 3, 9, 0, 0, 0, 2, 0, 1, 0, 1, 0, 9, 1, 1, 3, 1, 0, 3, 0, 0, 5, 0, 2, 0, 87, 1, 0, 1, 1, 0, 0, 0, 22, 6, 4, 0, 3, 1, 7, 5, 7, 18, 9, 2, 0, 0, 2, 3, 5, 0, 14, 4, 2, 10, 21, 4, 9, 8, 5, 6, 2, 48, 4, 13, 4, 8, 18, 0, 0, 12, 15, 1, 4, 0, 1, 20, 1, 0, 1, 10, 8, 67, 34, 1, 0, 22, 16, 0, 5, 1, 3, 0, 0, 0, 0, 0, 0, 0, 2, 0, 0, 0, 0, 0, 0, 0, 0, 2, 3, 1, 1, 0, 1, 3, 0, 2, 9, 0, 0, 0, 0, 0, 0, 0, 0, 1, 30, 0, 2, 0, 1, 1, 0, 8, 2, 13, 3, 1, 0, 4, 1, 0, 1, 0, 0, 0, 0, 1, 2, 1, 0, 0, 0, 0, 0, 0, 16, 0, 0, 7, 0, 1, 1, 31, 51, 30, 0, 1, 0, 0, 0, 21, 0, 0, 1, 4, 2, 18, 1, 0, 37, 2, 58, 8, 34, 2, 0, 20, 6, 4, 20, 5, 0, 0, 9, 2, 0, 56, 1, 0, 0, 0, 0, 2, 0, 13, 11, 5, 0, 1, 0, 0, 2, 0, 1, 1, 0, 1, 0, 4, 0, 1, 0, 5, 0, 0, 3, 0, 3, 2, 1, 5, 14, 30, 52, 2, 6, 5, 3, 5, 25, 14, 23, 3, 0, 0, 1, 2, 36, 1, 0, 2, 4, 2, 1, 4, 25, 13, 11, 43, 32, 12, 20, 39, 8, 0, 0, 6, 37, 4, 4, 7, 0, 2, 0, 2, 0, 0, 1, 2, 3, 19, 0, 0, 0, 16, 5, 10, 7, 2, 29, 2, 0, 1, 0, 0, 3, 23, 2, 4, 0, 0, 1, 0, 0, 0, 6, 0, 1, 4, 0, 0, 0, 6, 1, 22, 0, 49, 0, 0, 0, 0, 0, 0, 8, 3, 13, 0, 4, 0, 0, 0, 11, 0, 1, 1, 1, 0, 3, 1, 0, 3, 0, 1, 0, 0, 0, 0, 7, 12, 0, 7, 3, 1, 0, 2, 5, 0, 0, 6, 0, 2, 1, 0, 0, 2, 0, 2, 0, 0, 28, 22, 0, 9, 0, 0, 0, 0, 0, 0, 0, 1, 12, 0, 0, 0, 0, 2, 0, 1, 1, 0, 0, 0, 0, 37, 0, 0, 0, 0, 0, 0, 0, 2, 10, 0, 0, 0, 2, 0, 8, 12, 4, 13, 32, 8, 20, 0, 0, 10, 0, 0, 2, 1, 18, 0, 0, 6, 3, 5, 0, 0, 3, 2, 4, 6, 0, 0, 1, 1, 4, 0, 0, 0, 0, 0, 0, 0, 0, 0, 11, 1, 0, 0, 0, 0, 0, 1, 0, 0, 0, 0, 0, 2, 0, 1, 3, 0, 47, 1, 0, 0, 0, 0, 0, 3, 0, 0, 0, 3, 0, 0, 2, 0, 2, 3, 0, 0, 9, 0, 0, 0, 0, 1, 4, 2, 0, 2, 6, 0, 0, 0, 5, 1, 0, 30, 3, 0, 0, 0, 0, 2, 0, 0, 0, 0, 2, 1, 0, 1, 0, 0, 1, 0, 1, 1, 0, 0, 2, 0, 0, 1, 1, 0, 1, 0, 0, 0, 0, 0, 0, 0, 0, 0, 6, 0, 1, 0, 1, 0, 55, 0, 14, 1, 0, 1, 1, 2, 21, 0, 0, 1, 0, 0, 0, 1, 1, 0, 0, 0, 0, 0, 1, 0, 21, 14, 0, 0, 0, 2, 0, 0, 0, 0, 0, 0, 1, 0, 8, 0, 4, 0, 0, 0, 3, 2, 0, 1, 16, 0, 1, 0, 0, 0, 1, 0, 0, 1, 1, 5, 6, 1, 0, 0, 0, 1, 2, 0, 8, 16, 0, 0, 0, 1, 0, 1, 41, 0, 2, 5, 6, 56, 42, 17, 2, 18, 66, 2, 1, 1, 65, 66, 0, 4, 0, 0, 0, 0, 0, 13, 2, 1, 0, 3, 0, 0, 1, 2, 0, 0, 0, 0, 0, 2, 2, 2, 0, 0, 0, 38, 1, 2, 1, 0, 1, 0, 0, 0, 4, 0, 21, 0, 0, 0, 8, 0, 0, 0, 15, 2, 0, 0, 6, 1, 6, 1, 10, 4, 1, 0, 3, 0, 2, 1, 30, 0, 1, 0, 0, 1, 0, 0, 0, 0, 0, 0, 1, 0, 0, 0, 0, 14, 0, 0, 0, 0, 0, 0, 0, 0, 0, 0, 0, 0, 1, 0, 0, 0, 0, 4, 3, 0, 0, 1, 0, 10, 0, 0, 0, 4, 1, 0, 5, 0, 0, 0, 0, 0, 1, 0, 0, 0, 0, 2, 0, 28, 0, 0, 1, 1, 2, 0, 0, 1, 0, 0, 0, 0, 0, 3, 1, 0, 4, 0, 0, 1, 1, 1, 0, 0, 0, 0, 0, 2, 0, 0, 0, 0, 5, 0, 90, 48, 2, 0, 0, 4, 0, 0, 2, 4, 1, 2, 0, 3, 8, 0, 0, 0, 13, 0, 8, 1, 3, 0, 7, 0, 9, 2, 0, 5, 5, 4, 0, 1, 0, 44, 11, 0, 0, 74, 1, 6, 1, 4, 1, 0, 2, 3, 0, 6, 0, 2, 8, 0, 0, 0, 0, 0, 2, 2, 0, 7, 14, 0, 9, 0, 4, 0, 1, 1, 58, 5, 11, 0, 17, 0, 0, 0, 2, 0, 0, 2, 0, 0, 3, 1, 0, 0, 14, 0, 0, 1, 0, 0, 5, 1, 23, 11, 21, 25, 0, 0, 19, 5, 24, 8, 26, 34, 2, 0, 0, 0, 0, 0, 0, 2, 0, 3, 0, 0, 1, 0, 0, 0, 0, 1, 0, 0, 2, 2, 0, 0, 0, 0, 0, 1, 0, 1, 0, 0, 0, 1, 27, 12, 25, 10, 15, 0, 0, 5, 10, 0, 9, 80, 0, 0, 0, 1, 4, 2, 7, 31, 4, 1, 5, 11, 7, 11, 5, 0, 9, 25, 6, 0, 0, 0, 0, 1, 0, 1, 0, 1, 3, 0, 1, 0, 3, 0, 0, 0, 0, 1, 0, 0, 1, 0, 0, 7, 0, 1, 0, 10, 0, 13, 15, 0, 22, 8, 8, 7, 11, 48, 6, 22, 14, 0, 13, 0, 0, 0, 0, 0, 0, 1, 3, 1, 0, 0, 0, 1, 0, 22, 0, 0, 0, 0, 6, 1, 6, 0, 0, 2, 0, 4, 0, 0, 0, 0, 0, 1, 0, 2, 3, 0, 0, 1, 0, 1, 1, 1, 0, 0, 10, 0, 1, 0, 0, 1, 1, 5, 1, 0, 9, 8, 3, 6, 0, 0, 0, 0, 2, 64, 9, 0, 0, 0, 0, 8, 15, 1, 39, 1, 53, 53, 53, 0, 0, 0, 3, 0, 4, 0, 1, 0, 1, 0, 0, 0, 1, 3, 0, 0, 12, 1, 11, 2, 0, 79, 0, 1, 1, 0, 7, 11, 0, 12, 13, 0, 8, 4, 55, 12, 6, 4, 1, 0, 1, 0, 2, 1, 3, 0, 1, 1, 5, 28, 22, 3, 30, 1, 1, 8, 44, 7, 4, 4, 4, 44, 44, 45, 44, 44, 45, 13, 0, 1, 0, 0, 0, 0, 22, 0, 0, 0, 0, 26, 19, 0, 0, 0, 0, 0, 0, 4, 0, 0, 0, 5, 0, 1, 0, 0, 3, 0, 1, 0, 1, 0, 0, 0, 0, 0, 1, 0, 6, 0, 0, 0, 1, 0, 0, 0, 0, 0, 2, 2, 0, 5, 0, 1, 0, 0, 10, 0, 0, 0, 0, 0, 0, 0, 2, 0, 2, 0, 0, 3, 0, 107, 2, 19, 1, 1, 1, 0, 2, 14, 0, 0, 4, 0, 0, 0, 0, 0, 8, 10, 13, 0, 1, 1, 0, 0, 5, 0, 4, 2, 1, 6, 0, 0, 0, 17, 0, 0, 0, 0, 2, 2, 1, 4, 0, 1, 5, 0, 1, 1, 0, 2, 20, 5, 1, 5, 0, 0, 0, 0, 6, 13, 0, 1, 0, 4, 0, 0, 13, 12, 20, 4, 37, 0, 0, 10, 8, 0, 5, 1, 12, 24, 32, 7, 0, 0, 0, 1, 3, 16, 0, 5, 0, 7, 28, 49, 0, 4, 0, 0, 18, 0, 4, 0, 4, 0, 20, 5, 0, 2, 2, 10, 0, 0, 0, 0, 11, 1, 0, 0, 0, 1, 0, 0, 6, 4, 5, 5, 1, 0, 6, 0, 4, 1, 11, 9, 1, 0, 12, 12, 1, 0, 6, 7, 8, 0, 0, 0, 4, 4, 0, 0, 0, 0, 0, 3, 7, 1, 5, 17, 9, 0, 0, 1, 1, 0, 4, 2, 0, 45, 2, 0, 3, 4, 0, 2, 5, 0, 1, 8, 0, 1, 1, 4, 2, 2, 6, 2, 1, 0, 33, 0, 0, 0, 0, 11, 1, 0, 9, 4, 0, 6, 4, 1, 2, 9, 3, 8, 1, 0, 3, 13, 9, 40, 0, 2, 5, 0, 1, 0, 8, 7, 0, 2, 12, 0, 0, 0, 3, 0, 1, 0, 0, 2, 8, 4, 1, 2, 0, 0, 0, 3, 5, 2, 1, 2, 2, 0, 0, 0, 0, 3, 1, 19, 0, 3, 1, 0, 0, 0, 3, 5, 1, 5, 16, 0, 1, 0, 4, 3, 4, 10, 118, 5, 3, 6, 0, 8, 2, 6, 1, 7, 8, 0, 3, 0, 1, 1, 2, 0, 10, 5, 1, 1, 3, 1, 0, 0, 4, 4, 2, 0, 0, 0, 0, 1, 0, 4, 1, 2, 7, 0, 6, 54, 1, 1, 5, 0, 4, 5, 1, 7, 6, 0, 10, 3, 20, 0, 0, 7, 6, 4, 2, 9, 3, 5, 0, 1, 9, 18, 1, 0, 5, 2, 10, 4, 11, 0, 22, 0, 10, 10, 0, 0, 0, 0, 11, 7, 11, 4, 7, 2, 6, 2, 2, 21, 0, 11, 0, 22, 1, 0, 4, 19, 0, 2, 1, 0, 0, 43, 2, 5, 36, 0, 3, 14, 3, 5, 0, 0, 17, 0, 0, 2, 1, 5, 5, 30, 0, 12, 10, 5, 0, 7, 0, 2, 16, 15, 9, 6, 0, 33, 15, 14, 0, 6, 12, 91, 9, 27, 57, 7, 8, 7, 12, 0, 0, 3, 0, 2, 1, 16, 5, 0, 1, 211, 1, 5, 21, 3, 1, 0, 1, 12, 20, 3, 0, 5, 6, 39, 19, 59, 16, 50, 9, 2, 9, 7, 4, 17, 28, 107, 1, 18, 8, 0, 1, 2, 0, 0, 4, 0, 0, 0, 0, 0, 14, 2, 1, 7, 3, 2, 0, 0, 1, 6, 3, 1, 0, 1, 0, 38, 32, 4, 6, 130, 0, 6, 3, 10, 13, 0, 0, 6, 0, 0, 2, 21, 0, 28, 0, 9, 1, 0, 0, 3, 0, 21, 0, 0, 0, 0, 1, 0, 24, 12, 0, 20, 13, 3, 1, 26, 0, 0, 1, 9, 8, 12, 1, 20, 4, 0, 22, 0, 4, 0, 1, 3, 3, 0, 0, 0, 0, 4, 17, 0, 5, 0, 1, 2, 3, 1, 0, 0, 0, 0, 0, 0, 0, 0, 2, 4, 0, 2, 0, 0, 0, 14, 0, 3, 0, 0, 1, 0, 2, 6, 0, 0, 0, 0, 0, 0, 0, 0, 1, 0, 0, 2, 4, 0, 0, 1, 5, 0, 4, 0, 10, 0, 1, 0, 4, 0, 6, 1, 0, 0, 0, 0, 0, 0, 0, 0, 0, 0, 0, 4, 0, 0, 0, 0, 0, 0, 0, 1, 0, 11, 1, 0, 3, 0, 0, 0, 0, 0, 0, 0, 0, 0, 0, 0, 2, 34, 5, 2, 2, 0, 0, 0, 0, 13, 1, 14, 3, 36, 43, 13, 5, 12, 5, 65, 28, 48, 3, 15, 0, 1, 0, 0, 0, 0, 9, 0, 0, 0, 0, 6, 0, 1, 2, 0, 0, 0, 0, 0, 5, 0, 1, 0, 0, 1, 0, 0, 66, 0, 49, 13, 22, 30, 67, 2, 0, 0, 0, 0, 2, 0, 0, 4, 0, 1, 9, 0, 15, 6, 38, 22, 23, 126, 6, 0, 1, 0, 0, 0, 1, 0, 2, 2, 0, 2, 13, 1, 58, 4, 9, 2, 0, 33, 0, 0, 0, 0, 1, 0, 1, 0, 5, 1, 0, 0, 0, 0, 0, 0, 0, 0, 1, 0, 3, 2, 0, 0, 1, 0, 0, 2, 0, 1, 1, 0, 0, 2, 10, 3, 16, 0, 2, 0, 4, 1, 1, 3, 1, 1, 0, 5, 0, 1, 0, 9, 0, 12, 0, 0, 0, 1, 1, 1, 0, 1, 0, 0, 1, 0, 1, 0, 2, 2, 0, 0, 2, 0, 0, 0, 0, 0, 0, 0, 0, 4, 0, 0, 1, 9, 1, 0, 5, 8, 0, 3, 9, 1, 2, 0, 3, 0, 0, 1, 2, 0, 0, 1, 0, 20, 1, 1, 0, 0, 1, 0, 0, 2, 4, 0, 15, 0, 1, 0, 0, 0, 1, 0, 1, 2, 1, 0, 3, 0, 0, 5, 1, 0, 2, 0, 1, 0, 1, 0, 1, 2, 0, 0, 0, 0, 3, 0, 0, 3, 2, 0, 0, 2, 6, 3, 0, 1, 5, 0, 0, 7, 0, 1, 15, 2, 21, 3, 0, 5, 0, 5, 0, 2, 0, 1, 1, 0, 2, 9, 3, 0, 7, 0, 2, 6, 13, 0, 8, 1, 11, 8, 18, 1, 0, 13, 51, 11, 10, 1, 8, 0, 0, 4, 1, 38, 0, 5, 8, 14, 3, 0, 0, 3, 0, 0, 1, 0, 1, 0, 0, 0, 0, 5, 0, 0, 0, 0, 0, 13, 0, 0, 0, 0, 0, 0, 23, 4, 0, 0, 0, 0, 3, 0, 2, 0, 0, 1, 0, 1, 0, 0, 0, 3, 2, 0, 0, 0, 3, 0, 7, 1, 3, 3, 10, 0, 0, 0, 2, 3, 1, 0, 0, 6, 3, 41, 0, 36, 1, 47, 5, 0, 1, 57, 0, 3, 4, 18, 4, 1, 2, 21, 27, 29, 93, 169, 9, 19, 27, 11, 44, 0, 0, 3, 4, 0, 3, 1, 0, 0, 2, 1, 0, 0, 1, 1, 1, 4, 0, 7, 1, 0, 0, 0, 0, 0, 0, 0, 0, 0, 8, 0, 16, 0, 0, 0, 1, 1, 0, 0, 0, 0, 3, 0, 0, 0, 0, 0, 2, 0, 1, 0, 0, 0, 0, 0, 1, 0, 0, 0, 6, 0, 0, 2, 0, 1, 0, 0, 0, 2, 8, 0, 1, 4, 0, 0, 1, 0, 2, 0, 4, 4, 0, 5, 0, 0, 1, 0, 0, 0, 1, 0, 1, 17, 0, 30, 3, 2, 0, 0, 0, 1, 5, 24, 1, 0, 2, 4, 0, 0, 0, 2, 10, 1, 0, 8, 1, 1, 0, 0, 0, 3, 18, 0, 0, 3, 0, 0, 1, 18, 0, 0, 0, 0, 0, 1, 0, 0, 0, 0, 2, 0, 0, 13, 0, 1, 0, 6, 66, 27, 12, 12, 2, 18, 8, 0, 1, 0, 0, 2, 1, 1, 2, 3, 0, 0, 3, 5, 0, 23, 44, 7, 0, 3, 3, 16, 1, 1, 0, 1, 2, 0, 0, 6, 12, 14, 4, 34, 17, 24, 15, 82, 30, 3, 54, 24, 1, 149, 1, 11, 0, 3, 0, 5, 6, 1, 0, 0, 8, 0, 1, 10, 0, 1, 0, 2, 2, 2, 0, 10, 3, 6, 7, 34, 6, 9, 7, 14, 10, 11, 15, 4, 39, 16, 19, 29, 2, 20, 26, 5, 7, 3, 18, 0, 7, 0, 1, 2, 0, 14, 54, 10, 71, 65, 25, 23, 4, 0, 2, 11, 2, 0, 0, 1, 2, 1, 2, 0, 2, 3, 0, 0, 0, 84, 0, 0, 1, 2, 0, 43, 0, 1, 0, 0, 28, 0, 0, 8, 0, 0, 11, 0, 9, 0, 0, 0, 8, 2, 2, 20, 0, 26, 16, 3, 2, 6, 12, 0, 0, 7, 3, 0, 0, 1, 0, 0, 0, 4, 1, 0, 0, 0, 1, 0, 1, 8, 1, 0, 0, 0, 1, 0, 0, 0, 0, 0, 0, 0, 0, 1, 0, 0, 4, 0, 2, 0, 0, 1, 1, 0, 0, 1, 1, 0, 13, 2, 0, 0, 0, 0, 6, 13, 3, 0, 10, 2, 0, 0, 1, 0, 16, 4, 34, 0, 0, 9, 0, 5, 1, 1, 2, 2, 0, 7, 79, 1, 0, 110, 41, 0, 0, 0, 6, 0, 0, 11, 32, 18, 5, 1, 10, 9, 0, 0, 2, 20, 0, 0, 0, 8, 3, 0, 0, 0, 4, 0, 2, 0, 0, 0, 0, 0, 2, 0, 0, 3, 1, 2, 2, 1, 10, 2, 3, 1, 0, 8, 7, 3, 0, 0, 0, 1, 0, 1, 1, 29, 0, 9, 1, 3, 1, 8, 2, 0, 4, 9, 0, 0, 2, 4, 2, 0, 3, 5, 0, 9, 2, 1, 38, 10, 0, 0, 1, 2, 8, 0, 0, 1, 0, 0, 14, 14, 1, 9, 0, 12, 1, 0, 0, 4, 0, 0, 0, 1, 1, 1, 0, 0, 0, 0, 1, 0, 0, 0, 6, 5, 0, 0, 0, 0, 0, 1, 0, 2, 0, 0, 2, 0, 0, 2, 0, 0, 1, 0, 0, 10, 0, 1, 0, 0, 0, 0, 2, 0, 2, 0, 1, 1, 0, 6, 0, 0, 0, 0, 0, 0, 3, 0, 0, 5, 0, 0, 0, 0, 0, 3, 2, 0, 0, 0, 0, 0, 2, 0, 0, 0, 1, 0, 0, 0, 0, 0, 0, 0, 0, 0, 2, 0, 2, 0, 0, 7, 0, 0, 0, 0, 0, 0, 0, 1, 0, 0, 1, 1, 1, 1, 0, 1, 1, 1, 0, 0, 3, 0, 0, 0, 0, 0, 0, 0, 0, 2, 3, 2, 1, 0, 3, 0, 1, 0, 1, 0, 1, 0, 0, 0, 0, 1, 2, 1, 1, 0, 0, 0, 9, 0, 0, 0, 0, 0, 4, 0, 1, 0, 1, 1, 0, 0, 0, 2, 0, 1, 0, 0, 1, 0, 0, 0, 2, 8, 2, 3, 0, 0, 1, 0, 0, 0, 0, 1, 0, 0, 0, 0, 2, 0, 0, 0, 0, 0, 0, 2, 1, 1, 0, 0, 1, 0, 0, 0, 0, 0, 0, 1, 2, 0, 0, 1, 0, 0, 1, 0, 0, 0, 0, 0, 0, 0, 0, 1, 0, 0, 0, 0, 16, 0, 0, 0, 1, 0, 0, 0, 5, 0, 1, 0, 2, 0, 12, 3, 2, 1, 0, 3, 0, 0, 1, 0, 0, 0, 0, 0, 1, 1, 0, 2, 0, 7, 3, 0, 0, 2, 0, 1, 0, 0, 0, 5, 1, 0, 0, 0, 4, 0, 1, 1, 2, 0, 0, 2, 0, 0, 2, 0, 0, 2, 0, 0, 0, 1, 1, 0, 0, 0, 0, 0, 1, 0, 0, 0, 0, 2, 0, 1, 1, 2, 0, 4, 0, 0, 0, 0, 1, 1, 50, 1, 4, 0, 3, 3, 0, 0, 1, 0, 4, 0, 2, 0, 0, 1, 0, 0, 0, 0, 2, 0, 0, 0, 1, 0, 0, 0, 0, 0, 0, 1, 1, 0, 15, 0, 0, 0, 1, 0, 1, 0, 0, 2, 0, 0, 0, 0, 2, 2, 0, 6, 0, 0, 1, 0, 1, 2, 2, 0, 3, 8, 1, 3, 3, 0, 1, 1, 3, 0, 0, 5, 21, 44, 6, 0, 0, 2, 0, 7, 0, 15, 0, 0, 0, 0, 0, 13, 0, 0, 14, 0, 1, 0, 3, 1, 1, 0, 2, 0, 2, 0, 0, 0, 0, 0, 23, 5, 0, 0, 5, 1, 0, 2, 5, 0, 6, 0, 0, 0, 6, 0, 1, 7, 0, 0, 0, 16, 0, 13, 1, 6, 1, 22, 0, 3, 1, 0, 1, 1, 4, 0, 12, 12, 6, 0, 6, 0, 11, 4, 0, 18, 1, 18, 0, 3, 5, 7, 1, 1, 4, 0, 3, 0, 0, 1, 0, 12, 0, 4, 2, 15, 0, 0, 21, 44, 5, 1, 3, 0, 1, 0, 0, 0, 0, 7, 0, 1, 1, 0, 0, 5, 0, 0, 1, 1, 1, 2, 7, 13, 18, 0, 0, 0, 20, 0, 1, 0, 0, 0, 0, 0, 0, 4, 1, 1, 0, 0, 0, 6, 0, 1, 2, 3, 0, 0, 9, 0, 1, 20, 8, 0, 12, 6, 1, 2, 7, 2, 0, 7, 11, 0, 1, 3, 3, 0, 0, 0, 1, 0, 1, 0, 0, 8, 0, 2, 26, 7, 4, 0, 0, 41, 128, 11, 0, 1, 9, 7, 0, 17, 0, 24, 17, 22, 0, 0, 1, 0, 0, 0, 1, 0, 4, 0, 1, 4, 0, 0, 0, 28, 1, 1, 0, 2, 13, 2, 6, 0, 1, 0, 21, 4, 6, 1, 0, 0, 0, 1, 1, 0, 1, 0, 0, 0, 1, 0, 9, 0, 2, 2, 1, 0, 0, 0, 0, 1, 0, 1, 0, 0, 0, 0, 0, 0, 0, 0, 0, 1, 4, 0, 0, 1, 2, 0, 0, 0, 5, 0, 0, 0, 0, 2, 0, 5, 1, 8, 0, 0, 0, 4, 0, 0, 1, 1, 1, 1, 4, 2, 0, 1, 0, 5, 5, 1, 8, 22, 4, 0, 9, 2, 13, 13, 11, 2, 1, 0, 1, 32, 5, 11, 0, 1, 3, 0, 0, 0, 0, 17, 3, 5, 4, 5, 2, 2, 0, 2, 0, 2, 3, 3, 1, 1, 0, 0, 2, 1, 44, 0, 0, 0, 0, 3, 2, 45, 1, 0, 0, 0, 0, 0, 20, 23, 4, 1, 2, 13, 3, 14, 6, 9, 5, 1, 2, 18, 0, 4, 13, 0, 0, 3, 0, 10, 20, 3, 32, 10, 3, 51, 65, 0, 0, 1, 0, 1, 0, 0, 0, 0, 2, 0, 0, 2, 1, 0, 1, 0, 1, 0, 0, 0, 26, 0, 0, 1, 0, 0, 0, 1, 0, 4, 1, 0, 0, 1, 0, 1, 0, 1, 0, 0, 1, 0, 6, 0, 0, 1, 1, 0, 2, 2, 2, 2, 4, 0, 0, 3, 1, 1, 0, 0, 0, 1, 1, 0, 10, 5, 0, 1, 2, 0, 3, 2, 0, 21, 3, 1, 9, 2, 0, 11, 1, 1, 0, 3, 0, 0, 0, 4, 0, 0, 13, 6, 0, 0, 1, 0, 0, 0, 0, 0, 0, 2, 0, 0, 0, 4, 0, 1, 0, 1, 0, 1, 0, 3, 0, 2, 0, 0, 0, 0, 0, 1, 6, 1, 9, 0, 4, 0, 19, 0, 0, 1, 6, 0, 5, 5, 6, 0, 0, 0, 2, 0, 1, 9, 0, 0, 19, 6, 24, 1, 0, 0, 1, 0, 0, 0, 13, 7, 1, 4, 1, 15, 0, 2, 0, 0, 0, 8, 3, 0, 15, 0, 3, 7, 5, 2, 6, 2, 0, 1, 0, 3, 1, 0, 2, 1, 0, 0, 0, 0, 0, 0, 6, 0, 0, 0, 1, 0, 0, 0, 0, 0, 1, 0, 0, 0, 0, 0, 0, 0, 1, 0, 0, 3, 0, 3, 0, 2, 0, 1, 0, 5, 3, 1, 0, 2, 0, 0, 0, 0, 1, 0, 0, 0, 1, 5, 0, 4, 2, 1, 42, 2, 0, 0, 1, 4, 0, 0, 0, 0, 2, 0, 1, 2, 0, 0, 4, 0, 3, 0, 8, 0, 2, 7, 0, 1, 12, 2, 0, 0, 1, 0, 0, 0, 0, 1, 2, 0, 0, 2, 0, 3, 0, 3, 0, 0, 1, 0, 5, 3, 0, 0, 2, 0, 1, 3, 0, 0, 3, 2, 5, 2, 0, 0, 0, 4, 8, 0, 0, 0, 1, 0, 3, 0, 2, 1, 19, 0, 0, 5, 32, 1, 1, 0, 0, 0, 0, 0, 1, 0, 32, 0, 26, 23, 13, 5, 11, 37, 14, 57, 2, 1, 2, 7, 19, 0, 6, 1, 0, 0, 7, 4, 3, 1, 10, 3, 0, 0, 0, 3, 2, 3, 37, 7, 89, 2, 5, 0, 1, 40, 3, 24, 11, 100, 44, 9, 0, 0, 0, 1, 2, 5, 9, 1, 4, 0, 1, 0, 171, 11, 4, 1, 11, 5, 1, 1, 10, 0, 5, 13, 1, 1, 3, 7, 1, 1, 3, 5, 0, 6, 7, 2, 1, 0, 0, 0, 0, 2, 1, 1, 1, 0, 3, 2, 0, 0, 1, 2, 2, 0, 0, 2, 30, 0, 7, 0, 1, 0, 0, 0, 2, 0, 0, 0, 7, 2, 22, 2, 1, 0, 2, 0, 0, 0, 1, 6, 0, 0, 0, 0, 0, 1, 0, 1, 0, 1, 0, 0, 0, 5, 1, 3, 1, 2, 17, 7, 0, 0, 0, 3, 0, 0, 0, 0, 1, 0, 1, 0, 2, 0, 5, 0, 0, 0, 0, 2, 0, 0, 0, 1, 2, 1, 1, 0, 7, 8, 0, 0, 0, 0, 0, 0, 0, 16, 4, 0, 0, 0, 4, 0, 1, 6, 42, 23, 51, 20, 91, 10, 8, 22, 14, 35, 13, 10, 13, 16, 16, 22, 5, 1, 7, 1, 0, 9, 1, 7, 0, 0, 0, 4, 1, 0, 0, 1, 32, 0, 9, 8, 11, 0, 0, 0, 0, 1, 5, 0, 0, 1, 1, 0, 2, 0, 0, 6, 0, 0, 0, 0, 0, 3, 1, 3, 0, 8, 5, 0, 34, 3, 2, 1, 0, 0, 0, 0, 1, 0, 0, 0, 8, 0, 1, 0, 0, 5, 1, 2, 1, 3, 3, 0, 42, 0, 3, 0, 0, 16, 0, 1, 0, 0, 7, 4, 2, 10, 8, 0, 0, 4, 0, 1, 30, 22, 3, 0, 0, 0, 9, 0, 1, 0, 0, 0, 0, 3, 0, 0, 0, 1, 18, 4, 0, 0, 27, 4, 0, 0, 0, 1, 0, 1, 4, 0, 0, 2, 0, 1, 0, 0, 0, 1, 1, 2, 1, 4, 1, 0, 2, 1, 0, 0, 0, 0, 0, 0, 0, 0, 6, 8, 9, 0, 9, 4, 0, 1, 9, 13, 16, 2, 0, 0, 14, 0, 3, 1, 0, 0, 0, 2, 0, 15, 1, 0, 3, 0, 1, 0, 1, 0, 8, 0, 9, 8, 4, 5, 11, 4, 12, 104, 5, 7, 12, 2, 20, 12, 4, 0, 1, 3, 3, 15, 2, 1, 31, 0, 36, 15, 7, 47, 28, 54, 54, 11, 8, 0, 0, 0, 1, 0, 0, 0, 0, 0, 0, 0, 1, 0, 2, 0, 0, 0, 0, 2, 0, 0, 0, 0, 0, 0, 0, 8, 0, 0, 0, 0, 3, 1, 0, 1, 0, 0, 0, 0, 0, 2, 6, 0, 2, 0, 1, 1, 1, 1, 0, 0, 0, 0, 0, 1, 2, 0, 0, 3, 3, 1, 0, 7, 0, 2, 0, 0, 0, 3, 0, 0, 1, 0, 0, 0, 2, 1, 0, 3, 1, 0, 1, 0, 14, 8, 0, 7, 0, 0, 1, 0, 0, 1, 0, 6, 0, 1, 8, 1, 0, 1, 0, 0, 0, 0, 0, 6, 0, 1, 3, 8, 3, 2, 1, 3, 0, 5, 7, 0, 8, 0, 0, 0, 0, 1, 1, 0, 3, 0, 1, 1, 1, 0, 0, 1, 1, 2, 2, 1, 1, 0, 3, 0, 1, 6, 50, 0, 0, 1, 1, 0, 0, 0, 3, 0, 0, 1, 0, 22, 0, 0, 60, 0, 1, 4, 2, 0, 0, 0, 7, 2, 0, 0, 4, 4, 3, 0, 1, 1, 0, 0, 0, 0, 0, 0, 2, 5, 0, 0, 3, 3, 0, 1, 0, 0, 3, 0, 0, 0, 0, 1, 0, 2, 1, 0, 0, 8, 2, 0, 0, 0, 10, 0, 0, 3, 0, 1, 0, 2, 36, 3, 1, 0, 0, 0, 0, 3, 0, 1, 0, 0, 0, 2, 0, 1, 2, 4, 3, 0, 6, 3, 3, 47, 15, 1, 1, 2, 1, 2, 9, 18, 1, 28, 9, 81, 51, 7, 7, 2, 16, 1, 1, 0, 1, 0, 0, 3, 1, 27, 2, 2, 1, 0, 2, 0, 0, 0, 0, 13, 29, 2, 0, 0, 0, 0, 0, 0, 2, 0, 0, 0, 0, 0, 0, 1, 1, 1, 0, 0, 1, 0, 1, 0, 0, 1, 0, 3, 0, 0, 1, 2, 1, 0, 0, 0, 7, 0, 0, 9, 1, 0, 1, 0, 0, 0, 0, 0, 0, 1, 0, 0, 0, 1, 0, 0, 0, 0, 0, 1, 0, 0, 1, 3, 0, 1, 0, 1, 0, 0, 1, 0, 5, 1, 1, 0, 0, 1, 1, 0, 0, 0, 0, 0, 0, 0, 0, 0, 0, 0, 1, 0, 13, 0, 0, 3, 20, 0, 0, 2, 1, 1, 0, 0, 0, 0, 0, 3, 0, 1, 4, 0, 0, 0, 4, 2, 0, 2, 4, 5, 0, 0, 1, 0, 0, 0, 0, 0, 6, 0, 0, 1, 0, 0, 3, 18, 0, 0, 0, 1, 0, 0, 0, 47, 0, 6, 0, 11, 0, 1, 0, 2, 0, 7, 0, 3, 0, 0, 0, 1, 0, 2, 2, 0, 0, 1, 0, 17, 0, 0, 0, 1, 14, 0, 0, 0, 0, 2, 0, 0, 0, 0, 15, 0, 0, 0, 0, 2, 4, 3, 1, 0, 2, 0, 3, 0, 2, 1, 1, 1, 0, 0, 0, 0, 0, 0, 1, 2, 9, 7, 1, 41, 37, 5, 1, 0, 1, 0, 9, 7, 36, 0, 0, 0, 0, 2, 6, 3, 0, 4, 3, 0, 0, 1, 3, 0, 7, 3, 0, 3, 0, 2, 20, 11, 24, 5, 1, 0, 27, 0, 3, 0, 2, 0, 0, 1, 1, 2, 0, 0, 6, 11, 0, 0, 1, 2, 1, 1, 20, 20, 35, 5, 0, 0, 1, 6, 9, 0, 33, 11, 0, 14, 7, 8, 8, 4, 0, 0, 3, 5, 0, 0, 10, 2, 0, 2, 20, 4, 2, 2, 7, 7, 26, 8, 11, 2, 0, 0, 4, 46, 7, 3, 5, 3, 2, 0, 3, 3, 6, 7, 1, 0, 64, 1, 0, 5, 3, 0, 97, 32, 3, 19, 51, 5, 15, 3, 15, 5, 22, 19, 3, 1, 0, 3, 0, 4, 1, 0, 5, 5, 2, 8, 2, 39, 22, 28, 21, 7, 8, 37, 0, 1, 3, 1, 74, 22, 3, 11, 25, 44, 4, 14, 20, 4, 0, 2, 3, 0, 2, 0, 0, 0, 1, 0, 0, 2, 0, 3, 1, 30, 0, 3, 0, 0, 3, 1, 0, 0, 2, 0, 0, 2, 1, 0, 0, 0, 23, 15, 3, 1, 2, 10, 1, 39, 29, 121, 24, 2, 5, 20, 0, 1, 0, 0, 0, 0, 2, 0, 2, 0, 0, 1, 1, 0, 0, 2, 1, 6, 8, 1, 46, 0, 0, 0, 28, 1, 7, 0, 0, 1, 11, 0, 0, 0, 1, 27, 0, 0, 6, 1, 0, 15, 4, 0, 1, 9, 8, 0, 4, 8, 6, 0, 0, 32, 7, 2, 2, 2, 2, 0, 4, 3, 1, 4, 28, 18, 0, 14, 20, 69, 1, 39, 0, 1, 0, 6, 71, 1, 0, 0, 0, 0, 1, 1, 0, 0, 0, 0, 0, 0, 0, 0, 1, 0, 0, 0, 0, 0, 5, 0, 1, 0, 0, 0, 0, 0, 0, 1, 5, 0, 2, 2, 2, 1, 9, 0, 1, 0, 14, 0, 0, 0, 2, 11, 1, 0, 0, 1, 13, 1, 0, 0, 3, 0, 4, 0, 29, 13, 11, 29, 81, 6, 6, 1, 15, 24, 71, 24, 26, 16, 0, 27, 12, 23, 13, 31, 124, 0, 1, 0, 1, 0, 0, 16, 3, 0, 0, 3, 0, 0, 0, 0, 0, 2, 6, 0, 0, 3, 0, 0, 0, 0, 1, 1, 1, 0, 4, 0, 0, 0, 0, 1, 2, 0, 2, 0, 0, 3, 0, 0, 1, 1, 0, 1, 1, 0, 1, 4, 11, 0, 0, 0, 0, 0, 5, 0, 2, 1, 0, 0, 1, 1, 0, 0, 0, 0, 1, 0, 11, 0, 1, 2, 0, 13, 0, 132, 0, 0, 0, 0, 0, 3, 10, 7, 1, 0, 0, 0, 0, 0, 1, 0, 0, 0, 0, 0, 0, 0, 5, 0, 13, 1, 6, 1, 8, 5, 1, 20, 1, 0, 0, 0, 1, 1, 3, 0, 0, 1, 0, 2, 2, 0, 0, 4, 2, 0, 0, 0, 0, 4, 0, 6, 0, 0, 1, 0, 0, 3, 6, 0, 0, 0, 0, 0, 0, 0, 0, 0, 0, 0, 0, 3, 5, 0, 0, 1, 0, 0, 0, 1, 0, 0, 0, 0, 0, 0, 0, 0, 0, 0, 0, 0, 0, 0, 0, 0, 0, 0, 0, 1, 0, 0, 0, 1, 0, 0, 0, 17, 0, 0, 0, 1, 0, 0, 0, 0, 0, 0, 1, 0, 0, 0, 1, 0, 6, 1, 6, 0, 13, 0, 1, 2, 0, 0, 8, 1, 0, 2, 1, 0, 1, 20, 6, 0, 5, 0, 2, 23, 2, 1, 0, 1, 0, 5, 0, 3, 0, 5, 5, 0, 2, 1, 0, 22, 4, 1, 11, 2, 0, 5, 5, 28, 15, 4, 4, 3, 79, 0, 19, 6, 0, 3, 5, 53, 11, 34, 6, 0, 2, 0, 0, 0, 0, 8, 72, 0, 0, 0, 0, 0, 2, 0, 1, 0, 0, 17, 6, 0, 0, 2, 0, 3, 2, 0, 0, 0, 2, 0, 6, 0, 1, 19, 2, 1, 1, 1, 0, 0, 3, 3, 0, 16, 3, 9, 1, 2, 1, 1, 4, 1, 0, 4, 26, 0, 0, 4, 0, 1, 1, 0, 3, 4, 0, 20, 0, 4, 1, 0, 0, 0, 0, 0, 0, 0, 0, 18, 3, 0, 0, 0, 0, 0, 6, 1, 6, 1, 1, 0, 0, 2, 5, 18, 6, 3, 1, 14, 3, 2, 1, 0, 0, 0, 1, 0, 0, 1, 0, 1, 5, 1, 11, 0, 2, 0, 1, 2, 4, 13, 1, 0, 0, 17, 0, 4, 0, 1, 36, 0, 0, 49, 2, 5, 0, 1, 152, 35, 22, 3, 42, 65, 5, 0, 0, 0, 1, 3, 0, 1, 3, 0, 0, 3, 0, 0, 4, 0, 1, 0, 0, 0, 4, 9, 0, 2, 0, 8, 0, 0, 0, 16, 0, 1, 0, 1, 0, 0, 1, 0, 6, 0, 0, 5, 0, 0, 1, 2, 1, 2, 2, 5, 1, 1, 0, 0, 1, 0, 14, 6, 1, 3, 1, 0, 0, 0, 0, 0, 1, 0, 2, 0, 1, 2, 1, 0, 0, 17, 2, 3, 2, 0, 0, 0, 25, 25, 0, 0, 3, 4, 0, 9, 1, 1, 5, 0, 1, 8, 0, 18, 15, 0, 0, 1, 13, 38, 0, 14, 55, 13, 22, 3, 0, 4, 20, 18, 12, 7, 0, 4, 0, 2, 0, 17, 2, 0, 0, 1, 0, 0, 0, 16, 4, 1, 1, 10, 6, 16, 1, 1, 0, 0, 22, 0, 0, 0, 1, 0, 1, 29, 0, 0, 1, 1, 0, 0, 0, 0, 0, 0, 3, 1, 0, 3, 1, 0, 0, 0, 0, 2, 0, 0, 0, 0, 2, 1, 4, 0, 0, 1, 2, 0, 1, 3, 0, 0, 0, 0, 1, 6, 1, 0, 0, 0, 14, 0, 0, 1, 0, 0, 0, 0, 0, 0, 0, 0, 0, 15, 0, 0, 3, 2, 0, 0, 4, 1, 0, 0, 0, 1, 1, 0, 0, 1, 28, 0, 1, 0, 0, 5, 0, 1, 0, 0, 1, 0, 0, 0, 0, 82, 21, 0, 0, 3, 4, 0, 16, 1, 10, 1, 0, 2, 6, 0, 2, 2, 149, 0, 6, 40, 4, 6, 6, 0, 0, 0, 0, 6, 19, 0, 0, 1, 0, 2, 0, 1, 0, 1, 0, 0, 0, 1, 2, 13, 2, 1, 0, 10, 0, 0, 1, 1, 3, 0, 15, 0, 0, 0, 13, 1, 3, 0, 6, 0, 2, 2, 2, 1, 0, 0, 0, 0, 0, 0, 0, 0, 1, 0, 1, 2, 4, 2, 1, 0, 3, 5, 0, 2, 23, 7, 76, 0, 0, 0, 5, 3, 2, 1, 3, 0, 0, 0, 0, 4, 0, 0, 0, 3, 0, 1, 0, 0, 0, 0, 3, 5, 9, 3, 1, 0, 10, 15, 0, 3, 4, 3, 0, 0, 7, 2, 34, 0, 0, 5, 0, 42, 0, 1, 0, 3, 15, 5, 3, 9, 0, 1, 0, 1, 0, 2, 0, 0, 18, 1, 3, 1, 3, 5, 19, 0, 3, 0, 0, 11, 17, 17, 0, 6, 7, 4, 0, 1, 1, 1, 2, 0, 4, 18, 1, 1, 9, 5, 1, 3, 0, 3, 7, 1, 0, 0, 37, 0, 0, 0, 8, 3, 4, 5, 1, 0, 0, 0, 0, 5, 0, 0, 0, 7, 0, 0, 5, 2, 39, 21, 16, 2, 1, 0, 3, 1, 1, 0, 6, 1, 37, 10, 1, 10, 0, 3, 1, 0, 0, 0, 0, 33, 0, 1, 0, 3, 1, 1, 2, 1, 1, 2, 20, 8, 0, 0, 6, 0, 0, 0, 0, 2, 0, 2, 3, 0, 3, 1, 0, 17, 4, 0, 0, 0, 1, 2, 0, 0, 0, 1, 0, 21, 0, 2, 1, 0, 0, 0, 0, 0, 0, 0, 0, 1, 0, 1, 11, 1, 9, 3, 0, 0, 0, 0, 0, 0, 6, 0, 0, 0, 0, 0, 1, 0, 0, 0, 0, 15, 0, 0, 1, 2, 5, 2, 0, 0, 0, 3, 0, 0, 0, 0, 3, 1, 1, 0, 2, 1, 1, 0, 3, 0, 0, 5, 3, 0, 0, 2, 3, 4, 1, 3, 3, 3, 1, 3, 0, 11, 3, 0, 0, 0, 7, 13, 7, 118, 0, 0, 0, 0, 0, 1, 0, 0, 0, 1, 0, 0, 0, 6, 0, 0, 1, 0, 0, 0, 0, 4, 0, 23, 2, 7, 0, 0, 0, 0, 0, 0, 0, 0, 1, 3, 0, 0, 0, 1, 0, 4, 0, 0, 9, 1, 20, 0, 0, 0, 1, 0, 3, 11, 0, 0, 2, 2, 0, 5, 21, 190, 0, 0, 0, 1, 2, 8, 0, 19, 1, 1, 4, 0, 5, 8, 0, 0, 0, 0, 1, 2, 0, 0, 0, 0, 0, 0, 0, 0, 0, 0, 2, 2, 3, 0, 2, 1, 1, 0, 1, 0, 0, 1, 0, 5, 0, 0, 0, 1, 5, 0, 0, 0, 4, 0, 0, 2, 5, 0, 4, 0, 0, 0, 4, 0, 0, 3, 22, 1, 8, 0, 3, 8, 1, 44, 0, 3, 0, 3, 0, 3, 0, 6, 0, 26, 0, 1, 17, 15, 0, 33, 0, 27, 14, 26, 5, 7, 0, 2, 0, 0, 7, 8, 0, 12, 0, 6, 7, 3, 0, 0, 17, 0, 2, 2, 1, 4, 1, 0, 2, 15, 6, 4, 1, 12, 6, 66, 0, 1, 0, 0, 0, 5, 0, 0, 0, 0, 0, 0, 3, 4, 0, 3, 17, 0, 1, 8, 15, 5, 13, 0, 3, 0, 15, 51, 9, 1, 3, 0, 13, 5, 0, 3, 1, 12, 0, 0, 1, 14, 5, 1, 4, 0, 1, 0, 11, 5, 17, 0, 10, 2, 14, 0, 7, 1, 5, 1, 4, 4, 2, 2, 5, 15, 11, 0, 13, 1, 1, 3, 6, 39, 0, 0, 0, 4, 0, 2, 15, 1, 0, 20, 0, 8, 11, 1, 3, 3, 0, 0, 0, 2, 0, 2, 1, 3, 7, 7, 1, 2, 0, 0, 0, 0, 9, 1, 0, 0, 4, 0, 12, 0, 3, 2, 0, 0, 0, 4, 0, 0, 5, 1, 0, 0, 1, 2, 6, 5, 0, 18, 5, 0, 1, 4, 2, 1, 1, 32, 4, 3, 8, 3, 6, 4, 0, 2, 1, 2, 2, 3, 3, 12, 1, 1, 2, 4, 0, 19, 1, 2, 0, 0, 2, 3, 2, 2, 7, 1, 3, 23, 51, 2, 0, 4, 0, 2, 1, 22, 4, 2, 2, 1, 2, 22, 1, 4, 0, 8, 1, 9, 2, 5, 1, 3, 1, 4, 1, 0, 0, 2, 0, 2, 2, 19, 13, 2, 0, 5, 7, 4, 1, 4, 15, 9, 2, 10, 6, 48, 2, 2, 15, 0, 12, 1, 2, 3, 0, 1, 9, 5, 13, 3, 0, 2, 1, 0, 15, 1, 30, 7, 3, 2, 2, 8, 1, 0, 1, 1, 1, 23, 1, 1, 1, 2, 13, 14, 4, 6, 1, 0, 1, 2, 5, 2, 1, 3, 0, 0, 0, 2, 19, 0, 5, 0, 0, 6, 0, 23, 5, 11, 0, 5, 0, 0, 8, 7, 1, 11, 5, 0, 0, 0, 3, 0, 0, 4, 3, 2, 0, 2, 9, 1, 2, 12, 0, 9, 4, 3, 0, 2, 6, 0, 0, 8, 13, 13, 0, 2, 2, 2, 3, 1, 8, 8, 4, 7, 1, 1, 0, 18, 13, 1, 24, 0, 2, 5, 0, 5, 0, 2, 0, 0, 1, 5, 6, 11, 0, 2, 5, 15, 0, 27, 0, 21, 14, 3, 39, 1, 1, 5, 6, 1, 1, 0, 11, 88, 45, 0, 0, 9, 0, 2, 1, 0, 0, 4, 31, 7, 7, 11, 1, 1, 1, 46, 3, 5, 3, 45, 10, 5, 2, 15, 1, 11, 21, 15, 46, 6, 7, 4, 0, 0, 5, 5, 7, 2, 4, 16, 0, 7, 5, 0, 0, 0, 9, 3, 0, 0, 13, 5, 7, 9, 11, 2, 1, 37, 2, 0, 2, 5, 28, 5, 0, 0, 4, 4, 0, 4, 12, 0, 0, 1, 1, 4, 0, 0, 12, 0, 0, 33, 1, 0, 0, 7, 0, 0, 0, 5, 0, 0, 0, 1, 4, 1, 1, 2, 2, 22, 3, 23, 3, 0, 3, 5, 0, 0, 2, 1, 0, 1, 1, 0, 2, 1, 0, 1, 0, 18, 0, 2, 1, 14, 2, 2, 6, 1, 30, 12, 9, 2, 24, 0, 6, 6, 3, 0, 4, 15, 1, 21, 0, 4, 32, 62, 9, 26, 12, 4, 15, 4, 13, 1, 6, 8, 2, 55, 9, 1, 5, 7, 28, 260, 10, 1, 263, 3, 0, 11, 0, 0, 5, 1, 5, 20, 8, 0, 16, 1, 8, 0, 0, 0, 4, 2, 6, 9, 11, 1, 56, 10, 1, 3, 15, 4, 0, 0, 5, 3, 7, 0, 10, 25, 3, 31, 1, 6, 0, 19, 0, 29, 3, 60, 20, 8, 3, 3, 23, 0, 0, 36, 6, 3, 9, 4, 4, 18, 6, 0, 13, 4, 0, 5, 0, 0, 3, 0, 0, 0, 1, 6, 0, 0, 0, 0, 1, 0, 7, 0, 0, 0, 0, 0, 0, 0, 5, 0, 0, 0, 0, 0, 0, 2, 0, 0, 0, 0, 0, 0, 0, 0, 0, 0, 0, 0, 1, 0, 0, 0, 0, 1, 0, 1, 17, 0, 0, 1, 3, 0, 0, 4, 5, 0, 0, 0, 0, 6, 0, 1, 1, 0, 0, 2, 1, 5, 0, 1, 0, 0, 0, 0, 1, 0, 0, 1, 2, 1, 0, 0, 0, 0, 0, 0, 0, 0, 0, 0, 0, 0, 2, 1, 8, 0, 0, 1, 0, 1, 0, 3, 0, 6, 0, 1, 0, 35, 2, 0, 0, 2, 0, 15, 0, 0, 0, 0, 0, 0, 0, 6, 1, 2, 0, 2, 1, 0, 0, 0, 1, 0, 11, 5, 63, 6, 7, 2, 0, 0, 0, 17, 21, 24, 1, 0, 0, 0, 0, 0, 0, 0, 0, 0, 1, 0, 0, 1, 0, 0, 0, 0, 0, 1, 0, 1, 0, 0, 0, 1, 4, 1, 0, 0, 0, 0, 13, 0, 0, 0, 0, 0, 2, 0, 1, 0, 0, 1, 1, 0, 0, 0, 0, 0, 0, 0, 0, 0, 0, 0, 0, 2, 14, 0, 3, 0, 1, 0, 1, 0, 0, 2, 2, 4, 0, 0, 49, 3, 62, 7, 0, 2, 0, 1, 2, 0, 0, 0, 3, 4, 5, 0, 1, 5, 4, 0, 0, 0, 0, 1, 2, 3, 0, 2, 16, 7, 3, 1, 0, 4, 6, 2, 9, 11, 0, 0, 2, 1, 0, 2, 4, 1, 43, 5, 0, 3, 7, 13, 13, 19, 2, 4, 13, 0, 0, 8, 1, 0, 8, 0, 34, 18, 0, 18, 38, 0, 7, 4, 0, 9, 14, 6, 1, 2, 8, 1, 5, 8, 0, 27, 12, 52, 2, 21, 8, 26, 3, 66, 0, 0, 1, 2, 0, 4, 15, 0, 10, 11, 3, 0, 19, 2, 0, 1, 1, 17, 1, 3, 1, 0, 4, 22, 10, 0, 11, 0, 1, 9, 0, 41, 54, 10, 4, 0, 3, 83, 31, 40, 1, 13, 9, 8, 12, 77, 3, 0, 1, 2, 9, 3, 16, 1, 14, 7, 11, 8, 0, 0, 36, 22, 35, 5, 11, 28, 1, 2, 14, 0, 1, 9, 59, 1, 53, 17, 11, 6, 2, 1, 2, 0, 17, 0, 0, 0, 38, 0, 18, 15, 5, 6, 4, 0, 18, 5, 9, 46, 2, 0, 2, 1, 2, 6, 2, 14, 3, 7, 6, 3, 3, 1, 2, 0, 2, 5, 1, 0, 16, 2, 0, 3, 4, 1, 0, 4, 0, 2, 16, 2, 2, 7, 1, 4, 0, 0, 0, 0, 0, 0, 0, 3, 5, 0, 1, 2, 6, 2, 0, 1, 0, 7, 2, 10, 0, 2, 0, 0, 1, 5, 0, 0, 5, 0, 7, 8, 49, 0, 0, 0, 6, 13, 0, 0, 13, 8, 10, 0, 4, 21, 6, 16, 14, 4, 2, 1, 25, 6, 6, 3, 1, 49, 3, 29, 3, 2, 1, 0, 0, 87, 83, 0, 0, 9, 1, 1, 0, 4, 4, 0, 0, 1, 1, 16, 12, 0, 0, 0, 8, 0, 0, 1, 82, 2, 1, 0, 1, 0, 0, 0, 0, 23, 10, 5, 8, 1, 8, 0, 10, 23, 6, 9, 18, 6, 34, 0, 0, 14, 6, 0, 0, 0, 2, 38, 5, 6, 14, 7, 2, 3, 9, 11, 2, 31, 21, 24, 12, 7, 5, 1, 2, 1, 0, 0, 0, 15, 3, 3, 2, 1, 7, 3, 40, 5, 0, 2, 0, 0, 0, 47, 0, 2, 2, 4, 1, 0, 2, 2, 9, 2, 26, 11, 8, 8, 3, 18, 0, 2, 1, 0, 1, 0, 0, 4, 0, 0, 1, 1, 8, 84, 0, 7, 9, 3, 8, 19, 1, 1, 3, 0, 1, 0, 0, 2, 0, 1, 0, 1, 0, 2, 0, 21, 0, 3, 0, 1, 0, 2, 0, 0, 0, 1, 3, 1, 3, 1, 0, 0, 5, 2, 1, 5, 1, 0, 4, 4, 3, 0, 0, 1, 0, 0, 0, 3, 0, 0, 3, 0, 1, 1, 1, 0, 0, 2, 3, 0, 2, 1, 0, 0, 0, 0, 1, 5, 0, 1, 3, 0, 1, 0, 1, 0, 1, 0, 3, 0, 0, 0, 0, 0, 0, 0, 3, 2, 0, 0, 0, 0, 1, 0, 0, 0, 0, 1, 1, 4, 0, 1, 0, 1, 0, 2, 0, 0, 3, 0, 0, 33, 10, 9, 44, 14, 0, 0, 0, 0, 3, 0, 0, 0, 0, 1, 0, 1, 0, 0, 0, 1, 1, 0, 0, 3, 0, 10, 0, 0, 0, 0, 3, 19, 2, 1, 9, 0, 0, 2, 0, 0, 13, 1, 4, 2, 0, 0, 0, 2, 0, 4, 0, 3, 6, 0, 3, 8, 0, 2, 35, 0, 2, 5, 0, 4, 3, 0, 0, 4, 0, 4, 0, 2, 0, 13, 0, 0, 1, 0, 2, 1, 0, 0, 0, 0, 4, 0, 0, 0, 0, 0, 11, 0, 0, 1, 0, 3, 0, 1, 9, 0, 0, 27, 11, 4, 0, 5, 1, 1, 6, 0, 4, 1, 0, 0, 0, 1, 4, 0, 13, 4, 11, 11, 2, 3, 1, 0, 3, 6, 0, 19, 1, 7, 0, 11, 0, 3, 1, 0, 0, 7, 1, 3, 2, 0, 0, 2, 1, 5, 20, 10, 4, 5, 1, 16, 0, 0, 1, 23, 9, 3, 7, 14, 4, 0, 0, 21, 1, 0, 8, 1, 0, 0, 9, 0, 7, 0, 3, 4, 0, 0, 0, 1, 1, 2, 2, 0, 0, 0, 3, 3, 52, 1, 1, 5, 9, 4, 6, 10, 1, 28, 4, 1, 12, 1, 2, 0, 0, 0, 4, 0, 0, 2, 8, 5, 1, 1, 3, 0, 25, 0, 2, 5, 0, 171, 0, 1, 1, 1, 5, 1, 6, 5, 3, 4, 9, 2, 1, 3, 5, 2, 0, 2, 1, 0, 0, 3, 5, 3, 0, 0, 0, 0, 0, 0, 0, 1, 0, 1, 0, 0, 0, 0, 0, 0, 4, 3, 2, 4, 1, 1, 0, 0, 0, 0, 1, 0, 0, 1, 2, 10, 1, 17, 0, 0, 1, 0, 1, 0, 17, 4, 1, 3, 2, 0, 6, 0, 0, 0, 1, 0, 31, 20, 9, 0, 0, 25, 2, 0, 0, 1, 15, 2, 7, 2, 15, 27, 1, 8, 18, 0, 0, 0, 0, 0, 0, 0, 0, 0, 4, 1, 7, 0, 0, 0, 0, 0, 11, 0, 0, 1, 6, 1, 0, 2, 19, 1, 6, 0, 1, 4, 1, 0, 0, 0, 0, 0, 0, 0, 0, 4, 3, 0, 1, 0, 1, 1, 1, 0, 1, 0, 0, 1, 0, 0, 0, 1, 1, 0, 1, 0, 1, 0, 0, 0, 3, 0, 1, 6, 0, 0, 0, 0, 2, 0, 0, 0, 2, 0, 0, 0, 1, 0, 0, 6, 1, 1, 0, 0, 29, 2, 0, 0, 0, 0, 1, 0, 0, 0, 0, 1, 0, 0, 1, 2, 8, 2, 27, 2, 10, 2, 0, 26, 0, 5, 0, 3, 1, 8, 10, 47, 16, 45, 19, 53, 17, 0, 2, 29, 6, 1, 4, 0, 1, 5, 4, 2, 0, 52, 10, 0, 3, 4, 5, 0, 1, 3, 0, 0, 0, 3, 0, 6, 2, 2, 4, 10, 6, 11, 33, 1, 0, 0, 0, 0, 0, 0, 0, 0, 0, 0, 0, 8, 1, 12, 1, 0, 1, 0, 13, 0, 3, 14, 0, 1, 0, 0, 3, 6, 4, 3, 0, 1, 2, 1, 0, 1, 0, 0, 3, 2, 6, 0, 7, 0, 1, 0, 1, 1, 0, 8, 3, 4, 9, 0, 0, 2, 1, 7, 2, 14, 0, 8, 1, 0, 1, 1, 4, 0, 14, 0, 3, 3, 7, 2, 0, 1, 3, 3, 0, 1, 1, 0, 0, 1, 0, 1, 1, 3, 0, 1, 1, 4, 1, 1, 0, 4, 25, 4, 1, 0, 0, 6, 1, 10, 2, 0, 0, 14, 5, 0, 1, 0, 20, 1, 1, 4, 1, 2, 0, 3, 0, 0, 3, 0, 0, 1, 0, 2, 0, 5, 2, 0, 15, 8, 0, 22, 0, 1, 2, 2, 1, 36, 3, 0, 16, 1, 1, 1, 0, 0, 4, 0, 0, 0, 0, 6, 1, 6, 2, 0, 7, 5, 0, 1, 10, 2, 0, 0, 14, 0, 0, 1, 7, 21, 0, 0, 0, 1, 0, 2, 0, 0, 0, 2, 1, 0, 8, 0, 0, 1, 6, 0, 3, 1, 8, 0, 5, 8, 0, 3, 1, 11, 1, 19, 2, 1, 3, 0, 5, 3, 0, 9, 5, 24, 5, 4, 5, 2, 0, 0, 0, 0, 4, 1, 1, 0, 9, 0, 2, 0, 2, 2, 0, 1, 13, 0, 36, 2, 10, 1, 3, 7, 49, 4, 12, 0, 1, 0, 6, 4, 0, 0, 1, 11, 0, 3, 2, 2, 1, 0, 1, 1, 2, 0, 5, 0, 0, 0, 5, 1, 0, 4, 0, 0, 3, 4, 5, 2, 0, 6, 0, 16, 14, 5, 30, 0, 4, 8, 12, 4, 12, 0, 0, 4, 1, 1, 7, 2, 3, 5, 0, 0, 0, 1, 1, 0, 0, 0, 1, 0, 0, 0, 17, 0, 1, 4, 1, 13, 2, 26, 0, 0, 0, 0, 0, 3, 1, 2, 0, 0, 0, 0, 0, 0, 1, 0, 0, 0, 1, 1, 0, 0, 0, 0, 0, 0, 0, 0, 0, 0, 0, 0, 1, 0, 4, 0, 0, 0, 1, 1, 7, 0, 4, 0, 10, 0, 7, 1, 0, 0, 8, 1, 0, 2, 17, 4, 79, 48, 20, 0, 1, 0, 2, 0, 0, 0, 0, 2, 7, 0, 3, 5, 1, 6, 0, 16, 0, 6, 0, 2, 8, 2, 0, 0, 0, 3, 1, 4, 28, 1, 1, 0, 1, 0, 2, 3, 1, 0, 0, 0, 1, 1, 6, 5, 1, 2, 16, 0, 11, 1, 0, 0, 10, 0, 1, 13, 0, 0, 0, 36, 19, 324, 1, 8, 5, 0, 16, 16, 2, 17, 0, 0, 0, 0, 2, 0, 1, 2, 1, 2, 1, 4, 22, 22, 2, 0, 2, 9, 17, 11, 0, 5, 3, 3, 0, 1, 3, 5, 0, 0, 0, 0, 0, 0, 2, 1, 10, 1, 2, 17, 0, 1, 3, 0, 9, 3, 1, 0, 1, 0, 4, 4, 0, 6, 4, 12, 46, 46, 46, 0, 0, 0, 1, 0, 1, 0, 0, 0, 0, 0, 3, 0, 1, 0, 0, 0, 0, 6, 2, 10, 1, 2, 28, 3, 0, 0, 1, 1, 9, 1, 2, 0, 0, 3, 4, 1, 1, 0, 0, 7, 2, 0, 1, 3, 10, 2, 11, 6, 4, 1, 3, 1, 1, 0, 2, 8, 83, 4, 6, 0, 6, 5, 0, 0, 1, 0, 0, 0, 1, 0, 0, 2, 0, 0, 2, 1, 1, 2, 0, 0, 0, 2, 8, 0, 0, 0, 1, 0, 0, 0, 2, 0, 2, 0, 0, 0, 0, 1, 0, 0, 0, 0, 0, 0, 0, 0, 0, 0, 0, 3, 0, 0, 16, 0, 0, 0, 0, 0, 0, 1, 0, 0, 1, 0, 1, 1, 5, 1, 1, 0, 5, 7, 5, 3, 0, 1, 2, 0, 0, 143, 13, 5, 2, 34, 2, 2, 17, 1, 7, 1, 0, 0, 0, 6, 2, 9, 46, 0, 12, 4, 1, 0, 1, 3, 1, 4, 32, 3, 32, 4, 11, 4, 0, 0, 1, 0, 4, 0, 8, 3, 0, 2, 0, 10, 8, 1, 1, 4, 5, 15, 0, 0, 0, 0, 0, 0, 0, 14, 0, 0, 0, 2, 0, 0, 2, 0, 4, 6, 0, 0, 0, 1, 0, 0, 1, 0, 0, 0, 0, 0, 0, 0, 0, 52, 0, 2, 0, 2, 4, 18, 20, 3, 1, 0, 0, 1, 4, 0, 0, 0, 3, 0, 0, 1, 1, 1, 2, 3, 1, 4, 0, 1, 0, 2, 0, 5, 1, 2, 6, 1, 3, 3, 0, 1, 7, 0, 7, 1, 2, 8, 4, 2, 0, 0, 0, 3, 0, 0, 5, 4, 11, 4, 0, 13, 1, 8, 0, 0, 8, 1, 0, 0, 6, 1, 6, 2, 2, 12, 17, 1, 2, 2, 3, 3, 0, 3, 1, 0, 5, 0, 6, 0, 2, 0, 0, 0, 0, 1, 0, 0, 3, 26, 1, 0, 0, 2, 0, 4, 39, 0, 12, 13, 1, 7, 0, 0, 0, 4, 0, 0, 28, 0, 7, 4, 0, 0, 0, 0, 0, 19, 3, 0, 1, 11, 1, 2, 0, 0, 0, 2, 3, 1, 0, 1, 0, 4, 0, 3, 4, 4, 11, 5, 0, 0, 0, 0, 0, 2, 1, 0, 0, 10, 23, 15, 37, 2, 4, 13, 6, 11, 2, 7, 10, 57, 2, 0, 3, 1, 4, 0, 6, 0, 0, 0, 2, 1, 6, 7, 4, 0, 6, 3, 15, 0, 0, 0, 0, 0, 0, 9, 1, 1, 5, 1, 0, 0, 3, 0, 0, 0, 0, 1, 2, 1, 2, 0, 0, 1, 1, 0, 0, 0, 0, 11, 0, 3, 0, 0, 4, 0, 0, 3, 0, 2, 0, 116, 16, 1, 1, 0, 0, 0, 2, 0, 13, 14, 1, 0, 0, 0, 0, 0, 0, 0, 2, 0, 0, 0, 2, 2, 0, 15, 0, 33, 1, 0, 0, 1, 0, 0, 0, 0, 0, 0, 0, 0, 0, 0, 11, 1, 3, 3, 0, 1, 2, 13, 9, 37, 1, 0, 0, 2, 0, 3, 0, 0, 0, 3, 0, 0, 0, 0, 1, 1, 1, 0, 6, 1, 0, 9, 0, 5, 0, 0, 10, 1, 0, 1, 3, 3, 2, 6, 0, 42, 0, 8, 23, 1, 0, 0, 0, 0, 34, 0, 0, 0, 1, 4, 14, 1, 41, 49, 112, 2, 3, 0, 4, 0, 0, 1, 0, 0, 0, 0, 15, 14, 0, 1, 0, 0, 2, 0, 0, 0, 20, 0, 8, 3, 13, 2, 19, 0, 0, 0, 0, 12, 5, 1, 0, 1, 1, 0, 4, 1, 0, 5, 12, 0, 0, 8, 1, 0, 0, 1, 4, 0, 0, 0, 0, 18, 0, 1, 1, 1, 4, 2, 0, 18, 5, 0, 6, 0, 0, 1, 1, 5, 1, 1, 0, 0, 6, 0, 1, 1, 2, 0, 1, 3, 0, 5, 1, 0, 0, 0, 3, 6, 5, 0, 5, 5, 0, 2, 0, 1, 0, 2, 1, 1, 0, 0, 0, 0, 0, 2, 1, 0, 0, 0, 1, 0, 0, 0, 1, 28, 2, 3, 16, 18, 0, 10, 0, 0, 0, 0, 4, 0, 0, 1, 0, 0, 12, 0, 0, 0, 0, 0, 0, 0, 0, 2, 1, 0, 0, 0, 0, 0, 4, 0, 1, 0, 0, 0, 0, 0, 4, 1, 1, 0, 7, 0, 0, 6, 0, 0, 3, 0, 0, 0, 4, 0, 0, 0, 0, 8, 3, 2, 0, 0, 1, 16, 2, 1, 1, 1, 1, 2, 1, 0, 2, 0, 3, 10, 1, 5, 6, 2, 1, 2, 1, 2, 1, 0, 13, 0, 0, 1, 3, 1, 1, 6, 1, 3, 0, 0, 0, 31, 1, 9, 6, 3, 0, 15, 0, 1, 6, 7, 2, 31, 13, 1, 2, 0, 39, 0, 1, 6, 7, 20, 80, 0, 7, 2, 25, 0, 0, 0, 1, 2, 0, 0, 0, 1, 2, 0, 0, 1, 2, 0, 0, 0, 1, 0, 1, 15, 1, 1, 1, 0, 0, 0, 1, 0, 2, 0, 0, 1, 14, 6, 0, 15, 1, 8, 1, 0, 0, 3, 0, 5, 0, 1, 2, 0, 0, 5, 3, 0, 0, 0, 0, 0, 38, 0, 1, 4, 0, 5, 0, 3, 0, 3, 0, 0, 7, 1, 1, 4, 13, 1, 0, 0, 0, 12, 0, 0, 0, 3, 1, 19, 12, 2, 1, 0, 49, 28, 26, 0, 0, 29, 0, 0, 0, 7, 0, 0, 2, 3, 0, 16, 0, 1, 19, 2, 1, 0, 2, 0, 0, 4, 1, 0, 1, 1, 0, 2, 8, 3, 8, 16, 5, 15, 5, 6, 1, 0, 5, 0, 4, 0, 0, 0, 1, 0, 0, 1, 0, 0, 1, 0, 11, 3, 6, 1, 22, 6, 2, 59, 0, 0, 33, 6, 4, 5, 16, 0, 0, 0, 10, 1, 5, 0, 14, 0, 26, 3, 1, 0, 0, 2, 0, 0, 1, 8, 0, 0, 0, 0, 0, 3, 0, 4, 2, 22, 0, 0, 0, 3, 2, 0, 9, 0, 35, 2, 0, 2, 12, 14, 3, 3, 0, 10, 0, 2, 0, 7, 0, 0, 1, 0, 1, 15, 1, 9, 1, 0, 0, 0, 0, 0, 5, 3, 1, 0, 1, 0, 2, 3, 0, 1, 0, 23, 7, 0, 0, 0, 0, 2, 0, 0, 0, 0, 0, 2, 0, 0, 1, 0, 3, 3, 3, 0, 3, 0, 0, 0, 10, 2, 0, 0, 0, 0, 0, 0, 0, 2, 0, 1, 0, 1, 3, 1, 2, 1, 6, 11, 2, 0, 2, 1, 1, 1, 0, 0, 15, 3, 1, 2, 0, 0, 1, 3, 0, 1, 0, 0, 4, 1, 2, 2, 2, 10, 0, 0, 7, 3, 0, 2, 0, 2, 9, 0, 2, 0, 0, 16, 0, 0, 0, 0, 0, 0, 0, 0, 0, 0, 0, 0, 0, 1, 1, 2, 0, 0, 0, 5, 0, 6, 0, 0, 0, 0, 0, 0, 23, 4, 5, 0, 0, 2, 2, 0, 3, 1, 0, 0, 3, 4, 20, 3, 1, 2, 0, 1, 0, 1, 0, 1, 17, 25, 6, 8, 0, 8, 10, 0, 4, 2, 0, 0, 0, 0, 0, 0, 2, 1, 2, 3, 3, 5, 0, 2, 1, 2, 1, 41, 45, 34, 1, 15, 2, 1, 0, 5, 2, 0, 0, 1, 1, 1, 0, 0, 1, 0, 0, 0, 8, 21, 0, 0, 4, 0, 2, 2, 6, 6, 0, 4, 0, 0, 0, 0, 0, 0, 0, 2, 0, 0, 0, 19, 1, 0, 2, 0, 0, 0, 1, 0, 5, 0, 13, 0, 1, 26, 4, 7, 1, 1, 4, 3, 4, 4, 0, 6, 1, 2, 0, 0, 7, 0, 3, 2, 0, 1, 0, 35, 0, 0, 0, 6, 40, 0, 7, 2, 0, 15, 3, 4, 7, 9, 0, 1, 1, 6, 8, 6, 1, 4, 0, 13, 0, 17, 7, 1, 2, 3, 4, 2, 24, 1, 0, 1, 1, 1, 21, 1, 1, 3, 0, 6, 1, 13, 4, 27, 6, 7, 0, 16, 0, 6, 4, 8, 1, 18, 12, 4, 5, 7, 0, 221, 5, 15, 1, 12, 0, 6, 2, 26, 6, 3, 4, 9, 15, 2, 1, 13, 12, 7, 3, 1, 1, 7, 44, 3, 1, 1, 1, 3, 1, 0, 2, 2, 4, 1, 3, 0, 1, 0, 1, 0, 23, 1, 0, 0, 2, 2, 0, 0, 0, 1, 0, 1, 0, 0, 0, 3, 1, 16, 10, 0, 0, 0, 0, 1, 0, 0, 3, 0, 1, 0, 1, 1, 2, 3, 0, 0, 0, 0, 0, 0, 0, 0, 0, 0, 0, 0, 0, 0, 0, 0, 0, 0, 1, 2, 0, 4, 3, 0, 0, 1, 0, 1, 1, 1, 0, 2, 0, 0, 0, 4, 0, 3, 1, 0, 0, 1, 1, 2, 3, 2, 10, 0, 5, 0, 17, 2, 7, 0, 0, 1, 6, 13, 1, 2, 9, 0, 22, 0, 0, 0, 16, 0, 2, 0, 1, 26, 0, 2, 2, 3, 1, 25, 0, 2, 3, 14, 1, 0, 1, 1, 4, 16, 0, 54, 0, 5, 0, 0, 5, 0, 0, 0, 22, 11, 1, 3, 0, 0, 0, 57, 27, 0, 0, 4, 41, 0, 3, 3, 0, 0, 5, 1, 1, 0, 0, 6, 0, 0, 0, 17, 1, 0, 0, 22, 0, 1, 4, 0, 1, 1, 0, 0, 0, 38, 4, 0, 5, 0, 3, 2, 3, 6, 1, 0, 0, 0, 66, 0, 7, 0, 1, 1, 2, 6, 0, 1, 0, 5, 0, 0, 0, 8, 5, 0, 0, 3, 4, 0, 0, 3, 1, 2, 2, 1, 2, 0, 2, 15, 35, 0, 6, 0, 2, 0, 0, 7, 0, 1, 0, 3, 0, 8, 4, 0, 11, 1, 0, 1, 7, 0, 2, 0, 6, 0, 0, 0, 11, 0, 1, 0, 1, 0, 6, 33, 2, 0, 0, 0, 0, 0, 10, 8, 0, 1, 2, 0, 1, 1, 1, 9, 0, 15, 21, 0, 1, 5, 11, 3, 7, 2, 2, 1, 10, 2, 23, 2, 59, 8, 2, 1, 0, 0, 0, 0, 0, 0, 3, 2, 0, 0, 0, 0, 9, 0, 0, 0, 0, 0, 0, 0, 0, 0, 0, 2, 1, 0, 0, 0, 1, 0, 0, 0, 0, 1, 1, 0, 0, 0, 0, 0, 1, 9, 0, 0, 0, 12, 1, 1, 11, 5, 0, 0, 0, 1, 3, 0, 0, 0, 1, 2, 1, 4, 1, 0, 0, 2, 0, 1, 0, 0, 0, 8, 0, 0, 0, 2, 1, 1, 133, 2, 11, 6, 2, 0, 4, 0, 0, 2, 0, 2, 0, 2, 0, 2, 0, 19, 3, 1, 9, 8, 0, 0, 0, 5, 9, 0, 0, 1, 0, 0, 0, 3, 14, 0, 0, 3, 0, 10, 0, 13, 3, 0, 2, 0, 0, 10, 12, 0, 1, 0, 0, 4, 1, 5, 7, 0, 6, 1, 0, 0, 0, 1, 0, 1, 9, 2, 1, 3, 4, 0, 2, 1, 1, 6, 3, 0, 1, 0, 1, 0, 0, 1, 1, 2, 0, 1, 4, 19, 1, 4, 0, 4, 1, 6, 7, 0, 1, 4, 14, 0, 0, 1, 0, 2, 6, 3, 10, 0, 0, 0, 1, 0, 5, 5, 7, 1, 1, 4, 36, 35, 7, 0, 0, 15, 2, 1, 4, 0, 2, 2, 1, 16, 1, 6, 20, 0, 1, 4, 18, 0, 7, 17, 12, 1, 19, 0, 2, 4, 11, 0, 26, 7, 2, 0, 7, 23, 14, 1, 1, 2, 1, 5, 2, 0, 2, 1, 17, 25, 0, 3, 2, 4, 0, 19, 1, 47, 11, 1, 0, 1, 0, 21, 0, 0, 13, 0, 14, 44, 32, 0, 2, 12, 1, 18, 8, 3, 14, 0, 0, 4, 0, 4, 10, 35, 5, 4, 1, 7, 0, 9, 3, 36, 7, 19, 0, 1, 0, 0, 3, 8, 0, 0, 2, 2, 0, 0, 0, 0, 5, 0, 3, 3, 0, 0, 0, 6, 2, 6, 4, 0, 0, 4, 10, 8, 1, 8, 3, 1, 5, 0, 0, 1, 2, 0, 1, 2, 2, 2, 4, 8, 26, 0, 33, 0, 1, 2, 1, 0, 0, 0, 8, 0, 0, 2, 2, 2, 22, 2, 0, 0, 6, 0, 2, 48, 36, 0, 2, 3, 0, 9, 2, 19, 0, 2, 3, 0, 3, 2, 0, 0, 0, 0, 24, 1, 3, 16, 1, 1, 4, 1, 1, 4, 11, 0, 4, 3, 3, 18, 6, 1, 8, 0, 8, 0, 5, 2, 1, 4, 7, 1, 31, 0, 4, 9, 1, 1, 0, 8, 0, 0, 4, 8, 2, 18, 4, 0, 1, 0, 0, 1, 2, 1, 0, 0, 0, 0, 0, 0, 0, 0, 1, 63, 0, 10, 0, 2, 0, 2, 0, 1, 5, 1, 3, 3, 20, 15, 30, 11, 11, 0, 0, 1, 0, 0, 0, 0, 1, 0, 1, 0, 0, 0, 0, 0, 0, 0, 0, 0, 0, 4, 0, 0, 1, 0, 1, 0, 27, 0, 1, 0, 0, 0, 0, 0, 0, 6, 2, 0, 6, 3, 0, 0, 1, 0, 0, 0, 6, 7, 6, 0, 0, 1, 0, 1, 0, 0, 2, 0, 2, 6, 0, 5, 1, 0, 5, 0, 0, 0, 1, 0, 1, 1, 2, 0, 0, 0, 4, 0, 0, 0, 0, 0, 0, 0, 1, 1, 0, 0, 3, 15, 4, 0, 0, 0, 15, 1, 0, 1, 0, 8, 2, 2, 0, 0, 9, 0, 0, 1, 0, 1, 5, 0, 0, 0, 0, 0, 0, 0, 11, 1, 0, 1, 0, 1, 7, 11, 1, 1, 0, 1, 1, 0, 2, 0, 3, 0, 0, 0, 0, 8, 2, 0, 24, 40, 0, 2, 0, 21, 0, 0, 0, 0, 4, 0, 0, 0, 1, 3, 0, 4, 6, 17, 5, 0, 0, 4, 0, 0, 6, 0, 6, 11, 0, 3, 1, 3, 0, 0, 1, 0, 0, 0, 9, 0, 0, 0, 3, 0, 0, 0, 0, 0, 0, 34, 2, 0, 6, 0, 1, 0, 0, 1, 0, 0, 0, 0, 1, 18, 0, 0, 1, 2, 0, 0, 0, 1, 2, 0, 0, 0, 1, 0, 0, 0, 0, 0, 2, 0, 0, 0, 0, 0, 1, 2, 0, 0, 0, 0, 0, 1, 0, 0, 0, 0, 0, 2, 0, 0, 2, 0, 2, 1, 0, 3, 0, 0, 0, 0, 0, 0, 0, 0, 1, 0, 0, 0, 23, 0, 0, 0, 4, 0, 1, 0, 1, 0, 0, 0, 0, 1, 0, 1, 0, 0, 0, 1, 0, 0, 0, 1, 0, 12, 0, 2, 0, 0, 1, 0, 4, 0, 0, 0, 0, 0, 0, 12, 0, 0, 0, 0, 0, 1, 1, 0, 0, 0, 0, 0, 0, 0, 3, 3, 0, 0, 0, 0, 0, 0, 0, 0, 0, 0, 0, 0, 0, 0, 0, 0, 0, 0, 0, 0, 0, 0, 4, 0, 0, 8, 0, 5, 69, 1, 3, 1, 0, 0, 2, 1, 0, 11, 6, 5, 4, 1, 1, 28, 0, 1, 0, 0, 1, 0, 9, 0, 0, 0, 3, 0, 0, 13, 0, 20, 3, 6, 0, 0, 8, 8, 1, 0, 1, 1, 0, 0, 1, 3, 0, 14, 0, 0, 3, 1, 0, 0, 2, 9, 16, 5, 2, 6, 0, 12, 2, 6, 1, 0, 1, 11, 22, 2, 3, 2, 0, 1, 1, 0, 10, 0, 0, 2, 0, 1, 1, 0, 0, 1, 0, 8, 2, 2, 0, 0, 0, 2, 1, 1, 0, 15, 1, 0, 0, 1, 1, 21, 2, 0, 0, 0, 0, 0, 0, 10, 0, 1, 0, 4, 2, 9, 1, 1, 1, 7, 0, 3, 0, 22, 6, 1, 0, 3, 1, 4, 0, 0, 2, 3, 13, 16, 0, 0, 0, 6, 3, 1, 0, 7, 8, 0, 0, 1, 14, 1, 23, 3, 0, 3, 0, 8, 3, 9, 5, 4, 0, 2, 0, 6, 1, 0, 21, 11, 0, 5, 0, 10, 0, 3, 1, 7, 38, 0, 0, 0, 38, 0, 2, 5, 0, 3, 5, 0, 5, 6, 1, 2, 3, 5, 1, 1, 0, 15, 2, 0, 2, 7, 1, 0, 0, 0, 6, 3, 0, 2, 9, 0, 6, 2, 0, 0, 0, 2, 0, 0, 0, 8, 1, 9, 0, 0, 0, 0, 5, 8, 2, 3, 6, 0, 5, 2, 2, 6, 0, 0, 1, 0, 1, 0, 6, 16, 1, 6, 0, 0, 0, 4, 1, 5, 3, 1, 0, 8, 0, 1, 3, 8, 5, 11, 3, 3, 1, 28, 0, 8, 23, 5, 1, 17, 5, 37, 1, 1, 2, 2, 6, 25, 1, 0, 10, 20, 27, 8, 27, 0, 16, 1, 10, 40, 1, 56, 82, 36, 4, 5, 0, 74, 8, 0, 10, 3, 0, 1, 4, 0, 1, 8, 2, 6, 0, 0, 0, 7, 0, 3, 11, 1, 7, 1, 0, 0, 0, 3, 0, 2, 1, 0, 1, 0, 4, 0, 0, 2, 1, 5, 0, 2, 1, 10, 0, 0, 0, 1, 4, 1, 5, 2, 0, 3, 1, 3, 4, 1, 2, 6, 1, 0, 0, 0, 1, 1, 0, 0, 0, 1, 2, 11, 1, 0, 0, 0, 2, 1, 4, 1, 3, 0, 2, 1, 2, 0, 16, 0, 2, 38, 5, 1, 1, 4, 2, 0, 0, 1, 9, 0, 3, 23, 0, 0, 0, 0, 9, 0, 0, 0, 0, 0, 0, 0, 1, 0, 0, 1, 0, 0, 0, 2, 1, 0, 0, 0, 1, 3, 1, 0, 0, 0, 0, 0, 0, 0, 0, 0, 0, 2, 3, 2, 0, 0, 0, 3, 0, 0, 0, 1, 0, 0, 0, 0, 0, 1, 6, 0, 0, 0, 0, 0, 0, 0, 0, 3, 0, 0, 2, 0, 3, 1, 2, 0, 0, 0, 0, 0, 0, 1, 0, 0, 1, 0, 2, 0, 1, 2, 1, 0, 0, 0, 1, 1, 0, 0, 1, 0, 6, 10, 18, 0, 0, 0, 0, 3, 0, 1, 0, 1, 2, 3, 0, 1, 0, 1, 2, 1, 0, 2, 0, 0, 0, 0, 4, 1, 8, 3, 0, 2, 11, 12, 0, 0, 0, 1, 0, 0, 1, 11, 0, 1, 0, 0, 0, 4, 2, 0, 2, 0, 0, 16, 0, 0, 4, 3, 0, 14, 0, 0, 0, 1, 1, 0, 0, 11, 0, 4, 3, 1, 0, 0, 0, 7, 0, 0, 2, 0, 3, 0, 2, 0, 0, 0, 0, 12, 1, 0, 2, 11, 9, 1, 0, 16, 0, 36, 0, 1, 0, 0, 22, 0, 1, 3, 2, 1, 2, 3, 36, 2, 0, 11, 0, 0, 2, 3, 3, 1, 2, 8, 1, 13, 4, 0, 0, 0, 0, 0, 1, 2, 0, 0, 13, 1, 0, 1, 2, 0, 0, 2, 2, 0, 1, 0, 1, 18, 1, 0, 0, 0, 1, 1, 7, 0, 0, 3, 8, 0, 0, 0, 3, 0, 1, 0, 3, 2, 0, 0, 0, 0, 0, 0, 18, 0, 12, 0, 1, 5, 0, 1, 3, 1, 1, 2, 0, 7, 18, 0, 5, 7, 3, 6, 1, 0, 1, 0, 0, 1, 2, 0, 0, 9, 6, 0, 0, 19, 14, 1, 0, 10, 1, 11, 3, 5, 8, 0, 2, 1, 0, 0, 0, 0, 3, 0, 7, 4, 8, 4, 0, 7, 0, 7, 0, 0, 4, 2, 0, 0, 1, 0, 0, 0, 3, 2, 0, 5, 9, 0, 13, 0, 0, 2, 26, 0, 13, 0, 0, 7, 0, 1, 0, 2, 0, 1, 9, 1, 2, 4, 3, 0, 3, 0, 1, 5, 9, 10, 3, 6, 3, 0, 0, 0, 21, 0, 1, 0, 0, 0, 2, 0, 0, 1, 6, 1, 18, 0, 0, 0, 0, 29, 7, 2, 1, 1, 0, 0, 0, 1, 0, 1, 0, 0, 15, 0, 2, 1, 24, 0, 1, 2, 10, 0, 38, 3, 3, 0, 1, 0, 9, 1, 2, 0, 1, 0, 0, 15, 0, 0, 0, 4, 0, 3, 2, 1, 1, 0, 1, 2, 1, 2, 0, 0, 48, 11, 31, 10, 0, 0, 16, 0, 0, 0, 0, 0, 1, 2, 1, 0, 52, 0, 0, 4, 0, 1, 1, 5, 22, 52, 3, 10, 4, 20, 11, 3, 16, 1, 11, 1, 1, 0, 0, 7, 7, 1, 0, 18, 4, 44, 0, 1, 0, 0, 0, 0, 0, 5, 1, 24, 2, 5, 0, 0, 18, 11, 0, 1, 1, 23, 5, 0, 17, 10, 1, 3, 28, 19, 0, 4, 36, 0, 0, 23, 0, 0, 9, 14, 19, 0, 11, 30, 14, 33, 2, 8, 1, 1, 3, 5, 8, 8, 117, 19, 3, 48, 0, 0, 8, 19, 0, 33, 7, 2, 9, 4, 7, 19, 16, 22, 24, 40, 20, 0, 0, 0, 8, 30, 4, 17, 0, 0, 0, 0, 0, 0, 0, 0, 21, 5, 4, 0, 1, 1, 0, 0, 0, 1, 0, 4, 8, 0, 0, 1, 0, 2, 0, 1, 3, 0, 1, 2, 0, 1, 0, 1, 0, 0, 2, 0, 5, 11, 9, 5, 0, 1, 7, 7, 1, 1, 9, 1, 0, 0, 0, 2, 0, 4, 13, 2, 0, 0, 3, 2, 0, 0, 0, 1, 3, 2, 1, 3, 1, 0, 1, 6, 0, 0, 0, 0, 33, 5, 0, 0, 0, 0, 5, 0, 1, 0, 4, 5, 0, 0, 2, 0, 0, 4, 0, 22, 0, 0, 15, 0, 1, 0, 3, 5, 0, 1, 1, 28, 1, 0, 0, 16, 1, 1, 1, 3, 0, 1, 2, 3, 0, 0, 1, 5, 0, 0, 0, 0, 6, 6, 2, 2, 18, 2, 0, 0, 2, 2, 28, 8, 0, 0, 1, 8, 0, 0, 1, 0, 1, 3, 4, 0, 0, 14, 2, 0, 1, 0, 0, 8, 0, 1, 4, 1, 0, 0, 0, 0, 0, 19, 0, 1, 1, 5, 0, 3, 0, 10, 0, 0, 1, 0, 0, 0, 0, 0, 6, 3, 0, 0, 0, 0, 0, 0, 1, 0, 0, 2, 0, 0, 0, 0, 0, 6, 0, 0, 0, 4, 0, 0, 1, 4, 0, 1, 1, 0, 3, 2, 1, 0, 3, 15, 0, 0, 0, 1, 0, 17, 0, 12, 1, 0, 9, 2, 0, 1, 2, 2, 0, 2, 0, 3, 1, 0, 0, 8, 1, 2, 5, 4, 1, 4, 15, 0, 0, 0, 0, 0, 0, 0, 6, 8, 0, 0, 0, 0, 0, 0, 3, 0, 0, 2, 8, 3, 1, 0, 0, 0, 0, 2, 0, 2, 2, 8, 8, 0, 4, 0, 20, 16, 13, 3, 4, 0, 5, 4, 3, 13, 9, 1, 1, 13, 5, 9, 2, 0, 0, 0, 0, 18, 0, 0, 2, 0, 2, 0, 0, 1, 1, 1, 0, 4, 0, 2, 6, 0, 3, 2, 0, 4, 0, 0, 6, 0, 0, 8, 1, 1, 0, 1, 0, 1, 0, 0, 0, 0, 0, 0, 0, 0, 1, 1, 1, 2, 1, 1, 6, 1, 0, 0, 2, 2, 6, 1, 0, 0, 2, 0, 0, 1, 0, 3, 0, 4, 148, 0, 1, 13, 0, 0, 10, 6, 4, 16, 11, 2, 3, 5, 2, 14, 34, 3, 0, 3, 11, 6, 0, 0, 1, 1, 28, 11, 0, 11, 8, 0, 5, 1, 2, 8, 1, 0, 15, 1, 0, 0, 1, 0, 0, 2, 3, 1, 1, 0, 0, 0, 1, 0, 1, 1, 0, 3, 1, 0, 0, 1, 3, 27, 4, 92, 13, 1, 0, 0, 1, 0, 2, 4, 3, 0, 0, 0, 1, 3, 2, 0, 1, 0, 0, 0, 0, 0, 1, 0, 3, 2, 0, 0, 25, 0, 0, 0, 0, 5, 6, 0, 14, 0, 12, 27, 23, 0, 1, 0, 0, 0, 0, 0, 0, 0, 0, 0, 21, 0, 33, 5, 20, 0, 0, 2, 0, 7]\n"
          ]
        }
      ]
    },
    {
      "cell_type": "code",
      "source": [
        "len(no_of_entities)"
      ],
      "metadata": {
        "colab": {
          "base_uri": "https://localhost:8080/"
        },
        "id": "OATtx3Swyy5g",
        "outputId": "c82d3d16-5a9e-49b3-cc52-af7068dc76be"
      },
      "execution_count": null,
      "outputs": [
        {
          "output_type": "execute_result",
          "data": {
            "text/plain": [
              "53627"
            ]
          },
          "metadata": {},
          "execution_count": 15
        }
      ]
    },
    {
      "cell_type": "code",
      "source": [
        "df['no_of_entities'] = no_of_entities"
      ],
      "metadata": {
        "id": "_-kFMmPG2KAx"
      },
      "execution_count": null,
      "outputs": []
    },
    {
      "cell_type": "code",
      "source": [
        "df.head()"
      ],
      "metadata": {
        "colab": {
          "base_uri": "https://localhost:8080/",
          "height": 699
        },
        "id": "eqk6R5XVCdhr",
        "outputId": "cf1c135b-733c-4491-9ec8-3f278e382a34"
      },
      "execution_count": null,
      "outputs": [
        {
          "output_type": "execute_result",
          "data": {
            "text/plain": [
              "   Rating  verified   reviewTime  Year      reviewerID        asin style  \\\n",
              "0       1     False  09 21, 2004  2004   A5JLAU2ARJ0BO  B0000E3GWH   NaN   \n",
              "1       4     False  07 24, 2004  2004  A1ACM1CBGORBN1  B0000E3GWH   NaN   \n",
              "2       3     False   07 6, 2004  2004  A2V48Q03FZUOSD  B0000E3GWH   NaN   \n",
              "3       5      True  04 12, 2004  2004  A1V3TRGWOMA8LC  B0000E3GWH   NaN   \n",
              "4       3     False  02 19, 2004  2004  A3NOBH42C7UI5M  B0000E3GWH   NaN   \n",
              "\n",
              "     reviewerName                                         reviewText  \\\n",
              "0    Old-and-Wise  This phone is ugly and heavy and has a terribl...   \n",
              "1    Sherry Berry  I had the Samsung V205 and then I decided to t...   \n",
              "2  Benjamin David  This is the first Samsung phone I have had and...   \n",
              "3   James Beswick  ..and I'm from Europe, where the phones and ne...   \n",
              "4          Kepela  This phone is amazingly small and light for a ...   \n",
              "\n",
              "                                           summary  ...  Conversation  \\\n",
              "0                                    Bad reception  ...          0.00   \n",
              "1  Pretty good phone.. an improvement from my v205  ...          0.73   \n",
              "2       Not as user friendly as the Motorola V300-  ...          0.00   \n",
              "3                   The best phone I've ever owned  ...          0.00   \n",
              "4   I love the phone but it has some real problems  ...          0.00   \n",
              "\n",
              "   dominant_topic  total_imp_topics                  custom_topic_name  votes  \\\n",
              "0               6                 2                            Quality      2   \n",
              "1               6                 5                            Quality     15   \n",
              "2               6                 2                            Quality     11   \n",
              "3               0                 5  Phone related generalized words 1      4   \n",
              "4               6                 4                            Quality     12   \n",
              "\n",
              "   total_imp_topics_0.05 total_imp_topics_0.10  total_imp_topics_0.20  \\\n",
              "0                      2                     2                      1   \n",
              "1                      5                     3                      1   \n",
              "2                      2                     2                      2   \n",
              "3                      5                     4                      2   \n",
              "4                      4                     3                      2   \n",
              "\n",
              "   Neutral_Rating  no_of_entities  \n",
              "0               0               4  \n",
              "1               0              14  \n",
              "2               1              15  \n",
              "3               0               4  \n",
              "4               1              32  \n",
              "\n",
              "[5 rows x 46 columns]"
            ],
            "text/html": [
              "\n",
              "  <div id=\"df-863db654-762e-4167-aac4-6645d5335be1\">\n",
              "    <div class=\"colab-df-container\">\n",
              "      <div>\n",
              "<style scoped>\n",
              "    .dataframe tbody tr th:only-of-type {\n",
              "        vertical-align: middle;\n",
              "    }\n",
              "\n",
              "    .dataframe tbody tr th {\n",
              "        vertical-align: top;\n",
              "    }\n",
              "\n",
              "    .dataframe thead th {\n",
              "        text-align: right;\n",
              "    }\n",
              "</style>\n",
              "<table border=\"1\" class=\"dataframe\">\n",
              "  <thead>\n",
              "    <tr style=\"text-align: right;\">\n",
              "      <th></th>\n",
              "      <th>Rating</th>\n",
              "      <th>verified</th>\n",
              "      <th>reviewTime</th>\n",
              "      <th>Year</th>\n",
              "      <th>reviewerID</th>\n",
              "      <th>asin</th>\n",
              "      <th>style</th>\n",
              "      <th>reviewerName</th>\n",
              "      <th>reviewText</th>\n",
              "      <th>summary</th>\n",
              "      <th>...</th>\n",
              "      <th>Conversation</th>\n",
              "      <th>dominant_topic</th>\n",
              "      <th>total_imp_topics</th>\n",
              "      <th>custom_topic_name</th>\n",
              "      <th>votes</th>\n",
              "      <th>total_imp_topics_0.05</th>\n",
              "      <th>total_imp_topics_0.10</th>\n",
              "      <th>total_imp_topics_0.20</th>\n",
              "      <th>Neutral_Rating</th>\n",
              "      <th>no_of_entities</th>\n",
              "    </tr>\n",
              "  </thead>\n",
              "  <tbody>\n",
              "    <tr>\n",
              "      <th>0</th>\n",
              "      <td>1</td>\n",
              "      <td>False</td>\n",
              "      <td>09 21, 2004</td>\n",
              "      <td>2004</td>\n",
              "      <td>A5JLAU2ARJ0BO</td>\n",
              "      <td>B0000E3GWH</td>\n",
              "      <td>NaN</td>\n",
              "      <td>Old-and-Wise</td>\n",
              "      <td>This phone is ugly and heavy and has a terribl...</td>\n",
              "      <td>Bad reception</td>\n",
              "      <td>...</td>\n",
              "      <td>0.00</td>\n",
              "      <td>6</td>\n",
              "      <td>2</td>\n",
              "      <td>Quality</td>\n",
              "      <td>2</td>\n",
              "      <td>2</td>\n",
              "      <td>2</td>\n",
              "      <td>1</td>\n",
              "      <td>0</td>\n",
              "      <td>4</td>\n",
              "    </tr>\n",
              "    <tr>\n",
              "      <th>1</th>\n",
              "      <td>4</td>\n",
              "      <td>False</td>\n",
              "      <td>07 24, 2004</td>\n",
              "      <td>2004</td>\n",
              "      <td>A1ACM1CBGORBN1</td>\n",
              "      <td>B0000E3GWH</td>\n",
              "      <td>NaN</td>\n",
              "      <td>Sherry Berry</td>\n",
              "      <td>I had the Samsung V205 and then I decided to t...</td>\n",
              "      <td>Pretty good phone.. an improvement from my v205</td>\n",
              "      <td>...</td>\n",
              "      <td>0.73</td>\n",
              "      <td>6</td>\n",
              "      <td>5</td>\n",
              "      <td>Quality</td>\n",
              "      <td>15</td>\n",
              "      <td>5</td>\n",
              "      <td>3</td>\n",
              "      <td>1</td>\n",
              "      <td>0</td>\n",
              "      <td>14</td>\n",
              "    </tr>\n",
              "    <tr>\n",
              "      <th>2</th>\n",
              "      <td>3</td>\n",
              "      <td>False</td>\n",
              "      <td>07 6, 2004</td>\n",
              "      <td>2004</td>\n",
              "      <td>A2V48Q03FZUOSD</td>\n",
              "      <td>B0000E3GWH</td>\n",
              "      <td>NaN</td>\n",
              "      <td>Benjamin David</td>\n",
              "      <td>This is the first Samsung phone I have had and...</td>\n",
              "      <td>Not as user friendly as the Motorola V300-</td>\n",
              "      <td>...</td>\n",
              "      <td>0.00</td>\n",
              "      <td>6</td>\n",
              "      <td>2</td>\n",
              "      <td>Quality</td>\n",
              "      <td>11</td>\n",
              "      <td>2</td>\n",
              "      <td>2</td>\n",
              "      <td>2</td>\n",
              "      <td>1</td>\n",
              "      <td>15</td>\n",
              "    </tr>\n",
              "    <tr>\n",
              "      <th>3</th>\n",
              "      <td>5</td>\n",
              "      <td>True</td>\n",
              "      <td>04 12, 2004</td>\n",
              "      <td>2004</td>\n",
              "      <td>A1V3TRGWOMA8LC</td>\n",
              "      <td>B0000E3GWH</td>\n",
              "      <td>NaN</td>\n",
              "      <td>James Beswick</td>\n",
              "      <td>..and I'm from Europe, where the phones and ne...</td>\n",
              "      <td>The best phone I've ever owned</td>\n",
              "      <td>...</td>\n",
              "      <td>0.00</td>\n",
              "      <td>0</td>\n",
              "      <td>5</td>\n",
              "      <td>Phone related generalized words 1</td>\n",
              "      <td>4</td>\n",
              "      <td>5</td>\n",
              "      <td>4</td>\n",
              "      <td>2</td>\n",
              "      <td>0</td>\n",
              "      <td>4</td>\n",
              "    </tr>\n",
              "    <tr>\n",
              "      <th>4</th>\n",
              "      <td>3</td>\n",
              "      <td>False</td>\n",
              "      <td>02 19, 2004</td>\n",
              "      <td>2004</td>\n",
              "      <td>A3NOBH42C7UI5M</td>\n",
              "      <td>B0000E3GWH</td>\n",
              "      <td>NaN</td>\n",
              "      <td>Kepela</td>\n",
              "      <td>This phone is amazingly small and light for a ...</td>\n",
              "      <td>I love the phone but it has some real problems</td>\n",
              "      <td>...</td>\n",
              "      <td>0.00</td>\n",
              "      <td>6</td>\n",
              "      <td>4</td>\n",
              "      <td>Quality</td>\n",
              "      <td>12</td>\n",
              "      <td>4</td>\n",
              "      <td>3</td>\n",
              "      <td>2</td>\n",
              "      <td>1</td>\n",
              "      <td>32</td>\n",
              "    </tr>\n",
              "  </tbody>\n",
              "</table>\n",
              "<p>5 rows × 46 columns</p>\n",
              "</div>\n",
              "      <button class=\"colab-df-convert\" onclick=\"convertToInteractive('df-863db654-762e-4167-aac4-6645d5335be1')\"\n",
              "              title=\"Convert this dataframe to an interactive table.\"\n",
              "              style=\"display:none;\">\n",
              "        \n",
              "  <svg xmlns=\"http://www.w3.org/2000/svg\" height=\"24px\"viewBox=\"0 0 24 24\"\n",
              "       width=\"24px\">\n",
              "    <path d=\"M0 0h24v24H0V0z\" fill=\"none\"/>\n",
              "    <path d=\"M18.56 5.44l.94 2.06.94-2.06 2.06-.94-2.06-.94-.94-2.06-.94 2.06-2.06.94zm-11 1L8.5 8.5l.94-2.06 2.06-.94-2.06-.94L8.5 2.5l-.94 2.06-2.06.94zm10 10l.94 2.06.94-2.06 2.06-.94-2.06-.94-.94-2.06-.94 2.06-2.06.94z\"/><path d=\"M17.41 7.96l-1.37-1.37c-.4-.4-.92-.59-1.43-.59-.52 0-1.04.2-1.43.59L10.3 9.45l-7.72 7.72c-.78.78-.78 2.05 0 2.83L4 21.41c.39.39.9.59 1.41.59.51 0 1.02-.2 1.41-.59l7.78-7.78 2.81-2.81c.8-.78.8-2.07 0-2.86zM5.41 20L4 18.59l7.72-7.72 1.47 1.35L5.41 20z\"/>\n",
              "  </svg>\n",
              "      </button>\n",
              "      \n",
              "  <style>\n",
              "    .colab-df-container {\n",
              "      display:flex;\n",
              "      flex-wrap:wrap;\n",
              "      gap: 12px;\n",
              "    }\n",
              "\n",
              "    .colab-df-convert {\n",
              "      background-color: #E8F0FE;\n",
              "      border: none;\n",
              "      border-radius: 50%;\n",
              "      cursor: pointer;\n",
              "      display: none;\n",
              "      fill: #1967D2;\n",
              "      height: 32px;\n",
              "      padding: 0 0 0 0;\n",
              "      width: 32px;\n",
              "    }\n",
              "\n",
              "    .colab-df-convert:hover {\n",
              "      background-color: #E2EBFA;\n",
              "      box-shadow: 0px 1px 2px rgba(60, 64, 67, 0.3), 0px 1px 3px 1px rgba(60, 64, 67, 0.15);\n",
              "      fill: #174EA6;\n",
              "    }\n",
              "\n",
              "    [theme=dark] .colab-df-convert {\n",
              "      background-color: #3B4455;\n",
              "      fill: #D2E3FC;\n",
              "    }\n",
              "\n",
              "    [theme=dark] .colab-df-convert:hover {\n",
              "      background-color: #434B5C;\n",
              "      box-shadow: 0px 1px 3px 1px rgba(0, 0, 0, 0.15);\n",
              "      filter: drop-shadow(0px 1px 2px rgba(0, 0, 0, 0.3));\n",
              "      fill: #FFFFFF;\n",
              "    }\n",
              "  </style>\n",
              "\n",
              "      <script>\n",
              "        const buttonEl =\n",
              "          document.querySelector('#df-863db654-762e-4167-aac4-6645d5335be1 button.colab-df-convert');\n",
              "        buttonEl.style.display =\n",
              "          google.colab.kernel.accessAllowed ? 'block' : 'none';\n",
              "\n",
              "        async function convertToInteractive(key) {\n",
              "          const element = document.querySelector('#df-863db654-762e-4167-aac4-6645d5335be1');\n",
              "          const dataTable =\n",
              "            await google.colab.kernel.invokeFunction('convertToInteractive',\n",
              "                                                     [key], {});\n",
              "          if (!dataTable) return;\n",
              "\n",
              "          const docLinkHtml = 'Like what you see? Visit the ' +\n",
              "            '<a target=\"_blank\" href=https://colab.research.google.com/notebooks/data_table.ipynb>data table notebook</a>'\n",
              "            + ' to learn more about interactive tables.';\n",
              "          element.innerHTML = '';\n",
              "          dataTable['output_type'] = 'display_data';\n",
              "          await google.colab.output.renderOutput(dataTable, element);\n",
              "          const docLink = document.createElement('div');\n",
              "          docLink.innerHTML = docLinkHtml;\n",
              "          element.appendChild(docLink);\n",
              "        }\n",
              "      </script>\n",
              "    </div>\n",
              "  </div>\n",
              "  "
            ]
          },
          "metadata": {},
          "execution_count": 17
        }
      ]
    },
    {
      "cell_type": "code",
      "source": [
        "df.columns"
      ],
      "metadata": {
        "id": "_mEYl9GE7lFK",
        "colab": {
          "base_uri": "https://localhost:8080/"
        },
        "outputId": "da8dbbbb-42e7-4448-ae1e-2327336c3cff"
      },
      "execution_count": null,
      "outputs": [
        {
          "output_type": "execute_result",
          "data": {
            "text/plain": [
              "Index(['Rating', 'verified', 'reviewTime', 'Year', 'reviewerID', 'asin',\n",
              "       'style', 'reviewerName', 'reviewText', 'summary', 'vote', 'Image',\n",
              "       'no_of_sent', 'no_of_words', 'no_of_unique_words', 'rank_no',\n",
              "       'sub_cat_1', 'sub_cat_rank', 'WC', 'Analytic', 'Authentic', 'Tone',\n",
              "       'WPS', 'BigWords', 'Dic', 'Cognition', 'Affect', 'tone_pos', 'tone_neg',\n",
              "       'emotion', 'emo_pos', 'emo_neg', 'time', 'focuspast', 'focuspresent',\n",
              "       'focusfuture', 'Conversation', 'dominant_topic', 'total_imp_topics',\n",
              "       'custom_topic_name', 'votes', 'total_imp_topics_0.05',\n",
              "       'total_imp_topics_0.10', 'total_imp_topics_0.20', 'Neutral_Rating',\n",
              "       'no_of_entities'],\n",
              "      dtype='object')"
            ]
          },
          "metadata": {},
          "execution_count": 18
        }
      ]
    },
    {
      "cell_type": "code",
      "source": [
        "df['no_of_entities'].value_counts()"
      ],
      "metadata": {
        "colab": {
          "base_uri": "https://localhost:8080/"
        },
        "id": "lgZRmdok7lGn",
        "outputId": "703db5c9-1d7e-4e32-ddeb-7985d59cadb0"
      },
      "execution_count": null,
      "outputs": [
        {
          "output_type": "execute_result",
          "data": {
            "text/plain": [
              "0      26668\n",
              "1       8468\n",
              "2       3775\n",
              "3       2507\n",
              "4       1771\n",
              "       ...  \n",
              "240        1\n",
              "261        1\n",
              "139        1\n",
              "168        1\n",
              "221        1\n",
              "Name: no_of_entities, Length: 171, dtype: int64"
            ]
          },
          "metadata": {},
          "execution_count": 19
        }
      ]
    },
    {
      "cell_type": "code",
      "source": [
        "df['no_of_entities'].nlargest(10)"
      ],
      "metadata": {
        "id": "hBHESbKeCeX_",
        "colab": {
          "base_uri": "https://localhost:8080/"
        },
        "outputId": "71267e90-4eb6-4feb-960e-4e8406c0f45c"
      },
      "execution_count": null,
      "outputs": [
        {
          "output_type": "execute_result",
          "data": {
            "text/plain": [
              "39829    332\n",
              "14710    326\n",
              "49574    324\n",
              "660      286\n",
              "22233    267\n",
              "47835    263\n",
              "28902    261\n",
              "47832    260\n",
              "26303    251\n",
              "26440    240\n",
              "Name: no_of_entities, dtype: int64"
            ]
          },
          "metadata": {},
          "execution_count": 20
        }
      ]
    },
    {
      "cell_type": "code",
      "source": [
        "g = df.groupby('no_of_entities')"
      ],
      "metadata": {
        "id": "mTBcZQ_H7r20"
      },
      "execution_count": null,
      "outputs": []
    },
    {
      "cell_type": "code",
      "source": [
        "g.describe()['votes']"
      ],
      "metadata": {
        "colab": {
          "base_uri": "https://localhost:8080/",
          "height": 455
        },
        "id": "jE11Xw0v7r5H",
        "outputId": "72bc453a-7663-4d96-f41b-609e775be571"
      },
      "execution_count": null,
      "outputs": [
        {
          "output_type": "execute_result",
          "data": {
            "text/plain": [
              "                  count         mean       std     min     25%     50%  \\\n",
              "no_of_entities                                                           \n",
              "0               26668.0     0.211414  1.579247     0.0     0.0     0.0   \n",
              "1                8468.0     0.657770  3.384955     0.0     0.0     0.0   \n",
              "2                3775.0     1.306225  7.674140     0.0     0.0     0.0   \n",
              "3                2507.0     2.246510  9.984498     0.0     0.0     0.0   \n",
              "4                1771.0     2.241107  6.318391     0.0     0.0     0.0   \n",
              "...                 ...          ...       ...     ...     ...     ...   \n",
              "267                 1.0   359.000000       NaN   359.0   359.0   359.0   \n",
              "286                 1.0   280.000000       NaN   280.0   280.0   280.0   \n",
              "324                 1.0    88.000000       NaN    88.0    88.0    88.0   \n",
              "326                 1.0  1074.000000       NaN  1074.0  1074.0  1074.0   \n",
              "332                 1.0   155.000000       NaN   155.0   155.0   155.0   \n",
              "\n",
              "                   75%     max  \n",
              "no_of_entities                  \n",
              "0                  0.0    85.0  \n",
              "1                  0.0   112.0  \n",
              "2                  0.0   369.0  \n",
              "3                  2.0   259.0  \n",
              "4                  2.0   104.0  \n",
              "...                ...     ...  \n",
              "267              359.0   359.0  \n",
              "286              280.0   280.0  \n",
              "324               88.0    88.0  \n",
              "326             1074.0  1074.0  \n",
              "332              155.0   155.0  \n",
              "\n",
              "[171 rows x 8 columns]"
            ],
            "text/html": [
              "\n",
              "  <div id=\"df-6f524d44-33c8-42e9-8890-073ac93bd528\">\n",
              "    <div class=\"colab-df-container\">\n",
              "      <div>\n",
              "<style scoped>\n",
              "    .dataframe tbody tr th:only-of-type {\n",
              "        vertical-align: middle;\n",
              "    }\n",
              "\n",
              "    .dataframe tbody tr th {\n",
              "        vertical-align: top;\n",
              "    }\n",
              "\n",
              "    .dataframe thead th {\n",
              "        text-align: right;\n",
              "    }\n",
              "</style>\n",
              "<table border=\"1\" class=\"dataframe\">\n",
              "  <thead>\n",
              "    <tr style=\"text-align: right;\">\n",
              "      <th></th>\n",
              "      <th>count</th>\n",
              "      <th>mean</th>\n",
              "      <th>std</th>\n",
              "      <th>min</th>\n",
              "      <th>25%</th>\n",
              "      <th>50%</th>\n",
              "      <th>75%</th>\n",
              "      <th>max</th>\n",
              "    </tr>\n",
              "    <tr>\n",
              "      <th>no_of_entities</th>\n",
              "      <th></th>\n",
              "      <th></th>\n",
              "      <th></th>\n",
              "      <th></th>\n",
              "      <th></th>\n",
              "      <th></th>\n",
              "      <th></th>\n",
              "      <th></th>\n",
              "    </tr>\n",
              "  </thead>\n",
              "  <tbody>\n",
              "    <tr>\n",
              "      <th>0</th>\n",
              "      <td>26668.0</td>\n",
              "      <td>0.211414</td>\n",
              "      <td>1.579247</td>\n",
              "      <td>0.0</td>\n",
              "      <td>0.0</td>\n",
              "      <td>0.0</td>\n",
              "      <td>0.0</td>\n",
              "      <td>85.0</td>\n",
              "    </tr>\n",
              "    <tr>\n",
              "      <th>1</th>\n",
              "      <td>8468.0</td>\n",
              "      <td>0.657770</td>\n",
              "      <td>3.384955</td>\n",
              "      <td>0.0</td>\n",
              "      <td>0.0</td>\n",
              "      <td>0.0</td>\n",
              "      <td>0.0</td>\n",
              "      <td>112.0</td>\n",
              "    </tr>\n",
              "    <tr>\n",
              "      <th>2</th>\n",
              "      <td>3775.0</td>\n",
              "      <td>1.306225</td>\n",
              "      <td>7.674140</td>\n",
              "      <td>0.0</td>\n",
              "      <td>0.0</td>\n",
              "      <td>0.0</td>\n",
              "      <td>0.0</td>\n",
              "      <td>369.0</td>\n",
              "    </tr>\n",
              "    <tr>\n",
              "      <th>3</th>\n",
              "      <td>2507.0</td>\n",
              "      <td>2.246510</td>\n",
              "      <td>9.984498</td>\n",
              "      <td>0.0</td>\n",
              "      <td>0.0</td>\n",
              "      <td>0.0</td>\n",
              "      <td>2.0</td>\n",
              "      <td>259.0</td>\n",
              "    </tr>\n",
              "    <tr>\n",
              "      <th>4</th>\n",
              "      <td>1771.0</td>\n",
              "      <td>2.241107</td>\n",
              "      <td>6.318391</td>\n",
              "      <td>0.0</td>\n",
              "      <td>0.0</td>\n",
              "      <td>0.0</td>\n",
              "      <td>2.0</td>\n",
              "      <td>104.0</td>\n",
              "    </tr>\n",
              "    <tr>\n",
              "      <th>...</th>\n",
              "      <td>...</td>\n",
              "      <td>...</td>\n",
              "      <td>...</td>\n",
              "      <td>...</td>\n",
              "      <td>...</td>\n",
              "      <td>...</td>\n",
              "      <td>...</td>\n",
              "      <td>...</td>\n",
              "    </tr>\n",
              "    <tr>\n",
              "      <th>267</th>\n",
              "      <td>1.0</td>\n",
              "      <td>359.000000</td>\n",
              "      <td>NaN</td>\n",
              "      <td>359.0</td>\n",
              "      <td>359.0</td>\n",
              "      <td>359.0</td>\n",
              "      <td>359.0</td>\n",
              "      <td>359.0</td>\n",
              "    </tr>\n",
              "    <tr>\n",
              "      <th>286</th>\n",
              "      <td>1.0</td>\n",
              "      <td>280.000000</td>\n",
              "      <td>NaN</td>\n",
              "      <td>280.0</td>\n",
              "      <td>280.0</td>\n",
              "      <td>280.0</td>\n",
              "      <td>280.0</td>\n",
              "      <td>280.0</td>\n",
              "    </tr>\n",
              "    <tr>\n",
              "      <th>324</th>\n",
              "      <td>1.0</td>\n",
              "      <td>88.000000</td>\n",
              "      <td>NaN</td>\n",
              "      <td>88.0</td>\n",
              "      <td>88.0</td>\n",
              "      <td>88.0</td>\n",
              "      <td>88.0</td>\n",
              "      <td>88.0</td>\n",
              "    </tr>\n",
              "    <tr>\n",
              "      <th>326</th>\n",
              "      <td>1.0</td>\n",
              "      <td>1074.000000</td>\n",
              "      <td>NaN</td>\n",
              "      <td>1074.0</td>\n",
              "      <td>1074.0</td>\n",
              "      <td>1074.0</td>\n",
              "      <td>1074.0</td>\n",
              "      <td>1074.0</td>\n",
              "    </tr>\n",
              "    <tr>\n",
              "      <th>332</th>\n",
              "      <td>1.0</td>\n",
              "      <td>155.000000</td>\n",
              "      <td>NaN</td>\n",
              "      <td>155.0</td>\n",
              "      <td>155.0</td>\n",
              "      <td>155.0</td>\n",
              "      <td>155.0</td>\n",
              "      <td>155.0</td>\n",
              "    </tr>\n",
              "  </tbody>\n",
              "</table>\n",
              "<p>171 rows × 8 columns</p>\n",
              "</div>\n",
              "      <button class=\"colab-df-convert\" onclick=\"convertToInteractive('df-6f524d44-33c8-42e9-8890-073ac93bd528')\"\n",
              "              title=\"Convert this dataframe to an interactive table.\"\n",
              "              style=\"display:none;\">\n",
              "        \n",
              "  <svg xmlns=\"http://www.w3.org/2000/svg\" height=\"24px\"viewBox=\"0 0 24 24\"\n",
              "       width=\"24px\">\n",
              "    <path d=\"M0 0h24v24H0V0z\" fill=\"none\"/>\n",
              "    <path d=\"M18.56 5.44l.94 2.06.94-2.06 2.06-.94-2.06-.94-.94-2.06-.94 2.06-2.06.94zm-11 1L8.5 8.5l.94-2.06 2.06-.94-2.06-.94L8.5 2.5l-.94 2.06-2.06.94zm10 10l.94 2.06.94-2.06 2.06-.94-2.06-.94-.94-2.06-.94 2.06-2.06.94z\"/><path d=\"M17.41 7.96l-1.37-1.37c-.4-.4-.92-.59-1.43-.59-.52 0-1.04.2-1.43.59L10.3 9.45l-7.72 7.72c-.78.78-.78 2.05 0 2.83L4 21.41c.39.39.9.59 1.41.59.51 0 1.02-.2 1.41-.59l7.78-7.78 2.81-2.81c.8-.78.8-2.07 0-2.86zM5.41 20L4 18.59l7.72-7.72 1.47 1.35L5.41 20z\"/>\n",
              "  </svg>\n",
              "      </button>\n",
              "      \n",
              "  <style>\n",
              "    .colab-df-container {\n",
              "      display:flex;\n",
              "      flex-wrap:wrap;\n",
              "      gap: 12px;\n",
              "    }\n",
              "\n",
              "    .colab-df-convert {\n",
              "      background-color: #E8F0FE;\n",
              "      border: none;\n",
              "      border-radius: 50%;\n",
              "      cursor: pointer;\n",
              "      display: none;\n",
              "      fill: #1967D2;\n",
              "      height: 32px;\n",
              "      padding: 0 0 0 0;\n",
              "      width: 32px;\n",
              "    }\n",
              "\n",
              "    .colab-df-convert:hover {\n",
              "      background-color: #E2EBFA;\n",
              "      box-shadow: 0px 1px 2px rgba(60, 64, 67, 0.3), 0px 1px 3px 1px rgba(60, 64, 67, 0.15);\n",
              "      fill: #174EA6;\n",
              "    }\n",
              "\n",
              "    [theme=dark] .colab-df-convert {\n",
              "      background-color: #3B4455;\n",
              "      fill: #D2E3FC;\n",
              "    }\n",
              "\n",
              "    [theme=dark] .colab-df-convert:hover {\n",
              "      background-color: #434B5C;\n",
              "      box-shadow: 0px 1px 3px 1px rgba(0, 0, 0, 0.15);\n",
              "      filter: drop-shadow(0px 1px 2px rgba(0, 0, 0, 0.3));\n",
              "      fill: #FFFFFF;\n",
              "    }\n",
              "  </style>\n",
              "\n",
              "      <script>\n",
              "        const buttonEl =\n",
              "          document.querySelector('#df-6f524d44-33c8-42e9-8890-073ac93bd528 button.colab-df-convert');\n",
              "        buttonEl.style.display =\n",
              "          google.colab.kernel.accessAllowed ? 'block' : 'none';\n",
              "\n",
              "        async function convertToInteractive(key) {\n",
              "          const element = document.querySelector('#df-6f524d44-33c8-42e9-8890-073ac93bd528');\n",
              "          const dataTable =\n",
              "            await google.colab.kernel.invokeFunction('convertToInteractive',\n",
              "                                                     [key], {});\n",
              "          if (!dataTable) return;\n",
              "\n",
              "          const docLinkHtml = 'Like what you see? Visit the ' +\n",
              "            '<a target=\"_blank\" href=https://colab.research.google.com/notebooks/data_table.ipynb>data table notebook</a>'\n",
              "            + ' to learn more about interactive tables.';\n",
              "          element.innerHTML = '';\n",
              "          dataTable['output_type'] = 'display_data';\n",
              "          await google.colab.output.renderOutput(dataTable, element);\n",
              "          const docLink = document.createElement('div');\n",
              "          docLink.innerHTML = docLinkHtml;\n",
              "          element.appendChild(docLink);\n",
              "        }\n",
              "      </script>\n",
              "    </div>\n",
              "  </div>\n",
              "  "
            ]
          },
          "metadata": {},
          "execution_count": 22
        }
      ]
    },
    {
      "cell_type": "code",
      "source": [
        "import matplotlib.pyplot as plt\n",
        "%matplotlib inline"
      ],
      "metadata": {
        "id": "gCkdY4mY_qVl"
      },
      "execution_count": null,
      "outputs": []
    },
    {
      "cell_type": "code",
      "source": [
        "plt.figure(figsize = (10,5))\n",
        "plt.scatter(list(g.describe()['votes'].index), g.describe()['votes']['mean'])\n",
        "plt.show()"
      ],
      "metadata": {
        "colab": {
          "base_uri": "https://localhost:8080/",
          "height": 320
        },
        "id": "fR7Dhlov_qcH",
        "outputId": "e30ad5fe-e7f5-4d91-b4af-0cb66c4a9120"
      },
      "execution_count": null,
      "outputs": [
        {
          "output_type": "display_data",
          "data": {
            "text/plain": [
              "<Figure size 720x360 with 1 Axes>"
            ],
            "image/png": "[encoded data removed]"
          },
          "metadata": {
            "needs_background": "light"
          }
        }
      ]
    },
    {
      "cell_type": "code",
      "source": [
        "plt.figure(figsize = (10,5))\n",
        "plt.scatter(df['no_of_entities'], df['votes'])\n",
        "plt.show()"
      ],
      "metadata": {
        "colab": {
          "base_uri": "https://localhost:8080/",
          "height": 320
        },
        "id": "RMl8QHUv_1mc",
        "outputId": "97404116-d2fe-4409-f5af-ba8686eb0fe0"
      },
      "execution_count": null,
      "outputs": [
        {
          "output_type": "display_data",
          "data": {
            "text/plain": [
              "<Figure size 720x360 with 1 Axes>"
            ],
            "image/png": "[encoded data removed]"
          },
          "metadata": {
            "needs_background": "light"
          }
        }
      ]
    },
    {
      "cell_type": "code",
      "source": [],
      "metadata": {
        "id": "IdMDVAQQ_1pC"
      },
      "execution_count": null,
      "outputs": []
    },
    {
      "cell_type": "code",
      "source": [
        "from sklearn import linear_model\n",
        "from sklearn.model_selection import train_test_split"
      ],
      "metadata": {
        "id": "psJFHw-EMDIx"
      },
      "execution_count": null,
      "outputs": []
    },
    {
      "cell_type": "code",
      "source": [
        "X = g.describe()['votes'].index\n",
        "y = g.describe()['votes']['mean'] #.astype(np.float64)"
      ],
      "metadata": {
        "id": "mTave2Xu_1rq"
      },
      "execution_count": null,
      "outputs": []
    },
    {
      "cell_type": "code",
      "source": [
        "X = X.values.reshape(-1,1)\n",
        "y = y.values.reshape(-1,1)"
      ],
      "metadata": {
        "id": "AoBuO2IjL8FY"
      },
      "execution_count": null,
      "outputs": []
    },
    {
      "cell_type": "code",
      "source": [
        "X_train, X_test, y_train, y_test = train_test_split(X,y, test_size = 0.2, random_state = 0)"
      ],
      "metadata": {
        "id": "4Ac15chfL8H2"
      },
      "execution_count": null,
      "outputs": []
    },
    {
      "cell_type": "code",
      "source": [
        "from sklearn.linear_model import LinearRegression\n",
        "regressor = LinearRegression()"
      ],
      "metadata": {
        "id": "q0CSbnNUL8Kc"
      },
      "execution_count": null,
      "outputs": []
    },
    {
      "cell_type": "code",
      "source": [
        "regressor.fit(X_train, y_train)"
      ],
      "metadata": {
        "colab": {
          "base_uri": "https://localhost:8080/"
        },
        "id": "wTCOFViML8M8",
        "outputId": "290de2d2-70a0-4b6f-b334-7940c8d7d3d4"
      },
      "execution_count": null,
      "outputs": [
        {
          "output_type": "execute_result",
          "data": {
            "text/plain": [
              "LinearRegression()"
            ]
          },
          "metadata": {},
          "execution_count": 31
        }
      ]
    },
    {
      "cell_type": "code",
      "source": [
        "regressor.coef_"
      ],
      "metadata": {
        "colab": {
          "base_uri": "https://localhost:8080/"
        },
        "id": "2vCRJ8lPL8Pq",
        "outputId": "c4ea9a75-8680-4683-b77d-6cc924ff3d65"
      },
      "execution_count": null,
      "outputs": [
        {
          "output_type": "execute_result",
          "data": {
            "text/plain": [
              "array([[1.02436255]])"
            ]
          },
          "metadata": {},
          "execution_count": 32
        }
      ]
    },
    {
      "cell_type": "code",
      "source": [
        "regressor.intercept_"
      ],
      "metadata": {
        "colab": {
          "base_uri": "https://localhost:8080/"
        },
        "id": "dCrivxdhL8SH",
        "outputId": "1d770806-ec9b-49cb-9186-3736d267ede8"
      },
      "execution_count": null,
      "outputs": [
        {
          "output_type": "execute_result",
          "data": {
            "text/plain": [
              "array([-20.34600869])"
            ]
          },
          "metadata": {},
          "execution_count": 33
        }
      ]
    },
    {
      "cell_type": "code",
      "source": [
        "plt.figure(figsize = (20,5))\n",
        "plt.scatter(X_train, y_train, color = 'blue')   # plt.scatter(X_train[:100], y_train[:100], color = 'blue')\n",
        "plt.plot(X_train, regressor.predict(X_train), color = 'red')\n",
        "plt.title('no_of_entities and votes')\n",
        "plt.xlabel('no_of_entities')\n",
        "plt.ylabel('Votes')\n",
        "plt.show()"
      ],
      "metadata": {
        "colab": {
          "base_uri": "https://localhost:8080/",
          "height": 333
        },
        "id": "2Hon6e9g_1uY",
        "outputId": "16f333f9-70b8-457f-ba8b-78a508fba0ed"
      },
      "execution_count": null,
      "outputs": [
        {
          "output_type": "display_data",
          "data": {
            "text/plain": [
              "<Figure size 1440x360 with 1 Axes>"
            ],
            "image/png": "[encoded data removed]"
          },
          "metadata": {
            "needs_background": "light"
          }
        }
      ]
    },
    {
      "cell_type": "code",
      "source": [
        "regressor.score(X_test, y_test)"
      ],
      "metadata": {
        "colab": {
          "base_uri": "https://localhost:8080/"
        },
        "id": "vLBrAcKT_1wm",
        "outputId": "7969b060-f3b2-4cc9-b131-af9678754908"
      },
      "execution_count": null,
      "outputs": [
        {
          "output_type": "execute_result",
          "data": {
            "text/plain": [
              "0.39535483309389563"
            ]
          },
          "metadata": {},
          "execution_count": 35
        }
      ]
    },
    {
      "cell_type": "code",
      "source": [],
      "metadata": {
        "id": "e7tZvhRmMNSK"
      },
      "execution_count": null,
      "outputs": []
    },
    {
      "cell_type": "code",
      "source": [
        "# columns = ['Rating', 'verified', 'reviewTime', 'Year', 'reviewerID', 'asin', 'no_of_entities']\n",
        "# to_match_df = pd.DataFrame(df, columns=columns)\n",
        "# to_match_df"
      ],
      "metadata": {
        "id": "KZNTvWsmYbDi"
      },
      "execution_count": null,
      "outputs": []
    },
    {
      "cell_type": "code",
      "source": [],
      "metadata": {
        "id": "DSlx6Zcbb5zS"
      },
      "execution_count": null,
      "outputs": []
    },
    {
      "cell_type": "code",
      "source": [],
      "metadata": {
        "id": "A0SyZlO5b516"
      },
      "execution_count": null,
      "outputs": []
    },
    {
      "cell_type": "code",
      "source": [],
      "metadata": {
        "id": "E6P5Mh2Mb54k"
      },
      "execution_count": null,
      "outputs": []
    },
    {
      "cell_type": "code",
      "source": [
        "# to_match_df.to_excel('to_match_cols.xlsx', index=False)"
      ],
      "metadata": {
        "id": "K5I03bztMNUl"
      },
      "execution_count": null,
      "outputs": []
    },
    {
      "cell_type": "code",
      "source": [
        "import pickle \n",
        "\n",
        "pickle_out = open('/content/drive/MyDrive/IIM Nagpur NLP Files/CellPhoneandAccessoriesNER.pickle', 'wb')\n",
        "pickle.dump(df, pickle_out)\n",
        "pickle_out.close()"
      ],
      "metadata": {
        "id": "pzDS6wAT5Uyo"
      },
      "execution_count": null,
      "outputs": []
    },
    {
      "cell_type": "code",
      "source": [
        "df.to_pickle('/content/drive/MyDrive/IIM Nagpur NLP Files/CellPhoneandAccessoriesNER.pickle')"
      ],
      "metadata": {
        "id": "9pjwsTSk9xNB"
      },
      "execution_count": null,
      "outputs": []
    },
    {
      "cell_type": "code",
      "source": [],
      "metadata": {
        "id": "5aY7fqqkEXOu"
      },
      "execution_count": null,
      "outputs": []
    }
  ]
}